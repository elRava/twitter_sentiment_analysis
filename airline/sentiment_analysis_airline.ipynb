{
 "cells": [
  {
   "cell_type": "markdown",
   "metadata": {},
   "source": [
    "# Sentiment analysis Twitter Airline dataset with SVM optimized model "
   ]
  },
  {
   "cell_type": "code",
   "execution_count": 1,
   "metadata": {},
   "outputs": [],
   "source": [
    "import pandas as pd\n",
    "import numpy as np\n",
    "import dill"
   ]
  },
  {
   "cell_type": "code",
   "execution_count": null,
   "metadata": {},
   "outputs": [],
   "source": [
    "dill.dump_session('notebook_env.db')"
   ]
  },
  {
   "cell_type": "code",
   "execution_count": null,
   "metadata": {},
   "outputs": [],
   "source": [
    "dill.load_session('notebook_env.db')"
   ]
  },
  {
   "cell_type": "code",
   "execution_count": 2,
   "metadata": {},
   "outputs": [
    {
     "data": {
      "text/html": [
       "<div>\n",
       "<style scoped>\n",
       "    .dataframe tbody tr th:only-of-type {\n",
       "        vertical-align: middle;\n",
       "    }\n",
       "\n",
       "    .dataframe tbody tr th {\n",
       "        vertical-align: top;\n",
       "    }\n",
       "\n",
       "    .dataframe thead th {\n",
       "        text-align: right;\n",
       "    }\n",
       "</style>\n",
       "<table border=\"1\" class=\"dataframe\">\n",
       "  <thead>\n",
       "    <tr style=\"text-align: right;\">\n",
       "      <th></th>\n",
       "      <th>tweet_id</th>\n",
       "      <th>airline_sentiment</th>\n",
       "      <th>airline_sentiment_confidence</th>\n",
       "      <th>negativereason</th>\n",
       "      <th>negativereason_confidence</th>\n",
       "      <th>airline</th>\n",
       "      <th>airline_sentiment_gold</th>\n",
       "      <th>name</th>\n",
       "      <th>negativereason_gold</th>\n",
       "      <th>retweet_count</th>\n",
       "      <th>text</th>\n",
       "      <th>tweet_coord</th>\n",
       "      <th>tweet_created</th>\n",
       "      <th>tweet_location</th>\n",
       "      <th>user_timezone</th>\n",
       "    </tr>\n",
       "  </thead>\n",
       "  <tbody>\n",
       "    <tr>\n",
       "      <th>0</th>\n",
       "      <td>570306133677760513</td>\n",
       "      <td>neutral</td>\n",
       "      <td>1.0000</td>\n",
       "      <td>NaN</td>\n",
       "      <td>NaN</td>\n",
       "      <td>Virgin America</td>\n",
       "      <td>NaN</td>\n",
       "      <td>cairdin</td>\n",
       "      <td>NaN</td>\n",
       "      <td>0</td>\n",
       "      <td>@VirginAmerica What @dhepburn said.</td>\n",
       "      <td>NaN</td>\n",
       "      <td>2015-02-24 11:35:52 -0800</td>\n",
       "      <td>NaN</td>\n",
       "      <td>Eastern Time (US &amp; Canada)</td>\n",
       "    </tr>\n",
       "    <tr>\n",
       "      <th>1</th>\n",
       "      <td>570301130888122368</td>\n",
       "      <td>positive</td>\n",
       "      <td>0.3486</td>\n",
       "      <td>NaN</td>\n",
       "      <td>0.0000</td>\n",
       "      <td>Virgin America</td>\n",
       "      <td>NaN</td>\n",
       "      <td>jnardino</td>\n",
       "      <td>NaN</td>\n",
       "      <td>0</td>\n",
       "      <td>@VirginAmerica plus you've added commercials t...</td>\n",
       "      <td>NaN</td>\n",
       "      <td>2015-02-24 11:15:59 -0800</td>\n",
       "      <td>NaN</td>\n",
       "      <td>Pacific Time (US &amp; Canada)</td>\n",
       "    </tr>\n",
       "    <tr>\n",
       "      <th>2</th>\n",
       "      <td>570301083672813571</td>\n",
       "      <td>neutral</td>\n",
       "      <td>0.6837</td>\n",
       "      <td>NaN</td>\n",
       "      <td>NaN</td>\n",
       "      <td>Virgin America</td>\n",
       "      <td>NaN</td>\n",
       "      <td>yvonnalynn</td>\n",
       "      <td>NaN</td>\n",
       "      <td>0</td>\n",
       "      <td>@VirginAmerica I didn't today... Must mean I n...</td>\n",
       "      <td>NaN</td>\n",
       "      <td>2015-02-24 11:15:48 -0800</td>\n",
       "      <td>Lets Play</td>\n",
       "      <td>Central Time (US &amp; Canada)</td>\n",
       "    </tr>\n",
       "    <tr>\n",
       "      <th>3</th>\n",
       "      <td>570301031407624196</td>\n",
       "      <td>negative</td>\n",
       "      <td>1.0000</td>\n",
       "      <td>Bad Flight</td>\n",
       "      <td>0.7033</td>\n",
       "      <td>Virgin America</td>\n",
       "      <td>NaN</td>\n",
       "      <td>jnardino</td>\n",
       "      <td>NaN</td>\n",
       "      <td>0</td>\n",
       "      <td>@VirginAmerica it's really aggressive to blast...</td>\n",
       "      <td>NaN</td>\n",
       "      <td>2015-02-24 11:15:36 -0800</td>\n",
       "      <td>NaN</td>\n",
       "      <td>Pacific Time (US &amp; Canada)</td>\n",
       "    </tr>\n",
       "    <tr>\n",
       "      <th>4</th>\n",
       "      <td>570300817074462722</td>\n",
       "      <td>negative</td>\n",
       "      <td>1.0000</td>\n",
       "      <td>Can't Tell</td>\n",
       "      <td>1.0000</td>\n",
       "      <td>Virgin America</td>\n",
       "      <td>NaN</td>\n",
       "      <td>jnardino</td>\n",
       "      <td>NaN</td>\n",
       "      <td>0</td>\n",
       "      <td>@VirginAmerica and it's a really big bad thing...</td>\n",
       "      <td>NaN</td>\n",
       "      <td>2015-02-24 11:14:45 -0800</td>\n",
       "      <td>NaN</td>\n",
       "      <td>Pacific Time (US &amp; Canada)</td>\n",
       "    </tr>\n",
       "    <tr>\n",
       "      <th>5</th>\n",
       "      <td>570300767074181121</td>\n",
       "      <td>negative</td>\n",
       "      <td>1.0000</td>\n",
       "      <td>Can't Tell</td>\n",
       "      <td>0.6842</td>\n",
       "      <td>Virgin America</td>\n",
       "      <td>NaN</td>\n",
       "      <td>jnardino</td>\n",
       "      <td>NaN</td>\n",
       "      <td>0</td>\n",
       "      <td>@VirginAmerica seriously would pay $30 a fligh...</td>\n",
       "      <td>NaN</td>\n",
       "      <td>2015-02-24 11:14:33 -0800</td>\n",
       "      <td>NaN</td>\n",
       "      <td>Pacific Time (US &amp; Canada)</td>\n",
       "    </tr>\n",
       "    <tr>\n",
       "      <th>6</th>\n",
       "      <td>570300616901320704</td>\n",
       "      <td>positive</td>\n",
       "      <td>0.6745</td>\n",
       "      <td>NaN</td>\n",
       "      <td>0.0000</td>\n",
       "      <td>Virgin America</td>\n",
       "      <td>NaN</td>\n",
       "      <td>cjmcginnis</td>\n",
       "      <td>NaN</td>\n",
       "      <td>0</td>\n",
       "      <td>@VirginAmerica yes, nearly every time I fly VX...</td>\n",
       "      <td>NaN</td>\n",
       "      <td>2015-02-24 11:13:57 -0800</td>\n",
       "      <td>San Francisco CA</td>\n",
       "      <td>Pacific Time (US &amp; Canada)</td>\n",
       "    </tr>\n",
       "    <tr>\n",
       "      <th>7</th>\n",
       "      <td>570300248553349120</td>\n",
       "      <td>neutral</td>\n",
       "      <td>0.6340</td>\n",
       "      <td>NaN</td>\n",
       "      <td>NaN</td>\n",
       "      <td>Virgin America</td>\n",
       "      <td>NaN</td>\n",
       "      <td>pilot</td>\n",
       "      <td>NaN</td>\n",
       "      <td>0</td>\n",
       "      <td>@VirginAmerica Really missed a prime opportuni...</td>\n",
       "      <td>NaN</td>\n",
       "      <td>2015-02-24 11:12:29 -0800</td>\n",
       "      <td>Los Angeles</td>\n",
       "      <td>Pacific Time (US &amp; Canada)</td>\n",
       "    </tr>\n",
       "    <tr>\n",
       "      <th>8</th>\n",
       "      <td>570299953286942721</td>\n",
       "      <td>positive</td>\n",
       "      <td>0.6559</td>\n",
       "      <td>NaN</td>\n",
       "      <td>NaN</td>\n",
       "      <td>Virgin America</td>\n",
       "      <td>NaN</td>\n",
       "      <td>dhepburn</td>\n",
       "      <td>NaN</td>\n",
       "      <td>0</td>\n",
       "      <td>@virginamerica Well, I didn't…but NOW I DO! :-D</td>\n",
       "      <td>NaN</td>\n",
       "      <td>2015-02-24 11:11:19 -0800</td>\n",
       "      <td>San Diego</td>\n",
       "      <td>Pacific Time (US &amp; Canada)</td>\n",
       "    </tr>\n",
       "    <tr>\n",
       "      <th>9</th>\n",
       "      <td>570295459631263746</td>\n",
       "      <td>positive</td>\n",
       "      <td>1.0000</td>\n",
       "      <td>NaN</td>\n",
       "      <td>NaN</td>\n",
       "      <td>Virgin America</td>\n",
       "      <td>NaN</td>\n",
       "      <td>YupitsTate</td>\n",
       "      <td>NaN</td>\n",
       "      <td>0</td>\n",
       "      <td>@VirginAmerica it was amazing, and arrived an ...</td>\n",
       "      <td>NaN</td>\n",
       "      <td>2015-02-24 10:53:27 -0800</td>\n",
       "      <td>Los Angeles</td>\n",
       "      <td>Eastern Time (US &amp; Canada)</td>\n",
       "    </tr>\n",
       "    <tr>\n",
       "      <th>10</th>\n",
       "      <td>570294189143031808</td>\n",
       "      <td>neutral</td>\n",
       "      <td>0.6769</td>\n",
       "      <td>NaN</td>\n",
       "      <td>0.0000</td>\n",
       "      <td>Virgin America</td>\n",
       "      <td>NaN</td>\n",
       "      <td>idk_but_youtube</td>\n",
       "      <td>NaN</td>\n",
       "      <td>0</td>\n",
       "      <td>@VirginAmerica did you know that suicide is th...</td>\n",
       "      <td>NaN</td>\n",
       "      <td>2015-02-24 10:48:24 -0800</td>\n",
       "      <td>1/1 loner squad</td>\n",
       "      <td>Eastern Time (US &amp; Canada)</td>\n",
       "    </tr>\n",
       "    <tr>\n",
       "      <th>11</th>\n",
       "      <td>570289724453216256</td>\n",
       "      <td>positive</td>\n",
       "      <td>1.0000</td>\n",
       "      <td>NaN</td>\n",
       "      <td>NaN</td>\n",
       "      <td>Virgin America</td>\n",
       "      <td>NaN</td>\n",
       "      <td>HyperCamiLax</td>\n",
       "      <td>NaN</td>\n",
       "      <td>0</td>\n",
       "      <td>@VirginAmerica I &amp;lt;3 pretty graphics. so muc...</td>\n",
       "      <td>NaN</td>\n",
       "      <td>2015-02-24 10:30:40 -0800</td>\n",
       "      <td>NYC</td>\n",
       "      <td>America/New_York</td>\n",
       "    </tr>\n",
       "    <tr>\n",
       "      <th>12</th>\n",
       "      <td>570289584061480960</td>\n",
       "      <td>positive</td>\n",
       "      <td>1.0000</td>\n",
       "      <td>NaN</td>\n",
       "      <td>NaN</td>\n",
       "      <td>Virgin America</td>\n",
       "      <td>NaN</td>\n",
       "      <td>HyperCamiLax</td>\n",
       "      <td>NaN</td>\n",
       "      <td>0</td>\n",
       "      <td>@VirginAmerica This is such a great deal! Alre...</td>\n",
       "      <td>NaN</td>\n",
       "      <td>2015-02-24 10:30:06 -0800</td>\n",
       "      <td>NYC</td>\n",
       "      <td>America/New_York</td>\n",
       "    </tr>\n",
       "    <tr>\n",
       "      <th>13</th>\n",
       "      <td>570287408438120448</td>\n",
       "      <td>positive</td>\n",
       "      <td>0.6451</td>\n",
       "      <td>NaN</td>\n",
       "      <td>NaN</td>\n",
       "      <td>Virgin America</td>\n",
       "      <td>NaN</td>\n",
       "      <td>mollanderson</td>\n",
       "      <td>NaN</td>\n",
       "      <td>0</td>\n",
       "      <td>@VirginAmerica @virginmedia I'm flying your #f...</td>\n",
       "      <td>NaN</td>\n",
       "      <td>2015-02-24 10:21:28 -0800</td>\n",
       "      <td>NaN</td>\n",
       "      <td>Eastern Time (US &amp; Canada)</td>\n",
       "    </tr>\n",
       "    <tr>\n",
       "      <th>14</th>\n",
       "      <td>570285904809598977</td>\n",
       "      <td>positive</td>\n",
       "      <td>1.0000</td>\n",
       "      <td>NaN</td>\n",
       "      <td>NaN</td>\n",
       "      <td>Virgin America</td>\n",
       "      <td>NaN</td>\n",
       "      <td>sjespers</td>\n",
       "      <td>NaN</td>\n",
       "      <td>0</td>\n",
       "      <td>@VirginAmerica Thanks!</td>\n",
       "      <td>NaN</td>\n",
       "      <td>2015-02-24 10:15:29 -0800</td>\n",
       "      <td>San Francisco, CA</td>\n",
       "      <td>Pacific Time (US &amp; Canada)</td>\n",
       "    </tr>\n",
       "    <tr>\n",
       "      <th>15</th>\n",
       "      <td>570282469121007616</td>\n",
       "      <td>negative</td>\n",
       "      <td>0.6842</td>\n",
       "      <td>Late Flight</td>\n",
       "      <td>0.3684</td>\n",
       "      <td>Virgin America</td>\n",
       "      <td>NaN</td>\n",
       "      <td>smartwatermelon</td>\n",
       "      <td>NaN</td>\n",
       "      <td>0</td>\n",
       "      <td>@VirginAmerica SFO-PDX schedule is still MIA.</td>\n",
       "      <td>NaN</td>\n",
       "      <td>2015-02-24 10:01:50 -0800</td>\n",
       "      <td>palo alto, ca</td>\n",
       "      <td>Pacific Time (US &amp; Canada)</td>\n",
       "    </tr>\n",
       "    <tr>\n",
       "      <th>16</th>\n",
       "      <td>570277724385734656</td>\n",
       "      <td>positive</td>\n",
       "      <td>1.0000</td>\n",
       "      <td>NaN</td>\n",
       "      <td>NaN</td>\n",
       "      <td>Virgin America</td>\n",
       "      <td>NaN</td>\n",
       "      <td>ItzBrianHunty</td>\n",
       "      <td>NaN</td>\n",
       "      <td>0</td>\n",
       "      <td>@VirginAmerica So excited for my first cross c...</td>\n",
       "      <td>NaN</td>\n",
       "      <td>2015-02-24 09:42:59 -0800</td>\n",
       "      <td>west covina</td>\n",
       "      <td>Pacific Time (US &amp; Canada)</td>\n",
       "    </tr>\n",
       "    <tr>\n",
       "      <th>17</th>\n",
       "      <td>570276917301137409</td>\n",
       "      <td>negative</td>\n",
       "      <td>1.0000</td>\n",
       "      <td>Bad Flight</td>\n",
       "      <td>1.0000</td>\n",
       "      <td>Virgin America</td>\n",
       "      <td>NaN</td>\n",
       "      <td>heatherovieda</td>\n",
       "      <td>NaN</td>\n",
       "      <td>0</td>\n",
       "      <td>@VirginAmerica  I flew from NYC to SFO last we...</td>\n",
       "      <td>NaN</td>\n",
       "      <td>2015-02-24 09:39:46 -0800</td>\n",
       "      <td>this place called NYC</td>\n",
       "      <td>Eastern Time (US &amp; Canada)</td>\n",
       "    </tr>\n",
       "    <tr>\n",
       "      <th>18</th>\n",
       "      <td>570270684619923457</td>\n",
       "      <td>positive</td>\n",
       "      <td>1.0000</td>\n",
       "      <td>NaN</td>\n",
       "      <td>NaN</td>\n",
       "      <td>Virgin America</td>\n",
       "      <td>NaN</td>\n",
       "      <td>thebrandiray</td>\n",
       "      <td>NaN</td>\n",
       "      <td>0</td>\n",
       "      <td>I ❤️ flying @VirginAmerica. ☺️👍</td>\n",
       "      <td>NaN</td>\n",
       "      <td>2015-02-24 09:15:00 -0800</td>\n",
       "      <td>Somewhere celebrating life.</td>\n",
       "      <td>Atlantic Time (Canada)</td>\n",
       "    </tr>\n",
       "    <tr>\n",
       "      <th>19</th>\n",
       "      <td>570267956648792064</td>\n",
       "      <td>positive</td>\n",
       "      <td>1.0000</td>\n",
       "      <td>NaN</td>\n",
       "      <td>NaN</td>\n",
       "      <td>Virgin America</td>\n",
       "      <td>NaN</td>\n",
       "      <td>JNLpierce</td>\n",
       "      <td>NaN</td>\n",
       "      <td>0</td>\n",
       "      <td>@VirginAmerica you know what would be amazingl...</td>\n",
       "      <td>NaN</td>\n",
       "      <td>2015-02-24 09:04:10 -0800</td>\n",
       "      <td>Boston | Waltham</td>\n",
       "      <td>Quito</td>\n",
       "    </tr>\n",
       "    <tr>\n",
       "      <th>20</th>\n",
       "      <td>570265883513384960</td>\n",
       "      <td>negative</td>\n",
       "      <td>0.6705</td>\n",
       "      <td>Can't Tell</td>\n",
       "      <td>0.3614</td>\n",
       "      <td>Virgin America</td>\n",
       "      <td>NaN</td>\n",
       "      <td>MISSGJ</td>\n",
       "      <td>NaN</td>\n",
       "      <td>0</td>\n",
       "      <td>@VirginAmerica why are your first fares in May...</td>\n",
       "      <td>NaN</td>\n",
       "      <td>2015-02-24 08:55:56 -0800</td>\n",
       "      <td>NaN</td>\n",
       "      <td>NaN</td>\n",
       "    </tr>\n",
       "    <tr>\n",
       "      <th>21</th>\n",
       "      <td>570264145116819457</td>\n",
       "      <td>positive</td>\n",
       "      <td>1.0000</td>\n",
       "      <td>NaN</td>\n",
       "      <td>NaN</td>\n",
       "      <td>Virgin America</td>\n",
       "      <td>NaN</td>\n",
       "      <td>DT_Les</td>\n",
       "      <td>NaN</td>\n",
       "      <td>0</td>\n",
       "      <td>@VirginAmerica I love this graphic. http://t.c...</td>\n",
       "      <td>[40.74804263, -73.99295302]</td>\n",
       "      <td>2015-02-24 08:49:01 -0800</td>\n",
       "      <td>NaN</td>\n",
       "      <td>NaN</td>\n",
       "    </tr>\n",
       "    <tr>\n",
       "      <th>22</th>\n",
       "      <td>570259420287868928</td>\n",
       "      <td>positive</td>\n",
       "      <td>1.0000</td>\n",
       "      <td>NaN</td>\n",
       "      <td>NaN</td>\n",
       "      <td>Virgin America</td>\n",
       "      <td>NaN</td>\n",
       "      <td>ElvinaBeck</td>\n",
       "      <td>NaN</td>\n",
       "      <td>0</td>\n",
       "      <td>@VirginAmerica I love the hipster innovation. ...</td>\n",
       "      <td>NaN</td>\n",
       "      <td>2015-02-24 08:30:15 -0800</td>\n",
       "      <td>Los Angeles</td>\n",
       "      <td>Pacific Time (US &amp; Canada)</td>\n",
       "    </tr>\n",
       "    <tr>\n",
       "      <th>23</th>\n",
       "      <td>570258822297579520</td>\n",
       "      <td>neutral</td>\n",
       "      <td>1.0000</td>\n",
       "      <td>NaN</td>\n",
       "      <td>NaN</td>\n",
       "      <td>Virgin America</td>\n",
       "      <td>NaN</td>\n",
       "      <td>rjlynch21086</td>\n",
       "      <td>NaN</td>\n",
       "      <td>0</td>\n",
       "      <td>@VirginAmerica will you be making BOS&amp;gt;LAS n...</td>\n",
       "      <td>NaN</td>\n",
       "      <td>2015-02-24 08:27:52 -0800</td>\n",
       "      <td>Boston, MA</td>\n",
       "      <td>Eastern Time (US &amp; Canada)</td>\n",
       "    </tr>\n",
       "    <tr>\n",
       "      <th>24</th>\n",
       "      <td>570256553502068736</td>\n",
       "      <td>negative</td>\n",
       "      <td>1.0000</td>\n",
       "      <td>Customer Service Issue</td>\n",
       "      <td>0.3557</td>\n",
       "      <td>Virgin America</td>\n",
       "      <td>NaN</td>\n",
       "      <td>ayeevickiee</td>\n",
       "      <td>NaN</td>\n",
       "      <td>0</td>\n",
       "      <td>@VirginAmerica you guys messed up my seating.....</td>\n",
       "      <td>NaN</td>\n",
       "      <td>2015-02-24 08:18:51 -0800</td>\n",
       "      <td>714</td>\n",
       "      <td>Mountain Time (US &amp; Canada)</td>\n",
       "    </tr>\n",
       "    <tr>\n",
       "      <th>25</th>\n",
       "      <td>570249102404923392</td>\n",
       "      <td>negative</td>\n",
       "      <td>1.0000</td>\n",
       "      <td>Customer Service Issue</td>\n",
       "      <td>1.0000</td>\n",
       "      <td>Virgin America</td>\n",
       "      <td>NaN</td>\n",
       "      <td>Leora13</td>\n",
       "      <td>NaN</td>\n",
       "      <td>0</td>\n",
       "      <td>@VirginAmerica status match program.  I applie...</td>\n",
       "      <td>NaN</td>\n",
       "      <td>2015-02-24 07:49:15 -0800</td>\n",
       "      <td>NaN</td>\n",
       "      <td>NaN</td>\n",
       "    </tr>\n",
       "    <tr>\n",
       "      <th>26</th>\n",
       "      <td>570239632807370753</td>\n",
       "      <td>negative</td>\n",
       "      <td>1.0000</td>\n",
       "      <td>Can't Tell</td>\n",
       "      <td>0.6614</td>\n",
       "      <td>Virgin America</td>\n",
       "      <td>NaN</td>\n",
       "      <td>meredithjlynn</td>\n",
       "      <td>NaN</td>\n",
       "      <td>0</td>\n",
       "      <td>@VirginAmerica What happened 2 ur vegan food o...</td>\n",
       "      <td>NaN</td>\n",
       "      <td>2015-02-24 07:11:37 -0800</td>\n",
       "      <td>NaN</td>\n",
       "      <td>NaN</td>\n",
       "    </tr>\n",
       "    <tr>\n",
       "      <th>27</th>\n",
       "      <td>570217831557677057</td>\n",
       "      <td>neutral</td>\n",
       "      <td>0.6854</td>\n",
       "      <td>NaN</td>\n",
       "      <td>NaN</td>\n",
       "      <td>Virgin America</td>\n",
       "      <td>NaN</td>\n",
       "      <td>AdamSinger</td>\n",
       "      <td>NaN</td>\n",
       "      <td>0</td>\n",
       "      <td>@VirginAmerica do you miss me? Don't worry we'...</td>\n",
       "      <td>NaN</td>\n",
       "      <td>2015-02-24 05:44:59 -0800</td>\n",
       "      <td>San Francisco, CA</td>\n",
       "      <td>Central Time (US &amp; Canada)</td>\n",
       "    </tr>\n",
       "    <tr>\n",
       "      <th>28</th>\n",
       "      <td>570207886493782019</td>\n",
       "      <td>negative</td>\n",
       "      <td>1.0000</td>\n",
       "      <td>Bad Flight</td>\n",
       "      <td>1.0000</td>\n",
       "      <td>Virgin America</td>\n",
       "      <td>NaN</td>\n",
       "      <td>blackjackpro911</td>\n",
       "      <td>NaN</td>\n",
       "      <td>0</td>\n",
       "      <td>@VirginAmerica amazing to me that we can't get...</td>\n",
       "      <td>[42.361016, -71.02000488]</td>\n",
       "      <td>2015-02-24 05:05:28 -0800</td>\n",
       "      <td>San Mateo, CA &amp; Las Vegas, NV</td>\n",
       "      <td>NaN</td>\n",
       "    </tr>\n",
       "    <tr>\n",
       "      <th>29</th>\n",
       "      <td>570124596180955136</td>\n",
       "      <td>neutral</td>\n",
       "      <td>0.6150</td>\n",
       "      <td>NaN</td>\n",
       "      <td>0.0000</td>\n",
       "      <td>Virgin America</td>\n",
       "      <td>NaN</td>\n",
       "      <td>TenantsUpstairs</td>\n",
       "      <td>NaN</td>\n",
       "      <td>0</td>\n",
       "      <td>@VirginAmerica LAX to EWR - Middle seat on a r...</td>\n",
       "      <td>[33.94540417, -118.4062472]</td>\n",
       "      <td>2015-02-23 23:34:30 -0800</td>\n",
       "      <td>Brooklyn</td>\n",
       "      <td>Atlantic Time (Canada)</td>\n",
       "    </tr>\n",
       "    <tr>\n",
       "      <th>...</th>\n",
       "      <td>...</td>\n",
       "      <td>...</td>\n",
       "      <td>...</td>\n",
       "      <td>...</td>\n",
       "      <td>...</td>\n",
       "      <td>...</td>\n",
       "      <td>...</td>\n",
       "      <td>...</td>\n",
       "      <td>...</td>\n",
       "      <td>...</td>\n",
       "      <td>...</td>\n",
       "      <td>...</td>\n",
       "      <td>...</td>\n",
       "      <td>...</td>\n",
       "      <td>...</td>\n",
       "    </tr>\n",
       "    <tr>\n",
       "      <th>14610</th>\n",
       "      <td>569591765793165312</td>\n",
       "      <td>negative</td>\n",
       "      <td>1.0000</td>\n",
       "      <td>longlines</td>\n",
       "      <td>0.6788</td>\n",
       "      <td>American</td>\n",
       "      <td>NaN</td>\n",
       "      <td>Jess_JCW</td>\n",
       "      <td>NaN</td>\n",
       "      <td>0</td>\n",
       "      <td>@AmericanAir I understand the weather issue bu...</td>\n",
       "      <td>NaN</td>\n",
       "      <td>2015-02-22 12:17:14 -0800</td>\n",
       "      <td>London</td>\n",
       "      <td>London</td>\n",
       "    </tr>\n",
       "    <tr>\n",
       "      <th>14611</th>\n",
       "      <td>569591730506371072</td>\n",
       "      <td>neutral</td>\n",
       "      <td>1.0000</td>\n",
       "      <td>NaN</td>\n",
       "      <td>NaN</td>\n",
       "      <td>American</td>\n",
       "      <td>NaN</td>\n",
       "      <td>TrueChief77</td>\n",
       "      <td>NaN</td>\n",
       "      <td>0</td>\n",
       "      <td>@AmericanAir guarantee no retribution? If so, ...</td>\n",
       "      <td>NaN</td>\n",
       "      <td>2015-02-22 12:17:05 -0800</td>\n",
       "      <td>970 Colorado</td>\n",
       "      <td>NaN</td>\n",
       "    </tr>\n",
       "    <tr>\n",
       "      <th>14612</th>\n",
       "      <td>569591700416393216</td>\n",
       "      <td>negative</td>\n",
       "      <td>1.0000</td>\n",
       "      <td>Cancelled Flight</td>\n",
       "      <td>0.6333</td>\n",
       "      <td>American</td>\n",
       "      <td>NaN</td>\n",
       "      <td>tcunningham10</td>\n",
       "      <td>NaN</td>\n",
       "      <td>0</td>\n",
       "      <td>@AmericanAir a friend is having flight Cancell...</td>\n",
       "      <td>[40.46692522, -82.64567078]</td>\n",
       "      <td>2015-02-22 12:16:58 -0800</td>\n",
       "      <td>Central Ohio</td>\n",
       "      <td>Eastern Time (US &amp; Canada)</td>\n",
       "    </tr>\n",
       "    <tr>\n",
       "      <th>14613</th>\n",
       "      <td>569591653121597440</td>\n",
       "      <td>negative</td>\n",
       "      <td>1.0000</td>\n",
       "      <td>Customer Service Issue</td>\n",
       "      <td>0.7255</td>\n",
       "      <td>American</td>\n",
       "      <td>NaN</td>\n",
       "      <td>kiabeveridge</td>\n",
       "      <td>NaN</td>\n",
       "      <td>0</td>\n",
       "      <td>@AmericanAir I used the \"call back\" feature wi...</td>\n",
       "      <td>NaN</td>\n",
       "      <td>2015-02-22 12:16:47 -0800</td>\n",
       "      <td>Chicago</td>\n",
       "      <td>Mountain Time (US &amp; Canada)</td>\n",
       "    </tr>\n",
       "    <tr>\n",
       "      <th>14614</th>\n",
       "      <td>569591540944756737</td>\n",
       "      <td>negative</td>\n",
       "      <td>1.0000</td>\n",
       "      <td>Customer Service Issue</td>\n",
       "      <td>1.0000</td>\n",
       "      <td>American</td>\n",
       "      <td>NaN</td>\n",
       "      <td>GregPoos</td>\n",
       "      <td>NaN</td>\n",
       "      <td>0</td>\n",
       "      <td>@AmericanAir I need to be at work tomorrow at ...</td>\n",
       "      <td>NaN</td>\n",
       "      <td>2015-02-22 12:16:20 -0800</td>\n",
       "      <td>NaN</td>\n",
       "      <td>NaN</td>\n",
       "    </tr>\n",
       "    <tr>\n",
       "      <th>14615</th>\n",
       "      <td>569591533617307648</td>\n",
       "      <td>negative</td>\n",
       "      <td>1.0000</td>\n",
       "      <td>Cancelled Flight</td>\n",
       "      <td>1.0000</td>\n",
       "      <td>American</td>\n",
       "      <td>NaN</td>\n",
       "      <td>tim_sheehy</td>\n",
       "      <td>NaN</td>\n",
       "      <td>0</td>\n",
       "      <td>@AmericanAir  ugh Dump us in dfw w/no luggage ...</td>\n",
       "      <td>NaN</td>\n",
       "      <td>2015-02-22 12:16:18 -0800</td>\n",
       "      <td>Washington DC</td>\n",
       "      <td>Central Time (US &amp; Canada)</td>\n",
       "    </tr>\n",
       "    <tr>\n",
       "      <th>14616</th>\n",
       "      <td>569591393540288512</td>\n",
       "      <td>negative</td>\n",
       "      <td>1.0000</td>\n",
       "      <td>Cancelled Flight</td>\n",
       "      <td>1.0000</td>\n",
       "      <td>American</td>\n",
       "      <td>NaN</td>\n",
       "      <td>TheJoshAbides</td>\n",
       "      <td>NaN</td>\n",
       "      <td>0</td>\n",
       "      <td>@AmericanAir Cancelled Flights my flight, does...</td>\n",
       "      <td>NaN</td>\n",
       "      <td>2015-02-22 12:15:45 -0800</td>\n",
       "      <td>New York City</td>\n",
       "      <td>Eastern Time (US &amp; Canada)</td>\n",
       "    </tr>\n",
       "    <tr>\n",
       "      <th>14617</th>\n",
       "      <td>569591285150908416</td>\n",
       "      <td>positive</td>\n",
       "      <td>1.0000</td>\n",
       "      <td>NaN</td>\n",
       "      <td>NaN</td>\n",
       "      <td>American</td>\n",
       "      <td>NaN</td>\n",
       "      <td>iambmac</td>\n",
       "      <td>NaN</td>\n",
       "      <td>0</td>\n",
       "      <td>@AmericanAir DMing you now! Big thanks.</td>\n",
       "      <td>NaN</td>\n",
       "      <td>2015-02-22 12:15:19 -0800</td>\n",
       "      <td>Columbus, OH, USA</td>\n",
       "      <td>Eastern Time (US &amp; Canada)</td>\n",
       "    </tr>\n",
       "    <tr>\n",
       "      <th>14618</th>\n",
       "      <td>569591136534319105</td>\n",
       "      <td>negative</td>\n",
       "      <td>1.0000</td>\n",
       "      <td>Bad Flight</td>\n",
       "      <td>0.6774</td>\n",
       "      <td>American</td>\n",
       "      <td>NaN</td>\n",
       "      <td>A_for_AdNauseam</td>\n",
       "      <td>NaN</td>\n",
       "      <td>0</td>\n",
       "      <td>@AmericanAir 3078 is overweight so you pull 2 ...</td>\n",
       "      <td>NaN</td>\n",
       "      <td>2015-02-22 12:14:44 -0800</td>\n",
       "      <td>NaN</td>\n",
       "      <td>NaN</td>\n",
       "    </tr>\n",
       "    <tr>\n",
       "      <th>14619</th>\n",
       "      <td>569590988395708416</td>\n",
       "      <td>positive</td>\n",
       "      <td>1.0000</td>\n",
       "      <td>NaN</td>\n",
       "      <td>NaN</td>\n",
       "      <td>American</td>\n",
       "      <td>NaN</td>\n",
       "      <td>howiemandel</td>\n",
       "      <td>NaN</td>\n",
       "      <td>3</td>\n",
       "      <td>@AmericanAir I love your company and your staf...</td>\n",
       "      <td>NaN</td>\n",
       "      <td>2015-02-22 12:14:08 -0800</td>\n",
       "      <td>NaN</td>\n",
       "      <td>Pacific Time (US &amp; Canada)</td>\n",
       "    </tr>\n",
       "    <tr>\n",
       "      <th>14620</th>\n",
       "      <td>569590965880532993</td>\n",
       "      <td>negative</td>\n",
       "      <td>1.0000</td>\n",
       "      <td>Customer Service Issue</td>\n",
       "      <td>1.0000</td>\n",
       "      <td>American</td>\n",
       "      <td>NaN</td>\n",
       "      <td>KCBobolz</td>\n",
       "      <td>NaN</td>\n",
       "      <td>0</td>\n",
       "      <td>@AmericanAir I wait 2+ hrs for CS to call me b...</td>\n",
       "      <td>NaN</td>\n",
       "      <td>2015-02-22 12:14:03 -0800</td>\n",
       "      <td>Milwaukee County, Wisconsin</td>\n",
       "      <td>Central Time (US &amp; Canada)</td>\n",
       "    </tr>\n",
       "    <tr>\n",
       "      <th>14621</th>\n",
       "      <td>569590892085915649</td>\n",
       "      <td>negative</td>\n",
       "      <td>1.0000</td>\n",
       "      <td>Customer Service Issue</td>\n",
       "      <td>1.0000</td>\n",
       "      <td>American</td>\n",
       "      <td>NaN</td>\n",
       "      <td>andyellwood</td>\n",
       "      <td>NaN</td>\n",
       "      <td>0</td>\n",
       "      <td>@AmericanAir I've been on hold for 55 mins abo...</td>\n",
       "      <td>NaN</td>\n",
       "      <td>2015-02-22 12:13:45 -0800</td>\n",
       "      <td>New York, New York</td>\n",
       "      <td>Eastern Time (US &amp; Canada)</td>\n",
       "    </tr>\n",
       "    <tr>\n",
       "      <th>14622</th>\n",
       "      <td>569590191758962688</td>\n",
       "      <td>negative</td>\n",
       "      <td>1.0000</td>\n",
       "      <td>Late Flight</td>\n",
       "      <td>0.3358</td>\n",
       "      <td>American</td>\n",
       "      <td>NaN</td>\n",
       "      <td>Jill_Lynnette</td>\n",
       "      <td>NaN</td>\n",
       "      <td>0</td>\n",
       "      <td>I just need a place to sleep when I land witho...</td>\n",
       "      <td>NaN</td>\n",
       "      <td>2015-02-22 12:10:58 -0800</td>\n",
       "      <td>NaN</td>\n",
       "      <td>Eastern Time (US &amp; Canada)</td>\n",
       "    </tr>\n",
       "    <tr>\n",
       "      <th>14623</th>\n",
       "      <td>569590013278756865</td>\n",
       "      <td>positive</td>\n",
       "      <td>0.6274</td>\n",
       "      <td>NaN</td>\n",
       "      <td>0.0000</td>\n",
       "      <td>American</td>\n",
       "      <td>NaN</td>\n",
       "      <td>Flora_Lola_NYC</td>\n",
       "      <td>NaN</td>\n",
       "      <td>0</td>\n",
       "      <td>@AmericanAir Love the new planes for the JFK-L...</td>\n",
       "      <td>NaN</td>\n",
       "      <td>2015-02-22 12:10:16 -0800</td>\n",
       "      <td>NaN</td>\n",
       "      <td>Eastern Time (US &amp; Canada)</td>\n",
       "    </tr>\n",
       "    <tr>\n",
       "      <th>14624</th>\n",
       "      <td>569589959088173056</td>\n",
       "      <td>negative</td>\n",
       "      <td>1.0000</td>\n",
       "      <td>Can't Tell</td>\n",
       "      <td>1.0000</td>\n",
       "      <td>American</td>\n",
       "      <td>NaN</td>\n",
       "      <td>yourlama</td>\n",
       "      <td>NaN</td>\n",
       "      <td>0</td>\n",
       "      <td>@AmericanAir Call me Chairman, or call me Emer...</td>\n",
       "      <td>[32.9070889, -97.03785947]</td>\n",
       "      <td>2015-02-22 12:10:03 -0800</td>\n",
       "      <td>NaN</td>\n",
       "      <td>NaN</td>\n",
       "    </tr>\n",
       "    <tr>\n",
       "      <th>14625</th>\n",
       "      <td>569589643487928321</td>\n",
       "      <td>positive</td>\n",
       "      <td>1.0000</td>\n",
       "      <td>NaN</td>\n",
       "      <td>NaN</td>\n",
       "      <td>American</td>\n",
       "      <td>NaN</td>\n",
       "      <td>DrCaseyJRudkin</td>\n",
       "      <td>NaN</td>\n",
       "      <td>0</td>\n",
       "      <td>@AmericanAir Flight 236 was great. Fantastic c...</td>\n",
       "      <td>[40.64946781, -73.76624703]</td>\n",
       "      <td>2015-02-22 12:08:48 -0800</td>\n",
       "      <td>East Coast</td>\n",
       "      <td>NaN</td>\n",
       "    </tr>\n",
       "    <tr>\n",
       "      <th>14626</th>\n",
       "      <td>569589460226183168</td>\n",
       "      <td>negative</td>\n",
       "      <td>1.0000</td>\n",
       "      <td>Late Flight</td>\n",
       "      <td>1.0000</td>\n",
       "      <td>American</td>\n",
       "      <td>NaN</td>\n",
       "      <td>cataattack</td>\n",
       "      <td>NaN</td>\n",
       "      <td>0</td>\n",
       "      <td>@AmericanAir Flight 953 NYC-Buenos Aires has b...</td>\n",
       "      <td>NaN</td>\n",
       "      <td>2015-02-22 12:08:04 -0800</td>\n",
       "      <td>Buenos Aires, Argentina</td>\n",
       "      <td>Buenos Aires</td>\n",
       "    </tr>\n",
       "    <tr>\n",
       "      <th>14627</th>\n",
       "      <td>569588816438169600</td>\n",
       "      <td>negative</td>\n",
       "      <td>1.0000</td>\n",
       "      <td>Cancelled Flight</td>\n",
       "      <td>1.0000</td>\n",
       "      <td>American</td>\n",
       "      <td>NaN</td>\n",
       "      <td>KristinaMeyer7</td>\n",
       "      <td>NaN</td>\n",
       "      <td>0</td>\n",
       "      <td>@AmericanAir Flight Cancelled Flightled, can't...</td>\n",
       "      <td>NaN</td>\n",
       "      <td>2015-02-22 12:05:30 -0800</td>\n",
       "      <td>NaN</td>\n",
       "      <td>Eastern Time (US &amp; Canada)</td>\n",
       "    </tr>\n",
       "    <tr>\n",
       "      <th>14628</th>\n",
       "      <td>569588651925098496</td>\n",
       "      <td>positive</td>\n",
       "      <td>1.0000</td>\n",
       "      <td>NaN</td>\n",
       "      <td>NaN</td>\n",
       "      <td>American</td>\n",
       "      <td>NaN</td>\n",
       "      <td>jlhalldc</td>\n",
       "      <td>NaN</td>\n",
       "      <td>0</td>\n",
       "      <td>Thank you. “@AmericanAir: @jlhalldc Customer R...</td>\n",
       "      <td>NaN</td>\n",
       "      <td>2015-02-22 12:04:51 -0800</td>\n",
       "      <td>Washington, DC</td>\n",
       "      <td>Eastern Time (US &amp; Canada)</td>\n",
       "    </tr>\n",
       "    <tr>\n",
       "      <th>14629</th>\n",
       "      <td>569588591602458624</td>\n",
       "      <td>negative</td>\n",
       "      <td>1.0000</td>\n",
       "      <td>Customer Service Issue</td>\n",
       "      <td>1.0000</td>\n",
       "      <td>American</td>\n",
       "      <td>NaN</td>\n",
       "      <td>jontgreen89</td>\n",
       "      <td>NaN</td>\n",
       "      <td>0</td>\n",
       "      <td>@AmericanAir How do I change my flight if the ...</td>\n",
       "      <td>NaN</td>\n",
       "      <td>2015-02-22 12:04:37 -0800</td>\n",
       "      <td>Waco, TX</td>\n",
       "      <td>Central Time (US &amp; Canada)</td>\n",
       "    </tr>\n",
       "    <tr>\n",
       "      <th>14630</th>\n",
       "      <td>569588473050611712</td>\n",
       "      <td>positive</td>\n",
       "      <td>1.0000</td>\n",
       "      <td>NaN</td>\n",
       "      <td>NaN</td>\n",
       "      <td>American</td>\n",
       "      <td>NaN</td>\n",
       "      <td>Laurelinesblog</td>\n",
       "      <td>NaN</td>\n",
       "      <td>0</td>\n",
       "      <td>@AmericanAir Thanks! He is.</td>\n",
       "      <td>NaN</td>\n",
       "      <td>2015-02-22 12:04:09 -0800</td>\n",
       "      <td>Chapel Hill, NC</td>\n",
       "      <td>NaN</td>\n",
       "    </tr>\n",
       "    <tr>\n",
       "      <th>14631</th>\n",
       "      <td>569588464896876545</td>\n",
       "      <td>negative</td>\n",
       "      <td>1.0000</td>\n",
       "      <td>Bad Flight</td>\n",
       "      <td>1.0000</td>\n",
       "      <td>American</td>\n",
       "      <td>NaN</td>\n",
       "      <td>MDDavis7</td>\n",
       "      <td>NaN</td>\n",
       "      <td>0</td>\n",
       "      <td>@AmericanAir thx for nothing on getting us out...</td>\n",
       "      <td>NaN</td>\n",
       "      <td>2015-02-22 12:04:07 -0800</td>\n",
       "      <td>US</td>\n",
       "      <td>Eastern Time (US &amp; Canada)</td>\n",
       "    </tr>\n",
       "    <tr>\n",
       "      <th>14632</th>\n",
       "      <td>569587813856841728</td>\n",
       "      <td>neutral</td>\n",
       "      <td>0.6760</td>\n",
       "      <td>NaN</td>\n",
       "      <td>0.0000</td>\n",
       "      <td>American</td>\n",
       "      <td>NaN</td>\n",
       "      <td>Chad_SMFYM</td>\n",
       "      <td>NaN</td>\n",
       "      <td>0</td>\n",
       "      <td>“@AmericanAir: @TilleyMonsta George, that does...</td>\n",
       "      <td>NaN</td>\n",
       "      <td>2015-02-22 12:01:31 -0800</td>\n",
       "      <td>NaN</td>\n",
       "      <td>Central Time (US &amp; Canada)</td>\n",
       "    </tr>\n",
       "    <tr>\n",
       "      <th>14633</th>\n",
       "      <td>569587705937600512</td>\n",
       "      <td>negative</td>\n",
       "      <td>1.0000</td>\n",
       "      <td>Cancelled Flight</td>\n",
       "      <td>1.0000</td>\n",
       "      <td>American</td>\n",
       "      <td>NaN</td>\n",
       "      <td>RussellsWriting</td>\n",
       "      <td>NaN</td>\n",
       "      <td>0</td>\n",
       "      <td>@AmericanAir my flight was Cancelled Flightled...</td>\n",
       "      <td>NaN</td>\n",
       "      <td>2015-02-22 12:01:06 -0800</td>\n",
       "      <td>Los Angeles</td>\n",
       "      <td>Arizona</td>\n",
       "    </tr>\n",
       "    <tr>\n",
       "      <th>14634</th>\n",
       "      <td>569587691626622976</td>\n",
       "      <td>negative</td>\n",
       "      <td>0.6684</td>\n",
       "      <td>Late Flight</td>\n",
       "      <td>0.6684</td>\n",
       "      <td>American</td>\n",
       "      <td>NaN</td>\n",
       "      <td>GolfWithWoody</td>\n",
       "      <td>NaN</td>\n",
       "      <td>0</td>\n",
       "      <td>@AmericanAir right on cue with the delays👌</td>\n",
       "      <td>NaN</td>\n",
       "      <td>2015-02-22 12:01:02 -0800</td>\n",
       "      <td>NaN</td>\n",
       "      <td>Quito</td>\n",
       "    </tr>\n",
       "    <tr>\n",
       "      <th>14635</th>\n",
       "      <td>569587686496825344</td>\n",
       "      <td>positive</td>\n",
       "      <td>0.3487</td>\n",
       "      <td>NaN</td>\n",
       "      <td>0.0000</td>\n",
       "      <td>American</td>\n",
       "      <td>NaN</td>\n",
       "      <td>KristenReenders</td>\n",
       "      <td>NaN</td>\n",
       "      <td>0</td>\n",
       "      <td>@AmericanAir thank you we got on a different f...</td>\n",
       "      <td>NaN</td>\n",
       "      <td>2015-02-22 12:01:01 -0800</td>\n",
       "      <td>NaN</td>\n",
       "      <td>NaN</td>\n",
       "    </tr>\n",
       "    <tr>\n",
       "      <th>14636</th>\n",
       "      <td>569587371693355008</td>\n",
       "      <td>negative</td>\n",
       "      <td>1.0000</td>\n",
       "      <td>Customer Service Issue</td>\n",
       "      <td>1.0000</td>\n",
       "      <td>American</td>\n",
       "      <td>NaN</td>\n",
       "      <td>itsropes</td>\n",
       "      <td>NaN</td>\n",
       "      <td>0</td>\n",
       "      <td>@AmericanAir leaving over 20 minutes Late Flig...</td>\n",
       "      <td>NaN</td>\n",
       "      <td>2015-02-22 11:59:46 -0800</td>\n",
       "      <td>Texas</td>\n",
       "      <td>NaN</td>\n",
       "    </tr>\n",
       "    <tr>\n",
       "      <th>14637</th>\n",
       "      <td>569587242672398336</td>\n",
       "      <td>neutral</td>\n",
       "      <td>1.0000</td>\n",
       "      <td>NaN</td>\n",
       "      <td>NaN</td>\n",
       "      <td>American</td>\n",
       "      <td>NaN</td>\n",
       "      <td>sanyabun</td>\n",
       "      <td>NaN</td>\n",
       "      <td>0</td>\n",
       "      <td>@AmericanAir Please bring American Airlines to...</td>\n",
       "      <td>NaN</td>\n",
       "      <td>2015-02-22 11:59:15 -0800</td>\n",
       "      <td>Nigeria,lagos</td>\n",
       "      <td>NaN</td>\n",
       "    </tr>\n",
       "    <tr>\n",
       "      <th>14638</th>\n",
       "      <td>569587188687634433</td>\n",
       "      <td>negative</td>\n",
       "      <td>1.0000</td>\n",
       "      <td>Customer Service Issue</td>\n",
       "      <td>0.6659</td>\n",
       "      <td>American</td>\n",
       "      <td>NaN</td>\n",
       "      <td>SraJackson</td>\n",
       "      <td>NaN</td>\n",
       "      <td>0</td>\n",
       "      <td>@AmericanAir you have my money, you change my ...</td>\n",
       "      <td>NaN</td>\n",
       "      <td>2015-02-22 11:59:02 -0800</td>\n",
       "      <td>New Jersey</td>\n",
       "      <td>Eastern Time (US &amp; Canada)</td>\n",
       "    </tr>\n",
       "    <tr>\n",
       "      <th>14639</th>\n",
       "      <td>569587140490866689</td>\n",
       "      <td>neutral</td>\n",
       "      <td>0.6771</td>\n",
       "      <td>NaN</td>\n",
       "      <td>0.0000</td>\n",
       "      <td>American</td>\n",
       "      <td>NaN</td>\n",
       "      <td>daviddtwu</td>\n",
       "      <td>NaN</td>\n",
       "      <td>0</td>\n",
       "      <td>@AmericanAir we have 8 ppl so we need 2 know h...</td>\n",
       "      <td>NaN</td>\n",
       "      <td>2015-02-22 11:58:51 -0800</td>\n",
       "      <td>dallas, TX</td>\n",
       "      <td>NaN</td>\n",
       "    </tr>\n",
       "  </tbody>\n",
       "</table>\n",
       "<p>14640 rows × 15 columns</p>\n",
       "</div>"
      ],
      "text/plain": [
       "                 tweet_id airline_sentiment  airline_sentiment_confidence  \\\n",
       "0      570306133677760513           neutral                        1.0000   \n",
       "1      570301130888122368          positive                        0.3486   \n",
       "2      570301083672813571           neutral                        0.6837   \n",
       "3      570301031407624196          negative                        1.0000   \n",
       "4      570300817074462722          negative                        1.0000   \n",
       "5      570300767074181121          negative                        1.0000   \n",
       "6      570300616901320704          positive                        0.6745   \n",
       "7      570300248553349120           neutral                        0.6340   \n",
       "8      570299953286942721          positive                        0.6559   \n",
       "9      570295459631263746          positive                        1.0000   \n",
       "10     570294189143031808           neutral                        0.6769   \n",
       "11     570289724453216256          positive                        1.0000   \n",
       "12     570289584061480960          positive                        1.0000   \n",
       "13     570287408438120448          positive                        0.6451   \n",
       "14     570285904809598977          positive                        1.0000   \n",
       "15     570282469121007616          negative                        0.6842   \n",
       "16     570277724385734656          positive                        1.0000   \n",
       "17     570276917301137409          negative                        1.0000   \n",
       "18     570270684619923457          positive                        1.0000   \n",
       "19     570267956648792064          positive                        1.0000   \n",
       "20     570265883513384960          negative                        0.6705   \n",
       "21     570264145116819457          positive                        1.0000   \n",
       "22     570259420287868928          positive                        1.0000   \n",
       "23     570258822297579520           neutral                        1.0000   \n",
       "24     570256553502068736          negative                        1.0000   \n",
       "25     570249102404923392          negative                        1.0000   \n",
       "26     570239632807370753          negative                        1.0000   \n",
       "27     570217831557677057           neutral                        0.6854   \n",
       "28     570207886493782019          negative                        1.0000   \n",
       "29     570124596180955136           neutral                        0.6150   \n",
       "...                   ...               ...                           ...   \n",
       "14610  569591765793165312          negative                        1.0000   \n",
       "14611  569591730506371072           neutral                        1.0000   \n",
       "14612  569591700416393216          negative                        1.0000   \n",
       "14613  569591653121597440          negative                        1.0000   \n",
       "14614  569591540944756737          negative                        1.0000   \n",
       "14615  569591533617307648          negative                        1.0000   \n",
       "14616  569591393540288512          negative                        1.0000   \n",
       "14617  569591285150908416          positive                        1.0000   \n",
       "14618  569591136534319105          negative                        1.0000   \n",
       "14619  569590988395708416          positive                        1.0000   \n",
       "14620  569590965880532993          negative                        1.0000   \n",
       "14621  569590892085915649          negative                        1.0000   \n",
       "14622  569590191758962688          negative                        1.0000   \n",
       "14623  569590013278756865          positive                        0.6274   \n",
       "14624  569589959088173056          negative                        1.0000   \n",
       "14625  569589643487928321          positive                        1.0000   \n",
       "14626  569589460226183168          negative                        1.0000   \n",
       "14627  569588816438169600          negative                        1.0000   \n",
       "14628  569588651925098496          positive                        1.0000   \n",
       "14629  569588591602458624          negative                        1.0000   \n",
       "14630  569588473050611712          positive                        1.0000   \n",
       "14631  569588464896876545          negative                        1.0000   \n",
       "14632  569587813856841728           neutral                        0.6760   \n",
       "14633  569587705937600512          negative                        1.0000   \n",
       "14634  569587691626622976          negative                        0.6684   \n",
       "14635  569587686496825344          positive                        0.3487   \n",
       "14636  569587371693355008          negative                        1.0000   \n",
       "14637  569587242672398336           neutral                        1.0000   \n",
       "14638  569587188687634433          negative                        1.0000   \n",
       "14639  569587140490866689           neutral                        0.6771   \n",
       "\n",
       "               negativereason  negativereason_confidence         airline  \\\n",
       "0                         NaN                        NaN  Virgin America   \n",
       "1                         NaN                     0.0000  Virgin America   \n",
       "2                         NaN                        NaN  Virgin America   \n",
       "3                  Bad Flight                     0.7033  Virgin America   \n",
       "4                  Can't Tell                     1.0000  Virgin America   \n",
       "5                  Can't Tell                     0.6842  Virgin America   \n",
       "6                         NaN                     0.0000  Virgin America   \n",
       "7                         NaN                        NaN  Virgin America   \n",
       "8                         NaN                        NaN  Virgin America   \n",
       "9                         NaN                        NaN  Virgin America   \n",
       "10                        NaN                     0.0000  Virgin America   \n",
       "11                        NaN                        NaN  Virgin America   \n",
       "12                        NaN                        NaN  Virgin America   \n",
       "13                        NaN                        NaN  Virgin America   \n",
       "14                        NaN                        NaN  Virgin America   \n",
       "15                Late Flight                     0.3684  Virgin America   \n",
       "16                        NaN                        NaN  Virgin America   \n",
       "17                 Bad Flight                     1.0000  Virgin America   \n",
       "18                        NaN                        NaN  Virgin America   \n",
       "19                        NaN                        NaN  Virgin America   \n",
       "20                 Can't Tell                     0.3614  Virgin America   \n",
       "21                        NaN                        NaN  Virgin America   \n",
       "22                        NaN                        NaN  Virgin America   \n",
       "23                        NaN                        NaN  Virgin America   \n",
       "24     Customer Service Issue                     0.3557  Virgin America   \n",
       "25     Customer Service Issue                     1.0000  Virgin America   \n",
       "26                 Can't Tell                     0.6614  Virgin America   \n",
       "27                        NaN                        NaN  Virgin America   \n",
       "28                 Bad Flight                     1.0000  Virgin America   \n",
       "29                        NaN                     0.0000  Virgin America   \n",
       "...                       ...                        ...             ...   \n",
       "14610               longlines                     0.6788        American   \n",
       "14611                     NaN                        NaN        American   \n",
       "14612        Cancelled Flight                     0.6333        American   \n",
       "14613  Customer Service Issue                     0.7255        American   \n",
       "14614  Customer Service Issue                     1.0000        American   \n",
       "14615        Cancelled Flight                     1.0000        American   \n",
       "14616        Cancelled Flight                     1.0000        American   \n",
       "14617                     NaN                        NaN        American   \n",
       "14618              Bad Flight                     0.6774        American   \n",
       "14619                     NaN                        NaN        American   \n",
       "14620  Customer Service Issue                     1.0000        American   \n",
       "14621  Customer Service Issue                     1.0000        American   \n",
       "14622             Late Flight                     0.3358        American   \n",
       "14623                     NaN                     0.0000        American   \n",
       "14624              Can't Tell                     1.0000        American   \n",
       "14625                     NaN                        NaN        American   \n",
       "14626             Late Flight                     1.0000        American   \n",
       "14627        Cancelled Flight                     1.0000        American   \n",
       "14628                     NaN                        NaN        American   \n",
       "14629  Customer Service Issue                     1.0000        American   \n",
       "14630                     NaN                        NaN        American   \n",
       "14631              Bad Flight                     1.0000        American   \n",
       "14632                     NaN                     0.0000        American   \n",
       "14633        Cancelled Flight                     1.0000        American   \n",
       "14634             Late Flight                     0.6684        American   \n",
       "14635                     NaN                     0.0000        American   \n",
       "14636  Customer Service Issue                     1.0000        American   \n",
       "14637                     NaN                        NaN        American   \n",
       "14638  Customer Service Issue                     0.6659        American   \n",
       "14639                     NaN                     0.0000        American   \n",
       "\n",
       "      airline_sentiment_gold             name negativereason_gold  \\\n",
       "0                        NaN          cairdin                 NaN   \n",
       "1                        NaN         jnardino                 NaN   \n",
       "2                        NaN       yvonnalynn                 NaN   \n",
       "3                        NaN         jnardino                 NaN   \n",
       "4                        NaN         jnardino                 NaN   \n",
       "5                        NaN         jnardino                 NaN   \n",
       "6                        NaN       cjmcginnis                 NaN   \n",
       "7                        NaN            pilot                 NaN   \n",
       "8                        NaN         dhepburn                 NaN   \n",
       "9                        NaN       YupitsTate                 NaN   \n",
       "10                       NaN  idk_but_youtube                 NaN   \n",
       "11                       NaN     HyperCamiLax                 NaN   \n",
       "12                       NaN     HyperCamiLax                 NaN   \n",
       "13                       NaN     mollanderson                 NaN   \n",
       "14                       NaN         sjespers                 NaN   \n",
       "15                       NaN  smartwatermelon                 NaN   \n",
       "16                       NaN    ItzBrianHunty                 NaN   \n",
       "17                       NaN    heatherovieda                 NaN   \n",
       "18                       NaN     thebrandiray                 NaN   \n",
       "19                       NaN        JNLpierce                 NaN   \n",
       "20                       NaN           MISSGJ                 NaN   \n",
       "21                       NaN           DT_Les                 NaN   \n",
       "22                       NaN       ElvinaBeck                 NaN   \n",
       "23                       NaN     rjlynch21086                 NaN   \n",
       "24                       NaN      ayeevickiee                 NaN   \n",
       "25                       NaN          Leora13                 NaN   \n",
       "26                       NaN    meredithjlynn                 NaN   \n",
       "27                       NaN       AdamSinger                 NaN   \n",
       "28                       NaN  blackjackpro911                 NaN   \n",
       "29                       NaN  TenantsUpstairs                 NaN   \n",
       "...                      ...              ...                 ...   \n",
       "14610                    NaN         Jess_JCW                 NaN   \n",
       "14611                    NaN      TrueChief77                 NaN   \n",
       "14612                    NaN    tcunningham10                 NaN   \n",
       "14613                    NaN     kiabeveridge                 NaN   \n",
       "14614                    NaN         GregPoos                 NaN   \n",
       "14615                    NaN       tim_sheehy                 NaN   \n",
       "14616                    NaN    TheJoshAbides                 NaN   \n",
       "14617                    NaN          iambmac                 NaN   \n",
       "14618                    NaN  A_for_AdNauseam                 NaN   \n",
       "14619                    NaN      howiemandel                 NaN   \n",
       "14620                    NaN         KCBobolz                 NaN   \n",
       "14621                    NaN      andyellwood                 NaN   \n",
       "14622                    NaN    Jill_Lynnette                 NaN   \n",
       "14623                    NaN   Flora_Lola_NYC                 NaN   \n",
       "14624                    NaN         yourlama                 NaN   \n",
       "14625                    NaN   DrCaseyJRudkin                 NaN   \n",
       "14626                    NaN       cataattack                 NaN   \n",
       "14627                    NaN   KristinaMeyer7                 NaN   \n",
       "14628                    NaN         jlhalldc                 NaN   \n",
       "14629                    NaN      jontgreen89                 NaN   \n",
       "14630                    NaN   Laurelinesblog                 NaN   \n",
       "14631                    NaN         MDDavis7                 NaN   \n",
       "14632                    NaN       Chad_SMFYM                 NaN   \n",
       "14633                    NaN  RussellsWriting                 NaN   \n",
       "14634                    NaN    GolfWithWoody                 NaN   \n",
       "14635                    NaN  KristenReenders                 NaN   \n",
       "14636                    NaN         itsropes                 NaN   \n",
       "14637                    NaN         sanyabun                 NaN   \n",
       "14638                    NaN       SraJackson                 NaN   \n",
       "14639                    NaN        daviddtwu                 NaN   \n",
       "\n",
       "       retweet_count                                               text  \\\n",
       "0                  0                @VirginAmerica What @dhepburn said.   \n",
       "1                  0  @VirginAmerica plus you've added commercials t...   \n",
       "2                  0  @VirginAmerica I didn't today... Must mean I n...   \n",
       "3                  0  @VirginAmerica it's really aggressive to blast...   \n",
       "4                  0  @VirginAmerica and it's a really big bad thing...   \n",
       "5                  0  @VirginAmerica seriously would pay $30 a fligh...   \n",
       "6                  0  @VirginAmerica yes, nearly every time I fly VX...   \n",
       "7                  0  @VirginAmerica Really missed a prime opportuni...   \n",
       "8                  0    @virginamerica Well, I didn't…but NOW I DO! :-D   \n",
       "9                  0  @VirginAmerica it was amazing, and arrived an ...   \n",
       "10                 0  @VirginAmerica did you know that suicide is th...   \n",
       "11                 0  @VirginAmerica I &lt;3 pretty graphics. so muc...   \n",
       "12                 0  @VirginAmerica This is such a great deal! Alre...   \n",
       "13                 0  @VirginAmerica @virginmedia I'm flying your #f...   \n",
       "14                 0                             @VirginAmerica Thanks!   \n",
       "15                 0      @VirginAmerica SFO-PDX schedule is still MIA.   \n",
       "16                 0  @VirginAmerica So excited for my first cross c...   \n",
       "17                 0  @VirginAmerica  I flew from NYC to SFO last we...   \n",
       "18                 0                    I ❤️ flying @VirginAmerica. ☺️👍   \n",
       "19                 0  @VirginAmerica you know what would be amazingl...   \n",
       "20                 0  @VirginAmerica why are your first fares in May...   \n",
       "21                 0  @VirginAmerica I love this graphic. http://t.c...   \n",
       "22                 0  @VirginAmerica I love the hipster innovation. ...   \n",
       "23                 0  @VirginAmerica will you be making BOS&gt;LAS n...   \n",
       "24                 0  @VirginAmerica you guys messed up my seating.....   \n",
       "25                 0  @VirginAmerica status match program.  I applie...   \n",
       "26                 0  @VirginAmerica What happened 2 ur vegan food o...   \n",
       "27                 0  @VirginAmerica do you miss me? Don't worry we'...   \n",
       "28                 0  @VirginAmerica amazing to me that we can't get...   \n",
       "29                 0  @VirginAmerica LAX to EWR - Middle seat on a r...   \n",
       "...              ...                                                ...   \n",
       "14610              0  @AmericanAir I understand the weather issue bu...   \n",
       "14611              0  @AmericanAir guarantee no retribution? If so, ...   \n",
       "14612              0  @AmericanAir a friend is having flight Cancell...   \n",
       "14613              0  @AmericanAir I used the \"call back\" feature wi...   \n",
       "14614              0  @AmericanAir I need to be at work tomorrow at ...   \n",
       "14615              0  @AmericanAir  ugh Dump us in dfw w/no luggage ...   \n",
       "14616              0  @AmericanAir Cancelled Flights my flight, does...   \n",
       "14617              0            @AmericanAir DMing you now! Big thanks.   \n",
       "14618              0  @AmericanAir 3078 is overweight so you pull 2 ...   \n",
       "14619              3  @AmericanAir I love your company and your staf...   \n",
       "14620              0  @AmericanAir I wait 2+ hrs for CS to call me b...   \n",
       "14621              0  @AmericanAir I've been on hold for 55 mins abo...   \n",
       "14622              0  I just need a place to sleep when I land witho...   \n",
       "14623              0  @AmericanAir Love the new planes for the JFK-L...   \n",
       "14624              0  @AmericanAir Call me Chairman, or call me Emer...   \n",
       "14625              0  @AmericanAir Flight 236 was great. Fantastic c...   \n",
       "14626              0  @AmericanAir Flight 953 NYC-Buenos Aires has b...   \n",
       "14627              0  @AmericanAir Flight Cancelled Flightled, can't...   \n",
       "14628              0  Thank you. “@AmericanAir: @jlhalldc Customer R...   \n",
       "14629              0  @AmericanAir How do I change my flight if the ...   \n",
       "14630              0                        @AmericanAir Thanks! He is.   \n",
       "14631              0  @AmericanAir thx for nothing on getting us out...   \n",
       "14632              0  “@AmericanAir: @TilleyMonsta George, that does...   \n",
       "14633              0  @AmericanAir my flight was Cancelled Flightled...   \n",
       "14634              0         @AmericanAir right on cue with the delays👌   \n",
       "14635              0  @AmericanAir thank you we got on a different f...   \n",
       "14636              0  @AmericanAir leaving over 20 minutes Late Flig...   \n",
       "14637              0  @AmericanAir Please bring American Airlines to...   \n",
       "14638              0  @AmericanAir you have my money, you change my ...   \n",
       "14639              0  @AmericanAir we have 8 ppl so we need 2 know h...   \n",
       "\n",
       "                       tweet_coord              tweet_created  \\\n",
       "0                              NaN  2015-02-24 11:35:52 -0800   \n",
       "1                              NaN  2015-02-24 11:15:59 -0800   \n",
       "2                              NaN  2015-02-24 11:15:48 -0800   \n",
       "3                              NaN  2015-02-24 11:15:36 -0800   \n",
       "4                              NaN  2015-02-24 11:14:45 -0800   \n",
       "5                              NaN  2015-02-24 11:14:33 -0800   \n",
       "6                              NaN  2015-02-24 11:13:57 -0800   \n",
       "7                              NaN  2015-02-24 11:12:29 -0800   \n",
       "8                              NaN  2015-02-24 11:11:19 -0800   \n",
       "9                              NaN  2015-02-24 10:53:27 -0800   \n",
       "10                             NaN  2015-02-24 10:48:24 -0800   \n",
       "11                             NaN  2015-02-24 10:30:40 -0800   \n",
       "12                             NaN  2015-02-24 10:30:06 -0800   \n",
       "13                             NaN  2015-02-24 10:21:28 -0800   \n",
       "14                             NaN  2015-02-24 10:15:29 -0800   \n",
       "15                             NaN  2015-02-24 10:01:50 -0800   \n",
       "16                             NaN  2015-02-24 09:42:59 -0800   \n",
       "17                             NaN  2015-02-24 09:39:46 -0800   \n",
       "18                             NaN  2015-02-24 09:15:00 -0800   \n",
       "19                             NaN  2015-02-24 09:04:10 -0800   \n",
       "20                             NaN  2015-02-24 08:55:56 -0800   \n",
       "21     [40.74804263, -73.99295302]  2015-02-24 08:49:01 -0800   \n",
       "22                             NaN  2015-02-24 08:30:15 -0800   \n",
       "23                             NaN  2015-02-24 08:27:52 -0800   \n",
       "24                             NaN  2015-02-24 08:18:51 -0800   \n",
       "25                             NaN  2015-02-24 07:49:15 -0800   \n",
       "26                             NaN  2015-02-24 07:11:37 -0800   \n",
       "27                             NaN  2015-02-24 05:44:59 -0800   \n",
       "28       [42.361016, -71.02000488]  2015-02-24 05:05:28 -0800   \n",
       "29     [33.94540417, -118.4062472]  2015-02-23 23:34:30 -0800   \n",
       "...                            ...                        ...   \n",
       "14610                          NaN  2015-02-22 12:17:14 -0800   \n",
       "14611                          NaN  2015-02-22 12:17:05 -0800   \n",
       "14612  [40.46692522, -82.64567078]  2015-02-22 12:16:58 -0800   \n",
       "14613                          NaN  2015-02-22 12:16:47 -0800   \n",
       "14614                          NaN  2015-02-22 12:16:20 -0800   \n",
       "14615                          NaN  2015-02-22 12:16:18 -0800   \n",
       "14616                          NaN  2015-02-22 12:15:45 -0800   \n",
       "14617                          NaN  2015-02-22 12:15:19 -0800   \n",
       "14618                          NaN  2015-02-22 12:14:44 -0800   \n",
       "14619                          NaN  2015-02-22 12:14:08 -0800   \n",
       "14620                          NaN  2015-02-22 12:14:03 -0800   \n",
       "14621                          NaN  2015-02-22 12:13:45 -0800   \n",
       "14622                          NaN  2015-02-22 12:10:58 -0800   \n",
       "14623                          NaN  2015-02-22 12:10:16 -0800   \n",
       "14624   [32.9070889, -97.03785947]  2015-02-22 12:10:03 -0800   \n",
       "14625  [40.64946781, -73.76624703]  2015-02-22 12:08:48 -0800   \n",
       "14626                          NaN  2015-02-22 12:08:04 -0800   \n",
       "14627                          NaN  2015-02-22 12:05:30 -0800   \n",
       "14628                          NaN  2015-02-22 12:04:51 -0800   \n",
       "14629                          NaN  2015-02-22 12:04:37 -0800   \n",
       "14630                          NaN  2015-02-22 12:04:09 -0800   \n",
       "14631                          NaN  2015-02-22 12:04:07 -0800   \n",
       "14632                          NaN  2015-02-22 12:01:31 -0800   \n",
       "14633                          NaN  2015-02-22 12:01:06 -0800   \n",
       "14634                          NaN  2015-02-22 12:01:02 -0800   \n",
       "14635                          NaN  2015-02-22 12:01:01 -0800   \n",
       "14636                          NaN  2015-02-22 11:59:46 -0800   \n",
       "14637                          NaN  2015-02-22 11:59:15 -0800   \n",
       "14638                          NaN  2015-02-22 11:59:02 -0800   \n",
       "14639                          NaN  2015-02-22 11:58:51 -0800   \n",
       "\n",
       "                      tweet_location                user_timezone  \n",
       "0                                NaN   Eastern Time (US & Canada)  \n",
       "1                                NaN   Pacific Time (US & Canada)  \n",
       "2                          Lets Play   Central Time (US & Canada)  \n",
       "3                                NaN   Pacific Time (US & Canada)  \n",
       "4                                NaN   Pacific Time (US & Canada)  \n",
       "5                                NaN   Pacific Time (US & Canada)  \n",
       "6                   San Francisco CA   Pacific Time (US & Canada)  \n",
       "7                        Los Angeles   Pacific Time (US & Canada)  \n",
       "8                          San Diego   Pacific Time (US & Canada)  \n",
       "9                        Los Angeles   Eastern Time (US & Canada)  \n",
       "10                   1/1 loner squad   Eastern Time (US & Canada)  \n",
       "11                               NYC             America/New_York  \n",
       "12                               NYC             America/New_York  \n",
       "13                               NaN   Eastern Time (US & Canada)  \n",
       "14                 San Francisco, CA   Pacific Time (US & Canada)  \n",
       "15                     palo alto, ca   Pacific Time (US & Canada)  \n",
       "16                       west covina   Pacific Time (US & Canada)  \n",
       "17             this place called NYC   Eastern Time (US & Canada)  \n",
       "18      Somewhere celebrating life.        Atlantic Time (Canada)  \n",
       "19                  Boston | Waltham                        Quito  \n",
       "20                               NaN                          NaN  \n",
       "21                               NaN                          NaN  \n",
       "22                       Los Angeles   Pacific Time (US & Canada)  \n",
       "23                       Boston, MA    Eastern Time (US & Canada)  \n",
       "24                               714  Mountain Time (US & Canada)  \n",
       "25                               NaN                          NaN  \n",
       "26                               NaN                          NaN  \n",
       "27                 San Francisco, CA   Central Time (US & Canada)  \n",
       "28     San Mateo, CA & Las Vegas, NV                          NaN  \n",
       "29                          Brooklyn       Atlantic Time (Canada)  \n",
       "...                              ...                          ...  \n",
       "14610                         London                       London  \n",
       "14611                   970 Colorado                          NaN  \n",
       "14612                   Central Ohio   Eastern Time (US & Canada)  \n",
       "14613                        Chicago  Mountain Time (US & Canada)  \n",
       "14614                            NaN                          NaN  \n",
       "14615                  Washington DC   Central Time (US & Canada)  \n",
       "14616                  New York City   Eastern Time (US & Canada)  \n",
       "14617              Columbus, OH, USA   Eastern Time (US & Canada)  \n",
       "14618                            NaN                          NaN  \n",
       "14619                            NaN   Pacific Time (US & Canada)  \n",
       "14620    Milwaukee County, Wisconsin   Central Time (US & Canada)  \n",
       "14621             New York, New York   Eastern Time (US & Canada)  \n",
       "14622                            NaN   Eastern Time (US & Canada)  \n",
       "14623                            NaN   Eastern Time (US & Canada)  \n",
       "14624                            NaN                          NaN  \n",
       "14625                     East Coast                          NaN  \n",
       "14626        Buenos Aires, Argentina                 Buenos Aires  \n",
       "14627                            NaN   Eastern Time (US & Canada)  \n",
       "14628                 Washington, DC   Eastern Time (US & Canada)  \n",
       "14629                       Waco, TX   Central Time (US & Canada)  \n",
       "14630                Chapel Hill, NC                          NaN  \n",
       "14631                             US   Eastern Time (US & Canada)  \n",
       "14632                            NaN   Central Time (US & Canada)  \n",
       "14633                    Los Angeles                      Arizona  \n",
       "14634                            NaN                        Quito  \n",
       "14635                            NaN                          NaN  \n",
       "14636                          Texas                          NaN  \n",
       "14637                  Nigeria,lagos                          NaN  \n",
       "14638                     New Jersey   Eastern Time (US & Canada)  \n",
       "14639                     dallas, TX                          NaN  \n",
       "\n",
       "[14640 rows x 15 columns]"
      ]
     },
     "execution_count": 2,
     "metadata": {},
     "output_type": "execute_result"
    }
   ],
   "source": [
    "dataset = pd.read_csv('twitter-airline-sentiment.csv')\n",
    "dataset"
   ]
  },
  {
   "cell_type": "markdown",
   "metadata": {},
   "source": [
    "Split dataset in positive - negative - neutral"
   ]
  },
  {
   "cell_type": "code",
   "execution_count": 3,
   "metadata": {},
   "outputs": [],
   "source": [
    "positive = dataset.query('airline_sentiment == \"positive\"')['text']\n",
    "negative = dataset.query('airline_sentiment == \"negative\"')['text']\n",
    "neutral = dataset.query('airline_sentiment == \"neutral\"')['text']"
   ]
  },
  {
   "cell_type": "markdown",
   "metadata": {},
   "source": [
    "Statistics"
   ]
  },
  {
   "cell_type": "code",
   "execution_count": 4,
   "metadata": {},
   "outputs": [
    {
     "name": "stdout",
     "output_type": "stream",
     "text": [
      "# Positives: 2363\n",
      "# Negatives: 9178\n",
      "# Neutral: 3099\n"
     ]
    }
   ],
   "source": [
    "print('# Positives: ' + str((len(positive))))\n",
    "print('# Negatives: ' + str((len(negative))))\n",
    "print('# Neutral: ' + str((len(neutral))))"
   ]
  },
  {
   "cell_type": "markdown",
   "metadata": {},
   "source": [
    "Very unbalanced classes. take the class with less samples (positives) and makes it the \"benchmark\", then split into train and test data"
   ]
  },
  {
   "cell_type": "code",
   "execution_count": 5,
   "metadata": {},
   "outputs": [],
   "source": [
    "np_positive = positive.values\n",
    "np_negative = negative.values\n",
    "np_neutral = neutral.values\n",
    "\n",
    "# shuffle\n",
    "np.random.seed(10)\n",
    "np.random.shuffle(np_positive)\n",
    "np.random.shuffle(np_negative)\n",
    "np.random.shuffle(np_neutral)\n",
    "\n",
    "# take the same number of sentences\n",
    "np_positive = np_positive[:min(len(np_positive), len(np_negative), len(np_neutral))]\n",
    "np_negative = np_negative[:min(len(np_positive), len(np_negative), len(np_neutral))]\n",
    "np_neutral = np_neutral[:min(len(np_positive), len(np_negative), len(np_neutral))]"
   ]
  },
  {
   "cell_type": "markdown",
   "metadata": {},
   "source": [
    "Preprocessing. Just TF-IDF with word representation"
   ]
  },
  {
   "cell_type": "code",
   "execution_count": 6,
   "metadata": {},
   "outputs": [],
   "source": [
    "import re\n",
    "from nltk.stem.porter import PorterStemmer\n",
    "from nltk.stem import WordNetLemmatizer\n",
    "\n",
    "def handle_emojis(tweet):\n",
    "    # Smile -- :), : ), :-), (:, ( :, (-:, :')\n",
    "    tweet = re.sub(r'(:\\s?\\)|:-\\)|\\(\\s?:|\\(-:|:\\'\\))', ' EMO_POS ', tweet)\n",
    "    # Laugh -- :D, : D, :-D, xD, x-D, XD, X-D\n",
    "    tweet = re.sub(r'(:\\s?D|:-D|x-?D|X-?D)', ' EMO_POS ', tweet)\n",
    "    # Love -- <3, :*\n",
    "    tweet = re.sub(r'(<3|:\\*)', ' EMO_POS ', tweet)\n",
    "    # Wink -- ;-), ;), ;-D, ;D, (;,  (-;\n",
    "    tweet = re.sub(r'(;-?\\)|;-?D|\\(-?;)', ' EMO_POS ', tweet)\n",
    "    # Sad -- :-(, : (, :(, ):, )-:\n",
    "    tweet = re.sub(r'(:\\s?\\(|:-\\(|\\)\\s?:|\\)-:)', ' EMO_NEG ', tweet)\n",
    "    # Cry -- :,(, :'(, :\"(\n",
    "    tweet = re.sub(r'(:,\\(|:\\'\\(|:\"\\()', ' EMO_NEG ', tweet)\n",
    "    return tweet\n",
    "\n",
    "def preprocess_word(word):\n",
    "    # remove punctation\n",
    "    word = word.strip('\\'\"?!,.():;*')\n",
    "    # more than 3 letter repetition removed\n",
    "    word = re.sub(r'(.)\\1\\1+', r'\\1\\1\\1', word)\n",
    "    # remove - & '\n",
    "    word = word.strip('-&\\'')\n",
    "    return word\n",
    "\n",
    "def is_valid_word(word):\n",
    "    # Check if word begins with an alphabet\n",
    "    return (re.search(r'^[a-zA-Z][a-z0-9A-Z\\._]*$', word) is not None)\n",
    "\n",
    "def preprocess_tweet(tweet, use_stemmer=False, use_lemmatizer=False):\n",
    "    # convert tweet to lowercase\n",
    "    tweet = tweet.lower()\n",
    "    # replace urls with 'URL'\n",
    "    tweet = re.sub(r'((www.[\\S]+)|(https?://.[\\S]+))', 'URL', tweet)\n",
    "    # replace user mentions @user with 'USER_MENTION'\n",
    "    tweet = re.sub(r'@[\\S]+', 'USER_MENTION', tweet)\n",
    "    # replace #hashtag with hastag\n",
    "    tweet = re.sub(r'#(\\S+)', r' \\1', tweet)\n",
    "    # remove retweet RT\n",
    "    tweet = re.sub(r'\\brt\\b', '', tweet)\n",
    "    # replace 2+ dots with space\n",
    "    tweet = re.sub(r'\\.{2,}', ' ', tweet)\n",
    "    # remove space, \" and ' \n",
    "    tweet.strip('\" \\'')\n",
    "    # handle emojis. Use only EMO_POS and EMO_NEG\n",
    "    tweet = handle_emojis(tweet)\n",
    "    # replace multiple spaces with only one space\n",
    "    tweet = re.sub(r'\\s+', ' ', tweet)\n",
    "    # preprocess words\n",
    "    words = tweet.split()\n",
    "\n",
    "    processed_words = []\n",
    "    porter_stemmer = PorterStemmer()\n",
    "    wordnet_lemmatizer = WordNetLemmatizer()\n",
    "    for word in words:\n",
    "        word = preprocess_word(word)\n",
    "        if is_valid_word(word):\n",
    "            if use_stemmer:\n",
    "                # use stemmer\n",
    "                word = str(porter_stemmer.stem(word))\n",
    "            elif use_lemmatizer:\n",
    "                word = str(wordnet_lemmatizer.lemmatize(word))\n",
    "            processed_words.append(word)\n",
    "    return ' '.join(processed_words)"
   ]
  },
  {
   "cell_type": "markdown",
   "metadata": {},
   "source": [
    "Example of preprocessing"
   ]
  },
  {
   "cell_type": "code",
   "execution_count": 7,
   "metadata": {},
   "outputs": [
    {
     "name": "stdout",
     "output_type": "stream",
     "text": [
      "######## POSITIVE ########\n",
      "@VirginAmerica Thanks for a great flight from LA to Boston! Pilots did a great job landing in the snow. Can we go back to LA now? #seriously\n",
      "USER_MENTION thanks for a great flight from la to boston pilots did a great job landing in the snow can we go back to la now seriously\n",
      "######## NEGATIVE ########\n",
      "@USAirways and @FlyKnoxville - bad weather should not be an excuse for not following established luggage procedures. #NoClothesNoInfo\n",
      "USER_MENTION and USER_MENTION bad weather should not be an excuse for not following established luggage procedures noclothesnoinfo\n",
      "######## NEUTRAL ########\n",
      "@united Is it possible to redeem miles for one part of a round trip itinerary without having to book two separate reservations?\n",
      "USER_MENTION is it possible to redeem miles for one part of a round trip itinerary without having to book two separate reservations\n"
     ]
    }
   ],
   "source": [
    "print('######## POSITIVE ########')\n",
    "print(np_positive[0])\n",
    "print(preprocess_tweet(np_positive[0]))\n",
    "print('######## NEGATIVE ########')\n",
    "print(np_negative[0])\n",
    "print(preprocess_tweet(np_negative[0]))\n",
    "print('######## NEUTRAL ########')\n",
    "print(np_neutral[0])\n",
    "print(preprocess_tweet(np_neutral[0]))"
   ]
  },
  {
   "cell_type": "markdown",
   "metadata": {},
   "source": [
    "Preprocess the whole dataset"
   ]
  },
  {
   "cell_type": "code",
   "execution_count": 8,
   "metadata": {},
   "outputs": [],
   "source": [
    "# positive\n",
    "np_positive_preprocess = []\n",
    "for tweet in np_positive:\n",
    "    np_positive_preprocess.append(preprocess_tweet(tweet))\n",
    "# negative\n",
    "np_negative_preprocess = []\n",
    "for tweet in np_negative:\n",
    "    np_negative_preprocess.append(preprocess_tweet(tweet))\n",
    "# neutral\n",
    "np_neutral_preprocess = []\n",
    "for tweet in np_neutral:\n",
    "    np_neutral_preprocess.append(preprocess_tweet(tweet))"
   ]
  },
  {
   "cell_type": "markdown",
   "metadata": {},
   "source": [
    "Feature vectors"
   ]
  },
  {
   "cell_type": "code",
   "execution_count": 131,
   "metadata": {},
   "outputs": [],
   "source": [
    "from nltk import FreqDist\n",
    "from scipy.sparse import lil_matrix\n",
    "from sklearn.feature_extraction.text import TfidfTransformer\n",
    "\n",
    "class FeatureVectorGenerator():\n",
    "    \n",
    "    def __init__(self, max_words, max_bigrams):\n",
    "        self.all_words = []\n",
    "        self.all_bigrams = []\n",
    "        self.MAX_WORDS = max_words\n",
    "        self.MAX_BIGRAMS = max_bigrams\n",
    "        self.VOCAB_SIZE = self.MAX_WORDS + self.MAX_BIGRAMS\n",
    "\n",
    "    def get_features(self, tweet, words_set, bigrams_set):\n",
    "        uni_feat = []\n",
    "        big_feat = []\n",
    "        words = tweet.split()\n",
    "        for i in range(len(words)-1):\n",
    "            if words[i] in words_set:\n",
    "                uni_feat.append(words[i])\n",
    "            if (words[i], words[i+1]) in bigrams_set:\n",
    "                big_feat.append((words[i], words[i+1]))\n",
    "        if len(words) >= 1 and words[len(words)-1] in words_set:\n",
    "            uni_feat.append(words[len(words)-1])\n",
    "        return uni_feat, big_feat\n",
    "\n",
    "    def extract_features(self, tweets, test=False):\n",
    "        features = lil_matrix((len(tweets), self.VOCAB_SIZE))\n",
    "        for j, tweet in enumerate(tweets):\n",
    "            unigrams, bigrams = self.get_features(tweet, self.all_words_set, self.all_bigrams_set)\n",
    "            for word in unigrams:\n",
    "                idx = self.dict_word.get(word)\n",
    "                if idx:\n",
    "                    features[j, idx] += 1\n",
    "            for bigram in bigrams:\n",
    "                idx = self.dict_bigram.get(bigram)\n",
    "                if idx:\n",
    "                    features[j, self.MAX_WORDS + idx] += 1\n",
    "        # apply tf-idf\n",
    "        if not test:\n",
    "            transformer = TfidfTransformer(smooth_idf=True, sublinear_tf=True, use_idf=True)\n",
    "            self.tfidf = transformer.fit(features)\n",
    "        features = self.tfidf.transform(features)\n",
    "        return features\n",
    "    \n",
    "    def fit(self, train_preprocessed_tweets):\n",
    "        # Count the words and calculate the frequency distribution\n",
    "        for tweet in train_preprocessed_tweets:\n",
    "            split = tweet.split()\n",
    "            for i in range(len(split)-1):\n",
    "                w = split[i]\n",
    "                b = (split[i], split[i+1])\n",
    "                self.all_words.append(w)\n",
    "                self.all_bigrams.append(b)\n",
    "            if len(split) >= 1:\n",
    "                self.all_words.append(split[len(split)-1])\n",
    "        # Different words\n",
    "        self.all_words_set = set(self.all_words)\n",
    "        self.all_bigrams_set = set(self.all_bigrams)\n",
    "        # Some counts\n",
    "        print('Number total words: ' + str(len(self.all_words)))\n",
    "        print('Number total bigrams: ' + str(len(self.all_bigrams)))\n",
    "        print('Number different words: ' + str(len(self.all_words_set)))\n",
    "        print('Number different bigrams: ' + str(len(self.all_bigrams_set)))\n",
    "        # Calculate frequencies\n",
    "        self.word_freq_dist = FreqDist(self.all_words)\n",
    "        self.bigram_freq_dist = FreqDist(self.all_bigrams)\n",
    "        # take the most common words and bigrams\n",
    "        self.dict_word = {x[0] : i for i, x in enumerate(self.word_freq_dist.most_common(self.MAX_WORDS))}\n",
    "        self.dict_bigram = {x[0] : i for i, x in enumerate(self.bigram_freq_dist.most_common(self.MAX_BIGRAMS))}"
   ]
  },
  {
   "cell_type": "markdown",
   "metadata": {},
   "source": [
    "Split datset into train and test"
   ]
  },
  {
   "cell_type": "code",
   "execution_count": 132,
   "metadata": {},
   "outputs": [],
   "source": [
    "# 0 = neutral,  1 = negative,  2 = positive\n",
    "TRAIN_SIZE = 2000\n",
    "train_x = []\n",
    "train_y = []\n",
    "test_x = []\n",
    "test_y = []\n",
    "train_x.extend(np_positive_preprocess[:TRAIN_SIZE])\n",
    "train_x.extend(np_negative_preprocess[:TRAIN_SIZE])\n",
    "train_x.extend(np_neutral_preprocess[:TRAIN_SIZE])\n",
    "test_x.extend(np_positive_preprocess[TRAIN_SIZE:])\n",
    "test_x.extend(np_negative_preprocess[TRAIN_SIZE:])\n",
    "test_x.extend(np_neutral_preprocess[TRAIN_SIZE:])\n",
    "train_y.extend(np.ones(TRAIN_SIZE) * 2)\n",
    "train_y.extend(np.ones(TRAIN_SIZE) * 1)\n",
    "train_y.extend(np.ones(TRAIN_SIZE) * 0)\n",
    "test_y.extend(np.ones(len(np_positive_preprocess) - TRAIN_SIZE) * 2)\n",
    "test_y.extend(np.ones(len(np_negative_preprocess) - TRAIN_SIZE) * 2)\n",
    "test_y.extend(np.ones(len(np_neutral_preprocess) - TRAIN_SIZE) * 2)\n",
    "# Shuffle train and test datasets\n",
    "np.random.seed(10)\n",
    "np.random.shuffle(train_x)\n",
    "np.random.seed(10)\n",
    "np.random.shuffle(train_y)\n",
    "np.random.seed(20)\n",
    "np.random.shuffle(test_x)\n",
    "np.random.seed(20)\n",
    "np.random.shuffle(test_y)"
   ]
  },
  {
   "cell_type": "code",
   "execution_count": 139,
   "metadata": {},
   "outputs": [
    {
     "name": "stdout",
     "output_type": "stream",
     "text": [
      "Number total words: 90751\n",
      "Number total bigrams: 84751\n",
      "Number different words: 7142\n",
      "Number different bigrams: 42311\n"
     ]
    }
   ],
   "source": [
    "fvg = FeatureVectorGenerator(max_words = 3000, max_bigrams = 4000)\n",
    "fvg.fit(train_x)\n",
    "f_train = fvg.extract_features(train_x, test=False)\n",
    "f_test = fvg.extract_features(test_x, test=True)"
   ]
  },
  {
   "cell_type": "code",
   "execution_count": 141,
   "metadata": {},
   "outputs": [
    {
     "name": "stdout",
     "output_type": "stream",
     "text": [
      "  (0, 5334)\t0.3025114409688067\n",
      "  (0, 4839)\t0.29569404950915074\n",
      "  (0, 3578)\t0.2640117772712248\n",
      "  (0, 3447)\t0.25675187022585827\n",
      "  (0, 3259)\t0.24544894439217405\n",
      "  (0, 3059)\t0.20277809557479476\n",
      "  (0, 3014)\t0.17927307849634247\n",
      "  (0, 3011)\t0.17131906060042792\n",
      "  (0, 1625)\t0.3025114409688067\n",
      "  (0, 1009)\t0.2805328452400966\n",
      "  (0, 679)\t0.2614319868113187\n",
      "  (0, 413)\t0.2380935273827909\n",
      "  (0, 388)\t0.23678138817009337\n",
      "  (0, 315)\t0.22974971457339274\n",
      "  (0, 258)\t0.21716830076424481\n",
      "  (0, 77)\t0.17176957364752768\n",
      "  (0, 10)\t0.10409811929094685\n",
      "  (0, 8)\t0.09904023541401964\n",
      "  (0, 7)\t0.09677716385555829\n",
      "  (0, 2)\t0.08085118537008555\n",
      "  (0, 1)\t0.07254324796189825\n",
      "  (1, 6215)\t0.3101435884147759\n",
      "  (1, 5335)\t0.30181887775180516\n",
      "  (1, 3448)\t0.2561640679905269\n",
      "  (1, 3347)\t0.2501010513478471\n",
      "  :\t:\n",
      "  (5998, 5)\t0.12607081094648673\n",
      "  (5998, 4)\t0.1221503327239067\n",
      "  (5999, 4546)\t0.2679228546479589\n",
      "  (5999, 4355)\t0.2633088273914603\n",
      "  (5999, 3171)\t0.2123105357043957\n",
      "  (5999, 3153)\t0.20857133685954105\n",
      "  (5999, 3074)\t0.1909203313165844\n",
      "  (5999, 3056)\t0.18597564243100806\n",
      "  (5999, 2421)\t0.2972002803181344\n",
      "  (5999, 1701)\t0.27954927477517777\n",
      "  (5999, 1596)\t0.2732493582090409\n",
      "  (5999, 1391)\t0.2679228546479589\n",
      "  (5999, 1010)\t0.2592389669175279\n",
      "  (5999, 658)\t0.23935790528236678\n",
      "  (5999, 517)\t0.22835409436993007\n",
      "  (5999, 492)\t0.22681811365356058\n",
      "  (5999, 213)\t0.19485754718789017\n",
      "  (5999, 60)\t0.150070772846227\n",
      "  (5999, 46)\t0.14341950370635123\n",
      "  (5999, 18)\t0.11559347576643424\n",
      "  (5999, 13)\t0.1088457705161071\n",
      "  (5999, 10)\t0.09619653941037165\n",
      "  (5999, 9)\t0.09158251215387309\n",
      "  (5999, 3)\t0.13544276378211434\n",
      "  (5999, 2)\t0.12650208072800678\n",
      "  (0, 6526)\t0.3296130456357909\n",
      "  (0, 4012)\t0.2932835234599986\n",
      "  (0, 3052)\t0.21133558505729347\n",
      "  (0, 3030)\t0.20444282092493915\n",
      "  (0, 3013)\t0.18725763093351055\n",
      "  (0, 1081)\t0.29746090631119787\n",
      "  (0, 701)\t0.27720745379770206\n",
      "  (0, 574)\t0.27224492714610216\n",
      "  (0, 356)\t0.24476270453785368\n",
      "  (0, 232)\t0.2242767090335827\n",
      "  (0, 200)\t0.22030855340284863\n",
      "  (0, 157)\t0.21133558505729347\n",
      "  (0, 129)\t0.20279056242734103\n",
      "  (0, 75)\t0.18142017784864817\n",
      "  (0, 71)\t0.18071841676303768\n",
      "  (0, 38)\t0.15465236134804988\n",
      "  (0, 28)\t0.14443529420198442\n",
      "  (0, 22)\t0.23572386080321392\n",
      "  (0, 19)\t0.13333206959505955\n",
      "  (0, 4)\t0.09378258099729762\n",
      "  (0, 2)\t0.08572995028777054\n",
      "  (1, 5599)\t0.3239568224791343\n",
      "  (1, 5037)\t0.31665613835362294\n",
      "  (1, 4439)\t0.3051365134860242\n",
      "  (1, 3476)\t0.2749533035100011\n",
      "  :\t:\n",
      "  (1087, 2)\t0.0853161184481725\n",
      "  (1088, 4712)\t0.2865076280579759\n",
      "  (1088, 4381)\t0.28157354355521386\n",
      "  (1088, 3423)\t0.25160906753192075\n",
      "  (1088, 3338)\t0.24591308499570458\n",
      "  (1088, 3274)\t0.24097900049294255\n",
      "  (1088, 3123)\t0.216144634607121\n",
      "  (1088, 3100)\t0.21101452446964938\n",
      "  (1088, 879)\t0.2665913055435673\n",
      "  (1088, 865)\t0.2665913055435673\n",
      "  (1088, 674)\t0.25596123850458913\n",
      "  (1088, 667)\t0.25596123850458913\n",
      "  (1088, 373)\t0.23034893345396434\n",
      "  (1088, 257)\t0.21460479740886362\n",
      "  (1088, 129)\t0.18899249235823887\n",
      "  (1088, 109)\t0.18276175742849357\n",
      "  (1088, 69)\t0.17229130508903606\n",
      "  (1088, 57)\t0.15894432265141345\n",
      "  (1088, 45)\t0.15351201830209002\n",
      "  (1088, 8)\t0.09787114225029311\n",
      "  (1088, 7)\t0.0956347844963473\n",
      "  (1088, 6)\t0.0896899166575505\n",
      "  (1088, 3)\t0.08554359995257484\n",
      "  (1088, 2)\t0.07989679983475015\n",
      "  (1088, 1)\t0.07168693118405295\n"
     ]
    }
   ],
   "source": [
    "print(f_train)\n",
    "print(f_test)"
   ]
  },
  {
   "cell_type": "markdown",
   "metadata": {},
   "source": [
    "Train SVM model"
   ]
  },
  {
   "cell_type": "code",
   "execution_count": 219,
   "metadata": {},
   "outputs": [],
   "source": [
    "from sklearn import svm\n",
    "from sklearn.metrics import make_scorer\n",
    "from sklearn.model_selection import StratifiedKFold, GridSearchCV, RandomizedSearchCV\n",
    "from skopt import BayesSearchCV\n",
    "from time import time\n",
    "import pprint\n",
    "from scipy.stats import randint\n",
    "from scipy.stats import uniform\n",
    "from skopt.space import Real, Categorical, Integer"
   ]
  },
  {
   "cell_type": "code",
   "execution_count": 185,
   "metadata": {},
   "outputs": [],
   "source": [
    "def report_perf(optimizer, X, y, title):\n",
    "    \"\"\"\n",
    "    A wrapper for measuring time and performances of different optmizers\n",
    "    \n",
    "    optimizer = a sklearn or a skopt optimizer\n",
    "    X = the training set \n",
    "    y = our target\n",
    "    title = a string label for the experiment\n",
    "    \"\"\"\n",
    "    start = time()\n",
    "    optimizer.fit(X, y)\n",
    "    best_score = optimizer.best_score_\n",
    "    best_score_std = optimizer.cv_results_['std_test_score'][optimizer.best_index_]\n",
    "    best_params = optimizer.best_params_\n",
    "    print((title + \" took %.2f seconds,  candidates checked: %d, best CV score: %.3f \"\n",
    "           +u\"\\u00B1\"+\" %.3f\") % (time() - start, \n",
    "                                  len(optimizer.cv_results_['params']),\n",
    "                                  best_score,\n",
    "                                  best_score_std))    \n",
    "    print('Best parameters:')\n",
    "    pprint.pprint(best_params)\n",
    "    print()\n",
    "    return best_params"
   ]
  },
  {
   "cell_type": "code",
   "execution_count": 178,
   "metadata": {},
   "outputs": [
    {
     "name": "stderr",
     "output_type": "stream",
     "text": [
      "/home/giuseppe/anaconda3/lib/python3.6/site-packages/sklearn/svm/base.py:218: ConvergenceWarning: Solver terminated early (max_iter=1000).  Consider pre-processing your data with StandardScaler or MinMaxScaler.\n",
      "  % self.max_iter, ConvergenceWarning)\n"
     ]
    },
    {
     "data": {
      "text/plain": [
       "SVC(C=0.1, cache_size=200, class_weight=None, coef0=0.0,\n",
       "  decision_function_shape='ovr', degree=3, gamma='auto', kernel='rbf',\n",
       "  max_iter=1000, probability=False, random_state=None, shrinking=True,\n",
       "  tol=0.001, verbose=False)"
      ]
     },
     "execution_count": 178,
     "metadata": {},
     "output_type": "execute_result"
    }
   ],
   "source": [
    "# naive svm classifier\n",
    "clf_svm = svm.SVC(C=0.1, max_iter=1000)\n",
    "clf_svm.fit(f_train, train_y)"
   ]
  },
  {
   "cell_type": "code",
   "execution_count": 179,
   "metadata": {},
   "outputs": [
    {
     "data": {
      "text/plain": [
       "0.6593204775022957"
      ]
     },
     "execution_count": 179,
     "metadata": {},
     "output_type": "execute_result"
    }
   ],
   "source": [
    "# evaluate naive model\n",
    "svm_prediction = clf_svm.predict(f_test)\n",
    "accuracy_score(test_y, svm_prediction)"
   ]
  },
  {
   "cell_type": "markdown",
   "metadata": {},
   "source": [
    "Now try to improve the model estimating hyperparameters"
   ]
  },
  {
   "cell_type": "code",
   "execution_count": 201,
   "metadata": {},
   "outputs": [],
   "source": [
    "# Converting average precision score into a scorer suitable for model selection\n",
    "acc_scr = make_scorer(accuracy_score, greater_is_better=True, needs_proba=True)"
   ]
  },
  {
   "cell_type": "code",
   "execution_count": 202,
   "metadata": {},
   "outputs": [],
   "source": [
    "# Setting a 5-fold stratified cross-validation (note: shuffle=True)\n",
    "skf = StratifiedKFold(n_splits=5, shuffle=True, random_state=0)"
   ]
  },
  {
   "cell_type": "code",
   "execution_count": 203,
   "metadata": {},
   "outputs": [],
   "source": [
    "clf_svm = svm.SVC(max_iter=10000, probability=True)"
   ]
  },
  {
   "cell_type": "markdown",
   "metadata": {},
   "source": [
    "Grid Search"
   ]
  },
  {
   "cell_type": "code",
   "execution_count": 223,
   "metadata": {},
   "outputs": [
    {
     "name": "stdout",
     "output_type": "stream",
     "text": [
      "Fitting 5 folds for each of 48 candidates, totalling 240 fits\n",
      "[CV] C=0.1, decision_function_shape=ovo, degree=2, kernel=linear .....\n",
      "[CV] C=0.1, decision_function_shape=ovo, degree=2, kernel=linear .....\n",
      "[CV] C=0.1, decision_function_shape=ovo, degree=2, kernel=linear .....\n",
      "[CV] C=0.1, decision_function_shape=ovo, degree=2, kernel=linear .....\n",
      "[CV]  C=0.1, decision_function_shape=ovo, degree=2, kernel=linear, score=0.7141666666666666, total=  45.4s\n",
      "[CV] C=0.1, decision_function_shape=ovo, degree=2, kernel=linear .....\n",
      "[CV]  C=0.1, decision_function_shape=ovo, degree=2, kernel=linear, score=0.7125, total=  46.0s\n",
      "[CV] C=0.1, decision_function_shape=ovo, degree=2, kernel=poly .......\n",
      "[CV]  C=0.1, decision_function_shape=ovo, degree=2, kernel=linear, score=0.6791666666666667, total=  46.5s\n",
      "[CV] C=0.1, decision_function_shape=ovo, degree=2, kernel=poly .......\n",
      "[CV]  C=0.1, decision_function_shape=ovo, degree=2, kernel=linear, score=0.6758333333333333, total=  47.9s\n",
      "[CV] C=0.1, decision_function_shape=ovo, degree=2, kernel=poly .......\n",
      "[CV]  C=0.1, decision_function_shape=ovo, degree=2, kernel=linear, score=0.675, total=  51.4s\n",
      "[CV] C=0.1, decision_function_shape=ovo, degree=2, kernel=poly .......\n"
     ]
    },
    {
     "name": "stderr",
     "output_type": "stream",
     "text": [
      "[Parallel(n_jobs=-1)]: Done   5 tasks      | elapsed:  1.6min\n"
     ]
    },
    {
     "name": "stdout",
     "output_type": "stream",
     "text": [
      "[CV]  C=0.1, decision_function_shape=ovo, degree=2, kernel=poly, score=0.355, total=  57.3s\n",
      "[CV] C=0.1, decision_function_shape=ovo, degree=2, kernel=poly .......\n",
      "[CV]  C=0.1, decision_function_shape=ovo, degree=2, kernel=poly, score=0.36, total=  58.6s\n",
      "[CV] C=0.1, decision_function_shape=ovo, degree=2, kernel=rbf ........\n",
      "[CV]  C=0.1, decision_function_shape=ovo, degree=2, kernel=poly, score=0.3625, total=  59.4s\n",
      "[CV] C=0.1, decision_function_shape=ovo, degree=2, kernel=rbf ........\n",
      "[CV]  C=0.1, decision_function_shape=ovo, degree=2, kernel=poly, score=0.355, total=  55.4s\n",
      "[CV] C=0.1, decision_function_shape=ovo, degree=2, kernel=rbf ........\n",
      "[CV]  C=0.1, decision_function_shape=ovo, degree=2, kernel=poly, score=0.3541666666666667, total=  55.3s\n",
      "[CV] C=0.1, decision_function_shape=ovo, degree=2, kernel=rbf ........\n"
     ]
    },
    {
     "name": "stderr",
     "output_type": "stream",
     "text": [
      "[Parallel(n_jobs=-1)]: Done  10 tasks      | elapsed:  2.7min\n"
     ]
    },
    {
     "name": "stdout",
     "output_type": "stream",
     "text": [
      "[CV]  C=0.1, decision_function_shape=ovo, degree=2, kernel=rbf, score=0.4875, total= 1.1min\n",
      "[CV] C=0.1, decision_function_shape=ovo, degree=2, kernel=rbf ........\n",
      "[CV]  C=0.1, decision_function_shape=ovo, degree=2, kernel=rbf, score=0.43916666666666665, total= 1.1min\n",
      "[CV] C=0.1, decision_function_shape=ovo, degree=2, kernel=sigmoid ....\n",
      "[CV]  C=0.1, decision_function_shape=ovo, degree=2, kernel=rbf, score=0.4666666666666667, total= 1.1min\n",
      "[CV] C=0.1, decision_function_shape=ovo, degree=2, kernel=sigmoid ....\n",
      "[CV]  C=0.1, decision_function_shape=ovo, degree=2, kernel=rbf, score=0.44916666666666666, total= 1.0min\n",
      "[CV] C=0.1, decision_function_shape=ovo, degree=2, kernel=sigmoid ....\n",
      "[CV]  C=0.1, decision_function_shape=ovo, degree=2, kernel=rbf, score=0.4166666666666667, total=  58.4s\n",
      "[CV] C=0.1, decision_function_shape=ovo, degree=2, kernel=sigmoid ....\n",
      "[CV]  C=0.1, decision_function_shape=ovo, degree=2, kernel=sigmoid, score=0.4875, total=  57.2s\n",
      "[CV] C=0.1, decision_function_shape=ovo, degree=2, kernel=sigmoid ....\n",
      "[CV]  C=0.1, decision_function_shape=ovo, degree=2, kernel=sigmoid, score=0.43833333333333335, total=  52.6s\n",
      "[CV] C=0.1, decision_function_shape=ovo, degree=3, kernel=linear .....\n"
     ]
    },
    {
     "name": "stderr",
     "output_type": "stream",
     "text": [
      "[Parallel(n_jobs=-1)]: Done  17 tasks      | elapsed:  4.5min\n"
     ]
    },
    {
     "name": "stdout",
     "output_type": "stream",
     "text": [
      "[CV]  C=0.1, decision_function_shape=ovo, degree=2, kernel=sigmoid, score=0.4666666666666667, total=  51.8s\n",
      "[CV] C=0.1, decision_function_shape=ovo, degree=3, kernel=linear .....\n",
      "[CV]  C=0.1, decision_function_shape=ovo, degree=2, kernel=sigmoid, score=0.44916666666666666, total=  53.0s\n",
      "[CV] C=0.1, decision_function_shape=ovo, degree=3, kernel=linear .....\n",
      "[CV]  C=0.1, decision_function_shape=ovo, degree=2, kernel=sigmoid, score=0.4166666666666667, total=  52.4s\n",
      "[CV] C=0.1, decision_function_shape=ovo, degree=3, kernel=linear .....\n",
      "[CV]  C=0.1, decision_function_shape=ovo, degree=3, kernel=linear, score=0.7141666666666666, total=  53.8s\n",
      "[CV] C=0.1, decision_function_shape=ovo, degree=3, kernel=linear .....\n",
      "[CV]  C=0.1, decision_function_shape=ovo, degree=3, kernel=linear, score=0.6758333333333333, total=  52.5s\n",
      "[CV] C=0.1, decision_function_shape=ovo, degree=3, kernel=poly .......\n",
      "[CV]  C=0.1, decision_function_shape=ovo, degree=3, kernel=linear, score=0.6791666666666667, total=  54.1s\n",
      "[CV] C=0.1, decision_function_shape=ovo, degree=3, kernel=poly .......\n",
      "[CV]  C=0.1, decision_function_shape=ovo, degree=3, kernel=linear, score=0.7125, total=  56.1s\n",
      "[CV] C=0.1, decision_function_shape=ovo, degree=3, kernel=poly .......\n"
     ]
    },
    {
     "name": "stderr",
     "output_type": "stream",
     "text": [
      "[Parallel(n_jobs=-1)]: Done  24 tasks      | elapsed:  5.6min\n"
     ]
    },
    {
     "name": "stdout",
     "output_type": "stream",
     "text": [
      "[CV]  C=0.1, decision_function_shape=ovo, degree=3, kernel=linear, score=0.675, total=  49.1s\n",
      "[CV] C=0.1, decision_function_shape=ovo, degree=3, kernel=poly .......\n",
      "[CV]  C=0.1, decision_function_shape=ovo, degree=3, kernel=poly, score=0.3566666666666667, total=  55.3s\n",
      "[CV] C=0.1, decision_function_shape=ovo, degree=3, kernel=poly .......\n",
      "[CV]  C=0.1, decision_function_shape=ovo, degree=3, kernel=poly, score=0.3516666666666667, total=  52.9s\n",
      "[CV] C=0.1, decision_function_shape=ovo, degree=3, kernel=rbf ........\n",
      "[CV]  C=0.1, decision_function_shape=ovo, degree=3, kernel=poly, score=0.36, total=  54.4s\n",
      "[CV] C=0.1, decision_function_shape=ovo, degree=3, kernel=rbf ........\n",
      "[CV]  C=0.1, decision_function_shape=ovo, degree=3, kernel=poly, score=0.35083333333333333, total=  53.5s\n",
      "[CV] C=0.1, decision_function_shape=ovo, degree=3, kernel=rbf ........\n",
      "[CV]  C=0.1, decision_function_shape=ovo, degree=3, kernel=poly, score=0.3541666666666667, total=  54.1s\n",
      "[CV] C=0.1, decision_function_shape=ovo, degree=3, kernel=rbf ........\n",
      "[CV]  C=0.1, decision_function_shape=ovo, degree=3, kernel=rbf, score=0.4875, total=  60.0s\n",
      "[CV] C=0.1, decision_function_shape=ovo, degree=3, kernel=rbf ........\n",
      "[CV]  C=0.1, decision_function_shape=ovo, degree=3, kernel=rbf, score=0.43916666666666665, total=  58.3s\n",
      "[CV] C=0.1, decision_function_shape=ovo, degree=3, kernel=sigmoid ....\n",
      "[CV]  C=0.1, decision_function_shape=ovo, degree=3, kernel=rbf, score=0.4666666666666667, total=  58.6s\n",
      "[CV] C=0.1, decision_function_shape=ovo, degree=3, kernel=sigmoid ....\n"
     ]
    },
    {
     "name": "stderr",
     "output_type": "stream",
     "text": [
      "[Parallel(n_jobs=-1)]: Done  33 tasks      | elapsed:  8.1min\n"
     ]
    },
    {
     "name": "stdout",
     "output_type": "stream",
     "text": [
      "[CV]  C=0.1, decision_function_shape=ovo, degree=3, kernel=rbf, score=0.44916666666666666, total=  59.1s\n",
      "[CV] C=0.1, decision_function_shape=ovo, degree=3, kernel=sigmoid ....\n",
      "[CV]  C=0.1, decision_function_shape=ovo, degree=3, kernel=sigmoid, score=0.4875, total=  54.8s\n",
      "[CV] C=0.1, decision_function_shape=ovo, degree=3, kernel=sigmoid ....\n",
      "[CV]  C=0.1, decision_function_shape=ovo, degree=3, kernel=rbf, score=0.4166666666666667, total=  58.9s\n",
      "[CV] C=0.1, decision_function_shape=ovo, degree=3, kernel=sigmoid ....\n",
      "[CV]  C=0.1, decision_function_shape=ovo, degree=3, kernel=sigmoid, score=0.43833333333333335, total=  56.9s\n",
      "[CV] C=0.1, decision_function_shape=ovo, degree=5, kernel=linear .....\n",
      "[CV]  C=0.1, decision_function_shape=ovo, degree=3, kernel=sigmoid, score=0.4666666666666667, total=  57.8s\n",
      "[CV] C=0.1, decision_function_shape=ovo, degree=5, kernel=linear .....\n",
      "[CV]  C=0.1, decision_function_shape=ovo, degree=3, kernel=sigmoid, score=0.4166666666666667, total=  56.8s\n",
      "[CV] C=0.1, decision_function_shape=ovo, degree=5, kernel=linear .....\n",
      "[CV]  C=0.1, decision_function_shape=ovo, degree=3, kernel=sigmoid, score=0.44916666666666666, total=  58.2s\n",
      "[CV] C=0.1, decision_function_shape=ovo, degree=5, kernel=linear .....\n",
      "[CV]  C=0.1, decision_function_shape=ovo, degree=5, kernel=linear, score=0.7141666666666666, total=  52.7s\n",
      "[CV] C=0.1, decision_function_shape=ovo, degree=5, kernel=linear .....\n",
      "[CV]  C=0.1, decision_function_shape=ovo, degree=5, kernel=linear, score=0.6758333333333333, total=  52.6s\n",
      "[CV] C=0.1, decision_function_shape=ovo, degree=5, kernel=poly .......\n"
     ]
    },
    {
     "name": "stderr",
     "output_type": "stream",
     "text": [
      "[Parallel(n_jobs=-1)]: Done  42 tasks      | elapsed: 10.1min\n"
     ]
    },
    {
     "name": "stdout",
     "output_type": "stream",
     "text": [
      "[CV]  C=0.1, decision_function_shape=ovo, degree=5, kernel=linear, score=0.6791666666666667, total=  52.5s\n",
      "[CV] C=0.1, decision_function_shape=ovo, degree=5, kernel=poly .......\n",
      "[CV]  C=0.1, decision_function_shape=ovo, degree=5, kernel=linear, score=0.7125, total=  54.1s\n",
      "[CV] C=0.1, decision_function_shape=ovo, degree=5, kernel=poly .......\n",
      "[CV]  C=0.1, decision_function_shape=ovo, degree=5, kernel=linear, score=0.675, total=  48.2s\n",
      "[CV] C=0.1, decision_function_shape=ovo, degree=5, kernel=poly .......\n",
      "[CV]  C=0.1, decision_function_shape=ovo, degree=5, kernel=poly, score=0.67, total=  55.3s\n",
      "[CV] C=0.1, decision_function_shape=ovo, degree=5, kernel=poly .......\n",
      "[CV]  C=0.1, decision_function_shape=ovo, degree=5, kernel=poly, score=0.6483333333333333, total=  55.8s\n",
      "[CV] C=0.1, decision_function_shape=ovo, degree=5, kernel=rbf ........\n",
      "[CV]  C=0.1, decision_function_shape=ovo, degree=5, kernel=poly, score=0.6591666666666667, total=  56.6s\n",
      "[CV] C=0.1, decision_function_shape=ovo, degree=5, kernel=rbf ........\n",
      "[CV]  C=0.1, decision_function_shape=ovo, degree=5, kernel=poly, score=0.6808333333333333, total=  55.7s\n",
      "[CV] C=0.1, decision_function_shape=ovo, degree=5, kernel=rbf ........\n",
      "[CV]  C=0.1, decision_function_shape=ovo, degree=5, kernel=poly, score=0.6533333333333333, total=  54.9s\n",
      "[CV] C=0.1, decision_function_shape=ovo, degree=5, kernel=rbf ........\n",
      "[CV]  C=0.1, decision_function_shape=ovo, degree=5, kernel=rbf, score=0.4875, total= 1.0min\n",
      "[CV] C=0.1, decision_function_shape=ovo, degree=5, kernel=rbf ........\n",
      "[CV]  C=0.1, decision_function_shape=ovo, degree=5, kernel=rbf, score=0.43916666666666665, total=  59.6s\n",
      "[CV] C=0.1, decision_function_shape=ovo, degree=5, kernel=sigmoid ....\n",
      "[CV]  C=0.1, decision_function_shape=ovo, degree=5, kernel=rbf, score=0.4666666666666667, total= 1.0min\n",
      "[CV] C=0.1, decision_function_shape=ovo, degree=5, kernel=sigmoid ....\n"
     ]
    },
    {
     "name": "stderr",
     "output_type": "stream",
     "text": [
      "[Parallel(n_jobs=-1)]: Done  53 tasks      | elapsed: 12.6min\n"
     ]
    },
    {
     "name": "stdout",
     "output_type": "stream",
     "text": [
      "[CV]  C=0.1, decision_function_shape=ovo, degree=5, kernel=rbf, score=0.44916666666666666, total= 1.0min\n",
      "[CV] C=0.1, decision_function_shape=ovo, degree=5, kernel=sigmoid ....\n",
      "[CV]  C=0.1, decision_function_shape=ovo, degree=5, kernel=sigmoid, score=0.4875, total=  58.6s\n",
      "[CV] C=0.1, decision_function_shape=ovo, degree=5, kernel=sigmoid ....\n",
      "[CV]  C=0.1, decision_function_shape=ovo, degree=5, kernel=rbf, score=0.4166666666666667, total= 1.0min\n",
      "[CV] C=0.1, decision_function_shape=ovo, degree=5, kernel=sigmoid ....\n",
      "[CV]  C=0.1, decision_function_shape=ovo, degree=5, kernel=sigmoid, score=0.43833333333333335, total=  59.2s\n",
      "[CV] C=0.1, decision_function_shape=ovr, degree=2, kernel=linear .....\n",
      "[CV]  C=0.1, decision_function_shape=ovo, degree=5, kernel=sigmoid, score=0.4666666666666667, total=  57.9s\n",
      "[CV] C=0.1, decision_function_shape=ovr, degree=2, kernel=linear .....\n",
      "[CV]  C=0.1, decision_function_shape=ovo, degree=5, kernel=sigmoid, score=0.4166666666666667, total=  54.7s\n",
      "[CV] C=0.1, decision_function_shape=ovr, degree=2, kernel=linear .....\n",
      "[CV]  C=0.1, decision_function_shape=ovo, degree=5, kernel=sigmoid, score=0.44916666666666666, total=  57.0s\n",
      "[CV] C=0.1, decision_function_shape=ovr, degree=2, kernel=linear .....\n",
      "[CV]  C=0.1, decision_function_shape=ovr, degree=2, kernel=linear, score=0.7141666666666666, total=  45.4s\n",
      "[CV] C=0.1, decision_function_shape=ovr, degree=2, kernel=linear .....\n",
      "[CV]  C=0.1, decision_function_shape=ovr, degree=2, kernel=linear, score=0.6758333333333333, total=  45.8s\n",
      "[CV] C=0.1, decision_function_shape=ovr, degree=2, kernel=poly .......\n",
      "[CV]  C=0.1, decision_function_shape=ovr, degree=2, kernel=linear, score=0.6791666666666667, total=  45.4s\n",
      "[CV] C=0.1, decision_function_shape=ovr, degree=2, kernel=poly .......\n",
      "[CV]  C=0.1, decision_function_shape=ovr, degree=2, kernel=linear, score=0.7125, total=  47.4s\n",
      "[CV] C=0.1, decision_function_shape=ovr, degree=2, kernel=poly .......\n"
     ]
    },
    {
     "name": "stderr",
     "output_type": "stream",
     "text": [
      "[Parallel(n_jobs=-1)]: Done  64 tasks      | elapsed: 15.0min\n"
     ]
    },
    {
     "name": "stdout",
     "output_type": "stream",
     "text": [
      "[CV]  C=0.1, decision_function_shape=ovr, degree=2, kernel=linear, score=0.675, total=  44.3s\n",
      "[CV] C=0.1, decision_function_shape=ovr, degree=2, kernel=poly .......\n",
      "[CV]  C=0.1, decision_function_shape=ovr, degree=2, kernel=poly, score=0.36, total=  49.2s\n",
      "[CV] C=0.1, decision_function_shape=ovr, degree=2, kernel=poly .......\n",
      "[CV]  C=0.1, decision_function_shape=ovr, degree=2, kernel=poly, score=0.355, total=  49.4s\n",
      "[CV] C=0.1, decision_function_shape=ovr, degree=2, kernel=rbf ........\n",
      "[CV]  C=0.1, decision_function_shape=ovr, degree=2, kernel=poly, score=0.3625, total=  50.6s\n",
      "[CV] C=0.1, decision_function_shape=ovr, degree=2, kernel=rbf ........\n",
      "[CV]  C=0.1, decision_function_shape=ovr, degree=2, kernel=poly, score=0.355, total=  50.4s\n",
      "[CV] C=0.1, decision_function_shape=ovr, degree=2, kernel=rbf ........\n",
      "[CV]  C=0.1, decision_function_shape=ovr, degree=2, kernel=poly, score=0.3541666666666667, total=  49.3s\n",
      "[CV] C=0.1, decision_function_shape=ovr, degree=2, kernel=rbf ........\n",
      "[CV]  C=0.1, decision_function_shape=ovr, degree=2, kernel=rbf, score=0.4875, total=  54.8s\n",
      "[CV] C=0.1, decision_function_shape=ovr, degree=2, kernel=rbf ........\n",
      "[CV]  C=0.1, decision_function_shape=ovr, degree=2, kernel=rbf, score=0.43916666666666665, total=  53.8s\n",
      "[CV] C=0.1, decision_function_shape=ovr, degree=2, kernel=sigmoid ....\n",
      "[CV]  C=0.1, decision_function_shape=ovr, degree=2, kernel=rbf, score=0.4666666666666667, total=  54.9s\n",
      "[CV] C=0.1, decision_function_shape=ovr, degree=2, kernel=sigmoid ....\n",
      "[CV]  C=0.1, decision_function_shape=ovr, degree=2, kernel=rbf, score=0.44916666666666666, total=  54.4s\n",
      "[CV] C=0.1, decision_function_shape=ovr, degree=2, kernel=sigmoid ....\n",
      "[CV]  C=0.1, decision_function_shape=ovr, degree=2, kernel=rbf, score=0.4166666666666667, total=  54.4s\n",
      "[CV] C=0.1, decision_function_shape=ovr, degree=2, kernel=sigmoid ....\n",
      "[CV]  C=0.1, decision_function_shape=ovr, degree=2, kernel=sigmoid, score=0.4875, total=  52.5s\n",
      "[CV] C=0.1, decision_function_shape=ovr, degree=2, kernel=sigmoid ....\n",
      "[CV]  C=0.1, decision_function_shape=ovr, degree=2, kernel=sigmoid, score=0.43833333333333335, total=  52.9s\n",
      "[CV] C=0.1, decision_function_shape=ovr, degree=3, kernel=linear .....\n"
     ]
    },
    {
     "name": "stderr",
     "output_type": "stream",
     "text": [
      "[Parallel(n_jobs=-1)]: Done  77 tasks      | elapsed: 17.8min\n"
     ]
    },
    {
     "name": "stdout",
     "output_type": "stream",
     "text": [
      "[CV]  C=0.1, decision_function_shape=ovr, degree=2, kernel=sigmoid, score=0.4666666666666667, total=  51.8s\n",
      "[CV] C=0.1, decision_function_shape=ovr, degree=3, kernel=linear .....\n",
      "[CV]  C=0.1, decision_function_shape=ovr, degree=2, kernel=sigmoid, score=0.44916666666666666, total=  52.6s\n",
      "[CV] C=0.1, decision_function_shape=ovr, degree=3, kernel=linear .....\n",
      "[CV]  C=0.1, decision_function_shape=ovr, degree=2, kernel=sigmoid, score=0.4166666666666667, total=  52.9s\n",
      "[CV] C=0.1, decision_function_shape=ovr, degree=3, kernel=linear .....\n",
      "[CV]  C=0.1, decision_function_shape=ovr, degree=3, kernel=linear, score=0.7141666666666666, total=  45.1s\n",
      "[CV] C=0.1, decision_function_shape=ovr, degree=3, kernel=linear .....\n",
      "[CV]  C=0.1, decision_function_shape=ovr, degree=3, kernel=linear, score=0.6758333333333333, total=  47.0s\n",
      "[CV] C=0.1, decision_function_shape=ovr, degree=3, kernel=poly .......\n",
      "[CV]  C=0.1, decision_function_shape=ovr, degree=3, kernel=linear, score=0.6791666666666667, total=  47.1s\n",
      "[CV] C=0.1, decision_function_shape=ovr, degree=3, kernel=poly .......\n",
      "[CV]  C=0.1, decision_function_shape=ovr, degree=3, kernel=linear, score=0.7125, total=  47.7s\n",
      "[CV] C=0.1, decision_function_shape=ovr, degree=3, kernel=poly .......\n",
      "[CV]  C=0.1, decision_function_shape=ovr, degree=3, kernel=linear, score=0.675, total=  47.8s\n",
      "[CV] C=0.1, decision_function_shape=ovr, degree=3, kernel=poly .......\n",
      "[CV]  C=0.1, decision_function_shape=ovr, degree=3, kernel=poly, score=0.3566666666666667, total=  49.5s\n",
      "[CV] C=0.1, decision_function_shape=ovr, degree=3, kernel=poly .......\n",
      "[CV]  C=0.1, decision_function_shape=ovr, degree=3, kernel=poly, score=0.3516666666666667, total=  49.3s\n",
      "[CV] C=0.1, decision_function_shape=ovr, degree=3, kernel=rbf ........\n",
      "[CV]  C=0.1, decision_function_shape=ovr, degree=3, kernel=poly, score=0.36, total=  49.4s\n",
      "[CV] C=0.1, decision_function_shape=ovr, degree=3, kernel=rbf ........\n",
      "[CV]  C=0.1, decision_function_shape=ovr, degree=3, kernel=poly, score=0.35083333333333333, total=  49.2s\n",
      "[CV] C=0.1, decision_function_shape=ovr, degree=3, kernel=rbf ........\n",
      "[CV]  C=0.1, decision_function_shape=ovr, degree=3, kernel=poly, score=0.3541666666666667, total=  48.0s\n",
      "[CV] C=0.1, decision_function_shape=ovr, degree=3, kernel=rbf ........\n"
     ]
    },
    {
     "name": "stderr",
     "output_type": "stream",
     "text": [
      "[Parallel(n_jobs=-1)]: Done  90 tasks      | elapsed: 20.5min\n"
     ]
    },
    {
     "name": "stdout",
     "output_type": "stream",
     "text": [
      "[CV]  C=0.1, decision_function_shape=ovr, degree=3, kernel=rbf, score=0.4875, total=  57.9s\n",
      "[CV] C=0.1, decision_function_shape=ovr, degree=3, kernel=rbf ........\n",
      "[CV]  C=0.1, decision_function_shape=ovr, degree=3, kernel=rbf, score=0.43916666666666665, total=  58.4s\n",
      "[CV] C=0.1, decision_function_shape=ovr, degree=3, kernel=sigmoid ....\n",
      "[CV]  C=0.1, decision_function_shape=ovr, degree=3, kernel=rbf, score=0.4666666666666667, total= 1.0min\n",
      "[CV] C=0.1, decision_function_shape=ovr, degree=3, kernel=sigmoid ....\n",
      "[CV]  C=0.1, decision_function_shape=ovr, degree=3, kernel=rbf, score=0.44916666666666666, total=  59.7s\n",
      "[CV] C=0.1, decision_function_shape=ovr, degree=3, kernel=sigmoid ....\n",
      "[CV]  C=0.1, decision_function_shape=ovr, degree=3, kernel=rbf, score=0.4166666666666667, total=  56.1s\n",
      "[CV] C=0.1, decision_function_shape=ovr, degree=3, kernel=sigmoid ....\n",
      "[CV]  C=0.1, decision_function_shape=ovr, degree=3, kernel=sigmoid, score=0.4875, total=  52.6s\n",
      "[CV] C=0.1, decision_function_shape=ovr, degree=3, kernel=sigmoid ....\n",
      "[CV]  C=0.1, decision_function_shape=ovr, degree=3, kernel=sigmoid, score=0.43833333333333335, total=  52.9s\n",
      "[CV] C=0.1, decision_function_shape=ovr, degree=5, kernel=linear .....\n",
      "[CV]  C=0.1, decision_function_shape=ovr, degree=3, kernel=sigmoid, score=0.4666666666666667, total=  51.0s\n",
      "[CV] C=0.1, decision_function_shape=ovr, degree=5, kernel=linear .....\n",
      "[CV]  C=0.1, decision_function_shape=ovr, degree=5, kernel=linear, score=0.7141666666666666, total=  44.3s\n",
      "[CV] C=0.1, decision_function_shape=ovr, degree=5, kernel=linear .....\n",
      "[CV]  C=0.1, decision_function_shape=ovr, degree=3, kernel=sigmoid, score=0.4166666666666667, total=  52.4s\n",
      "[CV] C=0.1, decision_function_shape=ovr, degree=5, kernel=linear .....\n",
      "[CV]  C=0.1, decision_function_shape=ovr, degree=3, kernel=sigmoid, score=0.44916666666666666, total=  52.7s\n",
      "[CV] C=0.1, decision_function_shape=ovr, degree=5, kernel=linear .....\n",
      "[CV]  C=0.1, decision_function_shape=ovr, degree=5, kernel=linear, score=0.6758333333333333, total=  44.0s\n",
      "[CV] C=0.1, decision_function_shape=ovr, degree=5, kernel=poly .......\n",
      "[CV]  C=0.1, decision_function_shape=ovr, degree=5, kernel=linear, score=0.6791666666666667, total=  44.8s\n",
      "[CV] C=0.1, decision_function_shape=ovr, degree=5, kernel=poly .......\n",
      "[CV]  C=0.1, decision_function_shape=ovr, degree=5, kernel=linear, score=0.675, total=  44.9s\n",
      "[CV] C=0.1, decision_function_shape=ovr, degree=5, kernel=poly .......\n",
      "[CV]  C=0.1, decision_function_shape=ovr, degree=5, kernel=linear, score=0.7125, total=  45.4s\n",
      "[CV] C=0.1, decision_function_shape=ovr, degree=5, kernel=poly .......\n"
     ]
    },
    {
     "name": "stderr",
     "output_type": "stream",
     "text": [
      "[Parallel(n_jobs=-1)]: Done 105 tasks      | elapsed: 23.6min\n"
     ]
    },
    {
     "name": "stdout",
     "output_type": "stream",
     "text": [
      "[CV]  C=0.1, decision_function_shape=ovr, degree=5, kernel=poly, score=0.67, total=  49.1s\n",
      "[CV] C=0.1, decision_function_shape=ovr, degree=5, kernel=poly .......\n",
      "[CV]  C=0.1, decision_function_shape=ovr, degree=5, kernel=poly, score=0.6483333333333333, total=  50.8s\n",
      "[CV] C=0.1, decision_function_shape=ovr, degree=5, kernel=rbf ........\n",
      "[CV]  C=0.1, decision_function_shape=ovr, degree=5, kernel=poly, score=0.6591666666666667, total=  51.1s\n",
      "[CV] C=0.1, decision_function_shape=ovr, degree=5, kernel=rbf ........\n",
      "[CV]  C=0.1, decision_function_shape=ovr, degree=5, kernel=poly, score=0.6808333333333333, total=  51.6s\n",
      "[CV] C=0.1, decision_function_shape=ovr, degree=5, kernel=rbf ........\n",
      "[CV]  C=0.1, decision_function_shape=ovr, degree=5, kernel=poly, score=0.6533333333333333, total=  50.5s\n",
      "[CV] C=0.1, decision_function_shape=ovr, degree=5, kernel=rbf ........\n",
      "[CV]  C=0.1, decision_function_shape=ovr, degree=5, kernel=rbf, score=0.4875, total=  55.5s\n",
      "[CV] C=0.1, decision_function_shape=ovr, degree=5, kernel=rbf ........\n",
      "[CV]  C=0.1, decision_function_shape=ovr, degree=5, kernel=rbf, score=0.43916666666666665, total=  55.2s\n",
      "[CV] C=0.1, decision_function_shape=ovr, degree=5, kernel=sigmoid ....\n",
      "[CV]  C=0.1, decision_function_shape=ovr, degree=5, kernel=rbf, score=0.4666666666666667, total=  54.9s\n",
      "[CV] C=0.1, decision_function_shape=ovr, degree=5, kernel=sigmoid ....\n",
      "[CV]  C=0.1, decision_function_shape=ovr, degree=5, kernel=rbf, score=0.44916666666666666, total=  54.9s\n",
      "[CV] C=0.1, decision_function_shape=ovr, degree=5, kernel=sigmoid ....\n",
      "[CV]  C=0.1, decision_function_shape=ovr, degree=5, kernel=sigmoid, score=0.4875, total=  50.6s\n",
      "[CV] C=0.1, decision_function_shape=ovr, degree=5, kernel=sigmoid ....\n",
      "[CV]  C=0.1, decision_function_shape=ovr, degree=5, kernel=sigmoid, score=0.43833333333333335, total=  52.0s\n",
      "[CV] C=0.1, decision_function_shape=ovr, degree=5, kernel=sigmoid ....\n",
      "[CV]  C=0.1, decision_function_shape=ovr, degree=5, kernel=rbf, score=0.4166666666666667, total=  54.8s\n",
      "[CV] C=1, decision_function_shape=ovo, degree=2, kernel=linear .......\n",
      "[CV]  C=0.1, decision_function_shape=ovr, degree=5, kernel=sigmoid, score=0.4666666666666667, total=  51.7s\n",
      "[CV] C=1, decision_function_shape=ovo, degree=2, kernel=linear .......\n",
      "[CV]  C=1, decision_function_shape=ovo, degree=2, kernel=linear, score=0.7741666666666667, total=  33.3s\n",
      "[CV] C=1, decision_function_shape=ovo, degree=2, kernel=linear .......\n",
      "[CV]  C=0.1, decision_function_shape=ovr, degree=5, kernel=sigmoid, score=0.44916666666666666, total=  53.3s\n",
      "[CV] C=1, decision_function_shape=ovo, degree=2, kernel=linear .......\n"
     ]
    },
    {
     "name": "stderr",
     "output_type": "stream",
     "text": [
      "[Parallel(n_jobs=-1)]: Done 120 tasks      | elapsed: 27.1min\n"
     ]
    },
    {
     "name": "stdout",
     "output_type": "stream",
     "text": [
      "[CV]  C=1, decision_function_shape=ovo, degree=2, kernel=linear, score=0.7583333333333333, total=  34.2s\n",
      "[CV] C=1, decision_function_shape=ovo, degree=2, kernel=linear .......\n",
      "[CV]  C=0.1, decision_function_shape=ovr, degree=5, kernel=sigmoid, score=0.4166666666666667, total=  52.7s\n",
      "[CV] C=1, decision_function_shape=ovo, degree=2, kernel=poly .........\n",
      "[CV]  C=1, decision_function_shape=ovo, degree=2, kernel=linear, score=0.7358333333333333, total=  34.3s\n",
      "[CV] C=1, decision_function_shape=ovo, degree=2, kernel=poly .........\n",
      "[CV]  C=1, decision_function_shape=ovo, degree=2, kernel=linear, score=0.7658333333333334, total=  34.3s\n",
      "[CV] C=1, decision_function_shape=ovo, degree=2, kernel=poly .........\n",
      "[CV]  C=1, decision_function_shape=ovo, degree=2, kernel=linear, score=0.7283333333333334, total=  33.9s\n",
      "[CV] C=1, decision_function_shape=ovo, degree=2, kernel=poly .........\n",
      "[CV]  C=1, decision_function_shape=ovo, degree=2, kernel=poly, score=0.36, total=  49.6s\n",
      "[CV] C=1, decision_function_shape=ovo, degree=2, kernel=poly .........\n",
      "[CV]  C=1, decision_function_shape=ovo, degree=2, kernel=poly, score=0.355, total=  50.1s\n",
      "[CV] C=1, decision_function_shape=ovo, degree=2, kernel=rbf ..........\n",
      "[CV]  C=1, decision_function_shape=ovo, degree=2, kernel=poly, score=0.355, total=  49.7s\n",
      "[CV] C=1, decision_function_shape=ovo, degree=2, kernel=rbf ..........\n",
      "[CV]  C=1, decision_function_shape=ovo, degree=2, kernel=poly, score=0.3625, total=  50.2s\n",
      "[CV] C=1, decision_function_shape=ovo, degree=2, kernel=rbf ..........\n",
      "[CV]  C=1, decision_function_shape=ovo, degree=2, kernel=poly, score=0.3541666666666667, total=  49.2s\n",
      "[CV] C=1, decision_function_shape=ovo, degree=2, kernel=rbf ..........\n",
      "[CV]  C=1, decision_function_shape=ovo, degree=2, kernel=rbf, score=0.4875, total=  55.4s\n",
      "[CV] C=1, decision_function_shape=ovo, degree=2, kernel=rbf ..........\n",
      "[CV]  C=1, decision_function_shape=ovo, degree=2, kernel=rbf, score=0.43916666666666665, total=  56.0s\n",
      "[CV] C=1, decision_function_shape=ovo, degree=2, kernel=sigmoid ......\n",
      "[CV]  C=1, decision_function_shape=ovo, degree=2, kernel=rbf, score=0.4666666666666667, total=  55.6s\n",
      "[CV] C=1, decision_function_shape=ovo, degree=2, kernel=sigmoid ......\n",
      "[CV]  C=1, decision_function_shape=ovo, degree=2, kernel=rbf, score=0.44916666666666666, total=  55.8s\n",
      "[CV] C=1, decision_function_shape=ovo, degree=2, kernel=sigmoid ......\n",
      "[CV]  C=1, decision_function_shape=ovo, degree=2, kernel=rbf, score=0.4166666666666667, total=  55.2s\n",
      "[CV] C=1, decision_function_shape=ovo, degree=2, kernel=sigmoid ......\n",
      "[CV]  C=1, decision_function_shape=ovo, degree=2, kernel=sigmoid, score=0.4875, total=  53.2s\n",
      "[CV] C=1, decision_function_shape=ovo, degree=2, kernel=sigmoid ......\n",
      "[CV]  C=1, decision_function_shape=ovo, degree=2, kernel=sigmoid, score=0.43833333333333335, total=  53.8s\n",
      "[CV] C=1, decision_function_shape=ovo, degree=3, kernel=linear .......\n"
     ]
    },
    {
     "name": "stderr",
     "output_type": "stream",
     "text": [
      "[Parallel(n_jobs=-1)]: Done 137 tasks      | elapsed: 30.3min\n"
     ]
    },
    {
     "name": "stdout",
     "output_type": "stream",
     "text": [
      "[CV]  C=1, decision_function_shape=ovo, degree=2, kernel=sigmoid, score=0.4666666666666667, total=  53.4s\n",
      "[CV] C=1, decision_function_shape=ovo, degree=3, kernel=linear .......\n",
      "[CV]  C=1, decision_function_shape=ovo, degree=3, kernel=linear, score=0.7741666666666667, total=  33.2s\n",
      "[CV] C=1, decision_function_shape=ovo, degree=3, kernel=linear .......\n",
      "[CV]  C=1, decision_function_shape=ovo, degree=2, kernel=sigmoid, score=0.44916666666666666, total=  53.2s\n",
      "[CV] C=1, decision_function_shape=ovo, degree=3, kernel=linear .......\n",
      "[CV]  C=1, decision_function_shape=ovo, degree=3, kernel=linear, score=0.7583333333333333, total=  33.5s\n",
      "[CV] C=1, decision_function_shape=ovo, degree=3, kernel=linear .......\n",
      "[CV]  C=1, decision_function_shape=ovo, degree=2, kernel=sigmoid, score=0.4166666666666667, total=  52.4s\n",
      "[CV] C=1, decision_function_shape=ovo, degree=3, kernel=poly .........\n",
      "[CV]  C=1, decision_function_shape=ovo, degree=3, kernel=linear, score=0.7358333333333333, total=  34.0s\n",
      "[CV] C=1, decision_function_shape=ovo, degree=3, kernel=poly .........\n",
      "[CV]  C=1, decision_function_shape=ovo, degree=3, kernel=linear, score=0.7658333333333334, total=  33.6s\n",
      "[CV] C=1, decision_function_shape=ovo, degree=3, kernel=poly .........\n",
      "[CV]  C=1, decision_function_shape=ovo, degree=3, kernel=linear, score=0.7283333333333334, total=  33.6s\n",
      "[CV] C=1, decision_function_shape=ovo, degree=3, kernel=poly .........\n",
      "[CV]  C=1, decision_function_shape=ovo, degree=3, kernel=poly, score=0.3566666666666667, total=  49.1s\n",
      "[CV] C=1, decision_function_shape=ovo, degree=3, kernel=poly .........\n",
      "[CV]  C=1, decision_function_shape=ovo, degree=3, kernel=poly, score=0.3516666666666667, total=  49.9s\n",
      "[CV] C=1, decision_function_shape=ovo, degree=3, kernel=rbf ..........\n",
      "[CV]  C=1, decision_function_shape=ovo, degree=3, kernel=poly, score=0.36, total=  49.1s\n",
      "[CV] C=1, decision_function_shape=ovo, degree=3, kernel=rbf ..........\n",
      "[CV]  C=1, decision_function_shape=ovo, degree=3, kernel=poly, score=0.35083333333333333, total=  49.3s\n",
      "[CV] C=1, decision_function_shape=ovo, degree=3, kernel=rbf ..........\n",
      "[CV]  C=1, decision_function_shape=ovo, degree=3, kernel=poly, score=0.3541666666666667, total=  48.1s\n",
      "[CV] C=1, decision_function_shape=ovo, degree=3, kernel=rbf ..........\n",
      "[CV]  C=1, decision_function_shape=ovo, degree=3, kernel=rbf, score=0.4875, total=  54.9s\n",
      "[CV] C=1, decision_function_shape=ovo, degree=3, kernel=rbf ..........\n",
      "[CV]  C=1, decision_function_shape=ovo, degree=3, kernel=rbf, score=0.43916666666666665, total=  54.6s\n",
      "[CV] C=1, decision_function_shape=ovo, degree=3, kernel=sigmoid ......\n",
      "[CV]  C=1, decision_function_shape=ovo, degree=3, kernel=rbf, score=0.4666666666666667, total=  54.7s\n",
      "[CV] C=1, decision_function_shape=ovo, degree=3, kernel=sigmoid ......\n",
      "[CV]  C=1, decision_function_shape=ovo, degree=3, kernel=rbf, score=0.44916666666666666, total=  54.2s\n",
      "[CV] C=1, decision_function_shape=ovo, degree=3, kernel=sigmoid ......\n"
     ]
    },
    {
     "name": "stderr",
     "output_type": "stream",
     "text": [
      "[Parallel(n_jobs=-1)]: Done 154 tasks      | elapsed: 33.7min\n"
     ]
    },
    {
     "name": "stdout",
     "output_type": "stream",
     "text": [
      "[CV]  C=1, decision_function_shape=ovo, degree=3, kernel=sigmoid, score=0.4875, total=  50.8s\n",
      "[CV] C=1, decision_function_shape=ovo, degree=3, kernel=sigmoid ......\n",
      "[CV]  C=1, decision_function_shape=ovo, degree=3, kernel=rbf, score=0.4166666666666667, total=  53.8s\n",
      "[CV] C=1, decision_function_shape=ovo, degree=3, kernel=sigmoid ......\n",
      "[CV]  C=1, decision_function_shape=ovo, degree=3, kernel=sigmoid, score=0.43833333333333335, total=  51.7s\n",
      "[CV] C=1, decision_function_shape=ovo, degree=5, kernel=linear .......\n",
      "[CV]  C=1, decision_function_shape=ovo, degree=3, kernel=sigmoid, score=0.4666666666666667, total=  52.1s\n",
      "[CV] C=1, decision_function_shape=ovo, degree=5, kernel=linear .......\n",
      "[CV]  C=1, decision_function_shape=ovo, degree=5, kernel=linear, score=0.7741666666666667, total=  33.1s\n",
      "[CV] C=1, decision_function_shape=ovo, degree=5, kernel=linear .......\n",
      "[CV]  C=1, decision_function_shape=ovo, degree=3, kernel=sigmoid, score=0.44916666666666666, total=  52.1s\n",
      "[CV] C=1, decision_function_shape=ovo, degree=5, kernel=linear .......\n",
      "[CV]  C=1, decision_function_shape=ovo, degree=3, kernel=sigmoid, score=0.4166666666666667, total=  51.9s\n",
      "[CV] C=1, decision_function_shape=ovo, degree=5, kernel=linear .......\n",
      "[CV]  C=1, decision_function_shape=ovo, degree=5, kernel=linear, score=0.7583333333333333, total=  33.7s\n",
      "[CV] C=1, decision_function_shape=ovo, degree=5, kernel=poly .........\n",
      "[CV]  C=1, decision_function_shape=ovo, degree=5, kernel=linear, score=0.7358333333333333, total=  33.9s\n",
      "[CV] C=1, decision_function_shape=ovo, degree=5, kernel=poly .........\n",
      "[CV]  C=1, decision_function_shape=ovo, degree=5, kernel=linear, score=0.7658333333333334, total=  34.2s\n",
      "[CV] C=1, decision_function_shape=ovo, degree=5, kernel=poly .........\n",
      "[CV]  C=1, decision_function_shape=ovo, degree=5, kernel=linear, score=0.7283333333333334, total=  33.3s\n",
      "[CV] C=1, decision_function_shape=ovo, degree=5, kernel=poly .........\n",
      "[CV]  C=1, decision_function_shape=ovo, degree=5, kernel=poly, score=0.67, total=  50.2s\n",
      "[CV] C=1, decision_function_shape=ovo, degree=5, kernel=poly .........\n",
      "[CV]  C=1, decision_function_shape=ovo, degree=5, kernel=poly, score=0.6483333333333333, total=  50.5s\n",
      "[CV] C=1, decision_function_shape=ovo, degree=5, kernel=rbf ..........\n",
      "[CV]  C=1, decision_function_shape=ovo, degree=5, kernel=poly, score=0.6591666666666667, total=  49.6s\n",
      "[CV] C=1, decision_function_shape=ovo, degree=5, kernel=rbf ..........\n",
      "[CV]  C=1, decision_function_shape=ovo, degree=5, kernel=poly, score=0.6808333333333333, total=  50.3s\n",
      "[CV] C=1, decision_function_shape=ovo, degree=5, kernel=rbf ..........\n",
      "[CV]  C=1, decision_function_shape=ovo, degree=5, kernel=poly, score=0.6533333333333333, total=  47.9s\n",
      "[CV] C=1, decision_function_shape=ovo, degree=5, kernel=rbf ..........\n",
      "[CV]  C=1, decision_function_shape=ovo, degree=5, kernel=rbf, score=0.4875, total=  53.9s\n",
      "[CV] C=1, decision_function_shape=ovo, degree=5, kernel=rbf ..........\n",
      "[CV]  C=1, decision_function_shape=ovo, degree=5, kernel=rbf, score=0.43916666666666665, total=  54.1s\n",
      "[CV] C=1, decision_function_shape=ovo, degree=5, kernel=sigmoid ......\n",
      "[CV]  C=1, decision_function_shape=ovo, degree=5, kernel=rbf, score=0.4666666666666667, total=  54.1s\n",
      "[CV] C=1, decision_function_shape=ovo, degree=5, kernel=sigmoid ......\n"
     ]
    },
    {
     "name": "stderr",
     "output_type": "stream",
     "text": [
      "[Parallel(n_jobs=-1)]: Done 173 tasks      | elapsed: 37.2min\n"
     ]
    },
    {
     "name": "stdout",
     "output_type": "stream",
     "text": [
      "[CV]  C=1, decision_function_shape=ovo, degree=5, kernel=rbf, score=0.44916666666666666, total=  53.8s\n",
      "[CV] C=1, decision_function_shape=ovo, degree=5, kernel=sigmoid ......\n",
      "[CV]  C=1, decision_function_shape=ovo, degree=5, kernel=rbf, score=0.4166666666666667, total=  53.9s\n",
      "[CV] C=1, decision_function_shape=ovo, degree=5, kernel=sigmoid ......\n",
      "[CV]  C=1, decision_function_shape=ovo, degree=5, kernel=sigmoid, score=0.4875, total=  50.9s\n",
      "[CV] C=1, decision_function_shape=ovo, degree=5, kernel=sigmoid ......\n",
      "[CV]  C=1, decision_function_shape=ovo, degree=5, kernel=sigmoid, score=0.43833333333333335, total=  50.9s\n",
      "[CV] C=1, decision_function_shape=ovr, degree=2, kernel=linear .......\n",
      "[CV]  C=1, decision_function_shape=ovo, degree=5, kernel=sigmoid, score=0.4666666666666667, total=  52.1s\n",
      "[CV] C=1, decision_function_shape=ovr, degree=2, kernel=linear .......\n",
      "[CV]  C=1, decision_function_shape=ovr, degree=2, kernel=linear, score=0.7741666666666667, total=  33.4s\n",
      "[CV] C=1, decision_function_shape=ovr, degree=2, kernel=linear .......\n",
      "[CV]  C=1, decision_function_shape=ovo, degree=5, kernel=sigmoid, score=0.44916666666666666, total=  52.1s\n",
      "[CV] C=1, decision_function_shape=ovr, degree=2, kernel=linear .......\n",
      "[CV]  C=1, decision_function_shape=ovo, degree=5, kernel=sigmoid, score=0.4166666666666667, total=  52.2s\n",
      "[CV] C=1, decision_function_shape=ovr, degree=2, kernel=linear .......\n",
      "[CV]  C=1, decision_function_shape=ovr, degree=2, kernel=linear, score=0.7583333333333333, total=  33.3s\n",
      "[CV] C=1, decision_function_shape=ovr, degree=2, kernel=poly .........\n",
      "[CV]  C=1, decision_function_shape=ovr, degree=2, kernel=linear, score=0.7358333333333333, total=  33.4s\n",
      "[CV] C=1, decision_function_shape=ovr, degree=2, kernel=poly .........\n",
      "[CV]  C=1, decision_function_shape=ovr, degree=2, kernel=linear, score=0.7658333333333334, total=  33.6s\n",
      "[CV] C=1, decision_function_shape=ovr, degree=2, kernel=poly .........\n",
      "[CV]  C=1, decision_function_shape=ovr, degree=2, kernel=linear, score=0.7283333333333334, total=  33.5s\n",
      "[CV] C=1, decision_function_shape=ovr, degree=2, kernel=poly .........\n",
      "[CV]  C=1, decision_function_shape=ovr, degree=2, kernel=poly, score=0.36, total=  49.6s\n",
      "[CV] C=1, decision_function_shape=ovr, degree=2, kernel=poly .........\n",
      "[CV]  C=1, decision_function_shape=ovr, degree=2, kernel=poly, score=0.355, total=  49.4s\n",
      "[CV] C=1, decision_function_shape=ovr, degree=2, kernel=rbf ..........\n",
      "[CV]  C=1, decision_function_shape=ovr, degree=2, kernel=poly, score=0.3625, total=  49.0s\n",
      "[CV] C=1, decision_function_shape=ovr, degree=2, kernel=rbf ..........\n",
      "[CV]  C=1, decision_function_shape=ovr, degree=2, kernel=poly, score=0.355, total=  49.0s\n",
      "[CV] C=1, decision_function_shape=ovr, degree=2, kernel=rbf ..........\n",
      "[CV]  C=1, decision_function_shape=ovr, degree=2, kernel=poly, score=0.3541666666666667, total=  48.4s\n",
      "[CV] C=1, decision_function_shape=ovr, degree=2, kernel=rbf ..........\n",
      "[CV]  C=1, decision_function_shape=ovr, degree=2, kernel=rbf, score=0.4875, total=  54.4s\n",
      "[CV] C=1, decision_function_shape=ovr, degree=2, kernel=rbf ..........\n",
      "[CV]  C=1, decision_function_shape=ovr, degree=2, kernel=rbf, score=0.43916666666666665, total=  53.8s\n",
      "[CV] C=1, decision_function_shape=ovr, degree=2, kernel=sigmoid ......\n"
     ]
    },
    {
     "name": "stderr",
     "output_type": "stream",
     "text": [
      "[Parallel(n_jobs=-1)]: Done 192 tasks      | elapsed: 41.2min\n"
     ]
    },
    {
     "name": "stdout",
     "output_type": "stream",
     "text": [
      "[CV]  C=1, decision_function_shape=ovr, degree=2, kernel=rbf, score=0.4666666666666667, total=  53.9s\n",
      "[CV] C=1, decision_function_shape=ovr, degree=2, kernel=sigmoid ......\n",
      "[CV]  C=1, decision_function_shape=ovr, degree=2, kernel=rbf, score=0.44916666666666666, total=  54.6s\n",
      "[CV] C=1, decision_function_shape=ovr, degree=2, kernel=sigmoid ......\n",
      "[CV]  C=1, decision_function_shape=ovr, degree=2, kernel=rbf, score=0.4166666666666667, total=  54.2s\n",
      "[CV] C=1, decision_function_shape=ovr, degree=2, kernel=sigmoid ......\n",
      "[CV]  C=1, decision_function_shape=ovr, degree=2, kernel=sigmoid, score=0.4875, total=  50.8s\n",
      "[CV] C=1, decision_function_shape=ovr, degree=2, kernel=sigmoid ......\n",
      "[CV]  C=1, decision_function_shape=ovr, degree=2, kernel=sigmoid, score=0.43833333333333335, total=  51.2s\n",
      "[CV] C=1, decision_function_shape=ovr, degree=3, kernel=linear .......\n",
      "[CV]  C=1, decision_function_shape=ovr, degree=2, kernel=sigmoid, score=0.4666666666666667, total=  52.5s\n",
      "[CV] C=1, decision_function_shape=ovr, degree=3, kernel=linear .......\n",
      "[CV]  C=1, decision_function_shape=ovr, degree=3, kernel=linear, score=0.7741666666666667, total=  33.1s\n",
      "[CV] C=1, decision_function_shape=ovr, degree=3, kernel=linear .......\n",
      "[CV]  C=1, decision_function_shape=ovr, degree=2, kernel=sigmoid, score=0.44916666666666666, total=  52.1s\n",
      "[CV] C=1, decision_function_shape=ovr, degree=3, kernel=linear .......\n",
      "[CV]  C=1, decision_function_shape=ovr, degree=2, kernel=sigmoid, score=0.4166666666666667, total=  52.4s\n",
      "[CV] C=1, decision_function_shape=ovr, degree=3, kernel=linear .......\n",
      "[CV]  C=1, decision_function_shape=ovr, degree=3, kernel=linear, score=0.7583333333333333, total=  33.2s\n",
      "[CV] C=1, decision_function_shape=ovr, degree=3, kernel=poly .........\n",
      "[CV]  C=1, decision_function_shape=ovr, degree=3, kernel=linear, score=0.7358333333333333, total=  33.5s\n",
      "[CV] C=1, decision_function_shape=ovr, degree=3, kernel=poly .........\n",
      "[CV]  C=1, decision_function_shape=ovr, degree=3, kernel=linear, score=0.7658333333333334, total=  34.2s\n",
      "[CV] C=1, decision_function_shape=ovr, degree=3, kernel=poly .........\n",
      "[CV]  C=1, decision_function_shape=ovr, degree=3, kernel=linear, score=0.7283333333333334, total=  33.0s\n",
      "[CV] C=1, decision_function_shape=ovr, degree=3, kernel=poly .........\n",
      "[CV]  C=1, decision_function_shape=ovr, degree=3, kernel=poly, score=0.3566666666666667, total=  49.7s\n",
      "[CV] C=1, decision_function_shape=ovr, degree=3, kernel=poly .........\n",
      "[CV]  C=1, decision_function_shape=ovr, degree=3, kernel=poly, score=0.3516666666666667, total=  49.3s\n",
      "[CV] C=1, decision_function_shape=ovr, degree=3, kernel=rbf ..........\n",
      "[CV]  C=1, decision_function_shape=ovr, degree=3, kernel=poly, score=0.36, total=  49.1s\n",
      "[CV] C=1, decision_function_shape=ovr, degree=3, kernel=rbf ..........\n",
      "[CV]  C=1, decision_function_shape=ovr, degree=3, kernel=poly, score=0.35083333333333333, total=  49.2s\n",
      "[CV] C=1, decision_function_shape=ovr, degree=3, kernel=rbf ..........\n",
      "[CV]  C=1, decision_function_shape=ovr, degree=3, kernel=poly, score=0.3541666666666667, total=  48.6s\n",
      "[CV] C=1, decision_function_shape=ovr, degree=3, kernel=rbf ..........\n",
      "[CV]  C=1, decision_function_shape=ovr, degree=3, kernel=rbf, score=0.4875, total=  54.9s\n",
      "[CV] C=1, decision_function_shape=ovr, degree=3, kernel=rbf ..........\n",
      "[CV]  C=1, decision_function_shape=ovr, degree=3, kernel=rbf, score=0.43916666666666665, total=  53.8s\n",
      "[CV] C=1, decision_function_shape=ovr, degree=3, kernel=sigmoid ......\n",
      "[CV]  C=1, decision_function_shape=ovr, degree=3, kernel=rbf, score=0.4666666666666667, total=  54.2s\n",
      "[CV] C=1, decision_function_shape=ovr, degree=3, kernel=sigmoid ......\n"
     ]
    },
    {
     "name": "stderr",
     "output_type": "stream",
     "text": [
      "[Parallel(n_jobs=-1)]: Done 213 tasks      | elapsed: 45.2min\n"
     ]
    },
    {
     "name": "stdout",
     "output_type": "stream",
     "text": [
      "[CV]  C=1, decision_function_shape=ovr, degree=3, kernel=rbf, score=0.44916666666666666, total=  55.0s\n",
      "[CV] C=1, decision_function_shape=ovr, degree=3, kernel=sigmoid ......\n",
      "[CV]  C=1, decision_function_shape=ovr, degree=3, kernel=rbf, score=0.4166666666666667, total=  54.3s\n",
      "[CV] C=1, decision_function_shape=ovr, degree=3, kernel=sigmoid ......\n",
      "[CV]  C=1, decision_function_shape=ovr, degree=3, kernel=sigmoid, score=0.4875, total=  50.5s\n",
      "[CV] C=1, decision_function_shape=ovr, degree=3, kernel=sigmoid ......\n",
      "[CV]  C=1, decision_function_shape=ovr, degree=3, kernel=sigmoid, score=0.43833333333333335, total=  50.8s\n",
      "[CV] C=1, decision_function_shape=ovr, degree=5, kernel=linear .......\n",
      "[CV]  C=1, decision_function_shape=ovr, degree=3, kernel=sigmoid, score=0.4666666666666667, total=  52.4s\n",
      "[CV] C=1, decision_function_shape=ovr, degree=5, kernel=linear .......\n",
      "[CV]  C=1, decision_function_shape=ovr, degree=5, kernel=linear, score=0.7741666666666667, total=  33.4s\n",
      "[CV] C=1, decision_function_shape=ovr, degree=5, kernel=linear .......\n",
      "[CV]  C=1, decision_function_shape=ovr, degree=3, kernel=sigmoid, score=0.4166666666666667, total=  51.9s\n",
      "[CV] C=1, decision_function_shape=ovr, degree=5, kernel=linear .......\n",
      "[CV]  C=1, decision_function_shape=ovr, degree=3, kernel=sigmoid, score=0.44916666666666666, total=  52.6s\n",
      "[CV] C=1, decision_function_shape=ovr, degree=5, kernel=linear .......\n",
      "[CV]  C=1, decision_function_shape=ovr, degree=5, kernel=linear, score=0.7583333333333333, total=  33.4s\n",
      "[CV] C=1, decision_function_shape=ovr, degree=5, kernel=poly .........\n",
      "[CV]  C=1, decision_function_shape=ovr, degree=5, kernel=linear, score=0.7358333333333333, total=  33.6s\n",
      "[CV] C=1, decision_function_shape=ovr, degree=5, kernel=poly .........\n",
      "[CV]  C=1, decision_function_shape=ovr, degree=5, kernel=linear, score=0.7283333333333334, total=  33.5s\n",
      "[CV] C=1, decision_function_shape=ovr, degree=5, kernel=poly .........\n",
      "[CV]  C=1, decision_function_shape=ovr, degree=5, kernel=linear, score=0.7658333333333334, total=  34.1s\n",
      "[CV] C=1, decision_function_shape=ovr, degree=5, kernel=poly .........\n",
      "[CV]  C=1, decision_function_shape=ovr, degree=5, kernel=poly, score=0.67, total=  48.7s\n",
      "[CV] C=1, decision_function_shape=ovr, degree=5, kernel=poly .........\n",
      "[CV]  C=1, decision_function_shape=ovr, degree=5, kernel=poly, score=0.6483333333333333, total=  49.0s\n",
      "[CV] C=1, decision_function_shape=ovr, degree=5, kernel=rbf ..........\n",
      "[CV]  C=1, decision_function_shape=ovr, degree=5, kernel=poly, score=0.6591666666666667, total=  48.8s\n",
      "[CV] C=1, decision_function_shape=ovr, degree=5, kernel=rbf ..........\n",
      "[CV]  C=1, decision_function_shape=ovr, degree=5, kernel=poly, score=0.6808333333333333, total=  49.3s\n",
      "[CV] C=1, decision_function_shape=ovr, degree=5, kernel=rbf ..........\n",
      "[CV]  C=1, decision_function_shape=ovr, degree=5, kernel=poly, score=0.6533333333333333, total=  47.5s\n",
      "[CV] C=1, decision_function_shape=ovr, degree=5, kernel=rbf ..........\n",
      "[CV]  C=1, decision_function_shape=ovr, degree=5, kernel=rbf, score=0.4875, total=  54.1s\n",
      "[CV] C=1, decision_function_shape=ovr, degree=5, kernel=rbf ..........\n",
      "[CV]  C=1, decision_function_shape=ovr, degree=5, kernel=rbf, score=0.43916666666666665, total=  55.4s\n",
      "[CV]  C=1, decision_function_shape=ovr, degree=5, kernel=rbf, score=0.4666666666666667, total=  54.4s\n",
      "[CV] C=1, decision_function_shape=ovr, degree=5, kernel=sigmoid ......\n",
      "[CV] C=1, decision_function_shape=ovr, degree=5, kernel=sigmoid ......\n",
      "[CV]  C=1, decision_function_shape=ovr, degree=5, kernel=rbf, score=0.44916666666666666, total=  56.2s\n",
      "[CV] C=1, decision_function_shape=ovr, degree=5, kernel=sigmoid ......\n",
      "[CV]  C=1, decision_function_shape=ovr, degree=5, kernel=rbf, score=0.4166666666666667, total=  55.7s\n",
      "[CV] C=1, decision_function_shape=ovr, degree=5, kernel=sigmoid ......\n",
      "[CV]  C=1, decision_function_shape=ovr, degree=5, kernel=sigmoid, score=0.4875, total=  52.3s\n",
      "[CV] C=1, decision_function_shape=ovr, degree=5, kernel=sigmoid ......\n",
      "[CV]  C=1, decision_function_shape=ovr, degree=5, kernel=sigmoid, score=0.43833333333333335, total=  52.3s\n",
      "[CV]  C=1, decision_function_shape=ovr, degree=5, kernel=sigmoid, score=0.4666666666666667, total=  49.7s\n",
      "[CV]  C=1, decision_function_shape=ovr, degree=5, kernel=sigmoid, score=0.4166666666666667, total=  35.3s\n",
      "[CV]  C=1, decision_function_shape=ovr, degree=5, kernel=sigmoid, score=0.44916666666666666, total=  45.0s\n"
     ]
    },
    {
     "name": "stderr",
     "output_type": "stream",
     "text": [
      "[Parallel(n_jobs=-1)]: Done 240 out of 240 | elapsed: 50.5min finished\n"
     ]
    },
    {
     "name": "stdout",
     "output_type": "stream",
     "text": [
      "GridSearchCV took 3061.53 seconds,  candidates checked: 48, best CV score: 0.753 ± 0.018\n",
      "Best parameters:\n",
      "{'C': 1, 'decision_function_shape': 'ovo', 'degree': 2, 'kernel': 'linear'}\n",
      "\n"
     ]
    }
   ],
   "source": [
    "# GridSearchCV needs a predefined plan of the experiments\n",
    "grid_search = GridSearchCV(clf_svm, \n",
    "                           param_grid={\"C\": [0.1, 1,],\n",
    "                                       \"kernel\": [\"linear\", \"poly\", \"rbf\", \"sigmoid\"],\n",
    "                                       \"degree\": [2, 3, 5],\n",
    "                                       \"decision_function_shape\": [\"ovo\", \"ovr\"]\n",
    "                                       },\n",
    "                           n_jobs=-1,\n",
    "                           cv=skf,\n",
    "                           scoring='accuracy',\n",
    "                           iid=False, # just return the average score across folds\n",
    "                           return_train_score=False,\n",
    "                           verbose=10)\n",
    "\n",
    "best_params = report_perf(grid_search, f_train, train_y, 'GridSearchCV')"
   ]
  },
  {
   "cell_type": "markdown",
   "metadata": {},
   "source": [
    "Random Search"
   ]
  },
  {
   "cell_type": "code",
   "execution_count": 225,
   "metadata": {
    "scrolled": true
   },
   "outputs": [
    {
     "name": "stdout",
     "output_type": "stream",
     "text": [
      "Fitting 5 folds for each of 40 candidates, totalling 200 fits\n",
      "[CV] C=5.588135039273247, decision_function_shape=ovr, degree=2, kernel=sigmoid \n",
      "[CV] C=5.588135039273247, decision_function_shape=ovr, degree=2, kernel=sigmoid \n",
      "[CV] C=5.588135039273247, decision_function_shape=ovr, degree=2, kernel=sigmoid \n",
      "[CV] C=5.588135039273247, decision_function_shape=ovr, degree=2, kernel=sigmoid \n",
      "[CV]  C=5.588135039273247, decision_function_shape=ovr, degree=2, kernel=sigmoid, score=0.43833333333333335, total=  53.2s\n",
      "[CV] C=5.588135039273247, decision_function_shape=ovr, degree=2, kernel=sigmoid \n",
      "[CV]  C=5.588135039273247, decision_function_shape=ovr, degree=2, kernel=sigmoid, score=0.4666666666666667, total=  53.2s\n",
      "[CV] C=8.679456176227568, decision_function_shape=ovr, degree=3, kernel=sigmoid \n",
      "[CV]  C=5.588135039273247, decision_function_shape=ovr, degree=2, kernel=sigmoid, score=0.4875, total=  53.6s\n",
      "[CV] C=8.679456176227568, decision_function_shape=ovr, degree=3, kernel=sigmoid \n",
      "[CV]  C=5.588135039273247, decision_function_shape=ovr, degree=2, kernel=sigmoid, score=0.44916666666666666, total=  53.9s\n",
      "[CV] C=8.679456176227568, decision_function_shape=ovr, degree=3, kernel=sigmoid \n",
      "[CV]  C=8.679456176227568, decision_function_shape=ovr, degree=3, kernel=sigmoid, score=0.4875, total=  51.7s\n",
      "[CV] C=8.679456176227568, decision_function_shape=ovr, degree=3, kernel=sigmoid \n"
     ]
    },
    {
     "name": "stderr",
     "output_type": "stream",
     "text": [
      "[Parallel(n_jobs=-1)]: Done   5 tasks      | elapsed:  1.8min\n"
     ]
    },
    {
     "name": "stdout",
     "output_type": "stream",
     "text": [
      "[CV]  C=5.588135039273247, decision_function_shape=ovr, degree=2, kernel=sigmoid, score=0.4166666666666667, total=  52.1s\n",
      "[CV] C=8.679456176227568, decision_function_shape=ovr, degree=3, kernel=sigmoid \n",
      "[CV]  C=8.679456176227568, decision_function_shape=ovr, degree=3, kernel=sigmoid, score=0.43833333333333335, total=  51.8s\n",
      "[CV] C=6.558941130666561, decision_function_shape=ovo, degree=5, kernel=linear \n",
      "[CV]  C=8.679456176227568, decision_function_shape=ovr, degree=3, kernel=sigmoid, score=0.4666666666666667, total=  51.9s\n",
      "[CV] C=6.558941130666561, decision_function_shape=ovo, degree=5, kernel=linear \n"
     ]
    },
    {
     "name": "stderr",
     "output_type": "stream",
     "text": [
      "/home/giuseppe/anaconda3/lib/python3.6/site-packages/sklearn/svm/base.py:218: ConvergenceWarning: Solver terminated early (max_iter=10000).  Consider pre-processing your data with StandardScaler or MinMaxScaler.\n",
      "  % self.max_iter, ConvergenceWarning)\n",
      "/home/giuseppe/anaconda3/lib/python3.6/site-packages/sklearn/svm/base.py:218: ConvergenceWarning: Solver terminated early (max_iter=10000).  Consider pre-processing your data with StandardScaler or MinMaxScaler.\n",
      "  % self.max_iter, ConvergenceWarning)\n"
     ]
    },
    {
     "name": "stdout",
     "output_type": "stream",
     "text": [
      "[CV]  C=6.558941130666561, decision_function_shape=ovo, degree=5, kernel=linear, score=0.7116666666666667, total=  40.3s\n",
      "[CV] C=6.558941130666561, decision_function_shape=ovo, degree=5, kernel=linear \n",
      "[CV]  C=6.558941130666561, decision_function_shape=ovo, degree=5, kernel=linear, score=0.7366666666666667, total=  41.2s\n",
      "[CV] C=6.558941130666561, decision_function_shape=ovo, degree=5, kernel=linear \n"
     ]
    },
    {
     "name": "stderr",
     "output_type": "stream",
     "text": [
      "[Parallel(n_jobs=-1)]: Done  10 tasks      | elapsed:  2.4min\n"
     ]
    },
    {
     "name": "stdout",
     "output_type": "stream",
     "text": [
      "[CV]  C=8.679456176227568, decision_function_shape=ovr, degree=3, kernel=sigmoid, score=0.44916666666666666, total=  51.9s\n",
      "[CV] C=6.558941130666561, decision_function_shape=ovo, degree=5, kernel=linear \n",
      "[CV]  C=8.679456176227568, decision_function_shape=ovr, degree=3, kernel=sigmoid, score=0.4166666666666667, total=  51.8s\n",
      "[CV] C=9.736627605010293, decision_function_shape=ovo, degree=3, kernel=rbf \n"
     ]
    },
    {
     "name": "stderr",
     "output_type": "stream",
     "text": [
      "/home/giuseppe/anaconda3/lib/python3.6/site-packages/sklearn/svm/base.py:218: ConvergenceWarning: Solver terminated early (max_iter=10000).  Consider pre-processing your data with StandardScaler or MinMaxScaler.\n",
      "  % self.max_iter, ConvergenceWarning)\n",
      "/home/giuseppe/anaconda3/lib/python3.6/site-packages/sklearn/svm/base.py:218: ConvergenceWarning: Solver terminated early (max_iter=10000).  Consider pre-processing your data with StandardScaler or MinMaxScaler.\n",
      "  % self.max_iter, ConvergenceWarning)\n"
     ]
    },
    {
     "name": "stdout",
     "output_type": "stream",
     "text": [
      "[CV]  C=6.558941130666561, decision_function_shape=ovo, degree=5, kernel=linear, score=0.7066666666666667, total=  42.9s\n",
      "[CV] C=9.736627605010293, decision_function_shape=ovo, degree=3, kernel=rbf \n",
      "[CV]  C=6.558941130666561, decision_function_shape=ovo, degree=5, kernel=linear, score=0.7308333333333333, total=  43.0s\n",
      "[CV] C=9.736627605010293, decision_function_shape=ovo, degree=3, kernel=rbf \n"
     ]
    },
    {
     "name": "stderr",
     "output_type": "stream",
     "text": [
      "/home/giuseppe/anaconda3/lib/python3.6/site-packages/sklearn/svm/base.py:218: ConvergenceWarning: Solver terminated early (max_iter=10000).  Consider pre-processing your data with StandardScaler or MinMaxScaler.\n",
      "  % self.max_iter, ConvergenceWarning)\n"
     ]
    },
    {
     "name": "stdout",
     "output_type": "stream",
     "text": [
      "[CV]  C=6.558941130666561, decision_function_shape=ovo, degree=5, kernel=linear, score=0.7108333333333333, total=  41.6s\n",
      "[CV] C=9.736627605010293, decision_function_shape=ovo, degree=3, kernel=rbf \n",
      "[CV]  C=9.736627605010293, decision_function_shape=ovo, degree=3, kernel=rbf, score=0.4875, total=  56.5s\n",
      "[CV] C=9.736627605010293, decision_function_shape=ovo, degree=3, kernel=rbf \n",
      "[CV]  C=9.736627605010293, decision_function_shape=ovo, degree=3, kernel=rbf, score=0.43916666666666665, total=  54.0s\n",
      "[CV] C=8.221687287754932, decision_function_shape=ovo, degree=2, kernel=poly \n",
      "[CV]  C=9.736627605010293, decision_function_shape=ovo, degree=3, kernel=rbf, score=0.4666666666666667, total=  53.6s\n",
      "[CV] C=8.221687287754932, decision_function_shape=ovo, degree=2, kernel=poly \n"
     ]
    },
    {
     "name": "stderr",
     "output_type": "stream",
     "text": [
      "[Parallel(n_jobs=-1)]: Done  17 tasks      | elapsed:  4.1min\n"
     ]
    },
    {
     "name": "stdout",
     "output_type": "stream",
     "text": [
      "[CV]  C=9.736627605010293, decision_function_shape=ovo, degree=3, kernel=rbf, score=0.44916666666666666, total=  54.1s\n",
      "[CV] C=8.221687287754932, decision_function_shape=ovo, degree=2, kernel=poly \n",
      "[CV]  C=9.736627605010293, decision_function_shape=ovo, degree=3, kernel=rbf, score=0.4166666666666667, total=  53.7s\n",
      "[CV] C=8.221687287754932, decision_function_shape=ovo, degree=2, kernel=poly \n",
      "[CV]  C=8.221687287754932, decision_function_shape=ovo, degree=2, kernel=poly, score=0.36, total=  48.7s\n",
      "[CV] C=8.221687287754932, decision_function_shape=ovo, degree=2, kernel=poly \n",
      "[CV]  C=8.221687287754932, decision_function_shape=ovo, degree=2, kernel=poly, score=0.355, total=  48.9s\n",
      "[CV] C=9.35596638292661, decision_function_shape=ovr, degree=2, kernel=poly \n",
      "[CV]  C=8.221687287754932, decision_function_shape=ovo, degree=2, kernel=poly, score=0.3625, total=  48.6s\n",
      "[CV] C=9.35596638292661, decision_function_shape=ovr, degree=2, kernel=poly \n",
      "[CV]  C=8.221687287754932, decision_function_shape=ovo, degree=2, kernel=poly, score=0.355, total=  49.0s\n",
      "[CV] C=9.35596638292661, decision_function_shape=ovr, degree=2, kernel=poly \n"
     ]
    },
    {
     "name": "stderr",
     "output_type": "stream",
     "text": [
      "[Parallel(n_jobs=-1)]: Done  24 tasks      | elapsed:  5.3min\n"
     ]
    },
    {
     "name": "stdout",
     "output_type": "stream",
     "text": [
      "[CV]  C=9.35596638292661, decision_function_shape=ovr, degree=2, kernel=poly, score=0.36, total=  48.6s\n",
      "[CV] C=9.35596638292661, decision_function_shape=ovr, degree=2, kernel=poly \n",
      "[CV]  C=8.221687287754932, decision_function_shape=ovo, degree=2, kernel=poly, score=0.3541666666666667, total=  49.3s\n",
      "[CV] C=9.35596638292661, decision_function_shape=ovr, degree=2, kernel=poly \n",
      "[CV]  C=9.35596638292661, decision_function_shape=ovr, degree=2, kernel=poly, score=0.355, total=  49.3s\n",
      "[CV] C=6.581718720511971, decision_function_shape=ovo, degree=3, kernel=rbf \n",
      "[CV]  C=9.35596638292661, decision_function_shape=ovr, degree=2, kernel=poly, score=0.3625, total=  49.7s\n",
      "[CV] C=6.581718720511971, decision_function_shape=ovo, degree=3, kernel=rbf \n",
      "[CV]  C=9.35596638292661, decision_function_shape=ovr, degree=2, kernel=poly, score=0.355, total=  49.4s\n",
      "[CV] C=6.581718720511971, decision_function_shape=ovo, degree=3, kernel=rbf \n",
      "[CV]  C=9.35596638292661, decision_function_shape=ovr, degree=2, kernel=poly, score=0.3541666666666667, total=  49.5s\n",
      "[CV] C=6.581718720511971, decision_function_shape=ovo, degree=3, kernel=rbf \n",
      "[CV]  C=6.581718720511971, decision_function_shape=ovo, degree=3, kernel=rbf, score=0.4875, total=  56.5s\n",
      "[CV] C=6.581718720511971, decision_function_shape=ovo, degree=3, kernel=rbf \n",
      "[CV]  C=6.581718720511971, decision_function_shape=ovo, degree=3, kernel=rbf, score=0.43916666666666665, total=  54.3s\n",
      "[CV] C=1.5035078041264516, decision_function_shape=ovo, degree=5, kernel=sigmoid \n",
      "[CV]  C=6.581718720511971, decision_function_shape=ovo, degree=3, kernel=rbf, score=0.4666666666666667, total=  53.8s\n",
      "[CV] C=1.5035078041264516, decision_function_shape=ovo, degree=5, kernel=sigmoid \n"
     ]
    },
    {
     "name": "stderr",
     "output_type": "stream",
     "text": [
      "[Parallel(n_jobs=-1)]: Done  33 tasks      | elapsed:  7.4min\n"
     ]
    },
    {
     "name": "stdout",
     "output_type": "stream",
     "text": [
      "[CV]  C=6.581718720511971, decision_function_shape=ovo, degree=3, kernel=rbf, score=0.44916666666666666, total=  53.7s\n",
      "[CV] C=1.5035078041264516, decision_function_shape=ovo, degree=5, kernel=sigmoid \n",
      "[CV]  C=6.581718720511971, decision_function_shape=ovo, degree=3, kernel=rbf, score=0.4166666666666667, total=  53.4s\n",
      "[CV] C=1.5035078041264516, decision_function_shape=ovo, degree=5, kernel=sigmoid \n",
      "[CV]  C=1.5035078041264516, decision_function_shape=ovo, degree=5, kernel=sigmoid, score=0.4875, total=  50.6s\n",
      "[CV] C=1.5035078041264516, decision_function_shape=ovo, degree=5, kernel=sigmoid \n",
      "[CV]  C=1.5035078041264516, decision_function_shape=ovo, degree=5, kernel=sigmoid, score=0.4666666666666667, total=  51.4s\n",
      "[CV] C=8.091585642167235, decision_function_shape=ovr, degree=3, kernel=sigmoid \n",
      "[CV]  C=1.5035078041264516, decision_function_shape=ovo, degree=5, kernel=sigmoid, score=0.43833333333333335, total=  52.3s\n",
      "[CV] C=8.091585642167235, decision_function_shape=ovr, degree=3, kernel=sigmoid \n",
      "[CV]  C=1.5035078041264516, decision_function_shape=ovo, degree=5, kernel=sigmoid, score=0.44916666666666666, total=  51.8s\n",
      "[CV] C=8.091585642167235, decision_function_shape=ovr, degree=3, kernel=sigmoid \n",
      "[CV]  C=1.5035078041264516, decision_function_shape=ovo, degree=5, kernel=sigmoid, score=0.4166666666666667, total=  51.7s\n",
      "[CV] C=8.091585642167235, decision_function_shape=ovr, degree=3, kernel=sigmoid \n",
      "[CV]  C=8.091585642167235, decision_function_shape=ovr, degree=3, kernel=sigmoid, score=0.4875, total=  51.6s\n",
      "[CV] C=8.091585642167235, decision_function_shape=ovr, degree=3, kernel=sigmoid \n",
      "[CV]  C=8.091585642167235, decision_function_shape=ovr, degree=3, kernel=sigmoid, score=0.43833333333333335, total=  52.0s\n",
      "[CV] C=6.888795301189603, decision_function_shape=ovr, degree=2, kernel=poly \n"
     ]
    },
    {
     "name": "stderr",
     "output_type": "stream",
     "text": [
      "[Parallel(n_jobs=-1)]: Done  42 tasks      | elapsed:  9.1min\n"
     ]
    },
    {
     "name": "stdout",
     "output_type": "stream",
     "text": [
      "[CV]  C=8.091585642167235, decision_function_shape=ovr, degree=3, kernel=sigmoid, score=0.4666666666666667, total=  51.6s\n",
      "[CV] C=6.888795301189603, decision_function_shape=ovr, degree=2, kernel=poly \n",
      "[CV]  C=8.091585642167235, decision_function_shape=ovr, degree=3, kernel=sigmoid, score=0.44916666666666666, total=  53.2s\n",
      "[CV] C=6.888795301189603, decision_function_shape=ovr, degree=2, kernel=poly \n",
      "[CV]  C=6.888795301189603, decision_function_shape=ovr, degree=2, kernel=poly, score=0.36, total=  51.4s\n",
      "[CV] C=6.888795301189603, decision_function_shape=ovr, degree=2, kernel=poly \n",
      "[CV]  C=8.091585642167235, decision_function_shape=ovr, degree=3, kernel=sigmoid, score=0.4166666666666667, total=  55.2s\n",
      "[CV] C=6.888795301189603, decision_function_shape=ovr, degree=2, kernel=poly \n",
      "[CV]  C=6.888795301189603, decision_function_shape=ovr, degree=2, kernel=poly, score=0.355, total=  50.9s\n",
      "[CV] C=1.5335328740904641, decision_function_shape=ovr, degree=2, kernel=sigmoid \n",
      "[CV]  C=6.888795301189603, decision_function_shape=ovr, degree=2, kernel=poly, score=0.3625, total=  51.3s\n",
      "[CV] C=1.5335328740904641, decision_function_shape=ovr, degree=2, kernel=sigmoid \n",
      "[CV]  C=6.888795301189603, decision_function_shape=ovr, degree=2, kernel=poly, score=0.355, total=  48.8s\n",
      "[CV] C=1.5335328740904641, decision_function_shape=ovr, degree=2, kernel=sigmoid \n",
      "[CV]  C=6.888795301189603, decision_function_shape=ovr, degree=2, kernel=poly, score=0.3541666666666667, total=  48.1s\n",
      "[CV] C=1.5335328740904641, decision_function_shape=ovr, degree=2, kernel=sigmoid \n",
      "[CV]  C=1.5335328740904641, decision_function_shape=ovr, degree=2, kernel=sigmoid, score=0.4875, total=  51.5s\n",
      "[CV] C=1.5335328740904641, decision_function_shape=ovr, degree=2, kernel=sigmoid \n",
      "[CV]  C=1.5335328740904641, decision_function_shape=ovr, degree=2, kernel=sigmoid, score=0.43833333333333335, total=  53.1s\n",
      "[CV] C=1.1590760718779214, decision_function_shape=ovr, degree=5, kernel=sigmoid \n",
      "[CV]  C=1.5335328740904641, decision_function_shape=ovr, degree=2, kernel=sigmoid, score=0.4666666666666667, total=  54.5s\n",
      "[CV] C=1.1590760718779214, decision_function_shape=ovr, degree=5, kernel=sigmoid \n"
     ]
    },
    {
     "name": "stderr",
     "output_type": "stream",
     "text": [
      "[Parallel(n_jobs=-1)]: Done  53 tasks      | elapsed: 11.7min\n"
     ]
    },
    {
     "name": "stdout",
     "output_type": "stream",
     "text": [
      "[CV]  C=1.5335328740904641, decision_function_shape=ovr, degree=2, kernel=sigmoid, score=0.44916666666666666, total=  55.4s\n",
      "[CV] C=1.1590760718779214, decision_function_shape=ovr, degree=5, kernel=sigmoid \n",
      "[CV]  C=1.5335328740904641, decision_function_shape=ovr, degree=2, kernel=sigmoid, score=0.4166666666666667, total=  54.8s\n",
      "[CV] C=1.1590760718779214, decision_function_shape=ovr, degree=5, kernel=sigmoid \n",
      "[CV]  C=1.1590760718779214, decision_function_shape=ovr, degree=5, kernel=sigmoid, score=0.4875, total=  56.2s\n",
      "[CV] C=1.1590760718779214, decision_function_shape=ovr, degree=5, kernel=sigmoid \n",
      "[CV]  C=1.1590760718779214, decision_function_shape=ovr, degree=5, kernel=sigmoid, score=0.43833333333333335, total=  54.2s\n",
      "[CV] C=7.4691817712895805, decision_function_shape=ovo, degree=5, kernel=linear \n",
      "[CV]  C=1.1590760718779214, decision_function_shape=ovr, degree=5, kernel=sigmoid, score=0.4666666666666667, total=  53.7s\n",
      "[CV] C=7.4691817712895805, decision_function_shape=ovo, degree=5, kernel=linear \n",
      "[CV]  C=1.1590760718779214, decision_function_shape=ovr, degree=5, kernel=sigmoid, score=0.44916666666666666, total=  52.3s\n",
      "[CV] C=7.4691817712895805, decision_function_shape=ovo, degree=5, kernel=linear \n",
      "[CV]  C=1.1590760718779214, decision_function_shape=ovr, degree=5, kernel=sigmoid, score=0.4166666666666667, total=  51.4s\n",
      "[CV] C=7.4691817712895805, decision_function_shape=ovo, degree=5, kernel=linear \n"
     ]
    },
    {
     "name": "stderr",
     "output_type": "stream",
     "text": [
      "/home/giuseppe/anaconda3/lib/python3.6/site-packages/sklearn/svm/base.py:218: ConvergenceWarning: Solver terminated early (max_iter=10000).  Consider pre-processing your data with StandardScaler or MinMaxScaler.\n",
      "  % self.max_iter, ConvergenceWarning)\n"
     ]
    },
    {
     "name": "stdout",
     "output_type": "stream",
     "text": [
      "[CV]  C=7.4691817712895805, decision_function_shape=ovo, degree=5, kernel=linear, score=0.7341666666666666, total=  40.4s\n",
      "[CV] C=7.4691817712895805, decision_function_shape=ovo, degree=5, kernel=linear \n"
     ]
    },
    {
     "name": "stderr",
     "output_type": "stream",
     "text": [
      "/home/giuseppe/anaconda3/lib/python3.6/site-packages/sklearn/svm/base.py:218: ConvergenceWarning: Solver terminated early (max_iter=10000).  Consider pre-processing your data with StandardScaler or MinMaxScaler.\n",
      "  % self.max_iter, ConvergenceWarning)\n"
     ]
    },
    {
     "name": "stdout",
     "output_type": "stream",
     "text": [
      "[CV]  C=7.4691817712895805, decision_function_shape=ovo, degree=5, kernel=linear, score=0.7125, total=  41.6s\n",
      "[CV] C=0.2878980043635514, decision_function_shape=ovr, degree=3, kernel=rbf \n"
     ]
    },
    {
     "name": "stderr",
     "output_type": "stream",
     "text": [
      "/home/giuseppe/anaconda3/lib/python3.6/site-packages/sklearn/svm/base.py:218: ConvergenceWarning: Solver terminated early (max_iter=10000).  Consider pre-processing your data with StandardScaler or MinMaxScaler.\n",
      "  % self.max_iter, ConvergenceWarning)\n"
     ]
    },
    {
     "name": "stdout",
     "output_type": "stream",
     "text": [
      "[CV]  C=7.4691817712895805, decision_function_shape=ovo, degree=5, kernel=linear, score=0.705, total=  41.9s\n",
      "[CV] C=0.2878980043635514, decision_function_shape=ovr, degree=3, kernel=rbf \n"
     ]
    },
    {
     "name": "stderr",
     "output_type": "stream",
     "text": [
      "/home/giuseppe/anaconda3/lib/python3.6/site-packages/sklearn/svm/base.py:218: ConvergenceWarning: Solver terminated early (max_iter=10000).  Consider pre-processing your data with StandardScaler or MinMaxScaler.\n",
      "  % self.max_iter, ConvergenceWarning)\n"
     ]
    },
    {
     "name": "stdout",
     "output_type": "stream",
     "text": [
      "[CV]  C=7.4691817712895805, decision_function_shape=ovo, degree=5, kernel=linear, score=0.7316666666666667, total=  39.9s\n",
      "[CV] C=0.2878980043635514, decision_function_shape=ovr, degree=3, kernel=rbf \n"
     ]
    },
    {
     "name": "stderr",
     "output_type": "stream",
     "text": [
      "[Parallel(n_jobs=-1)]: Done  64 tasks      | elapsed: 13.8min\n",
      "/home/giuseppe/anaconda3/lib/python3.6/site-packages/sklearn/svm/base.py:218: ConvergenceWarning: Solver terminated early (max_iter=10000).  Consider pre-processing your data with StandardScaler or MinMaxScaler.\n",
      "  % self.max_iter, ConvergenceWarning)\n"
     ]
    },
    {
     "name": "stdout",
     "output_type": "stream",
     "text": [
      "[CV]  C=7.4691817712895805, decision_function_shape=ovo, degree=5, kernel=linear, score=0.7066666666666667, total=  39.9s\n",
      "[CV] C=0.2878980043635514, decision_function_shape=ovr, degree=3, kernel=rbf \n",
      "[CV]  C=0.2878980043635514, decision_function_shape=ovr, degree=3, kernel=rbf, score=0.4875, total=  54.1s\n",
      "[CV] C=0.2878980043635514, decision_function_shape=ovr, degree=3, kernel=rbf \n",
      "[CV]  C=0.2878980043635514, decision_function_shape=ovr, degree=3, kernel=rbf, score=0.43916666666666665, total=  53.4s\n",
      "[CV] C=2.323213882515877, decision_function_shape=ovr, degree=2, kernel=poly \n",
      "[CV]  C=0.2878980043635514, decision_function_shape=ovr, degree=3, kernel=rbf, score=0.4666666666666667, total=  53.3s\n",
      "[CV] C=2.323213882515877, decision_function_shape=ovr, degree=2, kernel=poly \n",
      "[CV]  C=0.2878980043635514, decision_function_shape=ovr, degree=3, kernel=rbf, score=0.44916666666666666, total=  54.2s\n",
      "[CV] C=2.323213882515877, decision_function_shape=ovr, degree=2, kernel=poly \n",
      "[CV]  C=0.2878980043635514, decision_function_shape=ovr, degree=3, kernel=rbf, score=0.4166666666666667, total=  54.0s\n",
      "[CV] C=2.323213882515877, decision_function_shape=ovr, degree=2, kernel=poly \n",
      "[CV]  C=2.323213882515877, decision_function_shape=ovr, degree=2, kernel=poly, score=0.36, total=  47.6s\n",
      "[CV] C=2.323213882515877, decision_function_shape=ovr, degree=2, kernel=poly \n",
      "[CV]  C=2.323213882515877, decision_function_shape=ovr, degree=2, kernel=poly, score=0.355, total=  47.8s\n",
      "[CV] C=4.599499899112276, decision_function_shape=ovr, degree=2, kernel=poly \n",
      "[CV]  C=2.323213882515877, decision_function_shape=ovr, degree=2, kernel=poly, score=0.3625, total=  49.0s\n",
      "[CV] C=4.599499899112276, decision_function_shape=ovr, degree=2, kernel=poly \n",
      "[CV]  C=2.323213882515877, decision_function_shape=ovr, degree=2, kernel=poly, score=0.355, total=  49.6s\n",
      "[CV] C=4.599499899112276, decision_function_shape=ovr, degree=2, kernel=poly \n",
      "[CV]  C=2.323213882515877, decision_function_shape=ovr, degree=2, kernel=poly, score=0.3541666666666667, total=  49.0s\n",
      "[CV] C=4.599499899112276, decision_function_shape=ovr, degree=2, kernel=poly \n",
      "[CV]  C=4.599499899112276, decision_function_shape=ovr, degree=2, kernel=poly, score=0.36, total=  48.9s\n",
      "[CV] C=4.599499899112276, decision_function_shape=ovr, degree=2, kernel=poly \n",
      "[CV]  C=4.599499899112276, decision_function_shape=ovr, degree=2, kernel=poly, score=0.355, total=  49.0s\n",
      "[CV] C=7.0763119592726484, decision_function_shape=ovr, degree=3, kernel=sigmoid \n"
     ]
    },
    {
     "name": "stderr",
     "output_type": "stream",
     "text": [
      "[Parallel(n_jobs=-1)]: Done  77 tasks      | elapsed: 16.5min\n"
     ]
    },
    {
     "name": "stdout",
     "output_type": "stream",
     "text": [
      "[CV]  C=4.599499899112276, decision_function_shape=ovr, degree=2, kernel=poly, score=0.3625, total=  48.8s\n",
      "[CV] C=7.0763119592726484, decision_function_shape=ovr, degree=3, kernel=sigmoid \n",
      "[CV]  C=4.599499899112276, decision_function_shape=ovr, degree=2, kernel=poly, score=0.355, total=  48.4s\n",
      "[CV] C=7.0763119592726484, decision_function_shape=ovr, degree=3, kernel=sigmoid \n",
      "[CV]  C=4.599499899112276, decision_function_shape=ovr, degree=2, kernel=poly, score=0.3541666666666667, total=  48.8s\n",
      "[CV] C=7.0763119592726484, decision_function_shape=ovr, degree=3, kernel=sigmoid \n",
      "[CV]  C=7.0763119592726484, decision_function_shape=ovr, degree=3, kernel=sigmoid, score=0.4875, total=  51.7s\n",
      "[CV] C=7.0763119592726484, decision_function_shape=ovr, degree=3, kernel=sigmoid \n",
      "[CV]  C=7.0763119592726484, decision_function_shape=ovr, degree=3, kernel=sigmoid, score=0.43833333333333335, total=  53.7s\n",
      "[CV] C=6.631400357979376, decision_function_shape=ovr, degree=5, kernel=rbf \n",
      "[CV]  C=7.0763119592726484, decision_function_shape=ovr, degree=3, kernel=sigmoid, score=0.4666666666666667, total=  53.7s\n",
      "[CV] C=6.631400357979376, decision_function_shape=ovr, degree=5, kernel=rbf \n",
      "[CV]  C=7.0763119592726484, decision_function_shape=ovr, degree=3, kernel=sigmoid, score=0.44916666666666666, total=  55.2s\n",
      "[CV] C=6.631400357979376, decision_function_shape=ovr, degree=5, kernel=rbf \n",
      "[CV]  C=7.0763119592726484, decision_function_shape=ovr, degree=3, kernel=sigmoid, score=0.4166666666666667, total=  53.8s\n",
      "[CV] C=6.631400357979376, decision_function_shape=ovr, degree=5, kernel=rbf \n",
      "[CV]  C=6.631400357979376, decision_function_shape=ovr, degree=5, kernel=rbf, score=0.4875, total=  53.6s\n",
      "[CV] C=6.631400357979376, decision_function_shape=ovr, degree=5, kernel=rbf \n",
      "[CV]  C=6.631400357979376, decision_function_shape=ovr, degree=5, kernel=rbf, score=0.43916666666666665, total=  53.3s\n",
      "[CV] C=1.3892629765485331, decision_function_shape=ovo, degree=3, kernel=linear \n",
      "[CV]  C=6.631400357979376, decision_function_shape=ovr, degree=5, kernel=rbf, score=0.4666666666666667, total=  53.5s\n",
      "[CV] C=1.3892629765485331, decision_function_shape=ovo, degree=3, kernel=linear \n",
      "[CV]  C=6.631400357979376, decision_function_shape=ovr, degree=5, kernel=rbf, score=0.44916666666666666, total=  53.5s\n",
      "[CV] C=1.3892629765485331, decision_function_shape=ovo, degree=3, kernel=linear \n",
      "[CV]  C=1.3892629765485331, decision_function_shape=ovo, degree=3, kernel=linear, score=0.7683333333333333, total=  31.6s\n",
      "[CV] C=1.3892629765485331, decision_function_shape=ovo, degree=3, kernel=linear \n"
     ]
    },
    {
     "name": "stderr",
     "output_type": "stream",
     "text": [
      "[Parallel(n_jobs=-1)]: Done  90 tasks      | elapsed: 19.2min\n"
     ]
    },
    {
     "name": "stdout",
     "output_type": "stream",
     "text": [
      "[CV]  C=1.3892629765485331, decision_function_shape=ovo, degree=3, kernel=linear, score=0.7416666666666667, total=  32.2s\n",
      "[CV] C=1.3892629765485331, decision_function_shape=ovo, degree=3, kernel=linear \n",
      "[CV]  C=6.631400357979376, decision_function_shape=ovr, degree=5, kernel=rbf, score=0.4166666666666667, total=  54.5s\n",
      "[CV] C=5.8019677041787965, decision_function_shape=ovo, degree=2, kernel=rbf \n",
      "[CV]  C=1.3892629765485331, decision_function_shape=ovo, degree=3, kernel=linear, score=0.74, total=  32.7s\n",
      "[CV] C=5.8019677041787965, decision_function_shape=ovo, degree=2, kernel=rbf \n",
      "[CV]  C=1.3892629765485331, decision_function_shape=ovo, degree=3, kernel=linear, score=0.7675, total=  33.0s\n",
      "[CV] C=5.8019677041787965, decision_function_shape=ovo, degree=2, kernel=rbf \n",
      "[CV]  C=1.3892629765485331, decision_function_shape=ovo, degree=3, kernel=linear, score=0.725, total=  32.2s\n",
      "[CV] C=5.8019677041787965, decision_function_shape=ovo, degree=2, kernel=rbf \n",
      "[CV]  C=5.8019677041787965, decision_function_shape=ovo, degree=2, kernel=rbf, score=0.4875, total=  53.9s\n",
      "[CV] C=5.8019677041787965, decision_function_shape=ovo, degree=2, kernel=rbf \n",
      "[CV]  C=5.8019677041787965, decision_function_shape=ovo, degree=2, kernel=rbf, score=0.43916666666666665, total=  53.5s\n",
      "[CV] C=1.1204481074802808, decision_function_shape=ovr, degree=2, kernel=sigmoid \n",
      "[CV]  C=5.8019677041787965, decision_function_shape=ovo, degree=2, kernel=rbf, score=0.4666666666666667, total=  53.2s\n",
      "[CV] C=1.1204481074802808, decision_function_shape=ovr, degree=2, kernel=sigmoid \n",
      "[CV]  C=5.8019677041787965, decision_function_shape=ovo, degree=2, kernel=rbf, score=0.44916666666666666, total=  53.8s\n",
      "[CV] C=1.1204481074802808, decision_function_shape=ovr, degree=2, kernel=sigmoid \n",
      "[CV]  C=5.8019677041787965, decision_function_shape=ovo, degree=2, kernel=rbf, score=0.4166666666666667, total=  54.1s\n",
      "[CV] C=1.1204481074802808, decision_function_shape=ovr, degree=2, kernel=sigmoid \n",
      "[CV]  C=1.1204481074802808, decision_function_shape=ovr, degree=2, kernel=sigmoid, score=0.4875, total=  51.4s\n",
      "[CV] C=1.1204481074802808, decision_function_shape=ovr, degree=2, kernel=sigmoid \n",
      "[CV]  C=1.1204481074802808, decision_function_shape=ovr, degree=2, kernel=sigmoid, score=0.43833333333333335, total=  51.6s\n",
      "[CV] C=10.052995676778876, decision_function_shape=ovo, degree=2, kernel=rbf \n",
      "[CV]  C=1.1204481074802808, decision_function_shape=ovr, degree=2, kernel=sigmoid, score=0.4666666666666667, total=  51.7s\n",
      "[CV] C=10.052995676778876, decision_function_shape=ovo, degree=2, kernel=rbf \n",
      "[CV]  C=1.1204481074802808, decision_function_shape=ovr, degree=2, kernel=sigmoid, score=0.44916666666666666, total=  50.8s\n",
      "[CV] C=10.052995676778876, decision_function_shape=ovo, degree=2, kernel=rbf \n",
      "[CV]  C=1.1204481074802808, decision_function_shape=ovr, degree=2, kernel=sigmoid, score=0.4166666666666667, total=  49.7s\n",
      "[CV] C=10.052995676778876, decision_function_shape=ovo, degree=2, kernel=rbf \n"
     ]
    },
    {
     "name": "stderr",
     "output_type": "stream",
     "text": [
      "[Parallel(n_jobs=-1)]: Done 105 tasks      | elapsed: 22.3min\n"
     ]
    },
    {
     "name": "stdout",
     "output_type": "stream",
     "text": [
      "[CV]  C=10.052995676778876, decision_function_shape=ovo, degree=2, kernel=rbf, score=0.4875, total=  53.9s\n",
      "[CV] C=10.052995676778876, decision_function_shape=ovo, degree=2, kernel=rbf \n",
      "[CV]  C=10.052995676778876, decision_function_shape=ovo, degree=2, kernel=rbf, score=0.43916666666666665, total=  54.3s\n",
      "[CV] C=4.763107728563062, decision_function_shape=ovr, degree=5, kernel=sigmoid \n",
      "[CV]  C=10.052995676778876, decision_function_shape=ovo, degree=2, kernel=rbf, score=0.4666666666666667, total=  54.7s\n",
      "[CV] C=4.763107728563062, decision_function_shape=ovr, degree=5, kernel=sigmoid \n",
      "[CV]  C=10.052995676778876, decision_function_shape=ovo, degree=2, kernel=rbf, score=0.44916666666666666, total=  54.2s\n",
      "[CV] C=4.763107728563062, decision_function_shape=ovr, degree=5, kernel=sigmoid \n",
      "[CV]  C=10.052995676778876, decision_function_shape=ovo, degree=2, kernel=rbf, score=0.4166666666666667, total=  56.2s\n",
      "[CV] C=4.763107728563062, decision_function_shape=ovr, degree=5, kernel=sigmoid \n",
      "[CV]  C=4.763107728563062, decision_function_shape=ovr, degree=5, kernel=sigmoid, score=0.4875, total=  52.9s\n",
      "[CV] C=4.763107728563062, decision_function_shape=ovr, degree=5, kernel=sigmoid \n",
      "[CV]  C=4.763107728563062, decision_function_shape=ovr, degree=5, kernel=sigmoid, score=0.43833333333333335, total=  52.9s\n",
      "[CV] C=3.4800761483889175, decision_function_shape=ovr, degree=3, kernel=linear \n",
      "[CV]  C=4.763107728563062, decision_function_shape=ovr, degree=5, kernel=sigmoid, score=0.4666666666666667, total=  53.1s\n",
      "[CV] C=3.4800761483889175, decision_function_shape=ovr, degree=3, kernel=linear \n",
      "[CV]  C=4.763107728563062, decision_function_shape=ovr, degree=5, kernel=sigmoid, score=0.44916666666666666, total=  54.0s\n",
      "[CV] C=3.4800761483889175, decision_function_shape=ovr, degree=3, kernel=linear \n",
      "[CV]  C=4.763107728563062, decision_function_shape=ovr, degree=5, kernel=sigmoid, score=0.4166666666666667, total=  53.8s\n",
      "[CV] C=3.4800761483889175, decision_function_shape=ovr, degree=3, kernel=linear \n",
      "[CV]  C=3.4800761483889175, decision_function_shape=ovr, degree=3, kernel=linear, score=0.7441666666666666, total=  46.8s\n",
      "[CV] C=3.4800761483889175, decision_function_shape=ovr, degree=3, kernel=linear \n",
      "[CV]  C=3.4800761483889175, decision_function_shape=ovr, degree=3, kernel=linear, score=0.7258333333333333, total=  48.6s\n",
      "[CV] C=1.4818295134861381, decision_function_shape=ovr, degree=2, kernel=sigmoid \n",
      "[CV]  C=3.4800761483889175, decision_function_shape=ovr, degree=3, kernel=linear, score=0.7208333333333333, total=  47.9s\n",
      "[CV] C=1.4818295134861381, decision_function_shape=ovr, degree=2, kernel=sigmoid \n",
      "[CV]  C=3.4800761483889175, decision_function_shape=ovr, degree=3, kernel=linear, score=0.7475, total=  45.9s\n",
      "[CV] C=1.4818295134861381, decision_function_shape=ovr, degree=2, kernel=sigmoid \n",
      "[CV]  C=3.4800761483889175, decision_function_shape=ovr, degree=3, kernel=linear, score=0.7175, total=  40.7s\n",
      "[CV] C=1.4818295134861381, decision_function_shape=ovr, degree=2, kernel=sigmoid \n"
     ]
    },
    {
     "name": "stderr",
     "output_type": "stream",
     "text": [
      "[Parallel(n_jobs=-1)]: Done 120 tasks      | elapsed: 25.4min\n"
     ]
    },
    {
     "name": "stdout",
     "output_type": "stream",
     "text": [
      "[CV]  C=1.4818295134861381, decision_function_shape=ovr, degree=2, kernel=sigmoid, score=0.4875, total=  51.8s\n",
      "[CV] C=1.4818295134861381, decision_function_shape=ovr, degree=2, kernel=sigmoid \n",
      "[CV]  C=1.4818295134861381, decision_function_shape=ovr, degree=2, kernel=sigmoid, score=0.43833333333333335, total=  51.3s\n",
      "[CV] C=8.309932298479351, decision_function_shape=ovo, degree=3, kernel=rbf \n",
      "[CV]  C=1.4818295134861381, decision_function_shape=ovr, degree=2, kernel=sigmoid, score=0.4666666666666667, total=  54.5s\n",
      "[CV] C=8.309932298479351, decision_function_shape=ovo, degree=3, kernel=rbf \n",
      "[CV]  C=1.4818295134861381, decision_function_shape=ovr, degree=2, kernel=sigmoid, score=0.44916666666666666, total=  57.1s\n",
      "[CV] C=8.309932298479351, decision_function_shape=ovo, degree=3, kernel=rbf \n",
      "[CV]  C=1.4818295134861381, decision_function_shape=ovr, degree=2, kernel=sigmoid, score=0.4166666666666667, total=  57.1s\n",
      "[CV] C=8.309932298479351, decision_function_shape=ovo, degree=3, kernel=rbf \n",
      "[CV]  C=8.309932298479351, decision_function_shape=ovo, degree=3, kernel=rbf, score=0.4875, total= 1.0min\n",
      "[CV] C=8.309932298479351, decision_function_shape=ovo, degree=3, kernel=rbf \n",
      "[CV]  C=8.309932298479351, decision_function_shape=ovo, degree=3, kernel=rbf, score=0.43916666666666665, total=  59.2s\n",
      "[CV] C=6.836596308357894, decision_function_shape=ovo, degree=3, kernel=sigmoid \n",
      "[CV]  C=8.309932298479351, decision_function_shape=ovo, degree=3, kernel=rbf, score=0.4666666666666667, total=  59.0s\n",
      "[CV] C=6.836596308357894, decision_function_shape=ovo, degree=3, kernel=sigmoid \n",
      "[CV]  C=8.309932298479351, decision_function_shape=ovo, degree=3, kernel=rbf, score=0.44916666666666666, total=  57.2s\n",
      "[CV] C=6.836596308357894, decision_function_shape=ovo, degree=3, kernel=sigmoid \n",
      "[CV]  C=8.309932298479351, decision_function_shape=ovo, degree=3, kernel=rbf, score=0.4166666666666667, total=  57.6s\n",
      "[CV] C=6.836596308357894, decision_function_shape=ovo, degree=3, kernel=sigmoid \n",
      "[CV]  C=6.836596308357894, decision_function_shape=ovo, degree=3, kernel=sigmoid, score=0.4875, total=  57.1s\n",
      "[CV] C=6.836596308357894, decision_function_shape=ovo, degree=3, kernel=sigmoid \n",
      "[CV]  C=6.836596308357894, decision_function_shape=ovo, degree=3, kernel=sigmoid, score=0.43833333333333335, total=  57.2s\n",
      "[CV] C=4.786512016477015, decision_function_shape=ovr, degree=2, kernel=sigmoid \n",
      "[CV]  C=6.836596308357894, decision_function_shape=ovo, degree=3, kernel=sigmoid, score=0.4666666666666667, total= 1.0min\n",
      "[CV] C=4.786512016477015, decision_function_shape=ovr, degree=2, kernel=sigmoid \n",
      "[CV]  C=6.836596308357894, decision_function_shape=ovo, degree=3, kernel=sigmoid, score=0.44916666666666666, total= 1.1min\n",
      "[CV] C=4.786512016477015, decision_function_shape=ovr, degree=2, kernel=sigmoid \n",
      "[CV]  C=6.836596308357894, decision_function_shape=ovo, degree=3, kernel=sigmoid, score=0.4166666666666667, total= 1.1min\n",
      "[CV] C=4.786512016477015, decision_function_shape=ovr, degree=2, kernel=sigmoid \n",
      "[CV]  C=4.786512016477015, decision_function_shape=ovr, degree=2, kernel=sigmoid, score=0.4875, total= 1.2min\n",
      "[CV] C=4.786512016477015, decision_function_shape=ovr, degree=2, kernel=sigmoid \n",
      "[CV]  C=4.786512016477015, decision_function_shape=ovr, degree=2, kernel=sigmoid, score=0.43833333333333335, total= 1.1min\n",
      "[CV] C=4.611592145209281, decision_function_shape=ovr, degree=2, kernel=rbf \n"
     ]
    },
    {
     "name": "stderr",
     "output_type": "stream",
     "text": [
      "[Parallel(n_jobs=-1)]: Done 137 tasks      | elapsed: 29.8min\n"
     ]
    },
    {
     "name": "stdout",
     "output_type": "stream",
     "text": [
      "[CV]  C=4.786512016477015, decision_function_shape=ovr, degree=2, kernel=sigmoid, score=0.4666666666666667, total= 1.1min\n",
      "[CV] C=4.611592145209281, decision_function_shape=ovr, degree=2, kernel=rbf \n",
      "[CV]  C=4.786512016477015, decision_function_shape=ovr, degree=2, kernel=sigmoid, score=0.44916666666666666, total=  60.0s\n",
      "[CV] C=4.611592145209281, decision_function_shape=ovr, degree=2, kernel=rbf \n",
      "[CV]  C=4.786512016477015, decision_function_shape=ovr, degree=2, kernel=sigmoid, score=0.4166666666666667, total=  53.4s\n",
      "[CV] C=4.611592145209281, decision_function_shape=ovr, degree=2, kernel=rbf \n",
      "[CV]  C=4.611592145209281, decision_function_shape=ovr, degree=2, kernel=rbf, score=0.4875, total=  55.4s\n",
      "[CV] C=4.611592145209281, decision_function_shape=ovr, degree=2, kernel=rbf \n",
      "[CV]  C=4.611592145209281, decision_function_shape=ovr, degree=2, kernel=rbf, score=0.43916666666666665, total=  59.9s\n",
      "[CV] C=2.928069625764096, decision_function_shape=ovo, degree=5, kernel=poly \n",
      "[CV]  C=4.611592145209281, decision_function_shape=ovr, degree=2, kernel=rbf, score=0.4666666666666667, total=  58.5s\n",
      "[CV] C=2.928069625764096, decision_function_shape=ovo, degree=5, kernel=poly \n",
      "[CV]  C=4.611592145209281, decision_function_shape=ovr, degree=2, kernel=rbf, score=0.44916666666666666, total=  59.9s\n",
      "[CV] C=2.928069625764096, decision_function_shape=ovo, degree=5, kernel=poly \n",
      "[CV]  C=4.611592145209281, decision_function_shape=ovr, degree=2, kernel=rbf, score=0.4166666666666667, total=  58.7s\n",
      "[CV] C=2.928069625764096, decision_function_shape=ovo, degree=5, kernel=poly \n",
      "[CV]  C=2.928069625764096, decision_function_shape=ovo, degree=5, kernel=poly, score=0.67, total=  48.2s\n",
      "[CV] C=2.928069625764096, decision_function_shape=ovo, degree=5, kernel=poly \n",
      "[CV]  C=2.928069625764096, decision_function_shape=ovo, degree=5, kernel=poly, score=0.6483333333333333, total=  47.8s\n",
      "[CV] C=3.2798317939397603, decision_function_shape=ovr, degree=5, kernel=sigmoid \n",
      "[CV]  C=2.928069625764096, decision_function_shape=ovo, degree=5, kernel=poly, score=0.6591666666666667, total=  48.6s\n",
      "[CV] C=3.2798317939397603, decision_function_shape=ovr, degree=5, kernel=sigmoid \n",
      "[CV]  C=2.928069625764096, decision_function_shape=ovo, degree=5, kernel=poly, score=0.6808333333333333, total=  52.3s\n",
      "[CV] C=3.2798317939397603, decision_function_shape=ovr, degree=5, kernel=sigmoid \n",
      "[CV]  C=2.928069625764096, decision_function_shape=ovo, degree=5, kernel=poly, score=0.6533333333333333, total=  53.0s\n",
      "[CV] C=3.2798317939397603, decision_function_shape=ovr, degree=5, kernel=sigmoid \n",
      "[CV]  C=3.2798317939397603, decision_function_shape=ovr, degree=5, kernel=sigmoid, score=0.4875, total=  55.1s\n",
      "[CV] C=3.2798317939397603, decision_function_shape=ovr, degree=5, kernel=sigmoid \n",
      "[CV]  C=3.2798317939397603, decision_function_shape=ovr, degree=5, kernel=sigmoid, score=0.43833333333333335, total=  55.8s\n",
      "[CV] C=2.2682213762754286, decision_function_shape=ovo, degree=2, kernel=poly \n",
      "[CV]  C=3.2798317939397603, decision_function_shape=ovr, degree=5, kernel=sigmoid, score=0.4666666666666667, total=  54.1s\n",
      "[CV] C=2.2682213762754286, decision_function_shape=ovo, degree=2, kernel=poly \n",
      "[CV]  C=3.2798317939397603, decision_function_shape=ovr, degree=5, kernel=sigmoid, score=0.44916666666666666, total=  57.5s\n",
      "[CV] C=2.2682213762754286, decision_function_shape=ovo, degree=2, kernel=poly \n"
     ]
    },
    {
     "name": "stderr",
     "output_type": "stream",
     "text": [
      "[Parallel(n_jobs=-1)]: Done 154 tasks      | elapsed: 33.6min\n"
     ]
    },
    {
     "name": "stdout",
     "output_type": "stream",
     "text": [
      "[CV]  C=3.2798317939397603, decision_function_shape=ovr, degree=5, kernel=sigmoid, score=0.4166666666666667, total=  58.0s\n",
      "[CV] C=2.2682213762754286, decision_function_shape=ovo, degree=2, kernel=poly \n",
      "[CV]  C=2.2682213762754286, decision_function_shape=ovo, degree=2, kernel=poly, score=0.36, total=  55.1s\n",
      "[CV] C=2.2682213762754286, decision_function_shape=ovo, degree=2, kernel=poly \n",
      "[CV]  C=2.2682213762754286, decision_function_shape=ovo, degree=2, kernel=poly, score=0.355, total= 1.0min\n",
      "[CV] C=5.189689606670145, decision_function_shape=ovo, degree=3, kernel=rbf \n",
      "[CV]  C=2.2682213762754286, decision_function_shape=ovo, degree=2, kernel=poly, score=0.3625, total=  57.7s\n",
      "[CV] C=5.189689606670145, decision_function_shape=ovo, degree=3, kernel=rbf \n",
      "[CV]  C=2.2682213762754286, decision_function_shape=ovo, degree=2, kernel=poly, score=0.355, total= 1.0min\n",
      "[CV] C=5.189689606670145, decision_function_shape=ovo, degree=3, kernel=rbf \n",
      "[CV]  C=2.2682213762754286, decision_function_shape=ovo, degree=2, kernel=poly, score=0.3541666666666667, total= 1.0min\n",
      "[CV] C=5.189689606670145, decision_function_shape=ovo, degree=3, kernel=rbf \n",
      "[CV]  C=5.189689606670145, decision_function_shape=ovo, degree=3, kernel=rbf, score=0.4875, total= 1.1min\n",
      "[CV] C=5.189689606670145, decision_function_shape=ovo, degree=3, kernel=rbf \n",
      "[CV]  C=5.189689606670145, decision_function_shape=ovo, degree=3, kernel=rbf, score=0.43916666666666665, total= 1.1min\n",
      "[CV] C=5.859464955561792, decision_function_shape=ovo, degree=5, kernel=sigmoid \n",
      "[CV]  C=5.189689606670145, decision_function_shape=ovo, degree=3, kernel=rbf, score=0.4666666666666667, total= 1.0min\n",
      "[CV] C=5.859464955561792, decision_function_shape=ovo, degree=5, kernel=sigmoid \n",
      "[CV]  C=5.189689606670145, decision_function_shape=ovo, degree=3, kernel=rbf, score=0.44916666666666666, total=  59.0s\n",
      "[CV] C=5.859464955561792, decision_function_shape=ovo, degree=5, kernel=sigmoid \n",
      "[CV]  C=5.189689606670145, decision_function_shape=ovo, degree=3, kernel=rbf, score=0.4166666666666667, total=  55.9s\n",
      "[CV] C=5.859464955561792, decision_function_shape=ovo, degree=5, kernel=sigmoid \n",
      "[CV]  C=5.859464955561792, decision_function_shape=ovo, degree=5, kernel=sigmoid, score=0.4875, total=  52.3s\n",
      "[CV] C=5.859464955561792, decision_function_shape=ovo, degree=5, kernel=sigmoid \n",
      "[CV]  C=5.859464955561792, decision_function_shape=ovo, degree=5, kernel=sigmoid, score=0.43833333333333335, total=  52.2s\n",
      "[CV] C=0.19356704856532617, decision_function_shape=ovo, degree=2, kernel=linear \n",
      "[CV]  C=5.859464955561792, decision_function_shape=ovo, degree=5, kernel=sigmoid, score=0.4666666666666667, total=  52.5s\n",
      "[CV] C=0.19356704856532617, decision_function_shape=ovo, degree=2, kernel=linear \n",
      "[CV]  C=5.859464955561792, decision_function_shape=ovo, degree=5, kernel=sigmoid, score=0.44916666666666666, total=  54.1s\n",
      "[CV] C=0.19356704856532617, decision_function_shape=ovo, degree=2, kernel=linear \n",
      "[CV]  C=0.19356704856532617, decision_function_shape=ovo, degree=2, kernel=linear, score=0.745, total=  41.6s\n",
      "[CV] C=0.19356704856532617, decision_function_shape=ovo, degree=2, kernel=linear \n",
      "[CV]  C=5.859464955561792, decision_function_shape=ovo, degree=5, kernel=sigmoid, score=0.4166666666666667, total=  53.2s\n",
      "[CV] C=0.19356704856532617, decision_function_shape=ovo, degree=2, kernel=linear \n",
      "[CV]  C=0.19356704856532617, decision_function_shape=ovo, degree=2, kernel=linear, score=0.7216666666666667, total=  41.9s\n",
      "[CV] C=8.513861191973543, decision_function_shape=ovo, degree=5, kernel=rbf \n",
      "[CV]  C=0.19356704856532617, decision_function_shape=ovo, degree=2, kernel=linear, score=0.7191666666666666, total=  41.8s\n",
      "[CV] C=8.513861191973543, decision_function_shape=ovo, degree=5, kernel=rbf \n"
     ]
    },
    {
     "name": "stderr",
     "output_type": "stream",
     "text": [
      "[Parallel(n_jobs=-1)]: Done 173 tasks      | elapsed: 38.1min\n"
     ]
    },
    {
     "name": "stdout",
     "output_type": "stream",
     "text": [
      "[CV]  C=0.19356704856532617, decision_function_shape=ovo, degree=2, kernel=linear, score=0.7141666666666666, total=  40.2s\n",
      "[CV] C=8.513861191973543, decision_function_shape=ovo, degree=5, kernel=rbf \n",
      "[CV]  C=0.19356704856532617, decision_function_shape=ovo, degree=2, kernel=linear, score=0.7558333333333334, total=  42.3s\n",
      "[CV] C=8.513861191973543, decision_function_shape=ovo, degree=5, kernel=rbf \n",
      "[CV]  C=8.513861191973543, decision_function_shape=ovo, degree=5, kernel=rbf, score=0.4875, total=  55.4s\n",
      "[CV] C=8.513861191973543, decision_function_shape=ovo, degree=5, kernel=rbf \n",
      "[CV]  C=8.513861191973543, decision_function_shape=ovo, degree=5, kernel=rbf, score=0.43916666666666665, total=  53.9s\n",
      "[CV] C=5.628214798875714, decision_function_shape=ovo, degree=2, kernel=poly \n",
      "[CV]  C=8.513861191973543, decision_function_shape=ovo, degree=5, kernel=rbf, score=0.4666666666666667, total=  54.1s\n",
      "[CV] C=5.628214798875714, decision_function_shape=ovo, degree=2, kernel=poly \n",
      "[CV]  C=8.513861191973543, decision_function_shape=ovo, degree=5, kernel=rbf, score=0.44916666666666666, total=  54.0s\n",
      "[CV] C=5.628214798875714, decision_function_shape=ovo, degree=2, kernel=poly \n",
      "[CV]  C=8.513861191973543, decision_function_shape=ovo, degree=5, kernel=rbf, score=0.4166666666666667, total=  54.3s\n",
      "[CV] C=5.628214798875714, decision_function_shape=ovo, degree=2, kernel=poly \n",
      "[CV]  C=5.628214798875714, decision_function_shape=ovo, degree=2, kernel=poly, score=0.36, total=  49.2s\n",
      "[CV] C=5.628214798875714, decision_function_shape=ovo, degree=2, kernel=poly \n",
      "[CV]  C=5.628214798875714, decision_function_shape=ovo, degree=2, kernel=poly, score=0.355, total=  49.1s\n",
      "[CV] C=0.14695476192547066, decision_function_shape=ovr, degree=5, kernel=sigmoid \n",
      "[CV]  C=5.628214798875714, decision_function_shape=ovo, degree=2, kernel=poly, score=0.3625, total=  48.5s\n",
      "[CV] C=0.14695476192547066, decision_function_shape=ovr, degree=5, kernel=sigmoid \n",
      "[CV]  C=5.628214798875714, decision_function_shape=ovo, degree=2, kernel=poly, score=0.355, total=  49.3s\n",
      "[CV] C=0.14695476192547066, decision_function_shape=ovr, degree=5, kernel=sigmoid \n",
      "[CV]  C=5.628214798875714, decision_function_shape=ovo, degree=2, kernel=poly, score=0.3541666666666667, total=  50.9s\n",
      "[CV] C=0.14695476192547066, decision_function_shape=ovr, degree=5, kernel=sigmoid \n",
      "[CV]  C=0.14695476192547066, decision_function_shape=ovr, degree=5, kernel=sigmoid, score=0.43833333333333335, total=  53.5s\n",
      "[CV] C=0.14695476192547066, decision_function_shape=ovr, degree=5, kernel=sigmoid \n",
      "[CV]  C=0.14695476192547066, decision_function_shape=ovr, degree=5, kernel=sigmoid, score=0.4875, total=  54.2s\n",
      "[CV] C=7.137372792899162, decision_function_shape=ovr, degree=3, kernel=linear \n",
      "[CV]  C=0.14695476192547066, decision_function_shape=ovr, degree=5, kernel=sigmoid, score=0.4666666666666667, total=  53.6s\n",
      "[CV] C=7.137372792899162, decision_function_shape=ovr, degree=3, kernel=linear \n"
     ]
    },
    {
     "name": "stderr",
     "output_type": "stream",
     "text": [
      "/home/giuseppe/anaconda3/lib/python3.6/site-packages/sklearn/svm/base.py:218: ConvergenceWarning: Solver terminated early (max_iter=10000).  Consider pre-processing your data with StandardScaler or MinMaxScaler.\n",
      "  % self.max_iter, ConvergenceWarning)\n"
     ]
    },
    {
     "name": "stdout",
     "output_type": "stream",
     "text": [
      "[CV]  C=7.137372792899162, decision_function_shape=ovr, degree=3, kernel=linear, score=0.7358333333333333, total=  40.2s\n",
      "[CV] C=7.137372792899162, decision_function_shape=ovr, degree=3, kernel=linear \n",
      "[CV]  C=0.14695476192547066, decision_function_shape=ovr, degree=5, kernel=sigmoid, score=0.44916666666666666, total=  51.5s\n",
      "[CV] C=7.137372792899162, decision_function_shape=ovr, degree=3, kernel=linear \n",
      "[CV]  C=0.14695476192547066, decision_function_shape=ovr, degree=5, kernel=sigmoid, score=0.4166666666666667, total=  51.7s\n",
      "[CV] C=7.137372792899162, decision_function_shape=ovr, degree=3, kernel=linear \n"
     ]
    },
    {
     "name": "stderr",
     "output_type": "stream",
     "text": [
      "/home/giuseppe/anaconda3/lib/python3.6/site-packages/sklearn/svm/base.py:218: ConvergenceWarning: Solver terminated early (max_iter=10000).  Consider pre-processing your data with StandardScaler or MinMaxScaler.\n",
      "  % self.max_iter, ConvergenceWarning)\n"
     ]
    },
    {
     "name": "stdout",
     "output_type": "stream",
     "text": [
      "[CV]  C=7.137372792899162, decision_function_shape=ovr, degree=3, kernel=linear, score=0.7125, total=  40.0s\n",
      "[CV] C=2.58753143519958, decision_function_shape=ovr, degree=2, kernel=rbf \n"
     ]
    },
    {
     "name": "stderr",
     "output_type": "stream",
     "text": [
      "[Parallel(n_jobs=-1)]: Done 192 tasks      | elapsed: 41.8min\n",
      "/home/giuseppe/anaconda3/lib/python3.6/site-packages/sklearn/svm/base.py:218: ConvergenceWarning: Solver terminated early (max_iter=10000).  Consider pre-processing your data with StandardScaler or MinMaxScaler.\n",
      "  % self.max_iter, ConvergenceWarning)\n"
     ]
    },
    {
     "name": "stdout",
     "output_type": "stream",
     "text": [
      "[CV]  C=7.137372792899162, decision_function_shape=ovr, degree=3, kernel=linear, score=0.7066666666666667, total=  40.3s\n",
      "[CV] C=2.58753143519958, decision_function_shape=ovr, degree=2, kernel=rbf \n"
     ]
    },
    {
     "name": "stderr",
     "output_type": "stream",
     "text": [
      "/home/giuseppe/anaconda3/lib/python3.6/site-packages/sklearn/svm/base.py:218: ConvergenceWarning: Solver terminated early (max_iter=10000).  Consider pre-processing your data with StandardScaler or MinMaxScaler.\n",
      "  % self.max_iter, ConvergenceWarning)\n"
     ]
    },
    {
     "name": "stdout",
     "output_type": "stream",
     "text": [
      "[CV]  C=7.137372792899162, decision_function_shape=ovr, degree=3, kernel=linear, score=0.7325, total=  40.4s\n",
      "[CV] C=2.58753143519958, decision_function_shape=ovr, degree=2, kernel=rbf \n"
     ]
    },
    {
     "name": "stderr",
     "output_type": "stream",
     "text": [
      "/home/giuseppe/anaconda3/lib/python3.6/site-packages/sklearn/svm/base.py:218: ConvergenceWarning: Solver terminated early (max_iter=10000).  Consider pre-processing your data with StandardScaler or MinMaxScaler.\n",
      "  % self.max_iter, ConvergenceWarning)\n"
     ]
    },
    {
     "name": "stdout",
     "output_type": "stream",
     "text": [
      "[CV]  C=7.137372792899162, decision_function_shape=ovr, degree=3, kernel=linear, score=0.7091666666666666, total=  41.3s\n",
      "[CV] C=2.58753143519958, decision_function_shape=ovr, degree=2, kernel=rbf \n",
      "[CV]  C=2.58753143519958, decision_function_shape=ovr, degree=2, kernel=rbf, score=0.4875, total=  54.1s\n",
      "[CV] C=2.58753143519958, decision_function_shape=ovr, degree=2, kernel=rbf \n",
      "[CV]  C=2.58753143519958, decision_function_shape=ovr, degree=2, kernel=rbf, score=0.43916666666666665, total=  53.7s\n",
      "[CV]  C=2.58753143519958, decision_function_shape=ovr, degree=2, kernel=rbf, score=0.4666666666666667, total=  53.7s\n",
      "[CV]  C=2.58753143519958, decision_function_shape=ovr, degree=2, kernel=rbf, score=0.44916666666666666, total=  50.9s\n",
      "[CV]  C=2.58753143519958, decision_function_shape=ovr, degree=2, kernel=rbf, score=0.4166666666666667, total=  40.0s\n"
     ]
    },
    {
     "name": "stderr",
     "output_type": "stream",
     "text": [
      "[Parallel(n_jobs=-1)]: Done 200 out of 200 | elapsed: 43.4min finished\n"
     ]
    },
    {
     "name": "stdout",
     "output_type": "stream",
     "text": [
      "RandomizedSearchCV took 2631.10 seconds,  candidates checked: 40, best CV score: 0.749 ± 0.017\n",
      "Best parameters:\n",
      "{'C': 1.3892629765485331,\n",
      " 'decision_function_shape': 'ovo',\n",
      " 'degree': 3,\n",
      " 'kernel': 'linear'}\n",
      "\n"
     ]
    }
   ],
   "source": [
    "# RandomizedSearchCV needs the distribution of the experiments to be tested\n",
    "# If you can provide the right distribution, the sampling will lead to faster and better results.\n",
    "random_search = RandomizedSearchCV(clf_svm, \n",
    "                                   param_distributions={\"C\": uniform(0.1, 10),\n",
    "                                                        \"kernel\": [\"linear\", \"poly\", \"rbf\", \"sigmoid\"],\n",
    "                                                        \"degree\": [2, 3, 5],\n",
    "                                                        \"decision_function_shape\": [\"ovo\", \"ovr\"]\n",
    "                                                       },\n",
    "                                   n_iter=40,\n",
    "                                   n_jobs=-1,\n",
    "                                   cv=skf,\n",
    "                                   scoring='accuracy',\n",
    "                                   iid=False, # just return the average score across folds\n",
    "                                   return_train_score=False,\n",
    "                                   random_state=0,\n",
    "                                   verbose=10)\n",
    "\n",
    "best_params = report_perf(random_search, f_train, train_y, 'RandomizedSearchCV')"
   ]
  },
  {
   "cell_type": "markdown",
   "metadata": {},
   "source": [
    "Bayesian Search"
   ]
  },
  {
   "cell_type": "code",
   "execution_count": 226,
   "metadata": {},
   "outputs": [
    {
     "name": "stdout",
     "output_type": "stream",
     "text": [
      "Fitting 5 folds for each of 1 candidates, totalling 5 fits\n",
      "[CV] C=0.8232304684440651, decision_function_shape=ovr, degree=2, kernel=rbf \n",
      "[CV] C=0.8232304684440651, decision_function_shape=ovr, degree=2, kernel=rbf \n",
      "[CV] C=0.8232304684440651, decision_function_shape=ovr, degree=2, kernel=rbf \n",
      "[CV] C=0.8232304684440651, decision_function_shape=ovr, degree=2, kernel=rbf \n",
      "[CV]  C=0.8232304684440651, decision_function_shape=ovr, degree=2, kernel=rbf, score=0.4666666666666667, total=  46.2s\n",
      "[CV] C=0.8232304684440651, decision_function_shape=ovr, degree=2, kernel=rbf \n",
      "[CV]  C=0.8232304684440651, decision_function_shape=ovr, degree=2, kernel=rbf, score=0.4875, total=  46.5s\n",
      "[CV]  C=0.8232304684440651, decision_function_shape=ovr, degree=2, kernel=rbf, score=0.43916666666666665, total=  46.6s\n"
     ]
    },
    {
     "name": "stderr",
     "output_type": "stream",
     "text": [
      "[Parallel(n_jobs=-1)]: Done   2 out of   5 | elapsed:   46.5s remaining:  1.2min\n",
      "[Parallel(n_jobs=-1)]: Done   3 out of   5 | elapsed:   46.6s remaining:   31.1s\n"
     ]
    },
    {
     "name": "stdout",
     "output_type": "stream",
     "text": [
      "[CV]  C=0.8232304684440651, decision_function_shape=ovr, degree=2, kernel=rbf, score=0.44916666666666666, total=  46.6s\n",
      "[CV]  C=0.8232304684440651, decision_function_shape=ovr, degree=2, kernel=rbf, score=0.4166666666666667, total=  28.4s\n",
      "Fitting 5 folds for each of 1 candidates, totalling 5 fits\n"
     ]
    },
    {
     "name": "stderr",
     "output_type": "stream",
     "text": [
      "[Parallel(n_jobs=-1)]: Done   5 out of   5 | elapsed:  1.2min remaining:    0.0s\n",
      "[Parallel(n_jobs=-1)]: Done   5 out of   5 | elapsed:  1.2min finished\n"
     ]
    },
    {
     "name": "stdout",
     "output_type": "stream",
     "text": [
      "[CV] C=0.631696770892101, decision_function_shape=ovo, degree=2, kernel=rbf \n",
      "[CV] C=0.631696770892101, decision_function_shape=ovo, degree=2, kernel=rbf \n",
      "[CV] C=0.631696770892101, decision_function_shape=ovo, degree=2, kernel=rbf \n",
      "[CV] C=0.631696770892101, decision_function_shape=ovo, degree=2, kernel=rbf \n",
      "[CV]  C=0.631696770892101, decision_function_shape=ovo, degree=2, kernel=rbf, score=0.43916666666666665, total=  47.1s\n",
      "[CV] C=0.631696770892101, decision_function_shape=ovo, degree=2, kernel=rbf \n",
      "[CV]  C=0.631696770892101, decision_function_shape=ovo, degree=2, kernel=rbf, score=0.4666666666666667, total=  47.3s\n"
     ]
    },
    {
     "name": "stderr",
     "output_type": "stream",
     "text": [
      "[Parallel(n_jobs=-1)]: Done   2 out of   5 | elapsed:   47.4s remaining:  1.2min\n"
     ]
    },
    {
     "name": "stdout",
     "output_type": "stream",
     "text": [
      "[CV]  C=0.631696770892101, decision_function_shape=ovo, degree=2, kernel=rbf, score=0.4875, total=  48.2s\n",
      "[CV]  C=0.631696770892101, decision_function_shape=ovo, degree=2, kernel=rbf, score=0.44916666666666666, total=  48.2s\n"
     ]
    },
    {
     "name": "stderr",
     "output_type": "stream",
     "text": [
      "[Parallel(n_jobs=-1)]: Done   3 out of   5 | elapsed:   48.2s remaining:   32.2s\n"
     ]
    },
    {
     "name": "stdout",
     "output_type": "stream",
     "text": [
      "[CV]  C=0.631696770892101, decision_function_shape=ovo, degree=2, kernel=rbf, score=0.4166666666666667, total=  28.2s\n",
      "Fitting 5 folds for each of 1 candidates, totalling 5 fits\n"
     ]
    },
    {
     "name": "stderr",
     "output_type": "stream",
     "text": [
      "[Parallel(n_jobs=-1)]: Done   5 out of   5 | elapsed:  1.3min remaining:    0.0s\n",
      "[Parallel(n_jobs=-1)]: Done   5 out of   5 | elapsed:  1.3min finished\n"
     ]
    },
    {
     "name": "stdout",
     "output_type": "stream",
     "text": [
      "[CV] C=0.8121479730770874, decision_function_shape=ovo, degree=2, kernel=rbf \n",
      "[CV] C=0.8121479730770874, decision_function_shape=ovo, degree=2, kernel=rbf \n",
      "[CV] C=0.8121479730770874, decision_function_shape=ovo, degree=2, kernel=rbf \n",
      "[CV] C=0.8121479730770874, decision_function_shape=ovo, degree=2, kernel=rbf \n",
      "[CV]  C=0.8121479730770874, decision_function_shape=ovo, degree=2, kernel=rbf, score=0.4666666666666667, total=  48.5s\n",
      "[CV] C=0.8121479730770874, decision_function_shape=ovo, degree=2, kernel=rbf \n",
      "[CV]  C=0.8121479730770874, decision_function_shape=ovo, degree=2, kernel=rbf, score=0.44916666666666666, total=  48.6s\n",
      "[CV]  C=0.8121479730770874, decision_function_shape=ovo, degree=2, kernel=rbf, score=0.4875, total=  48.8s\n",
      "[CV]  C=0.8121479730770874, decision_function_shape=ovo, degree=2, kernel=rbf, score=0.43916666666666665, total=  48.8s\n"
     ]
    },
    {
     "name": "stderr",
     "output_type": "stream",
     "text": [
      "[Parallel(n_jobs=-1)]: Done   2 out of   5 | elapsed:   48.8s remaining:  1.2min\n",
      "[Parallel(n_jobs=-1)]: Done   3 out of   5 | elapsed:   48.9s remaining:   32.6s\n"
     ]
    },
    {
     "name": "stdout",
     "output_type": "stream",
     "text": [
      "[CV]  C=0.8121479730770874, decision_function_shape=ovo, degree=2, kernel=rbf, score=0.4166666666666667, total=  28.3s\n",
      "Fitting 5 folds for each of 1 candidates, totalling 5 fits\n"
     ]
    },
    {
     "name": "stderr",
     "output_type": "stream",
     "text": [
      "[Parallel(n_jobs=-1)]: Done   5 out of   5 | elapsed:  1.3min remaining:    0.0s\n",
      "[Parallel(n_jobs=-1)]: Done   5 out of   5 | elapsed:  1.3min finished\n"
     ]
    },
    {
     "name": "stdout",
     "output_type": "stream",
     "text": [
      "[CV] C=0.9037583196861, decision_function_shape=ovr, degree=5, kernel=poly \n",
      "[CV] C=0.9037583196861, decision_function_shape=ovr, degree=5, kernel=poly \n",
      "[CV] C=0.9037583196861, decision_function_shape=ovr, degree=5, kernel=poly \n",
      "[CV] C=0.9037583196861, decision_function_shape=ovr, degree=5, kernel=poly \n",
      "[CV]  C=0.9037583196861, decision_function_shape=ovr, degree=5, kernel=poly, score=0.67, total=  46.2s\n",
      "[CV] C=0.9037583196861, decision_function_shape=ovr, degree=5, kernel=poly \n",
      "[CV]  C=0.9037583196861, decision_function_shape=ovr, degree=5, kernel=poly, score=0.6483333333333333, total=  46.5s\n",
      "[CV]  C=0.9037583196861, decision_function_shape=ovr, degree=5, kernel=poly, score=0.6591666666666667, total=  46.5s\n",
      "[CV]  C=0.9037583196861, decision_function_shape=ovr, degree=5, kernel=poly, score=0.6808333333333333, total=  46.6s\n"
     ]
    },
    {
     "name": "stderr",
     "output_type": "stream",
     "text": [
      "[Parallel(n_jobs=-1)]: Done   2 out of   5 | elapsed:   46.6s remaining:  1.2min\n",
      "[Parallel(n_jobs=-1)]: Done   3 out of   5 | elapsed:   46.6s remaining:   31.1s\n"
     ]
    },
    {
     "name": "stdout",
     "output_type": "stream",
     "text": [
      "[CV]  C=0.9037583196861, decision_function_shape=ovr, degree=5, kernel=poly, score=0.6533333333333333, total=  26.4s\n",
      "Fitting 5 folds for each of 1 candidates, totalling 5 fits\n"
     ]
    },
    {
     "name": "stderr",
     "output_type": "stream",
     "text": [
      "[Parallel(n_jobs=-1)]: Done   5 out of   5 | elapsed:  1.2min remaining:    0.0s\n",
      "[Parallel(n_jobs=-1)]: Done   5 out of   5 | elapsed:  1.2min finished\n"
     ]
    },
    {
     "name": "stdout",
     "output_type": "stream",
     "text": [
      "[CV] C=0.13555620343854213, decision_function_shape=ovr, degree=3, kernel=rbf \n",
      "[CV] C=0.13555620343854213, decision_function_shape=ovr, degree=3, kernel=rbf \n",
      "[CV] C=0.13555620343854213, decision_function_shape=ovr, degree=3, kernel=rbf \n",
      "[CV] C=0.13555620343854213, decision_function_shape=ovr, degree=3, kernel=rbf \n",
      "[CV]  C=0.13555620343854213, decision_function_shape=ovr, degree=3, kernel=rbf, score=0.43916666666666665, total=  50.6s\n",
      "[CV] C=0.13555620343854213, decision_function_shape=ovr, degree=3, kernel=rbf \n",
      "[CV]  C=0.13555620343854213, decision_function_shape=ovr, degree=3, kernel=rbf, score=0.4875, total=  50.6s\n"
     ]
    },
    {
     "name": "stderr",
     "output_type": "stream",
     "text": [
      "[Parallel(n_jobs=-1)]: Done   2 out of   5 | elapsed:   50.7s remaining:  1.3min\n"
     ]
    },
    {
     "name": "stdout",
     "output_type": "stream",
     "text": [
      "[CV]  C=0.13555620343854213, decision_function_shape=ovr, degree=3, kernel=rbf, score=0.44916666666666666, total=  50.9s\n",
      "[CV]  C=0.13555620343854213, decision_function_shape=ovr, degree=3, kernel=rbf, score=0.4666666666666667, total=  51.0s\n"
     ]
    },
    {
     "name": "stderr",
     "output_type": "stream",
     "text": [
      "[Parallel(n_jobs=-1)]: Done   3 out of   5 | elapsed:   51.1s remaining:   34.1s\n"
     ]
    },
    {
     "name": "stdout",
     "output_type": "stream",
     "text": [
      "[CV]  C=0.13555620343854213, decision_function_shape=ovr, degree=3, kernel=rbf, score=0.4166666666666667, total=  28.1s\n",
      "Fitting 5 folds for each of 1 candidates, totalling 5 fits\n"
     ]
    },
    {
     "name": "stderr",
     "output_type": "stream",
     "text": [
      "[Parallel(n_jobs=-1)]: Done   5 out of   5 | elapsed:  1.3min remaining:    0.0s\n",
      "[Parallel(n_jobs=-1)]: Done   5 out of   5 | elapsed:  1.3min finished\n"
     ]
    },
    {
     "name": "stdout",
     "output_type": "stream",
     "text": [
      "[CV] C=0.47304327153594544, decision_function_shape=ovo, degree=5, kernel=poly \n",
      "[CV] C=0.47304327153594544, decision_function_shape=ovo, degree=5, kernel=poly \n",
      "[CV] C=0.47304327153594544, decision_function_shape=ovo, degree=5, kernel=poly \n",
      "[CV] C=0.47304327153594544, decision_function_shape=ovo, degree=5, kernel=poly \n",
      "[CV]  C=0.47304327153594544, decision_function_shape=ovo, degree=5, kernel=poly, score=0.6591666666666667, total=  45.4s\n",
      "[CV] C=0.47304327153594544, decision_function_shape=ovo, degree=5, kernel=poly \n",
      "[CV]  C=0.47304327153594544, decision_function_shape=ovo, degree=5, kernel=poly, score=0.6808333333333333, total=  45.7s\n",
      "[CV]  C=0.47304327153594544, decision_function_shape=ovo, degree=5, kernel=poly, score=0.67, total=  45.9s\n",
      "[CV]  C=0.47304327153594544, decision_function_shape=ovo, degree=5, kernel=poly, score=0.6483333333333333, total=  45.9s\n"
     ]
    },
    {
     "name": "stderr",
     "output_type": "stream",
     "text": [
      "[Parallel(n_jobs=-1)]: Done   2 out of   5 | elapsed:   45.9s remaining:  1.1min\n",
      "[Parallel(n_jobs=-1)]: Done   3 out of   5 | elapsed:   45.9s remaining:   30.6s\n"
     ]
    },
    {
     "name": "stdout",
     "output_type": "stream",
     "text": [
      "[CV]  C=0.47304327153594544, decision_function_shape=ovo, degree=5, kernel=poly, score=0.6533333333333333, total=  26.7s\n",
      "Fitting 5 folds for each of 1 candidates, totalling 5 fits\n"
     ]
    },
    {
     "name": "stderr",
     "output_type": "stream",
     "text": [
      "[Parallel(n_jobs=-1)]: Done   5 out of   5 | elapsed:  1.2min remaining:    0.0s\n",
      "[Parallel(n_jobs=-1)]: Done   5 out of   5 | elapsed:  1.2min finished\n"
     ]
    },
    {
     "name": "stdout",
     "output_type": "stream",
     "text": [
      "[CV] C=0.6414344635182291, decision_function_shape=ovo, degree=5, kernel=rbf \n",
      "[CV] C=0.6414344635182291, decision_function_shape=ovo, degree=5, kernel=rbf \n",
      "[CV] C=0.6414344635182291, decision_function_shape=ovo, degree=5, kernel=rbf \n",
      "[CV] C=0.6414344635182291, decision_function_shape=ovo, degree=5, kernel=rbf \n",
      "[CV]  C=0.6414344635182291, decision_function_shape=ovo, degree=5, kernel=rbf, score=0.4875, total=  50.6s\n",
      "[CV] C=0.6414344635182291, decision_function_shape=ovo, degree=5, kernel=rbf \n",
      "[CV]  C=0.6414344635182291, decision_function_shape=ovo, degree=5, kernel=rbf, score=0.43916666666666665, total=  50.7s\n"
     ]
    },
    {
     "name": "stderr",
     "output_type": "stream",
     "text": [
      "[Parallel(n_jobs=-1)]: Done   2 out of   5 | elapsed:   50.8s remaining:  1.3min\n"
     ]
    },
    {
     "name": "stdout",
     "output_type": "stream",
     "text": [
      "[CV]  C=0.6414344635182291, decision_function_shape=ovo, degree=5, kernel=rbf, score=0.4666666666666667, total=  51.1s\n",
      "[CV]  C=0.6414344635182291, decision_function_shape=ovo, degree=5, kernel=rbf, score=0.44916666666666666, total=  51.2s\n"
     ]
    },
    {
     "name": "stderr",
     "output_type": "stream",
     "text": [
      "[Parallel(n_jobs=-1)]: Done   3 out of   5 | elapsed:   51.2s remaining:   34.1s\n"
     ]
    },
    {
     "name": "stdout",
     "output_type": "stream",
     "text": [
      "[CV]  C=0.6414344635182291, decision_function_shape=ovo, degree=5, kernel=rbf, score=0.4166666666666667, total=  29.0s\n",
      "Fitting 5 folds for each of 1 candidates, totalling 5 fits\n"
     ]
    },
    {
     "name": "stderr",
     "output_type": "stream",
     "text": [
      "[Parallel(n_jobs=-1)]: Done   5 out of   5 | elapsed:  1.3min remaining:    0.0s\n",
      "[Parallel(n_jobs=-1)]: Done   5 out of   5 | elapsed:  1.3min finished\n"
     ]
    },
    {
     "name": "stdout",
     "output_type": "stream",
     "text": [
      "[CV] C=0.7593579035590943, decision_function_shape=ovr, degree=2, kernel=linear \n",
      "[CV] C=0.7593579035590943, decision_function_shape=ovr, degree=2, kernel=linear \n",
      "[CV] C=0.7593579035590943, decision_function_shape=ovr, degree=2, kernel=linear \n",
      "[CV] C=0.7593579035590943, decision_function_shape=ovr, degree=2, kernel=linear \n",
      "[CV]  C=0.7593579035590943, decision_function_shape=ovr, degree=2, kernel=linear, score=0.7716666666666666, total=  30.3s\n",
      "[CV] C=0.7593579035590943, decision_function_shape=ovr, degree=2, kernel=linear \n",
      "[CV]  C=0.7593579035590943, decision_function_shape=ovr, degree=2, kernel=linear, score=0.7558333333333334, total=  30.5s\n"
     ]
    },
    {
     "name": "stderr",
     "output_type": "stream",
     "text": [
      "[Parallel(n_jobs=-1)]: Done   2 out of   5 | elapsed:   30.5s remaining:   45.8s\n"
     ]
    },
    {
     "name": "stdout",
     "output_type": "stream",
     "text": [
      "[CV]  C=0.7593579035590943, decision_function_shape=ovr, degree=2, kernel=linear, score=0.7366666666666667, total=  31.0s\n"
     ]
    },
    {
     "name": "stderr",
     "output_type": "stream",
     "text": [
      "[Parallel(n_jobs=-1)]: Done   3 out of   5 | elapsed:   31.1s remaining:   20.7s\n"
     ]
    },
    {
     "name": "stdout",
     "output_type": "stream",
     "text": [
      "[CV]  C=0.7593579035590943, decision_function_shape=ovr, degree=2, kernel=linear, score=0.7708333333333334, total=  31.2s\n",
      "[CV]  C=0.7593579035590943, decision_function_shape=ovr, degree=2, kernel=linear, score=0.7358333333333333, total=  19.3s\n",
      "Fitting 5 folds for each of 1 candidates, totalling 5 fits\n"
     ]
    },
    {
     "name": "stderr",
     "output_type": "stream",
     "text": [
      "[Parallel(n_jobs=-1)]: Done   5 out of   5 | elapsed:   49.6s remaining:    0.0s\n",
      "[Parallel(n_jobs=-1)]: Done   5 out of   5 | elapsed:   49.6s finished\n"
     ]
    },
    {
     "name": "stdout",
     "output_type": "stream",
     "text": [
      "[CV] C=0.32908711718944217, decision_function_shape=ovo, degree=2, kernel=rbf \n",
      "[CV] C=0.32908711718944217, decision_function_shape=ovo, degree=2, kernel=rbf \n",
      "[CV] C=0.32908711718944217, decision_function_shape=ovo, degree=2, kernel=rbf \n",
      "[CV] C=0.32908711718944217, decision_function_shape=ovo, degree=2, kernel=rbf \n",
      "[CV]  C=0.32908711718944217, decision_function_shape=ovo, degree=2, kernel=rbf, score=0.4875, total=  51.2s\n",
      "[CV] C=0.32908711718944217, decision_function_shape=ovo, degree=2, kernel=rbf \n",
      "[CV]  C=0.32908711718944217, decision_function_shape=ovo, degree=2, kernel=rbf, score=0.4666666666666667, total=  51.7s\n",
      "[CV]  C=0.32908711718944217, decision_function_shape=ovo, degree=2, kernel=rbf, score=0.44916666666666666, total=  51.8s\n"
     ]
    },
    {
     "name": "stderr",
     "output_type": "stream",
     "text": [
      "[Parallel(n_jobs=-1)]: Done   2 out of   5 | elapsed:   51.7s remaining:  1.3min\n",
      "[Parallel(n_jobs=-1)]: Done   3 out of   5 | elapsed:   51.9s remaining:   34.6s\n"
     ]
    },
    {
     "name": "stdout",
     "output_type": "stream",
     "text": [
      "[CV]  C=0.32908711718944217, decision_function_shape=ovo, degree=2, kernel=rbf, score=0.43916666666666665, total=  52.0s\n",
      "[CV]  C=0.32908711718944217, decision_function_shape=ovo, degree=2, kernel=rbf, score=0.4166666666666667, total=  28.2s\n"
     ]
    },
    {
     "name": "stderr",
     "output_type": "stream",
     "text": [
      "[Parallel(n_jobs=-1)]: Done   5 out of   5 | elapsed:  1.3min remaining:    0.0s\n",
      "[Parallel(n_jobs=-1)]: Done   5 out of   5 | elapsed:  1.3min finished\n"
     ]
    },
    {
     "name": "stdout",
     "output_type": "stream",
     "text": [
      "Fitting 5 folds for each of 1 candidates, totalling 5 fits\n",
      "[CV] C=0.9991251139603246, decision_function_shape=ovo, degree=2, kernel=rbf \n",
      "[CV] C=0.9991251139603246, decision_function_shape=ovo, degree=2, kernel=rbf \n",
      "[CV] C=0.9991251139603246, decision_function_shape=ovo, degree=2, kernel=rbf \n",
      "[CV] C=0.9991251139603246, decision_function_shape=ovo, degree=2, kernel=rbf \n",
      "[CV]  C=0.9991251139603246, decision_function_shape=ovo, degree=2, kernel=rbf, score=0.4666666666666667, total=  48.8s\n",
      "[CV] C=0.9991251139603246, decision_function_shape=ovo, degree=2, kernel=rbf \n",
      "[CV]  C=0.9991251139603246, decision_function_shape=ovo, degree=2, kernel=rbf, score=0.4875, total=  48.9s\n",
      "[CV]  C=0.9991251139603246, decision_function_shape=ovo, degree=2, kernel=rbf, score=0.44916666666666666, total=  49.0s\n"
     ]
    },
    {
     "name": "stderr",
     "output_type": "stream",
     "text": [
      "[Parallel(n_jobs=-1)]: Done   2 out of   5 | elapsed:   49.0s remaining:  1.2min\n",
      "[Parallel(n_jobs=-1)]: Done   3 out of   5 | elapsed:   49.1s remaining:   32.8s\n"
     ]
    },
    {
     "name": "stdout",
     "output_type": "stream",
     "text": [
      "[CV]  C=0.9991251139603246, decision_function_shape=ovo, degree=2, kernel=rbf, score=0.43916666666666665, total=  49.2s\n",
      "[CV]  C=0.9991251139603246, decision_function_shape=ovo, degree=2, kernel=rbf, score=0.4166666666666667, total=  28.4s\n"
     ]
    },
    {
     "name": "stderr",
     "output_type": "stream",
     "text": [
      "[Parallel(n_jobs=-1)]: Done   5 out of   5 | elapsed:  1.3min remaining:    0.0s\n",
      "[Parallel(n_jobs=-1)]: Done   5 out of   5 | elapsed:  1.3min finished\n"
     ]
    },
    {
     "name": "stdout",
     "output_type": "stream",
     "text": [
      "Fitting 5 folds for each of 1 candidates, totalling 5 fits\n",
      "[CV] C=0.8090903163199893, decision_function_shape=ovr, degree=2, kernel=linear \n",
      "[CV] C=0.8090903163199893, decision_function_shape=ovr, degree=2, kernel=linear \n",
      "[CV] C=0.8090903163199893, decision_function_shape=ovr, degree=2, kernel=linear \n",
      "[CV] C=0.8090903163199893, decision_function_shape=ovr, degree=2, kernel=linear \n",
      "[CV]  C=0.8090903163199893, decision_function_shape=ovr, degree=2, kernel=linear, score=0.7725, total=  30.5s\n",
      "[CV] C=0.8090903163199893, decision_function_shape=ovr, degree=2, kernel=linear \n",
      "[CV]  C=0.8090903163199893, decision_function_shape=ovr, degree=2, kernel=linear, score=0.7575, total=  30.7s\n",
      "[CV]  C=0.8090903163199893, decision_function_shape=ovr, degree=2, kernel=linear, score=0.7358333333333333, total=  30.6s\n",
      "[CV]  C=0.8090903163199893, decision_function_shape=ovr, degree=2, kernel=linear, score=0.77, total=  30.7s\n"
     ]
    },
    {
     "name": "stderr",
     "output_type": "stream",
     "text": [
      "[Parallel(n_jobs=-1)]: Done   2 out of   5 | elapsed:   30.7s remaining:   46.1s\n",
      "[Parallel(n_jobs=-1)]: Done   3 out of   5 | elapsed:   30.7s remaining:   20.5s\n"
     ]
    },
    {
     "name": "stdout",
     "output_type": "stream",
     "text": [
      "[CV]  C=0.8090903163199893, decision_function_shape=ovr, degree=2, kernel=linear, score=0.7366666666666667, total=  18.6s\n"
     ]
    },
    {
     "name": "stderr",
     "output_type": "stream",
     "text": [
      "[Parallel(n_jobs=-1)]: Done   5 out of   5 | elapsed:   49.2s remaining:    0.0s\n",
      "[Parallel(n_jobs=-1)]: Done   5 out of   5 | elapsed:   49.2s finished\n"
     ]
    },
    {
     "name": "stdout",
     "output_type": "stream",
     "text": [
      "Fitting 5 folds for each of 1 candidates, totalling 5 fits\n",
      "[CV] C=0.9984504503646232, decision_function_shape=ovr, degree=2, kernel=linear \n",
      "[CV] C=0.9984504503646232, decision_function_shape=ovr, degree=2, kernel=linear \n",
      "[CV] C=0.9984504503646232, decision_function_shape=ovr, degree=2, kernel=linear \n",
      "[CV] C=0.9984504503646232, decision_function_shape=ovr, degree=2, kernel=linear \n",
      "[CV]  C=0.9984504503646232, decision_function_shape=ovr, degree=2, kernel=linear, score=0.7741666666666667, total=  31.2s\n",
      "[CV] C=0.9984504503646232, decision_function_shape=ovr, degree=2, kernel=linear \n",
      "[CV]  C=0.9984504503646232, decision_function_shape=ovr, degree=2, kernel=linear, score=0.7358333333333333, total=  31.4s\n",
      "[CV]  C=0.9984504503646232, decision_function_shape=ovr, degree=2, kernel=linear, score=0.7658333333333334, total=  31.4s\n",
      "[CV]  C=0.9984504503646232, decision_function_shape=ovr, degree=2, kernel=linear, score=0.7583333333333333, total=  31.5s\n"
     ]
    },
    {
     "name": "stderr",
     "output_type": "stream",
     "text": [
      "[Parallel(n_jobs=-1)]: Done   2 out of   5 | elapsed:   31.5s remaining:   47.2s\n",
      "[Parallel(n_jobs=-1)]: Done   3 out of   5 | elapsed:   31.6s remaining:   21.0s\n"
     ]
    },
    {
     "name": "stdout",
     "output_type": "stream",
     "text": [
      "[CV]  C=0.9984504503646232, decision_function_shape=ovr, degree=2, kernel=linear, score=0.7275, total=  18.5s\n"
     ]
    },
    {
     "name": "stderr",
     "output_type": "stream",
     "text": [
      "[Parallel(n_jobs=-1)]: Done   5 out of   5 | elapsed:   49.7s remaining:    0.0s\n",
      "[Parallel(n_jobs=-1)]: Done   5 out of   5 | elapsed:   49.7s finished\n"
     ]
    },
    {
     "name": "stdout",
     "output_type": "stream",
     "text": [
      "Fitting 5 folds for each of 1 candidates, totalling 5 fits\n",
      "[CV] C=0.01, decision_function_shape=ovr, degree=2, kernel=linear ....\n",
      "[CV] C=0.01, decision_function_shape=ovr, degree=2, kernel=linear ....\n",
      "[CV] C=0.01, decision_function_shape=ovr, degree=2, kernel=linear ....\n",
      "[CV] C=0.01, decision_function_shape=ovr, degree=2, kernel=linear ....\n",
      "[CV]  C=0.01, decision_function_shape=ovr, degree=2, kernel=linear, score=0.4875, total=  44.9s\n",
      "[CV] C=0.01, decision_function_shape=ovr, degree=2, kernel=linear ....\n",
      "[CV]  C=0.01, decision_function_shape=ovr, degree=2, kernel=linear, score=0.43833333333333335, total=  44.9s\n",
      "[CV]  C=0.01, decision_function_shape=ovr, degree=2, kernel=linear, score=0.4666666666666667, total=  45.0s\n"
     ]
    },
    {
     "name": "stderr",
     "output_type": "stream",
     "text": [
      "[Parallel(n_jobs=-1)]: Done   2 out of   5 | elapsed:   45.0s remaining:  1.1min\n",
      "[Parallel(n_jobs=-1)]: Done   3 out of   5 | elapsed:   45.0s remaining:   30.0s\n"
     ]
    },
    {
     "name": "stdout",
     "output_type": "stream",
     "text": [
      "[CV]  C=0.01, decision_function_shape=ovr, degree=2, kernel=linear, score=0.44916666666666666, total=  45.0s\n",
      "[CV]  C=0.01, decision_function_shape=ovr, degree=2, kernel=linear, score=0.4166666666666667, total=  26.3s\n"
     ]
    },
    {
     "name": "stderr",
     "output_type": "stream",
     "text": [
      "[Parallel(n_jobs=-1)]: Done   5 out of   5 | elapsed:  1.2min remaining:    0.0s\n",
      "[Parallel(n_jobs=-1)]: Done   5 out of   5 | elapsed:  1.2min finished\n"
     ]
    },
    {
     "name": "stdout",
     "output_type": "stream",
     "text": [
      "Fitting 5 folds for each of 1 candidates, totalling 5 fits\n",
      "[CV] C=0.8792710071329043, decision_function_shape=ovo, degree=2, kernel=linear \n",
      "[CV] C=0.8792710071329043, decision_function_shape=ovo, degree=2, kernel=linear \n",
      "[CV] C=0.8792710071329043, decision_function_shape=ovo, degree=2, kernel=linear \n",
      "[CV] C=0.8792710071329043, decision_function_shape=ovo, degree=2, kernel=linear \n",
      "[CV]  C=0.8792710071329043, decision_function_shape=ovo, degree=2, kernel=linear, score=0.7591666666666667, total=  31.5s\n",
      "[CV] C=0.8792710071329043, decision_function_shape=ovo, degree=2, kernel=linear \n",
      "[CV]  C=0.8792710071329043, decision_function_shape=ovo, degree=2, kernel=linear, score=0.775, total=  31.6s\n",
      "[CV]  C=0.8792710071329043, decision_function_shape=ovo, degree=2, kernel=linear, score=0.7375, total=  31.6s\n",
      "[CV]  C=0.8792710071329043, decision_function_shape=ovo, degree=2, kernel=linear, score=0.7683333333333333, total=  31.6s\n"
     ]
    },
    {
     "name": "stderr",
     "output_type": "stream",
     "text": [
      "[Parallel(n_jobs=-1)]: Done   2 out of   5 | elapsed:   31.6s remaining:   47.5s\n",
      "[Parallel(n_jobs=-1)]: Done   3 out of   5 | elapsed:   31.7s remaining:   21.1s\n"
     ]
    },
    {
     "name": "stdout",
     "output_type": "stream",
     "text": [
      "[CV]  C=0.8792710071329043, decision_function_shape=ovo, degree=2, kernel=linear, score=0.7341666666666666, total=  18.6s\n"
     ]
    },
    {
     "name": "stderr",
     "output_type": "stream",
     "text": [
      "[Parallel(n_jobs=-1)]: Done   5 out of   5 | elapsed:   50.2s remaining:    0.0s\n",
      "[Parallel(n_jobs=-1)]: Done   5 out of   5 | elapsed:   50.2s finished\n"
     ]
    },
    {
     "name": "stdout",
     "output_type": "stream",
     "text": [
      "Fitting 5 folds for each of 1 candidates, totalling 5 fits\n",
      "[CV] C=0.9520962671443952, decision_function_shape=ovr, degree=2, kernel=linear \n",
      "[CV] C=0.9520962671443952, decision_function_shape=ovr, degree=2, kernel=linear \n",
      "[CV] C=0.9520962671443952, decision_function_shape=ovr, degree=2, kernel=linear \n",
      "[CV] C=0.9520962671443952, decision_function_shape=ovr, degree=2, kernel=linear \n",
      "[CV]  C=0.9520962671443952, decision_function_shape=ovr, degree=2, kernel=linear, score=0.7333333333333333, total=  30.7s\n",
      "[CV] C=0.9520962671443952, decision_function_shape=ovr, degree=2, kernel=linear \n",
      "[CV]  C=0.9520962671443952, decision_function_shape=ovr, degree=2, kernel=linear, score=0.7766666666666666, total=  30.9s\n",
      "[CV]  C=0.9520962671443952, decision_function_shape=ovr, degree=2, kernel=linear, score=0.7575, total=  31.0s\n"
     ]
    },
    {
     "name": "stderr",
     "output_type": "stream",
     "text": [
      "[Parallel(n_jobs=-1)]: Done   2 out of   5 | elapsed:   30.9s remaining:   46.3s\n",
      "[Parallel(n_jobs=-1)]: Done   3 out of   5 | elapsed:   31.1s remaining:   20.7s\n"
     ]
    },
    {
     "name": "stdout",
     "output_type": "stream",
     "text": [
      "[CV]  C=0.9520962671443952, decision_function_shape=ovr, degree=2, kernel=linear, score=0.7675, total=  31.3s\n",
      "[CV]  C=0.9520962671443952, decision_function_shape=ovr, degree=2, kernel=linear, score=0.7291666666666666, total=  18.6s\n"
     ]
    },
    {
     "name": "stderr",
     "output_type": "stream",
     "text": [
      "[Parallel(n_jobs=-1)]: Done   5 out of   5 | elapsed:   49.5s remaining:    0.0s\n",
      "[Parallel(n_jobs=-1)]: Done   5 out of   5 | elapsed:   49.5s finished\n"
     ]
    },
    {
     "name": "stdout",
     "output_type": "stream",
     "text": [
      "Fitting 5 folds for each of 1 candidates, totalling 5 fits\n",
      "[CV] C=0.8799957930252557, decision_function_shape=ovr, degree=2, kernel=linear \n",
      "[CV] C=0.8799957930252557, decision_function_shape=ovr, degree=2, kernel=linear \n",
      "[CV] C=0.8799957930252557, decision_function_shape=ovr, degree=2, kernel=linear \n",
      "[CV] C=0.8799957930252557, decision_function_shape=ovr, degree=2, kernel=linear \n",
      "[CV]  C=0.8799957930252557, decision_function_shape=ovr, degree=2, kernel=linear, score=0.775, total=  30.5s\n",
      "[CV] C=0.8799957930252557, decision_function_shape=ovr, degree=2, kernel=linear \n",
      "[CV]  C=0.8799957930252557, decision_function_shape=ovr, degree=2, kernel=linear, score=0.7591666666666667, total=  30.6s\n"
     ]
    },
    {
     "name": "stderr",
     "output_type": "stream",
     "text": [
      "[Parallel(n_jobs=-1)]: Done   2 out of   5 | elapsed:   30.6s remaining:   45.9s\n"
     ]
    },
    {
     "name": "stdout",
     "output_type": "stream",
     "text": [
      "[CV]  C=0.8799957930252557, decision_function_shape=ovr, degree=2, kernel=linear, score=0.735, total=  30.8s\n",
      "[CV]  C=0.8799957930252557, decision_function_shape=ovr, degree=2, kernel=linear, score=0.7683333333333333, total=  30.9s\n"
     ]
    },
    {
     "name": "stderr",
     "output_type": "stream",
     "text": [
      "[Parallel(n_jobs=-1)]: Done   3 out of   5 | elapsed:   30.9s remaining:   20.6s\n"
     ]
    },
    {
     "name": "stdout",
     "output_type": "stream",
     "text": [
      "[CV]  C=0.8799957930252557, decision_function_shape=ovr, degree=2, kernel=linear, score=0.7341666666666666, total=  18.7s\n"
     ]
    },
    {
     "name": "stderr",
     "output_type": "stream",
     "text": [
      "[Parallel(n_jobs=-1)]: Done   5 out of   5 | elapsed:   49.2s remaining:    0.0s\n",
      "[Parallel(n_jobs=-1)]: Done   5 out of   5 | elapsed:   49.2s finished\n"
     ]
    },
    {
     "name": "stdout",
     "output_type": "stream",
     "text": [
      "Fitting 5 folds for each of 1 candidates, totalling 5 fits\n",
      "[CV] C=1.0, decision_function_shape=ovr, degree=2, kernel=linear .....\n",
      "[CV] C=1.0, decision_function_shape=ovr, degree=2, kernel=linear .....\n",
      "[CV] C=1.0, decision_function_shape=ovr, degree=2, kernel=linear .....\n",
      "[CV] C=1.0, decision_function_shape=ovr, degree=2, kernel=linear .....\n",
      "[CV]  C=1.0, decision_function_shape=ovr, degree=2, kernel=linear, score=0.7741666666666667, total=  31.2s\n",
      "[CV] C=1.0, decision_function_shape=ovr, degree=2, kernel=linear .....\n",
      "[CV]  C=1.0, decision_function_shape=ovr, degree=2, kernel=linear, score=0.7358333333333333, total=  31.3s\n",
      "[CV]  C=1.0, decision_function_shape=ovr, degree=2, kernel=linear, score=0.7583333333333333, total=  31.5s\n",
      "[CV]  C=1.0, decision_function_shape=ovr, degree=2, kernel=linear, score=0.7658333333333334, total=  31.4s\n"
     ]
    },
    {
     "name": "stderr",
     "output_type": "stream",
     "text": [
      "[Parallel(n_jobs=-1)]: Done   2 out of   5 | elapsed:   31.4s remaining:   47.1s\n",
      "[Parallel(n_jobs=-1)]: Done   3 out of   5 | elapsed:   31.5s remaining:   21.0s\n"
     ]
    },
    {
     "name": "stdout",
     "output_type": "stream",
     "text": [
      "[CV]  C=1.0, decision_function_shape=ovr, degree=2, kernel=linear, score=0.7283333333333334, total=  18.4s\n"
     ]
    },
    {
     "name": "stderr",
     "output_type": "stream",
     "text": [
      "[Parallel(n_jobs=-1)]: Done   5 out of   5 | elapsed:   49.7s remaining:    0.0s\n",
      "[Parallel(n_jobs=-1)]: Done   5 out of   5 | elapsed:   49.7s finished\n",
      "/home/giuseppe/anaconda3/lib/python3.6/site-packages/skopt/optimizer/optimizer.py:399: UserWarning: The objective has been evaluated at this point before.\n",
      "  warnings.warn(\"The objective has been evaluated \"\n"
     ]
    },
    {
     "name": "stdout",
     "output_type": "stream",
     "text": [
      "Fitting 5 folds for each of 1 candidates, totalling 5 fits\n",
      "[CV] C=1.0, decision_function_shape=ovr, degree=2, kernel=linear .....\n",
      "[CV] C=1.0, decision_function_shape=ovr, degree=2, kernel=linear .....\n",
      "[CV] C=1.0, decision_function_shape=ovr, degree=2, kernel=linear .....\n",
      "[CV] C=1.0, decision_function_shape=ovr, degree=2, kernel=linear .....\n",
      "[CV]  C=1.0, decision_function_shape=ovr, degree=2, kernel=linear, score=0.7358333333333333, total=  31.0s\n",
      "[CV] C=1.0, decision_function_shape=ovr, degree=2, kernel=linear .....\n",
      "[CV]  C=1.0, decision_function_shape=ovr, degree=2, kernel=linear, score=0.7583333333333333, total=  31.3s\n",
      "[CV]  C=1.0, decision_function_shape=ovr, degree=2, kernel=linear, score=0.7741666666666667, total=  31.3s\n"
     ]
    },
    {
     "name": "stderr",
     "output_type": "stream",
     "text": [
      "[Parallel(n_jobs=-1)]: Done   2 out of   5 | elapsed:   31.3s remaining:   47.0s\n",
      "[Parallel(n_jobs=-1)]: Done   3 out of   5 | elapsed:   31.4s remaining:   20.9s\n"
     ]
    },
    {
     "name": "stdout",
     "output_type": "stream",
     "text": [
      "[CV]  C=1.0, decision_function_shape=ovr, degree=2, kernel=linear, score=0.7658333333333334, total=  31.6s\n",
      "[CV]  C=1.0, decision_function_shape=ovr, degree=2, kernel=linear, score=0.7283333333333334, total=  18.5s\n"
     ]
    },
    {
     "name": "stderr",
     "output_type": "stream",
     "text": [
      "[Parallel(n_jobs=-1)]: Done   5 out of   5 | elapsed:   49.6s remaining:    0.0s\n",
      "[Parallel(n_jobs=-1)]: Done   5 out of   5 | elapsed:   49.6s finished\n"
     ]
    },
    {
     "name": "stdout",
     "output_type": "stream",
     "text": [
      "Fitting 5 folds for each of 1 candidates, totalling 5 fits\n",
      "[CV] C=0.8955821454762912, decision_function_shape=ovr, degree=2, kernel=linear \n",
      "[CV] C=0.8955821454762912, decision_function_shape=ovr, degree=2, kernel=linear \n",
      "[CV] C=0.8955821454762912, decision_function_shape=ovr, degree=2, kernel=linear \n",
      "[CV] C=0.8955821454762912, decision_function_shape=ovr, degree=2, kernel=linear \n",
      "[CV]  C=0.8955821454762912, decision_function_shape=ovr, degree=2, kernel=linear, score=0.7758333333333334, total=  30.3s\n",
      "[CV] C=0.8955821454762912, decision_function_shape=ovr, degree=2, kernel=linear \n",
      "[CV]  C=0.8955821454762912, decision_function_shape=ovr, degree=2, kernel=linear, score=0.7333333333333333, total=  30.4s\n",
      "[CV]  C=0.8955821454762912, decision_function_shape=ovr, degree=2, kernel=linear, score=0.7575, total=  30.6s\n"
     ]
    },
    {
     "name": "stderr",
     "output_type": "stream",
     "text": [
      "[Parallel(n_jobs=-1)]: Done   2 out of   5 | elapsed:   30.5s remaining:   45.7s\n",
      "[Parallel(n_jobs=-1)]: Done   3 out of   5 | elapsed:   30.6s remaining:   20.4s\n"
     ]
    },
    {
     "name": "stdout",
     "output_type": "stream",
     "text": [
      "[CV]  C=0.8955821454762912, decision_function_shape=ovr, degree=2, kernel=linear, score=0.7683333333333333, total=  30.7s\n",
      "[CV]  C=0.8955821454762912, decision_function_shape=ovr, degree=2, kernel=linear, score=0.7325, total=  18.5s\n"
     ]
    },
    {
     "name": "stderr",
     "output_type": "stream",
     "text": [
      "[Parallel(n_jobs=-1)]: Done   5 out of   5 | elapsed:   48.9s remaining:    0.0s\n",
      "[Parallel(n_jobs=-1)]: Done   5 out of   5 | elapsed:   48.9s finished\n"
     ]
    },
    {
     "name": "stdout",
     "output_type": "stream",
     "text": [
      "Fitting 5 folds for each of 1 candidates, totalling 5 fits\n",
      "[CV] C=1.0, decision_function_shape=ovo, degree=2, kernel=linear .....\n",
      "[CV] C=1.0, decision_function_shape=ovo, degree=2, kernel=linear .....\n",
      "[CV] C=1.0, decision_function_shape=ovo, degree=2, kernel=linear .....\n",
      "[CV] C=1.0, decision_function_shape=ovo, degree=2, kernel=linear .....\n",
      "[CV]  C=1.0, decision_function_shape=ovo, degree=2, kernel=linear, score=0.7741666666666667, total=  30.9s\n",
      "[CV] C=1.0, decision_function_shape=ovo, degree=2, kernel=linear .....\n",
      "[CV]  C=1.0, decision_function_shape=ovo, degree=2, kernel=linear, score=0.7583333333333333, total=  30.9s\n",
      "[CV]  C=1.0, decision_function_shape=ovo, degree=2, kernel=linear, score=0.7358333333333333, total=  31.1s\n"
     ]
    },
    {
     "name": "stderr",
     "output_type": "stream",
     "text": [
      "[Parallel(n_jobs=-1)]: Done   2 out of   5 | elapsed:   30.9s remaining:   46.4s\n",
      "[Parallel(n_jobs=-1)]: Done   3 out of   5 | elapsed:   31.1s remaining:   20.8s\n"
     ]
    },
    {
     "name": "stdout",
     "output_type": "stream",
     "text": [
      "[CV]  C=1.0, decision_function_shape=ovo, degree=2, kernel=linear, score=0.7658333333333334, total=  31.3s\n",
      "[CV]  C=1.0, decision_function_shape=ovo, degree=2, kernel=linear, score=0.7283333333333334, total=  18.4s\n"
     ]
    },
    {
     "name": "stderr",
     "output_type": "stream",
     "text": [
      "[Parallel(n_jobs=-1)]: Done   5 out of   5 | elapsed:   49.3s remaining:    0.0s\n",
      "[Parallel(n_jobs=-1)]: Done   5 out of   5 | elapsed:   49.3s finished\n"
     ]
    },
    {
     "name": "stdout",
     "output_type": "stream",
     "text": [
      "Fitting 5 folds for each of 1 candidates, totalling 5 fits\n",
      "[CV] C=0.9043586171170431, decision_function_shape=ovo, degree=2, kernel=linear \n",
      "[CV] C=0.9043586171170431, decision_function_shape=ovo, degree=2, kernel=linear \n",
      "[CV] C=0.9043586171170431, decision_function_shape=ovo, degree=2, kernel=linear \n",
      "[CV] C=0.9043586171170431, decision_function_shape=ovo, degree=2, kernel=linear \n",
      "[CV]  C=0.9043586171170431, decision_function_shape=ovo, degree=2, kernel=linear, score=0.7583333333333333, total=  33.0s\n",
      "[CV] C=0.9043586171170431, decision_function_shape=ovo, degree=2, kernel=linear \n",
      "[CV]  C=0.9043586171170431, decision_function_shape=ovo, degree=2, kernel=linear, score=0.7683333333333333, total=  33.5s\n",
      "[CV]  C=0.9043586171170431, decision_function_shape=ovo, degree=2, kernel=linear, score=0.7316666666666667, total=  33.7s\n",
      "[CV]  C=0.9043586171170431, decision_function_shape=ovo, degree=2, kernel=linear, score=0.7766666666666666, total=  33.8s\n"
     ]
    },
    {
     "name": "stderr",
     "output_type": "stream",
     "text": [
      "[Parallel(n_jobs=-1)]: Done   2 out of   5 | elapsed:   33.7s remaining:   50.5s\n",
      "[Parallel(n_jobs=-1)]: Done   3 out of   5 | elapsed:   33.8s remaining:   22.5s\n"
     ]
    },
    {
     "name": "stdout",
     "output_type": "stream",
     "text": [
      "[CV]  C=0.9043586171170431, decision_function_shape=ovo, degree=2, kernel=linear, score=0.7316666666666667, total=  18.7s\n"
     ]
    },
    {
     "name": "stderr",
     "output_type": "stream",
     "text": [
      "[Parallel(n_jobs=-1)]: Done   5 out of   5 | elapsed:   51.8s remaining:    0.0s\n",
      "[Parallel(n_jobs=-1)]: Done   5 out of   5 | elapsed:   51.8s finished\n"
     ]
    },
    {
     "name": "stdout",
     "output_type": "stream",
     "text": [
      "Fitting 5 folds for each of 1 candidates, totalling 5 fits\n",
      "[CV] C=0.9095032804670377, decision_function_shape=ovr, degree=3, kernel=linear \n",
      "[CV] C=0.9095032804670377, decision_function_shape=ovr, degree=3, kernel=linear \n",
      "[CV] C=0.9095032804670377, decision_function_shape=ovr, degree=3, kernel=linear \n",
      "[CV] C=0.9095032804670377, decision_function_shape=ovr, degree=3, kernel=linear \n",
      "[CV]  C=0.9095032804670377, decision_function_shape=ovr, degree=3, kernel=linear, score=0.7566666666666667, total=  31.3s\n",
      "[CV] C=0.9095032804670377, decision_function_shape=ovr, degree=3, kernel=linear \n",
      "[CV]  C=0.9095032804670377, decision_function_shape=ovr, degree=3, kernel=linear, score=0.7325, total=  31.4s\n",
      "[CV]  C=0.9095032804670377, decision_function_shape=ovr, degree=3, kernel=linear, score=0.7766666666666666, total=  31.6s\n"
     ]
    },
    {
     "name": "stderr",
     "output_type": "stream",
     "text": [
      "[Parallel(n_jobs=-1)]: Done   2 out of   5 | elapsed:   31.4s remaining:   47.2s\n",
      "[Parallel(n_jobs=-1)]: Done   3 out of   5 | elapsed:   31.6s remaining:   21.1s\n"
     ]
    },
    {
     "name": "stdout",
     "output_type": "stream",
     "text": [
      "[CV]  C=0.9095032804670377, decision_function_shape=ovr, degree=3, kernel=linear, score=0.7683333333333333, total=  31.7s\n",
      "[CV]  C=0.9095032804670377, decision_function_shape=ovr, degree=3, kernel=linear, score=0.7316666666666667, total=  18.5s\n"
     ]
    },
    {
     "name": "stderr",
     "output_type": "stream",
     "text": [
      "[Parallel(n_jobs=-1)]: Done   5 out of   5 | elapsed:   49.9s remaining:    0.0s\n",
      "[Parallel(n_jobs=-1)]: Done   5 out of   5 | elapsed:   49.9s finished\n"
     ]
    },
    {
     "name": "stdout",
     "output_type": "stream",
     "text": [
      "Fitting 5 folds for each of 1 candidates, totalling 5 fits\n",
      "[CV] C=0.9040644948095967, decision_function_shape=ovr, degree=2, kernel=linear \n",
      "[CV] C=0.9040644948095967, decision_function_shape=ovr, degree=2, kernel=linear \n",
      "[CV] C=0.9040644948095967, decision_function_shape=ovr, degree=2, kernel=linear \n",
      "[CV] C=0.9040644948095967, decision_function_shape=ovr, degree=2, kernel=linear \n",
      "[CV]  C=0.9040644948095967, decision_function_shape=ovr, degree=2, kernel=linear, score=0.7583333333333333, total=  30.3s\n",
      "[CV] C=0.9040644948095967, decision_function_shape=ovr, degree=2, kernel=linear \n",
      "[CV]  C=0.9040644948095967, decision_function_shape=ovr, degree=2, kernel=linear, score=0.7766666666666666, total=  30.5s\n"
     ]
    },
    {
     "name": "stderr",
     "output_type": "stream",
     "text": [
      "[Parallel(n_jobs=-1)]: Done   2 out of   5 | elapsed:   30.5s remaining:   45.8s\n"
     ]
    },
    {
     "name": "stdout",
     "output_type": "stream",
     "text": [
      "[CV]  C=0.9040644948095967, decision_function_shape=ovr, degree=2, kernel=linear, score=0.7325, total=  30.8s\n"
     ]
    },
    {
     "name": "stderr",
     "output_type": "stream",
     "text": [
      "[Parallel(n_jobs=-1)]: Done   3 out of   5 | elapsed:   30.9s remaining:   20.6s\n"
     ]
    },
    {
     "name": "stdout",
     "output_type": "stream",
     "text": [
      "[CV]  C=0.9040644948095967, decision_function_shape=ovr, degree=2, kernel=linear, score=0.7683333333333333, total=  31.0s\n",
      "[CV]  C=0.9040644948095967, decision_function_shape=ovr, degree=2, kernel=linear, score=0.7316666666666667, total=  18.6s\n"
     ]
    },
    {
     "name": "stderr",
     "output_type": "stream",
     "text": [
      "[Parallel(n_jobs=-1)]: Done   5 out of   5 | elapsed:   49.0s remaining:    0.0s\n",
      "[Parallel(n_jobs=-1)]: Done   5 out of   5 | elapsed:   49.0s finished\n",
      "/home/giuseppe/anaconda3/lib/python3.6/site-packages/skopt/optimizer/optimizer.py:399: UserWarning: The objective has been evaluated at this point before.\n",
      "  warnings.warn(\"The objective has been evaluated \"\n"
     ]
    },
    {
     "name": "stdout",
     "output_type": "stream",
     "text": [
      "Fitting 5 folds for each of 1 candidates, totalling 5 fits\n",
      "[CV] C=1.0, decision_function_shape=ovo, degree=2, kernel=linear .....\n",
      "[CV] C=1.0, decision_function_shape=ovo, degree=2, kernel=linear .....\n",
      "[CV] C=1.0, decision_function_shape=ovo, degree=2, kernel=linear .....\n",
      "[CV] C=1.0, decision_function_shape=ovo, degree=2, kernel=linear .....\n",
      "[CV]  C=1.0, decision_function_shape=ovo, degree=2, kernel=linear, score=0.7741666666666667, total=  31.3s\n",
      "[CV] C=1.0, decision_function_shape=ovo, degree=2, kernel=linear .....\n",
      "[CV]  C=1.0, decision_function_shape=ovo, degree=2, kernel=linear, score=0.7583333333333333, total=  31.4s\n"
     ]
    },
    {
     "name": "stderr",
     "output_type": "stream",
     "text": [
      "[Parallel(n_jobs=-1)]: Done   2 out of   5 | elapsed:   31.5s remaining:   47.2s\n"
     ]
    },
    {
     "name": "stdout",
     "output_type": "stream",
     "text": [
      "[CV]  C=1.0, decision_function_shape=ovo, degree=2, kernel=linear, score=0.7358333333333333, total=  31.8s\n",
      "[CV]  C=1.0, decision_function_shape=ovo, degree=2, kernel=linear, score=0.7658333333333334, total=  31.9s\n"
     ]
    },
    {
     "name": "stderr",
     "output_type": "stream",
     "text": [
      "[Parallel(n_jobs=-1)]: Done   3 out of   5 | elapsed:   31.9s remaining:   21.3s\n"
     ]
    },
    {
     "name": "stdout",
     "output_type": "stream",
     "text": [
      "[CV]  C=1.0, decision_function_shape=ovo, degree=2, kernel=linear, score=0.7283333333333334, total=  18.4s\n"
     ]
    },
    {
     "name": "stderr",
     "output_type": "stream",
     "text": [
      "[Parallel(n_jobs=-1)]: Done   5 out of   5 | elapsed:   49.8s remaining:    0.0s\n",
      "[Parallel(n_jobs=-1)]: Done   5 out of   5 | elapsed:   49.8s finished\n",
      "/home/giuseppe/anaconda3/lib/python3.6/site-packages/skopt/optimizer/optimizer.py:399: UserWarning: The objective has been evaluated at this point before.\n",
      "  warnings.warn(\"The objective has been evaluated \"\n"
     ]
    },
    {
     "name": "stdout",
     "output_type": "stream",
     "text": [
      "Fitting 5 folds for each of 1 candidates, totalling 5 fits\n",
      "[CV] C=1.0, decision_function_shape=ovo, degree=2, kernel=linear .....\n",
      "[CV] C=1.0, decision_function_shape=ovo, degree=2, kernel=linear .....\n",
      "[CV] C=1.0, decision_function_shape=ovo, degree=2, kernel=linear .....\n",
      "[CV] C=1.0, decision_function_shape=ovo, degree=2, kernel=linear .....\n",
      "[CV]  C=1.0, decision_function_shape=ovo, degree=2, kernel=linear, score=0.7658333333333334, total=  33.4s\n",
      "[CV] C=1.0, decision_function_shape=ovo, degree=2, kernel=linear .....\n",
      "[CV]  C=1.0, decision_function_shape=ovo, degree=2, kernel=linear, score=0.7741666666666667, total=  33.6s\n"
     ]
    },
    {
     "name": "stderr",
     "output_type": "stream",
     "text": [
      "[Parallel(n_jobs=-1)]: Done   2 out of   5 | elapsed:   33.7s remaining:   50.5s\n"
     ]
    },
    {
     "name": "stdout",
     "output_type": "stream",
     "text": [
      "[CV]  C=1.0, decision_function_shape=ovo, degree=2, kernel=linear, score=0.7358333333333333, total=  33.9s\n",
      "[CV]  C=1.0, decision_function_shape=ovo, degree=2, kernel=linear, score=0.7583333333333333, total=  33.9s\n"
     ]
    },
    {
     "name": "stderr",
     "output_type": "stream",
     "text": [
      "[Parallel(n_jobs=-1)]: Done   3 out of   5 | elapsed:   34.0s remaining:   22.6s\n"
     ]
    },
    {
     "name": "stdout",
     "output_type": "stream",
     "text": [
      "[CV]  C=1.0, decision_function_shape=ovo, degree=2, kernel=linear, score=0.7283333333333334, total=  18.5s\n"
     ]
    },
    {
     "name": "stderr",
     "output_type": "stream",
     "text": [
      "[Parallel(n_jobs=-1)]: Done   5 out of   5 | elapsed:   52.0s remaining:    0.0s\n",
      "[Parallel(n_jobs=-1)]: Done   5 out of   5 | elapsed:   52.0s finished\n"
     ]
    },
    {
     "name": "stdout",
     "output_type": "stream",
     "text": [
      "Fitting 5 folds for each of 1 candidates, totalling 5 fits\n",
      "[CV] C=0.9246639170410046, decision_function_shape=ovo, degree=2, kernel=linear \n",
      "[CV] C=0.9246639170410046, decision_function_shape=ovo, degree=2, kernel=linear \n",
      "[CV] C=0.9246639170410046, decision_function_shape=ovo, degree=2, kernel=linear \n",
      "[CV] C=0.9246639170410046, decision_function_shape=ovo, degree=2, kernel=linear \n",
      "[CV]  C=0.9246639170410046, decision_function_shape=ovo, degree=2, kernel=linear, score=0.7575, total=  31.2s\n",
      "[CV] C=0.9246639170410046, decision_function_shape=ovo, degree=2, kernel=linear \n",
      "[CV]  C=0.9246639170410046, decision_function_shape=ovo, degree=2, kernel=linear, score=0.7775, total=  31.4s\n",
      "[CV]  C=0.9246639170410046, decision_function_shape=ovo, degree=2, kernel=linear, score=0.7325, total=  31.5s\n"
     ]
    },
    {
     "name": "stderr",
     "output_type": "stream",
     "text": [
      "[Parallel(n_jobs=-1)]: Done   2 out of   5 | elapsed:   31.4s remaining:   47.1s\n",
      "[Parallel(n_jobs=-1)]: Done   3 out of   5 | elapsed:   31.6s remaining:   21.1s\n"
     ]
    },
    {
     "name": "stdout",
     "output_type": "stream",
     "text": [
      "[CV]  C=0.9246639170410046, decision_function_shape=ovo, degree=2, kernel=linear, score=0.7691666666666667, total=  32.0s\n",
      "[CV]  C=0.9246639170410046, decision_function_shape=ovo, degree=2, kernel=linear, score=0.7316666666666667, total=  18.7s\n"
     ]
    },
    {
     "name": "stderr",
     "output_type": "stream",
     "text": [
      "[Parallel(n_jobs=-1)]: Done   5 out of   5 | elapsed:   50.0s remaining:    0.0s\n",
      "[Parallel(n_jobs=-1)]: Done   5 out of   5 | elapsed:   50.0s finished\n"
     ]
    },
    {
     "name": "stdout",
     "output_type": "stream",
     "text": [
      "Fitting 5 folds for each of 1 candidates, totalling 5 fits\n",
      "[CV] C=0.01, decision_function_shape=ovo, degree=2, kernel=sigmoid ...\n",
      "[CV] C=0.01, decision_function_shape=ovo, degree=2, kernel=sigmoid ...\n",
      "[CV] C=0.01, decision_function_shape=ovo, degree=2, kernel=sigmoid ...\n",
      "[CV] C=0.01, decision_function_shape=ovo, degree=2, kernel=sigmoid ...\n",
      "[CV]  C=0.01, decision_function_shape=ovo, degree=2, kernel=sigmoid, score=0.44916666666666666, total=  48.5s\n",
      "[CV]  C=0.01, decision_function_shape=ovo, degree=2, kernel=sigmoid, score=0.4666666666666667, total=  48.6s\n",
      "[CV] C=0.01, decision_function_shape=ovo, degree=2, kernel=sigmoid ...\n"
     ]
    },
    {
     "name": "stderr",
     "output_type": "stream",
     "text": [
      "[Parallel(n_jobs=-1)]: Done   2 out of   5 | elapsed:   48.7s remaining:  1.2min\n"
     ]
    },
    {
     "name": "stdout",
     "output_type": "stream",
     "text": [
      "[CV]  C=0.01, decision_function_shape=ovo, degree=2, kernel=sigmoid, score=0.4875, total=  48.9s\n",
      "[CV]  C=0.01, decision_function_shape=ovo, degree=2, kernel=sigmoid, score=0.43833333333333335, total=  48.9s\n"
     ]
    },
    {
     "name": "stderr",
     "output_type": "stream",
     "text": [
      "[Parallel(n_jobs=-1)]: Done   3 out of   5 | elapsed:   48.9s remaining:   32.6s\n"
     ]
    },
    {
     "name": "stdout",
     "output_type": "stream",
     "text": [
      "[CV]  C=0.01, decision_function_shape=ovo, degree=2, kernel=sigmoid, score=0.4166666666666667, total=  27.8s\n"
     ]
    },
    {
     "name": "stderr",
     "output_type": "stream",
     "text": [
      "[Parallel(n_jobs=-1)]: Done   5 out of   5 | elapsed:  1.3min remaining:    0.0s\n",
      "[Parallel(n_jobs=-1)]: Done   5 out of   5 | elapsed:  1.3min finished\n"
     ]
    },
    {
     "name": "stdout",
     "output_type": "stream",
     "text": [
      "Fitting 5 folds for each of 1 candidates, totalling 5 fits\n",
      "[CV] C=0.01, decision_function_shape=ovr, degree=2, kernel=poly ......\n",
      "[CV] C=0.01, decision_function_shape=ovr, degree=2, kernel=poly ......\n",
      "[CV] C=0.01, decision_function_shape=ovr, degree=2, kernel=poly ......\n",
      "[CV] C=0.01, decision_function_shape=ovr, degree=2, kernel=poly ......\n",
      "[CV]  C=0.01, decision_function_shape=ovr, degree=2, kernel=poly, score=0.355, total=  44.9s\n",
      "[CV] C=0.01, decision_function_shape=ovr, degree=2, kernel=poly ......\n",
      "[CV]  C=0.01, decision_function_shape=ovr, degree=2, kernel=poly, score=0.36, total=  45.3s\n",
      "[CV]  C=0.01, decision_function_shape=ovr, degree=2, kernel=poly, score=0.3625, total=  45.3s\n",
      "[CV]  C=0.01, decision_function_shape=ovr, degree=2, kernel=poly, score=0.355, total=  45.4s\n"
     ]
    },
    {
     "name": "stderr",
     "output_type": "stream",
     "text": [
      "[Parallel(n_jobs=-1)]: Done   2 out of   5 | elapsed:   45.4s remaining:  1.1min\n",
      "[Parallel(n_jobs=-1)]: Done   3 out of   5 | elapsed:   45.4s remaining:   30.2s\n"
     ]
    },
    {
     "name": "stdout",
     "output_type": "stream",
     "text": [
      "[CV]  C=0.01, decision_function_shape=ovr, degree=2, kernel=poly, score=0.3541666666666667, total=  27.6s\n"
     ]
    },
    {
     "name": "stderr",
     "output_type": "stream",
     "text": [
      "[Parallel(n_jobs=-1)]: Done   5 out of   5 | elapsed:  1.2min remaining:    0.0s\n",
      "[Parallel(n_jobs=-1)]: Done   5 out of   5 | elapsed:  1.2min finished\n"
     ]
    },
    {
     "name": "stdout",
     "output_type": "stream",
     "text": [
      "Fitting 5 folds for each of 1 candidates, totalling 5 fits\n",
      "[CV] C=0.7084138807970687, decision_function_shape=ovo, degree=2, kernel=linear \n",
      "[CV] C=0.7084138807970687, decision_function_shape=ovo, degree=2, kernel=linear \n",
      "[CV] C=0.7084138807970687, decision_function_shape=ovo, degree=2, kernel=linear \n",
      "[CV] C=0.7084138807970687, decision_function_shape=ovo, degree=2, kernel=linear \n",
      "[CV]  C=0.7084138807970687, decision_function_shape=ovo, degree=2, kernel=linear, score=0.7408333333333333, total=  34.4s\n",
      "[CV] C=0.7084138807970687, decision_function_shape=ovo, degree=2, kernel=linear \n",
      "[CV]  C=0.7084138807970687, decision_function_shape=ovo, degree=2, kernel=linear, score=0.7725, total=  34.5s\n"
     ]
    },
    {
     "name": "stderr",
     "output_type": "stream",
     "text": [
      "[Parallel(n_jobs=-1)]: Done   2 out of   5 | elapsed:   34.8s remaining:   52.1s\n"
     ]
    },
    {
     "name": "stdout",
     "output_type": "stream",
     "text": [
      "[CV]  C=0.7084138807970687, decision_function_shape=ovo, degree=2, kernel=linear, score=0.7741666666666667, total=  35.2s\n"
     ]
    },
    {
     "name": "stderr",
     "output_type": "stream",
     "text": [
      "[Parallel(n_jobs=-1)]: Done   3 out of   5 | elapsed:   35.2s remaining:   23.5s\n"
     ]
    },
    {
     "name": "stdout",
     "output_type": "stream",
     "text": [
      "[CV]  C=0.7084138807970687, decision_function_shape=ovo, degree=2, kernel=linear, score=0.7591666666666667, total=  35.4s\n",
      "[CV]  C=0.7084138807970687, decision_function_shape=ovo, degree=2, kernel=linear, score=0.735, total=  20.8s\n"
     ]
    },
    {
     "name": "stderr",
     "output_type": "stream",
     "text": [
      "[Parallel(n_jobs=-1)]: Done   5 out of   5 | elapsed:   55.4s remaining:    0.0s\n",
      "[Parallel(n_jobs=-1)]: Done   5 out of   5 | elapsed:   55.4s finished\n"
     ]
    },
    {
     "name": "stdout",
     "output_type": "stream",
     "text": [
      "Fitting 5 folds for each of 1 candidates, totalling 5 fits\n",
      "[CV] C=0.5714556915768549, decision_function_shape=ovr, degree=5, kernel=sigmoid \n",
      "[CV] C=0.5714556915768549, decision_function_shape=ovr, degree=5, kernel=sigmoid \n",
      "[CV] C=0.5714556915768549, decision_function_shape=ovr, degree=5, kernel=sigmoid \n",
      "[CV] C=0.5714556915768549, decision_function_shape=ovr, degree=5, kernel=sigmoid \n",
      "[CV]  C=0.5714556915768549, decision_function_shape=ovr, degree=5, kernel=sigmoid, score=0.4875, total=  48.4s\n",
      "[CV] C=0.5714556915768549, decision_function_shape=ovr, degree=5, kernel=sigmoid \n",
      "[CV]  C=0.5714556915768549, decision_function_shape=ovr, degree=5, kernel=sigmoid, score=0.4666666666666667, total=  48.5s\n",
      "[CV]  C=0.5714556915768549, decision_function_shape=ovr, degree=5, kernel=sigmoid, score=0.43833333333333335, total=  48.6s\n"
     ]
    },
    {
     "name": "stderr",
     "output_type": "stream",
     "text": [
      "[Parallel(n_jobs=-1)]: Done   2 out of   5 | elapsed:   48.6s remaining:  1.2min\n",
      "[Parallel(n_jobs=-1)]: Done   3 out of   5 | elapsed:   48.6s remaining:   32.4s\n"
     ]
    },
    {
     "name": "stdout",
     "output_type": "stream",
     "text": [
      "[CV]  C=0.5714556915768549, decision_function_shape=ovr, degree=5, kernel=sigmoid, score=0.44916666666666666, total=  49.2s\n",
      "[CV]  C=0.5714556915768549, decision_function_shape=ovr, degree=5, kernel=sigmoid, score=0.4166666666666667, total=  29.0s\n"
     ]
    },
    {
     "name": "stderr",
     "output_type": "stream",
     "text": [
      "[Parallel(n_jobs=-1)]: Done   5 out of   5 | elapsed:  1.3min remaining:    0.0s\n",
      "[Parallel(n_jobs=-1)]: Done   5 out of   5 | elapsed:  1.3min finished\n"
     ]
    },
    {
     "name": "stdout",
     "output_type": "stream",
     "text": [
      "Fitting 5 folds for each of 1 candidates, totalling 5 fits\n",
      "[CV] C=0.5659519144751299, decision_function_shape=ovr, degree=5, kernel=linear \n",
      "[CV] C=0.5659519144751299, decision_function_shape=ovr, degree=5, kernel=linear \n",
      "[CV] C=0.5659519144751299, decision_function_shape=ovr, degree=5, kernel=linear \n",
      "[CV] C=0.5659519144751299, decision_function_shape=ovr, degree=5, kernel=linear \n",
      "[CV]  C=0.5659519144751299, decision_function_shape=ovr, degree=5, kernel=linear, score=0.76, total=  38.1s\n",
      "[CV] C=0.5659519144751299, decision_function_shape=ovr, degree=5, kernel=linear \n",
      "[CV]  C=0.5659519144751299, decision_function_shape=ovr, degree=5, kernel=linear, score=0.7383333333333333, total=  39.3s\n",
      "[CV]  C=0.5659519144751299, decision_function_shape=ovr, degree=5, kernel=linear, score=0.7716666666666666, total=  39.4s\n"
     ]
    },
    {
     "name": "stderr",
     "output_type": "stream",
     "text": [
      "[Parallel(n_jobs=-1)]: Done   2 out of   5 | elapsed:   39.4s remaining:   59.1s\n",
      "[Parallel(n_jobs=-1)]: Done   3 out of   5 | elapsed:   39.5s remaining:   26.3s\n"
     ]
    },
    {
     "name": "stdout",
     "output_type": "stream",
     "text": [
      "[CV]  C=0.5659519144751299, decision_function_shape=ovr, degree=5, kernel=linear, score=0.7791666666666667, total=  39.6s\n",
      "[CV]  C=0.5659519144751299, decision_function_shape=ovr, degree=5, kernel=linear, score=0.7358333333333333, total=  21.3s\n"
     ]
    },
    {
     "name": "stderr",
     "output_type": "stream",
     "text": [
      "[Parallel(n_jobs=-1)]: Done   5 out of   5 | elapsed:   59.5s remaining:    0.0s\n",
      "[Parallel(n_jobs=-1)]: Done   5 out of   5 | elapsed:   59.5s finished\n"
     ]
    },
    {
     "name": "stdout",
     "output_type": "stream",
     "text": [
      "Fitting 5 folds for each of 1 candidates, totalling 5 fits\n",
      "[CV] C=0.629569299962358, decision_function_shape=ovo, degree=3, kernel=linear \n",
      "[CV] C=0.629569299962358, decision_function_shape=ovo, degree=3, kernel=linear \n",
      "[CV] C=0.629569299962358, decision_function_shape=ovo, degree=3, kernel=linear \n",
      "[CV] C=0.629569299962358, decision_function_shape=ovo, degree=3, kernel=linear \n",
      "[CV]  C=0.629569299962358, decision_function_shape=ovo, degree=3, kernel=linear, score=0.7375, total=  31.3s\n",
      "[CV] C=0.629569299962358, decision_function_shape=ovo, degree=3, kernel=linear \n",
      "[CV]  C=0.629569299962358, decision_function_shape=ovo, degree=3, kernel=linear, score=0.7566666666666667, total=  31.3s\n",
      "[CV]  C=0.629569299962358, decision_function_shape=ovo, degree=3, kernel=linear, score=0.7775, total=  31.5s\n"
     ]
    },
    {
     "name": "stderr",
     "output_type": "stream",
     "text": [
      "[Parallel(n_jobs=-1)]: Done   2 out of   5 | elapsed:   31.4s remaining:   47.1s\n",
      "[Parallel(n_jobs=-1)]: Done   3 out of   5 | elapsed:   31.5s remaining:   21.0s\n"
     ]
    },
    {
     "name": "stdout",
     "output_type": "stream",
     "text": [
      "[CV]  C=0.629569299962358, decision_function_shape=ovo, degree=3, kernel=linear, score=0.7725, total=  31.8s\n",
      "[CV]  C=0.629569299962358, decision_function_shape=ovo, degree=3, kernel=linear, score=0.7366666666666667, total=  19.3s\n"
     ]
    },
    {
     "name": "stderr",
     "output_type": "stream",
     "text": [
      "[Parallel(n_jobs=-1)]: Done   5 out of   5 | elapsed:   50.7s remaining:    0.0s\n",
      "[Parallel(n_jobs=-1)]: Done   5 out of   5 | elapsed:   50.7s finished\n"
     ]
    },
    {
     "name": "stdout",
     "output_type": "stream",
     "text": [
      "Fitting 5 folds for each of 1 candidates, totalling 5 fits\n",
      "[CV] C=0.49154075455763646, decision_function_shape=ovo, degree=2, kernel=linear \n",
      "[CV] C=0.49154075455763646, decision_function_shape=ovo, degree=2, kernel=linear \n",
      "[CV] C=0.49154075455763646, decision_function_shape=ovo, degree=2, kernel=linear \n",
      "[CV] C=0.49154075455763646, decision_function_shape=ovo, degree=2, kernel=linear \n",
      "[CV]  C=0.49154075455763646, decision_function_shape=ovo, degree=2, kernel=linear, score=0.7783333333333333, total=  37.0s\n",
      "[CV] C=0.49154075455763646, decision_function_shape=ovo, degree=2, kernel=linear \n",
      "[CV]  C=0.49154075455763646, decision_function_shape=ovo, degree=2, kernel=linear, score=0.7675, total=  37.5s\n",
      "[CV]  C=0.49154075455763646, decision_function_shape=ovo, degree=2, kernel=linear, score=0.7391666666666666, total=  37.6s\n"
     ]
    },
    {
     "name": "stderr",
     "output_type": "stream",
     "text": [
      "[Parallel(n_jobs=-1)]: Done   2 out of   5 | elapsed:   37.6s remaining:   56.5s\n",
      "[Parallel(n_jobs=-1)]: Done   3 out of   5 | elapsed:   37.7s remaining:   25.1s\n"
     ]
    },
    {
     "name": "stdout",
     "output_type": "stream",
     "text": [
      "[CV]  C=0.49154075455763646, decision_function_shape=ovo, degree=2, kernel=linear, score=0.755, total=  38.2s\n",
      "[CV]  C=0.49154075455763646, decision_function_shape=ovo, degree=2, kernel=linear, score=0.7358333333333333, total=  22.3s\n"
     ]
    },
    {
     "name": "stderr",
     "output_type": "stream",
     "text": [
      "[Parallel(n_jobs=-1)]: Done   5 out of   5 | elapsed:   59.4s remaining:    0.0s\n",
      "[Parallel(n_jobs=-1)]: Done   5 out of   5 | elapsed:   59.4s finished\n"
     ]
    },
    {
     "name": "stdout",
     "output_type": "stream",
     "text": [
      "Fitting 5 folds for each of 1 candidates, totalling 5 fits\n",
      "[CV] C=0.5814685263306449, decision_function_shape=ovr, degree=2, kernel=linear \n",
      "[CV] C=0.5814685263306449, decision_function_shape=ovr, degree=2, kernel=linear \n",
      "[CV] C=0.5814685263306449, decision_function_shape=ovr, degree=2, kernel=linear \n",
      "[CV] C=0.5814685263306449, decision_function_shape=ovr, degree=2, kernel=linear \n",
      "[CV]  C=0.5814685263306449, decision_function_shape=ovr, degree=2, kernel=linear, score=0.7775, total=  33.2s\n",
      "[CV] C=0.5814685263306449, decision_function_shape=ovr, degree=2, kernel=linear \n",
      "[CV]  C=0.5814685263306449, decision_function_shape=ovr, degree=2, kernel=linear, score=0.7375, total=  33.3s\n"
     ]
    },
    {
     "name": "stderr",
     "output_type": "stream",
     "text": [
      "[Parallel(n_jobs=-1)]: Done   2 out of   5 | elapsed:   33.4s remaining:   50.1s\n"
     ]
    },
    {
     "name": "stdout",
     "output_type": "stream",
     "text": [
      "[CV]  C=0.5814685263306449, decision_function_shape=ovr, degree=2, kernel=linear, score=0.76, total=  33.6s\n"
     ]
    },
    {
     "name": "stderr",
     "output_type": "stream",
     "text": [
      "[Parallel(n_jobs=-1)]: Done   3 out of   5 | elapsed:   33.7s remaining:   22.5s\n"
     ]
    },
    {
     "name": "stdout",
     "output_type": "stream",
     "text": [
      "[CV]  C=0.5814685263306449, decision_function_shape=ovr, degree=2, kernel=linear, score=0.7716666666666666, total=  33.8s\n",
      "[CV]  C=0.5814685263306449, decision_function_shape=ovr, degree=2, kernel=linear, score=0.735, total=  19.8s\n"
     ]
    },
    {
     "name": "stderr",
     "output_type": "stream",
     "text": [
      "[Parallel(n_jobs=-1)]: Done   5 out of   5 | elapsed:   53.0s remaining:    0.0s\n",
      "[Parallel(n_jobs=-1)]: Done   5 out of   5 | elapsed:   53.0s finished\n"
     ]
    },
    {
     "name": "stdout",
     "output_type": "stream",
     "text": [
      "Fitting 5 folds for each of 1 candidates, totalling 5 fits\n",
      "[CV] C=0.6835505420178732, decision_function_shape=ovo, degree=3, kernel=poly \n",
      "[CV] C=0.6835505420178732, decision_function_shape=ovo, degree=3, kernel=poly \n",
      "[CV] C=0.6835505420178732, decision_function_shape=ovo, degree=3, kernel=poly \n",
      "[CV] C=0.6835505420178732, decision_function_shape=ovo, degree=3, kernel=poly \n",
      "[CV]  C=0.6835505420178732, decision_function_shape=ovo, degree=3, kernel=poly, score=0.36, total=  45.5s\n",
      "[CV] C=0.6835505420178732, decision_function_shape=ovo, degree=3, kernel=poly \n",
      "[CV]  C=0.6835505420178732, decision_function_shape=ovo, degree=3, kernel=poly, score=0.3566666666666667, total=  45.7s\n",
      "[CV]  C=0.6835505420178732, decision_function_shape=ovo, degree=3, kernel=poly, score=0.3516666666666667, total=  45.7s\n"
     ]
    },
    {
     "name": "stderr",
     "output_type": "stream",
     "text": [
      "[Parallel(n_jobs=-1)]: Done   2 out of   5 | elapsed:   45.7s remaining:  1.1min\n",
      "[Parallel(n_jobs=-1)]: Done   3 out of   5 | elapsed:   45.8s remaining:   30.5s\n"
     ]
    },
    {
     "name": "stdout",
     "output_type": "stream",
     "text": [
      "[CV]  C=0.6835505420178732, decision_function_shape=ovo, degree=3, kernel=poly, score=0.35083333333333333, total=  45.8s\n",
      "[CV]  C=0.6835505420178732, decision_function_shape=ovo, degree=3, kernel=poly, score=0.3541666666666667, total=  28.4s\n"
     ]
    },
    {
     "name": "stderr",
     "output_type": "stream",
     "text": [
      "[Parallel(n_jobs=-1)]: Done   5 out of   5 | elapsed:  1.2min remaining:    0.0s\n",
      "[Parallel(n_jobs=-1)]: Done   5 out of   5 | elapsed:  1.2min finished\n",
      "/home/giuseppe/anaconda3/lib/python3.6/site-packages/skopt/optimizer/optimizer.py:399: UserWarning: The objective has been evaluated at this point before.\n",
      "  warnings.warn(\"The objective has been evaluated \"\n"
     ]
    },
    {
     "name": "stdout",
     "output_type": "stream",
     "text": [
      "Fitting 5 folds for each of 1 candidates, totalling 5 fits\n",
      "[CV] C=1.0, decision_function_shape=ovo, degree=2, kernel=linear .....\n",
      "[CV] C=1.0, decision_function_shape=ovo, degree=2, kernel=linear .....\n",
      "[CV] C=1.0, decision_function_shape=ovo, degree=2, kernel=linear .....\n",
      "[CV] C=1.0, decision_function_shape=ovo, degree=2, kernel=linear .....\n",
      "[CV]  C=1.0, decision_function_shape=ovo, degree=2, kernel=linear, score=0.7741666666666667, total=  31.5s\n",
      "[CV] C=1.0, decision_function_shape=ovo, degree=2, kernel=linear .....\n",
      "[CV]  C=1.0, decision_function_shape=ovo, degree=2, kernel=linear, score=0.7658333333333334, total=  32.1s\n"
     ]
    },
    {
     "name": "stderr",
     "output_type": "stream",
     "text": [
      "[Parallel(n_jobs=-1)]: Done   2 out of   5 | elapsed:   32.3s remaining:   48.4s\n"
     ]
    },
    {
     "name": "stdout",
     "output_type": "stream",
     "text": [
      "[CV]  C=1.0, decision_function_shape=ovo, degree=2, kernel=linear, score=0.7358333333333333, total=  32.6s\n",
      "[CV]  C=1.0, decision_function_shape=ovo, degree=2, kernel=linear, score=0.7583333333333333, total=  32.8s\n"
     ]
    },
    {
     "name": "stderr",
     "output_type": "stream",
     "text": [
      "[Parallel(n_jobs=-1)]: Done   3 out of   5 | elapsed:   32.7s remaining:   21.8s\n"
     ]
    },
    {
     "name": "stdout",
     "output_type": "stream",
     "text": [
      "[CV]  C=1.0, decision_function_shape=ovo, degree=2, kernel=linear, score=0.7283333333333334, total=  19.1s\n"
     ]
    },
    {
     "name": "stderr",
     "output_type": "stream",
     "text": [
      "[Parallel(n_jobs=-1)]: Done   5 out of   5 | elapsed:   50.7s remaining:    0.0s\n",
      "[Parallel(n_jobs=-1)]: Done   5 out of   5 | elapsed:   50.7s finished\n"
     ]
    },
    {
     "name": "stdout",
     "output_type": "stream",
     "text": [
      "Fitting 5 folds for each of 1 candidates, totalling 5 fits\n",
      "[CV] C=0.7992356026800453, decision_function_shape=ovo, degree=2, kernel=linear \n",
      "[CV] C=0.7992356026800453, decision_function_shape=ovo, degree=2, kernel=linear \n",
      "[CV] C=0.7992356026800453, decision_function_shape=ovo, degree=2, kernel=linear \n",
      "[CV] C=0.7992356026800453, decision_function_shape=ovo, degree=2, kernel=linear \n",
      "[CV]  C=0.7992356026800453, decision_function_shape=ovo, degree=2, kernel=linear, score=0.7575, total=  31.0s\n",
      "[CV] C=0.7992356026800453, decision_function_shape=ovo, degree=2, kernel=linear \n",
      "[CV]  C=0.7992356026800453, decision_function_shape=ovo, degree=2, kernel=linear, score=0.7725, total=  31.1s\n"
     ]
    },
    {
     "name": "stderr",
     "output_type": "stream",
     "text": [
      "[Parallel(n_jobs=-1)]: Done   2 out of   5 | elapsed:   31.2s remaining:   46.8s\n"
     ]
    },
    {
     "name": "stdout",
     "output_type": "stream",
     "text": [
      "[CV]  C=0.7992356026800453, decision_function_shape=ovo, degree=2, kernel=linear, score=0.7691666666666667, total=  31.4s\n",
      "[CV]  C=0.7992356026800453, decision_function_shape=ovo, degree=2, kernel=linear, score=0.7358333333333333, total=  31.5s\n"
     ]
    },
    {
     "name": "stderr",
     "output_type": "stream",
     "text": [
      "[Parallel(n_jobs=-1)]: Done   3 out of   5 | elapsed:   31.6s remaining:   21.0s\n"
     ]
    },
    {
     "name": "stdout",
     "output_type": "stream",
     "text": [
      "[CV]  C=0.7992356026800453, decision_function_shape=ovo, degree=2, kernel=linear, score=0.7366666666666667, total=  18.7s\n"
     ]
    },
    {
     "name": "stderr",
     "output_type": "stream",
     "text": [
      "[Parallel(n_jobs=-1)]: Done   5 out of   5 | elapsed:   49.7s remaining:    0.0s\n",
      "[Parallel(n_jobs=-1)]: Done   5 out of   5 | elapsed:   49.7s finished\n"
     ]
    },
    {
     "name": "stdout",
     "output_type": "stream",
     "text": [
      "Fitting 5 folds for each of 1 candidates, totalling 5 fits\n",
      "[CV] C=0.8031800517024609, decision_function_shape=ovo, degree=2, kernel=linear \n",
      "[CV] C=0.8031800517024609, decision_function_shape=ovo, degree=2, kernel=linear \n",
      "[CV] C=0.8031800517024609, decision_function_shape=ovo, degree=2, kernel=linear \n",
      "[CV] C=0.8031800517024609, decision_function_shape=ovo, degree=2, kernel=linear \n",
      "[CV]  C=0.8031800517024609, decision_function_shape=ovo, degree=2, kernel=linear, score=0.7725, total=  31.6s\n",
      "[CV] C=0.8031800517024609, decision_function_shape=ovo, degree=2, kernel=linear \n",
      "[CV]  C=0.8031800517024609, decision_function_shape=ovo, degree=2, kernel=linear, score=0.7575, total=  31.9s\n",
      "[CV]  C=0.8031800517024609, decision_function_shape=ovo, degree=2, kernel=linear, score=0.7358333333333333, total=  32.0s\n",
      "[CV]  C=0.8031800517024609, decision_function_shape=ovo, degree=2, kernel=linear, score=0.7691666666666667, total=  31.9s\n"
     ]
    },
    {
     "name": "stderr",
     "output_type": "stream",
     "text": [
      "[Parallel(n_jobs=-1)]: Done   2 out of   5 | elapsed:   31.9s remaining:   47.9s\n",
      "[Parallel(n_jobs=-1)]: Done   3 out of   5 | elapsed:   32.0s remaining:   21.4s\n"
     ]
    },
    {
     "name": "stdout",
     "output_type": "stream",
     "text": [
      "[CV]  C=0.8031800517024609, decision_function_shape=ovo, degree=2, kernel=linear, score=0.7366666666666667, total=  19.0s\n"
     ]
    },
    {
     "name": "stderr",
     "output_type": "stream",
     "text": [
      "[Parallel(n_jobs=-1)]: Done   5 out of   5 | elapsed:   50.7s remaining:    0.0s\n",
      "[Parallel(n_jobs=-1)]: Done   5 out of   5 | elapsed:   50.7s finished\n",
      "/home/giuseppe/anaconda3/lib/python3.6/site-packages/skopt/optimizer/optimizer.py:399: UserWarning: The objective has been evaluated at this point before.\n",
      "  warnings.warn(\"The objective has been evaluated \"\n"
     ]
    },
    {
     "name": "stdout",
     "output_type": "stream",
     "text": [
      "Fitting 5 folds for each of 1 candidates, totalling 5 fits\n",
      "[CV] C=1.0, decision_function_shape=ovo, degree=2, kernel=linear .....\n",
      "[CV] C=1.0, decision_function_shape=ovo, degree=2, kernel=linear .....\n",
      "[CV] C=1.0, decision_function_shape=ovo, degree=2, kernel=linear .....\n",
      "[CV] C=1.0, decision_function_shape=ovo, degree=2, kernel=linear .....\n",
      "[CV]  C=1.0, decision_function_shape=ovo, degree=2, kernel=linear, score=0.7583333333333333, total=  31.1s\n",
      "[CV] C=1.0, decision_function_shape=ovo, degree=2, kernel=linear .....\n",
      "[CV]  C=1.0, decision_function_shape=ovo, degree=2, kernel=linear, score=0.7358333333333333, total=  31.2s\n",
      "[CV]  C=1.0, decision_function_shape=ovo, degree=2, kernel=linear, score=0.7741666666666667, total=  31.3s\n"
     ]
    },
    {
     "name": "stderr",
     "output_type": "stream",
     "text": [
      "[Parallel(n_jobs=-1)]: Done   2 out of   5 | elapsed:   31.2s remaining:   46.9s\n",
      "[Parallel(n_jobs=-1)]: Done   3 out of   5 | elapsed:   31.3s remaining:   20.9s\n"
     ]
    },
    {
     "name": "stdout",
     "output_type": "stream",
     "text": [
      "[CV]  C=1.0, decision_function_shape=ovo, degree=2, kernel=linear, score=0.7658333333333334, total=  31.5s\n",
      "[CV]  C=1.0, decision_function_shape=ovo, degree=2, kernel=linear, score=0.7283333333333334, total=  18.4s\n"
     ]
    },
    {
     "name": "stderr",
     "output_type": "stream",
     "text": [
      "[Parallel(n_jobs=-1)]: Done   5 out of   5 | elapsed:   49.6s remaining:    0.0s\n",
      "[Parallel(n_jobs=-1)]: Done   5 out of   5 | elapsed:   49.6s finished\n"
     ]
    },
    {
     "name": "stdout",
     "output_type": "stream",
     "text": [
      "Fitting 5 folds for each of 1 candidates, totalling 5 fits\n",
      "[CV] C=0.27951544680582047, decision_function_shape=ovr, degree=5, kernel=linear \n",
      "[CV] C=0.27951544680582047, decision_function_shape=ovr, degree=5, kernel=linear \n",
      "[CV] C=0.27951544680582047, decision_function_shape=ovr, degree=5, kernel=linear \n",
      "[CV] C=0.27951544680582047, decision_function_shape=ovr, degree=5, kernel=linear \n",
      "[CV]  C=0.27951544680582047, decision_function_shape=ovr, degree=5, kernel=linear, score=0.7275, total=  34.9s\n",
      "[CV] C=0.27951544680582047, decision_function_shape=ovr, degree=5, kernel=linear \n",
      "[CV]  C=0.27951544680582047, decision_function_shape=ovr, degree=5, kernel=linear, score=0.74, total=  35.4s\n",
      "[CV]  C=0.27951544680582047, decision_function_shape=ovr, degree=5, kernel=linear, score=0.76, total=  35.5s\n"
     ]
    },
    {
     "name": "stderr",
     "output_type": "stream",
     "text": [
      "[Parallel(n_jobs=-1)]: Done   2 out of   5 | elapsed:   35.4s remaining:   53.2s\n",
      "[Parallel(n_jobs=-1)]: Done   3 out of   5 | elapsed:   35.5s remaining:   23.7s\n"
     ]
    },
    {
     "name": "stdout",
     "output_type": "stream",
     "text": [
      "[CV]  C=0.27951544680582047, decision_function_shape=ovr, degree=5, kernel=linear, score=0.7641666666666667, total=  35.5s\n",
      "[CV]  C=0.27951544680582047, decision_function_shape=ovr, degree=5, kernel=linear, score=0.7233333333333334, total=  21.1s\n"
     ]
    },
    {
     "name": "stderr",
     "output_type": "stream",
     "text": [
      "[Parallel(n_jobs=-1)]: Done   5 out of   5 | elapsed:   56.1s remaining:    0.0s\n",
      "[Parallel(n_jobs=-1)]: Done   5 out of   5 | elapsed:   56.1s finished\n"
     ]
    },
    {
     "name": "stdout",
     "output_type": "stream",
     "text": [
      "BayesSearchCV_GP took 2458.53 seconds,  candidates checked: 40, best CV score: 0.757 ± 0.017\n",
      "Best parameters:\n",
      "{'C': 0.5659519144751299,\n",
      " 'decision_function_shape': 'ovr',\n",
      " 'degree': 5,\n",
      " 'kernel': 'linear'}\n",
      "\n",
      "Fitting 5 folds for each of 1 candidates, totalling 5 fits\n",
      "[CV] C=0.823230468444065, decision_function_shape=ovr, degree=2, kernel=rbf \n",
      "[CV] C=0.823230468444065, decision_function_shape=ovr, degree=2, kernel=rbf \n",
      "[CV] C=0.823230468444065, decision_function_shape=ovr, degree=2, kernel=rbf \n",
      "[CV] C=0.823230468444065, decision_function_shape=ovr, degree=2, kernel=rbf \n",
      "[CV]  C=0.823230468444065, decision_function_shape=ovr, degree=2, kernel=rbf, score=0.43916666666666665, total=  50.5s\n",
      "[CV] C=0.823230468444065, decision_function_shape=ovr, degree=2, kernel=rbf \n",
      "[CV]  C=0.823230468444065, decision_function_shape=ovr, degree=2, kernel=rbf, score=0.4666666666666667, total=  50.9s\n"
     ]
    },
    {
     "name": "stderr",
     "output_type": "stream",
     "text": [
      "[Parallel(n_jobs=-1)]: Done   2 out of   5 | elapsed:   50.9s remaining:  1.3min\n"
     ]
    },
    {
     "name": "stdout",
     "output_type": "stream",
     "text": [
      "[CV]  C=0.823230468444065, decision_function_shape=ovr, degree=2, kernel=rbf, score=0.4875, total=  51.2s\n",
      "[CV]  C=0.823230468444065, decision_function_shape=ovr, degree=2, kernel=rbf, score=0.44916666666666666, total=  51.2s\n"
     ]
    },
    {
     "name": "stderr",
     "output_type": "stream",
     "text": [
      "[Parallel(n_jobs=-1)]: Done   3 out of   5 | elapsed:   51.3s remaining:   34.2s\n"
     ]
    },
    {
     "name": "stdout",
     "output_type": "stream",
     "text": [
      "[CV]  C=0.823230468444065, decision_function_shape=ovr, degree=2, kernel=rbf, score=0.4166666666666667, total=  28.2s\n",
      "Fitting 5 folds for each of 1 candidates, totalling 5 fits\n"
     ]
    },
    {
     "name": "stderr",
     "output_type": "stream",
     "text": [
      "[Parallel(n_jobs=-1)]: Done   5 out of   5 | elapsed:  1.3min remaining:    0.0s\n",
      "[Parallel(n_jobs=-1)]: Done   5 out of   5 | elapsed:  1.3min finished\n"
     ]
    },
    {
     "name": "stdout",
     "output_type": "stream",
     "text": [
      "[CV] C=0.631696770892101, decision_function_shape=ovo, degree=2, kernel=rbf \n",
      "[CV] C=0.631696770892101, decision_function_shape=ovo, degree=2, kernel=rbf \n",
      "[CV] C=0.631696770892101, decision_function_shape=ovo, degree=2, kernel=rbf \n",
      "[CV] C=0.631696770892101, decision_function_shape=ovo, degree=2, kernel=rbf \n",
      "[CV]  C=0.631696770892101, decision_function_shape=ovo, degree=2, kernel=rbf, score=0.4666666666666667, total=  48.9s\n",
      "[CV] C=0.631696770892101, decision_function_shape=ovo, degree=2, kernel=rbf \n",
      "[CV]  C=0.631696770892101, decision_function_shape=ovo, degree=2, kernel=rbf, score=0.4875, total=  49.1s\n"
     ]
    },
    {
     "name": "stderr",
     "output_type": "stream",
     "text": [
      "[Parallel(n_jobs=-1)]: Done   2 out of   5 | elapsed:   49.1s remaining:  1.2min\n"
     ]
    },
    {
     "name": "stdout",
     "output_type": "stream",
     "text": [
      "[CV]  C=0.631696770892101, decision_function_shape=ovo, degree=2, kernel=rbf, score=0.43916666666666665, total=  49.4s\n"
     ]
    },
    {
     "name": "stderr",
     "output_type": "stream",
     "text": [
      "[Parallel(n_jobs=-1)]: Done   3 out of   5 | elapsed:   49.5s remaining:   33.0s\n"
     ]
    },
    {
     "name": "stdout",
     "output_type": "stream",
     "text": [
      "[CV]  C=0.631696770892101, decision_function_shape=ovo, degree=2, kernel=rbf, score=0.44916666666666666, total=  49.5s\n",
      "[CV]  C=0.631696770892101, decision_function_shape=ovo, degree=2, kernel=rbf, score=0.4166666666666667, total=  28.2s\n",
      "Fitting 5 folds for each of 1 candidates, totalling 5 fits\n"
     ]
    },
    {
     "name": "stderr",
     "output_type": "stream",
     "text": [
      "[Parallel(n_jobs=-1)]: Done   5 out of   5 | elapsed:  1.3min remaining:    0.0s\n",
      "[Parallel(n_jobs=-1)]: Done   5 out of   5 | elapsed:  1.3min finished\n"
     ]
    },
    {
     "name": "stdout",
     "output_type": "stream",
     "text": [
      "[CV] C=0.8121479730770873, decision_function_shape=ovo, degree=2, kernel=rbf \n",
      "[CV] C=0.8121479730770873, decision_function_shape=ovo, degree=2, kernel=rbf \n",
      "[CV] C=0.8121479730770873, decision_function_shape=ovo, degree=2, kernel=rbf \n",
      "[CV] C=0.8121479730770873, decision_function_shape=ovo, degree=2, kernel=rbf \n",
      "[CV]  C=0.8121479730770873, decision_function_shape=ovo, degree=2, kernel=rbf, score=0.4875, total=  48.8s\n",
      "[CV] C=0.8121479730770873, decision_function_shape=ovo, degree=2, kernel=rbf \n",
      "[CV]  C=0.8121479730770873, decision_function_shape=ovo, degree=2, kernel=rbf, score=0.4666666666666667, total=  48.8s\n",
      "[CV]  C=0.8121479730770873, decision_function_shape=ovo, degree=2, kernel=rbf, score=0.43916666666666665, total=  49.0s\n"
     ]
    },
    {
     "name": "stderr",
     "output_type": "stream",
     "text": [
      "[Parallel(n_jobs=-1)]: Done   2 out of   5 | elapsed:   48.8s remaining:  1.2min\n",
      "[Parallel(n_jobs=-1)]: Done   3 out of   5 | elapsed:   49.0s remaining:   32.7s\n"
     ]
    },
    {
     "name": "stdout",
     "output_type": "stream",
     "text": [
      "[CV]  C=0.8121479730770873, decision_function_shape=ovo, degree=2, kernel=rbf, score=0.44916666666666666, total=  49.1s\n",
      "[CV]  C=0.8121479730770873, decision_function_shape=ovo, degree=2, kernel=rbf, score=0.4166666666666667, total=  29.8s\n",
      "Fitting 5 folds for each of 1 candidates, totalling 5 fits\n"
     ]
    },
    {
     "name": "stderr",
     "output_type": "stream",
     "text": [
      "[Parallel(n_jobs=-1)]: Done   5 out of   5 | elapsed:  1.3min remaining:    0.0s\n",
      "[Parallel(n_jobs=-1)]: Done   5 out of   5 | elapsed:  1.3min finished\n"
     ]
    },
    {
     "name": "stdout",
     "output_type": "stream",
     "text": [
      "[CV] C=0.9037583196860999, decision_function_shape=ovr, degree=5, kernel=poly \n",
      "[CV] C=0.9037583196860999, decision_function_shape=ovr, degree=5, kernel=poly \n",
      "[CV] C=0.9037583196860999, decision_function_shape=ovr, degree=5, kernel=poly \n",
      "[CV] C=0.9037583196860999, decision_function_shape=ovr, degree=5, kernel=poly \n",
      "[CV]  C=0.9037583196860999, decision_function_shape=ovr, degree=5, kernel=poly, score=0.67, total=  45.1s\n",
      "[CV] C=0.9037583196860999, decision_function_shape=ovr, degree=5, kernel=poly \n",
      "[CV]  C=0.9037583196860999, decision_function_shape=ovr, degree=5, kernel=poly, score=0.6591666666666667, total=  45.4s\n",
      "[CV]  C=0.9037583196860999, decision_function_shape=ovr, degree=5, kernel=poly, score=0.6483333333333333, total=  45.5s\n",
      "[CV]  C=0.9037583196860999, decision_function_shape=ovr, degree=5, kernel=poly, score=0.6808333333333333, total=  45.5s\n"
     ]
    },
    {
     "name": "stderr",
     "output_type": "stream",
     "text": [
      "[Parallel(n_jobs=-1)]: Done   2 out of   5 | elapsed:   45.5s remaining:  1.1min\n",
      "[Parallel(n_jobs=-1)]: Done   3 out of   5 | elapsed:   45.5s remaining:   30.4s\n"
     ]
    },
    {
     "name": "stdout",
     "output_type": "stream",
     "text": [
      "[CV]  C=0.9037583196860999, decision_function_shape=ovr, degree=5, kernel=poly, score=0.6533333333333333, total=  26.3s\n",
      "Fitting 5 folds for each of 1 candidates, totalling 5 fits\n"
     ]
    },
    {
     "name": "stderr",
     "output_type": "stream",
     "text": [
      "[Parallel(n_jobs=-1)]: Done   5 out of   5 | elapsed:  1.2min remaining:    0.0s\n",
      "[Parallel(n_jobs=-1)]: Done   5 out of   5 | elapsed:  1.2min finished\n"
     ]
    },
    {
     "name": "stdout",
     "output_type": "stream",
     "text": [
      "[CV] C=0.13555620343854213, decision_function_shape=ovr, degree=3, kernel=rbf \n",
      "[CV] C=0.13555620343854213, decision_function_shape=ovr, degree=3, kernel=rbf \n",
      "[CV] C=0.13555620343854213, decision_function_shape=ovr, degree=3, kernel=rbf \n",
      "[CV] C=0.13555620343854213, decision_function_shape=ovr, degree=3, kernel=rbf \n",
      "[CV]  C=0.13555620343854213, decision_function_shape=ovr, degree=3, kernel=rbf, score=0.4666666666666667, total=  50.1s\n",
      "[CV] C=0.13555620343854213, decision_function_shape=ovr, degree=3, kernel=rbf \n",
      "[CV]  C=0.13555620343854213, decision_function_shape=ovr, degree=3, kernel=rbf, score=0.4875, total=  50.2s\n",
      "[CV]  C=0.13555620343854213, decision_function_shape=ovr, degree=3, kernel=rbf, score=0.43916666666666665, total=  50.3s\n"
     ]
    },
    {
     "name": "stderr",
     "output_type": "stream",
     "text": [
      "[Parallel(n_jobs=-1)]: Done   2 out of   5 | elapsed:   50.3s remaining:  1.3min\n",
      "[Parallel(n_jobs=-1)]: Done   3 out of   5 | elapsed:   50.3s remaining:   33.5s\n"
     ]
    },
    {
     "name": "stdout",
     "output_type": "stream",
     "text": [
      "[CV]  C=0.13555620343854213, decision_function_shape=ovr, degree=3, kernel=rbf, score=0.44916666666666666, total=  50.6s\n",
      "[CV]  C=0.13555620343854213, decision_function_shape=ovr, degree=3, kernel=rbf, score=0.4166666666666667, total=  28.1s\n",
      "Fitting 5 folds for each of 1 candidates, totalling 5 fits\n"
     ]
    },
    {
     "name": "stderr",
     "output_type": "stream",
     "text": [
      "[Parallel(n_jobs=-1)]: Done   5 out of   5 | elapsed:  1.3min remaining:    0.0s\n",
      "[Parallel(n_jobs=-1)]: Done   5 out of   5 | elapsed:  1.3min finished\n"
     ]
    },
    {
     "name": "stdout",
     "output_type": "stream",
     "text": [
      "[CV] C=0.4730432715359454, decision_function_shape=ovo, degree=5, kernel=poly \n",
      "[CV] C=0.4730432715359454, decision_function_shape=ovo, degree=5, kernel=poly \n",
      "[CV] C=0.4730432715359454, decision_function_shape=ovo, degree=5, kernel=poly \n",
      "[CV] C=0.4730432715359454, decision_function_shape=ovo, degree=5, kernel=poly \n",
      "[CV]  C=0.4730432715359454, decision_function_shape=ovo, degree=5, kernel=poly, score=0.6591666666666667, total=  45.7s\n",
      "[CV] C=0.4730432715359454, decision_function_shape=ovo, degree=5, kernel=poly \n",
      "[CV]  C=0.4730432715359454, decision_function_shape=ovo, degree=5, kernel=poly, score=0.67, total=  46.2s\n",
      "[CV]  C=0.4730432715359454, decision_function_shape=ovo, degree=5, kernel=poly, score=0.6808333333333333, total=  46.1s\n"
     ]
    },
    {
     "name": "stderr",
     "output_type": "stream",
     "text": [
      "[Parallel(n_jobs=-1)]: Done   2 out of   5 | elapsed:   46.2s remaining:  1.2min\n",
      "[Parallel(n_jobs=-1)]: Done   3 out of   5 | elapsed:   46.3s remaining:   30.8s\n"
     ]
    },
    {
     "name": "stdout",
     "output_type": "stream",
     "text": [
      "[CV]  C=0.4730432715359454, decision_function_shape=ovo, degree=5, kernel=poly, score=0.6483333333333333, total=  46.4s\n",
      "[CV]  C=0.4730432715359454, decision_function_shape=ovo, degree=5, kernel=poly, score=0.6533333333333333, total=  27.0s\n",
      "Fitting 5 folds for each of 1 candidates, totalling 5 fits\n"
     ]
    },
    {
     "name": "stderr",
     "output_type": "stream",
     "text": [
      "[Parallel(n_jobs=-1)]: Done   5 out of   5 | elapsed:  1.2min remaining:    0.0s\n",
      "[Parallel(n_jobs=-1)]: Done   5 out of   5 | elapsed:  1.2min finished\n"
     ]
    },
    {
     "name": "stdout",
     "output_type": "stream",
     "text": [
      "[CV] C=0.6414344635182291, decision_function_shape=ovo, degree=5, kernel=rbf \n",
      "[CV] C=0.6414344635182291, decision_function_shape=ovo, degree=5, kernel=rbf \n",
      "[CV] C=0.6414344635182291, decision_function_shape=ovo, degree=5, kernel=rbf \n",
      "[CV] C=0.6414344635182291, decision_function_shape=ovo, degree=5, kernel=rbf \n",
      "[CV]  C=0.6414344635182291, decision_function_shape=ovo, degree=5, kernel=rbf, score=0.43916666666666665, total=  48.6s\n",
      "[CV] C=0.6414344635182291, decision_function_shape=ovo, degree=5, kernel=rbf \n",
      "[CV]  C=0.6414344635182291, decision_function_shape=ovo, degree=5, kernel=rbf, score=0.4875, total=  49.0s\n",
      "[CV]  C=0.6414344635182291, decision_function_shape=ovo, degree=5, kernel=rbf, score=0.44916666666666666, total=  48.9s\n",
      "[CV]  C=0.6414344635182291, decision_function_shape=ovo, degree=5, kernel=rbf, score=0.4666666666666667, total=  49.0s\n"
     ]
    },
    {
     "name": "stderr",
     "output_type": "stream",
     "text": [
      "[Parallel(n_jobs=-1)]: Done   2 out of   5 | elapsed:   49.0s remaining:  1.2min\n",
      "[Parallel(n_jobs=-1)]: Done   3 out of   5 | elapsed:   49.0s remaining:   32.7s\n"
     ]
    },
    {
     "name": "stdout",
     "output_type": "stream",
     "text": [
      "[CV]  C=0.6414344635182291, decision_function_shape=ovo, degree=5, kernel=rbf, score=0.4166666666666667, total=  28.2s\n",
      "Fitting 5 folds for each of 1 candidates, totalling 5 fits\n"
     ]
    },
    {
     "name": "stderr",
     "output_type": "stream",
     "text": [
      "[Parallel(n_jobs=-1)]: Done   5 out of   5 | elapsed:  1.3min remaining:    0.0s\n",
      "[Parallel(n_jobs=-1)]: Done   5 out of   5 | elapsed:  1.3min finished\n"
     ]
    },
    {
     "name": "stdout",
     "output_type": "stream",
     "text": [
      "[CV] C=0.7593579035590942, decision_function_shape=ovr, degree=2, kernel=linear \n",
      "[CV] C=0.7593579035590942, decision_function_shape=ovr, degree=2, kernel=linear \n",
      "[CV] C=0.7593579035590942, decision_function_shape=ovr, degree=2, kernel=linear \n",
      "[CV] C=0.7593579035590942, decision_function_shape=ovr, degree=2, kernel=linear \n",
      "[CV]  C=0.7593579035590942, decision_function_shape=ovr, degree=2, kernel=linear, score=0.7558333333333334, total=  31.4s\n",
      "[CV] C=0.7593579035590942, decision_function_shape=ovr, degree=2, kernel=linear \n",
      "[CV]  C=0.7593579035590942, decision_function_shape=ovr, degree=2, kernel=linear, score=0.7716666666666666, total=  31.6s\n",
      "[CV]  C=0.7593579035590942, decision_function_shape=ovr, degree=2, kernel=linear, score=0.7366666666666667, total=  31.7s\n"
     ]
    },
    {
     "name": "stderr",
     "output_type": "stream",
     "text": [
      "[Parallel(n_jobs=-1)]: Done   2 out of   5 | elapsed:   31.6s remaining:   47.5s\n",
      "[Parallel(n_jobs=-1)]: Done   3 out of   5 | elapsed:   31.8s remaining:   21.2s\n"
     ]
    },
    {
     "name": "stdout",
     "output_type": "stream",
     "text": [
      "[CV]  C=0.7593579035590942, decision_function_shape=ovr, degree=2, kernel=linear, score=0.7708333333333334, total=  32.2s\n",
      "[CV]  C=0.7593579035590942, decision_function_shape=ovr, degree=2, kernel=linear, score=0.7358333333333333, total=  19.0s\n",
      "Fitting 5 folds for each of 1 candidates, totalling 5 fits\n"
     ]
    },
    {
     "name": "stderr",
     "output_type": "stream",
     "text": [
      "[Parallel(n_jobs=-1)]: Done   5 out of   5 | elapsed:   50.4s remaining:    0.0s\n",
      "[Parallel(n_jobs=-1)]: Done   5 out of   5 | elapsed:   50.4s finished\n"
     ]
    },
    {
     "name": "stdout",
     "output_type": "stream",
     "text": [
      "[CV] C=0.32908711718944217, decision_function_shape=ovo, degree=2, kernel=rbf \n",
      "[CV] C=0.32908711718944217, decision_function_shape=ovo, degree=2, kernel=rbf \n",
      "[CV] C=0.32908711718944217, decision_function_shape=ovo, degree=2, kernel=rbf \n",
      "[CV] C=0.32908711718944217, decision_function_shape=ovo, degree=2, kernel=rbf \n",
      "[CV]  C=0.32908711718944217, decision_function_shape=ovo, degree=2, kernel=rbf, score=0.4875, total=  49.0s\n",
      "[CV] C=0.32908711718944217, decision_function_shape=ovo, degree=2, kernel=rbf \n",
      "[CV]  C=0.32908711718944217, decision_function_shape=ovo, degree=2, kernel=rbf, score=0.4666666666666667, total=  49.1s\n",
      "[CV]  C=0.32908711718944217, decision_function_shape=ovo, degree=2, kernel=rbf, score=0.44916666666666666, total=  49.1s\n",
      "[CV]  C=0.32908711718944217, decision_function_shape=ovo, degree=2, kernel=rbf, score=0.43916666666666665, total=  49.2s\n"
     ]
    },
    {
     "name": "stderr",
     "output_type": "stream",
     "text": [
      "[Parallel(n_jobs=-1)]: Done   2 out of   5 | elapsed:   49.2s remaining:  1.2min\n",
      "[Parallel(n_jobs=-1)]: Done   3 out of   5 | elapsed:   49.3s remaining:   32.8s\n"
     ]
    },
    {
     "name": "stdout",
     "output_type": "stream",
     "text": [
      "[CV]  C=0.32908711718944217, decision_function_shape=ovo, degree=2, kernel=rbf, score=0.4166666666666667, total=  29.0s\n"
     ]
    },
    {
     "name": "stderr",
     "output_type": "stream",
     "text": [
      "[Parallel(n_jobs=-1)]: Done   5 out of   5 | elapsed:  1.3min remaining:    0.0s\n",
      "[Parallel(n_jobs=-1)]: Done   5 out of   5 | elapsed:  1.3min finished\n"
     ]
    },
    {
     "name": "stdout",
     "output_type": "stream",
     "text": [
      "Fitting 5 folds for each of 1 candidates, totalling 5 fits\n",
      "[CV] C=0.9991251139603244, decision_function_shape=ovo, degree=2, kernel=rbf \n",
      "[CV] C=0.9991251139603244, decision_function_shape=ovo, degree=2, kernel=rbf \n",
      "[CV] C=0.9991251139603244, decision_function_shape=ovo, degree=2, kernel=rbf \n",
      "[CV] C=0.9991251139603244, decision_function_shape=ovo, degree=2, kernel=rbf \n",
      "[CV]  C=0.9991251139603244, decision_function_shape=ovo, degree=2, kernel=rbf, score=0.4875, total=  49.7s\n",
      "[CV] C=0.9991251139603244, decision_function_shape=ovo, degree=2, kernel=rbf \n",
      "[CV]  C=0.9991251139603244, decision_function_shape=ovo, degree=2, kernel=rbf, score=0.43916666666666665, total=  49.7s\n",
      "[CV]  C=0.9991251139603244, decision_function_shape=ovo, degree=2, kernel=rbf, score=0.4666666666666667, total=  49.9s\n",
      "[CV]  C=0.9991251139603244, decision_function_shape=ovo, degree=2, kernel=rbf, score=0.44916666666666666, total=  49.8s\n"
     ]
    },
    {
     "name": "stderr",
     "output_type": "stream",
     "text": [
      "[Parallel(n_jobs=-1)]: Done   2 out of   5 | elapsed:   49.8s remaining:  1.2min\n",
      "[Parallel(n_jobs=-1)]: Done   3 out of   5 | elapsed:   50.0s remaining:   33.3s\n"
     ]
    },
    {
     "name": "stdout",
     "output_type": "stream",
     "text": [
      "[CV]  C=0.9991251139603244, decision_function_shape=ovo, degree=2, kernel=rbf, score=0.4166666666666667, total=  28.3s\n"
     ]
    },
    {
     "name": "stderr",
     "output_type": "stream",
     "text": [
      "[Parallel(n_jobs=-1)]: Done   5 out of   5 | elapsed:  1.3min remaining:    0.0s\n",
      "[Parallel(n_jobs=-1)]: Done   5 out of   5 | elapsed:  1.3min finished\n"
     ]
    },
    {
     "name": "stdout",
     "output_type": "stream",
     "text": [
      "Fitting 5 folds for each of 1 candidates, totalling 5 fits\n",
      "[CV] C=0.7422467772542881, decision_function_shape=ovr, degree=5, kernel=poly \n",
      "[CV] C=0.7422467772542881, decision_function_shape=ovr, degree=5, kernel=poly \n",
      "[CV] C=0.7422467772542881, decision_function_shape=ovr, degree=5, kernel=poly \n",
      "[CV] C=0.7422467772542881, decision_function_shape=ovr, degree=5, kernel=poly \n",
      "[CV]  C=0.7422467772542881, decision_function_shape=ovr, degree=5, kernel=poly, score=0.6591666666666667, total=  44.6s\n",
      "[CV] C=0.7422467772542881, decision_function_shape=ovr, degree=5, kernel=poly \n",
      "[CV]  C=0.7422467772542881, decision_function_shape=ovr, degree=5, kernel=poly, score=0.67, total=  45.0s\n",
      "[CV]  C=0.7422467772542881, decision_function_shape=ovr, degree=5, kernel=poly, score=0.6483333333333333, total=  45.1s\n"
     ]
    },
    {
     "name": "stderr",
     "output_type": "stream",
     "text": [
      "[Parallel(n_jobs=-1)]: Done   2 out of   5 | elapsed:   45.1s remaining:  1.1min\n",
      "[Parallel(n_jobs=-1)]: Done   3 out of   5 | elapsed:   45.2s remaining:   30.1s\n"
     ]
    },
    {
     "name": "stdout",
     "output_type": "stream",
     "text": [
      "[CV]  C=0.7422467772542881, decision_function_shape=ovr, degree=5, kernel=poly, score=0.6808333333333333, total=  45.2s\n",
      "[CV]  C=0.7422467772542881, decision_function_shape=ovr, degree=5, kernel=poly, score=0.6533333333333333, total=  26.3s\n"
     ]
    },
    {
     "name": "stderr",
     "output_type": "stream",
     "text": [
      "[Parallel(n_jobs=-1)]: Done   5 out of   5 | elapsed:  1.2min remaining:    0.0s\n",
      "[Parallel(n_jobs=-1)]: Done   5 out of   5 | elapsed:  1.2min finished\n"
     ]
    },
    {
     "name": "stdout",
     "output_type": "stream",
     "text": [
      "Fitting 5 folds for each of 1 candidates, totalling 5 fits\n",
      "[CV] C=0.7744141154425102, decision_function_shape=ovr, degree=5, kernel=sigmoid \n",
      "[CV] C=0.7744141154425102, decision_function_shape=ovr, degree=5, kernel=sigmoid \n",
      "[CV] C=0.7744141154425102, decision_function_shape=ovr, degree=5, kernel=sigmoid \n",
      "[CV] C=0.7744141154425102, decision_function_shape=ovr, degree=5, kernel=sigmoid \n",
      "[CV]  C=0.7744141154425102, decision_function_shape=ovr, degree=5, kernel=sigmoid, score=0.4666666666666667, total=  47.0s\n",
      "[CV] C=0.7744141154425102, decision_function_shape=ovr, degree=5, kernel=sigmoid \n",
      "[CV]  C=0.7744141154425102, decision_function_shape=ovr, degree=5, kernel=sigmoid, score=0.43833333333333335, total=  47.3s\n",
      "[CV]  C=0.7744141154425102, decision_function_shape=ovr, degree=5, kernel=sigmoid, score=0.4875, total=  47.4s\n"
     ]
    },
    {
     "name": "stderr",
     "output_type": "stream",
     "text": [
      "[Parallel(n_jobs=-1)]: Done   2 out of   5 | elapsed:   47.3s remaining:  1.2min\n",
      "[Parallel(n_jobs=-1)]: Done   3 out of   5 | elapsed:   47.5s remaining:   31.6s\n"
     ]
    },
    {
     "name": "stdout",
     "output_type": "stream",
     "text": [
      "[CV]  C=0.7744141154425102, decision_function_shape=ovr, degree=5, kernel=sigmoid, score=0.44916666666666666, total=  47.6s\n",
      "[CV]  C=0.7744141154425102, decision_function_shape=ovr, degree=5, kernel=sigmoid, score=0.4166666666666667, total=  27.6s\n"
     ]
    },
    {
     "name": "stderr",
     "output_type": "stream",
     "text": [
      "[Parallel(n_jobs=-1)]: Done   5 out of   5 | elapsed:  1.2min remaining:    0.0s\n",
      "[Parallel(n_jobs=-1)]: Done   5 out of   5 | elapsed:  1.2min finished\n"
     ]
    },
    {
     "name": "stdout",
     "output_type": "stream",
     "text": [
      "Fitting 5 folds for each of 1 candidates, totalling 5 fits\n",
      "[CV] C=0.7021126458608778, decision_function_shape=ovr, degree=5, kernel=poly \n",
      "[CV] C=0.7021126458608778, decision_function_shape=ovr, degree=5, kernel=poly \n",
      "[CV] C=0.7021126458608778, decision_function_shape=ovr, degree=5, kernel=poly \n",
      "[CV] C=0.7021126458608778, decision_function_shape=ovr, degree=5, kernel=poly \n",
      "[CV]  C=0.7021126458608778, decision_function_shape=ovr, degree=5, kernel=poly, score=0.6591666666666667, total=  44.4s\n",
      "[CV]  C=0.7021126458608778, decision_function_shape=ovr, degree=5, kernel=poly, score=0.67, total=  44.5s\n",
      "[CV] C=0.7021126458608778, decision_function_shape=ovr, degree=5, kernel=poly \n"
     ]
    },
    {
     "name": "stderr",
     "output_type": "stream",
     "text": [
      "[Parallel(n_jobs=-1)]: Done   2 out of   5 | elapsed:   44.5s remaining:  1.1min\n"
     ]
    },
    {
     "name": "stdout",
     "output_type": "stream",
     "text": [
      "[CV]  C=0.7021126458608778, decision_function_shape=ovr, degree=5, kernel=poly, score=0.6483333333333333, total=  44.8s\n",
      "[CV]  C=0.7021126458608778, decision_function_shape=ovr, degree=5, kernel=poly, score=0.6808333333333333, total=  44.9s\n"
     ]
    },
    {
     "name": "stderr",
     "output_type": "stream",
     "text": [
      "[Parallel(n_jobs=-1)]: Done   3 out of   5 | elapsed:   44.9s remaining:   29.9s\n"
     ]
    },
    {
     "name": "stdout",
     "output_type": "stream",
     "text": [
      "[CV]  C=0.7021126458608778, decision_function_shape=ovr, degree=5, kernel=poly, score=0.6533333333333333, total=  26.3s\n"
     ]
    },
    {
     "name": "stderr",
     "output_type": "stream",
     "text": [
      "[Parallel(n_jobs=-1)]: Done   5 out of   5 | elapsed:  1.2min remaining:    0.0s\n",
      "[Parallel(n_jobs=-1)]: Done   5 out of   5 | elapsed:  1.2min finished\n"
     ]
    },
    {
     "name": "stdout",
     "output_type": "stream",
     "text": [
      "Fitting 5 folds for each of 1 candidates, totalling 5 fits\n",
      "[CV] C=0.7559369089821273, decision_function_shape=ovr, degree=2, kernel=poly \n",
      "[CV] C=0.7559369089821273, decision_function_shape=ovr, degree=2, kernel=poly \n",
      "[CV] C=0.7559369089821273, decision_function_shape=ovr, degree=2, kernel=poly \n",
      "[CV] C=0.7559369089821273, decision_function_shape=ovr, degree=2, kernel=poly \n",
      "[CV]  C=0.7559369089821273, decision_function_shape=ovr, degree=2, kernel=poly, score=0.355, total=  44.6s\n",
      "[CV] C=0.7559369089821273, decision_function_shape=ovr, degree=2, kernel=poly \n",
      "[CV]  C=0.7559369089821273, decision_function_shape=ovr, degree=2, kernel=poly, score=0.3625, total=  44.6s\n",
      "[CV]  C=0.7559369089821273, decision_function_shape=ovr, degree=2, kernel=poly, score=0.36, total=  44.7s\n",
      "[CV]  C=0.7559369089821273, decision_function_shape=ovr, degree=2, kernel=poly, score=0.355, total=  44.8s\n"
     ]
    },
    {
     "name": "stderr",
     "output_type": "stream",
     "text": [
      "[Parallel(n_jobs=-1)]: Done   2 out of   5 | elapsed:   44.7s remaining:  1.1min\n",
      "[Parallel(n_jobs=-1)]: Done   3 out of   5 | elapsed:   44.7s remaining:   29.8s\n"
     ]
    },
    {
     "name": "stdout",
     "output_type": "stream",
     "text": [
      "[CV]  C=0.7559369089821273, decision_function_shape=ovr, degree=2, kernel=poly, score=0.3541666666666667, total=  26.2s\n"
     ]
    },
    {
     "name": "stderr",
     "output_type": "stream",
     "text": [
      "[Parallel(n_jobs=-1)]: Done   5 out of   5 | elapsed:  1.2min remaining:    0.0s\n",
      "[Parallel(n_jobs=-1)]: Done   5 out of   5 | elapsed:  1.2min finished\n"
     ]
    },
    {
     "name": "stdout",
     "output_type": "stream",
     "text": [
      "Fitting 5 folds for each of 1 candidates, totalling 5 fits\n",
      "[CV] C=0.7602045880531978, decision_function_shape=ovr, degree=5, kernel=poly \n",
      "[CV] C=0.7602045880531978, decision_function_shape=ovr, degree=5, kernel=poly \n",
      "[CV] C=0.7602045880531978, decision_function_shape=ovr, degree=5, kernel=poly \n",
      "[CV] C=0.7602045880531978, decision_function_shape=ovr, degree=5, kernel=poly \n",
      "[CV]  C=0.7602045880531978, decision_function_shape=ovr, degree=5, kernel=poly, score=0.6591666666666667, total=  44.4s\n",
      "[CV] C=0.7602045880531978, decision_function_shape=ovr, degree=5, kernel=poly \n",
      "[CV]  C=0.7602045880531978, decision_function_shape=ovr, degree=5, kernel=poly, score=0.67, total=  44.5s\n"
     ]
    },
    {
     "name": "stderr",
     "output_type": "stream",
     "text": [
      "[Parallel(n_jobs=-1)]: Done   2 out of   5 | elapsed:   44.5s remaining:  1.1min\n"
     ]
    },
    {
     "name": "stdout",
     "output_type": "stream",
     "text": [
      "[CV]  C=0.7602045880531978, decision_function_shape=ovr, degree=5, kernel=poly, score=0.6483333333333333, total=  44.7s\n",
      "[CV]  C=0.7602045880531978, decision_function_shape=ovr, degree=5, kernel=poly, score=0.6808333333333333, total=  44.7s\n"
     ]
    },
    {
     "name": "stderr",
     "output_type": "stream",
     "text": [
      "[Parallel(n_jobs=-1)]: Done   3 out of   5 | elapsed:   44.7s remaining:   29.8s\n"
     ]
    },
    {
     "name": "stdout",
     "output_type": "stream",
     "text": [
      "[CV]  C=0.7602045880531978, decision_function_shape=ovr, degree=5, kernel=poly, score=0.6533333333333333, total=  26.2s\n"
     ]
    },
    {
     "name": "stderr",
     "output_type": "stream",
     "text": [
      "[Parallel(n_jobs=-1)]: Done   5 out of   5 | elapsed:  1.2min remaining:    0.0s\n",
      "[Parallel(n_jobs=-1)]: Done   5 out of   5 | elapsed:  1.2min finished\n"
     ]
    },
    {
     "name": "stdout",
     "output_type": "stream",
     "text": [
      "Fitting 5 folds for each of 1 candidates, totalling 5 fits\n",
      "[CV] C=0.7544296884766523, decision_function_shape=ovr, degree=5, kernel=poly \n",
      "[CV] C=0.7544296884766523, decision_function_shape=ovr, degree=5, kernel=poly \n",
      "[CV] C=0.7544296884766523, decision_function_shape=ovr, degree=5, kernel=poly \n",
      "[CV] C=0.7544296884766523, decision_function_shape=ovr, degree=5, kernel=poly \n",
      "[CV]  C=0.7544296884766523, decision_function_shape=ovr, degree=5, kernel=poly, score=0.67, total=  44.3s\n",
      "[CV] C=0.7544296884766523, decision_function_shape=ovr, degree=5, kernel=poly \n",
      "[CV]  C=0.7544296884766523, decision_function_shape=ovr, degree=5, kernel=poly, score=0.6591666666666667, total=  44.5s\n",
      "[CV]  C=0.7544296884766523, decision_function_shape=ovr, degree=5, kernel=poly, score=0.6483333333333333, total=  44.7s\n"
     ]
    },
    {
     "name": "stderr",
     "output_type": "stream",
     "text": [
      "[Parallel(n_jobs=-1)]: Done   2 out of   5 | elapsed:   44.6s remaining:  1.1min\n",
      "[Parallel(n_jobs=-1)]: Done   3 out of   5 | elapsed:   44.7s remaining:   29.8s\n"
     ]
    },
    {
     "name": "stdout",
     "output_type": "stream",
     "text": [
      "[CV]  C=0.7544296884766523, decision_function_shape=ovr, degree=5, kernel=poly, score=0.6808333333333333, total=  44.9s\n",
      "[CV]  C=0.7544296884766523, decision_function_shape=ovr, degree=5, kernel=poly, score=0.6533333333333333, total=  26.3s\n"
     ]
    },
    {
     "name": "stderr",
     "output_type": "stream",
     "text": [
      "[Parallel(n_jobs=-1)]: Done   5 out of   5 | elapsed:  1.2min remaining:    0.0s\n",
      "[Parallel(n_jobs=-1)]: Done   5 out of   5 | elapsed:  1.2min finished\n"
     ]
    },
    {
     "name": "stdout",
     "output_type": "stream",
     "text": [
      "Fitting 5 folds for each of 1 candidates, totalling 5 fits\n",
      "[CV] C=0.7582589320577403, decision_function_shape=ovr, degree=3, kernel=poly \n",
      "[CV] C=0.7582589320577403, decision_function_shape=ovr, degree=3, kernel=poly \n",
      "[CV] C=0.7582589320577403, decision_function_shape=ovr, degree=3, kernel=poly \n",
      "[CV] C=0.7582589320577403, decision_function_shape=ovr, degree=3, kernel=poly \n",
      "[CV]  C=0.7582589320577403, decision_function_shape=ovr, degree=3, kernel=poly, score=0.3516666666666667, total=  44.6s\n",
      "[CV] C=0.7582589320577403, decision_function_shape=ovr, degree=3, kernel=poly \n",
      "[CV]  C=0.7582589320577403, decision_function_shape=ovr, degree=3, kernel=poly, score=0.3566666666666667, total=  44.9s\n",
      "[CV]  C=0.7582589320577403, decision_function_shape=ovr, degree=3, kernel=poly, score=0.36, total=  44.9s\n",
      "[CV]  C=0.7582589320577403, decision_function_shape=ovr, degree=3, kernel=poly, score=0.35083333333333333, total=  44.9s\n"
     ]
    },
    {
     "name": "stderr",
     "output_type": "stream",
     "text": [
      "[Parallel(n_jobs=-1)]: Done   2 out of   5 | elapsed:   44.9s remaining:  1.1min\n",
      "[Parallel(n_jobs=-1)]: Done   3 out of   5 | elapsed:   45.0s remaining:   30.0s\n"
     ]
    },
    {
     "name": "stdout",
     "output_type": "stream",
     "text": [
      "[CV]  C=0.7582589320577403, decision_function_shape=ovr, degree=3, kernel=poly, score=0.3541666666666667, total=  26.2s\n"
     ]
    },
    {
     "name": "stderr",
     "output_type": "stream",
     "text": [
      "[Parallel(n_jobs=-1)]: Done   5 out of   5 | elapsed:  1.2min remaining:    0.0s\n",
      "[Parallel(n_jobs=-1)]: Done   5 out of   5 | elapsed:  1.2min finished\n"
     ]
    },
    {
     "name": "stdout",
     "output_type": "stream",
     "text": [
      "Fitting 5 folds for each of 1 candidates, totalling 5 fits\n",
      "[CV] C=0.7652620105142559, decision_function_shape=ovr, degree=3, kernel=poly \n",
      "[CV] C=0.7652620105142559, decision_function_shape=ovr, degree=3, kernel=poly \n",
      "[CV] C=0.7652620105142559, decision_function_shape=ovr, degree=3, kernel=poly \n",
      "[CV] C=0.7652620105142559, decision_function_shape=ovr, degree=3, kernel=poly \n",
      "[CV]  C=0.7652620105142559, decision_function_shape=ovr, degree=3, kernel=poly, score=0.3566666666666667, total=  45.3s\n",
      "[CV] C=0.7652620105142559, decision_function_shape=ovr, degree=3, kernel=poly \n",
      "[CV]  C=0.7652620105142559, decision_function_shape=ovr, degree=3, kernel=poly, score=0.3516666666666667, total=  45.3s\n"
     ]
    },
    {
     "name": "stderr",
     "output_type": "stream",
     "text": [
      "[Parallel(n_jobs=-1)]: Done   2 out of   5 | elapsed:   45.4s remaining:  1.1min\n"
     ]
    },
    {
     "name": "stdout",
     "output_type": "stream",
     "text": [
      "[CV]  C=0.7652620105142559, decision_function_shape=ovr, degree=3, kernel=poly, score=0.36, total=  45.6s\n"
     ]
    },
    {
     "name": "stderr",
     "output_type": "stream",
     "text": [
      "[Parallel(n_jobs=-1)]: Done   3 out of   5 | elapsed:   45.6s remaining:   30.4s\n"
     ]
    },
    {
     "name": "stdout",
     "output_type": "stream",
     "text": [
      "[CV]  C=0.7652620105142559, decision_function_shape=ovr, degree=3, kernel=poly, score=0.35083333333333333, total=  46.2s\n",
      "[CV]  C=0.7652620105142559, decision_function_shape=ovr, degree=3, kernel=poly, score=0.3541666666666667, total=  26.3s\n"
     ]
    },
    {
     "name": "stderr",
     "output_type": "stream",
     "text": [
      "[Parallel(n_jobs=-1)]: Done   5 out of   5 | elapsed:  1.2min remaining:    0.0s\n",
      "[Parallel(n_jobs=-1)]: Done   5 out of   5 | elapsed:  1.2min finished\n"
     ]
    },
    {
     "name": "stdout",
     "output_type": "stream",
     "text": [
      "Fitting 5 folds for each of 1 candidates, totalling 5 fits\n",
      "[CV] C=0.756997144157062, decision_function_shape=ovr, degree=5, kernel=poly \n",
      "[CV] C=0.756997144157062, decision_function_shape=ovr, degree=5, kernel=poly \n",
      "[CV] C=0.756997144157062, decision_function_shape=ovr, degree=5, kernel=poly \n",
      "[CV] C=0.756997144157062, decision_function_shape=ovr, degree=5, kernel=poly \n",
      "[CV]  C=0.756997144157062, decision_function_shape=ovr, degree=5, kernel=poly, score=0.6591666666666667, total=  44.5s\n",
      "[CV] C=0.756997144157062, decision_function_shape=ovr, degree=5, kernel=poly \n",
      "[CV]  C=0.756997144157062, decision_function_shape=ovr, degree=5, kernel=poly, score=0.6483333333333333, total=  44.7s\n",
      "[CV]  C=0.756997144157062, decision_function_shape=ovr, degree=5, kernel=poly, score=0.67, total=  44.9s\n"
     ]
    },
    {
     "name": "stderr",
     "output_type": "stream",
     "text": [
      "[Parallel(n_jobs=-1)]: Done   2 out of   5 | elapsed:   44.8s remaining:  1.1min\n",
      "[Parallel(n_jobs=-1)]: Done   3 out of   5 | elapsed:   44.9s remaining:   29.9s\n"
     ]
    },
    {
     "name": "stdout",
     "output_type": "stream",
     "text": [
      "[CV]  C=0.756997144157062, decision_function_shape=ovr, degree=5, kernel=poly, score=0.6808333333333333, total=  45.2s\n",
      "[CV]  C=0.756997144157062, decision_function_shape=ovr, degree=5, kernel=poly, score=0.6533333333333333, total=  26.4s\n"
     ]
    },
    {
     "name": "stderr",
     "output_type": "stream",
     "text": [
      "[Parallel(n_jobs=-1)]: Done   5 out of   5 | elapsed:  1.2min remaining:    0.0s\n",
      "[Parallel(n_jobs=-1)]: Done   5 out of   5 | elapsed:  1.2min finished\n"
     ]
    },
    {
     "name": "stdout",
     "output_type": "stream",
     "text": [
      "Fitting 5 folds for each of 1 candidates, totalling 5 fits\n",
      "[CV] C=0.7649170225470154, decision_function_shape=ovo, degree=5, kernel=poly \n",
      "[CV] C=0.7649170225470154, decision_function_shape=ovo, degree=5, kernel=poly \n",
      "[CV] C=0.7649170225470154, decision_function_shape=ovo, degree=5, kernel=poly \n",
      "[CV] C=0.7649170225470154, decision_function_shape=ovo, degree=5, kernel=poly \n",
      "[CV]  C=0.7649170225470154, decision_function_shape=ovo, degree=5, kernel=poly, score=0.67, total=  45.7s\n",
      "[CV] C=0.7649170225470154, decision_function_shape=ovo, degree=5, kernel=poly \n",
      "[CV]  C=0.7649170225470154, decision_function_shape=ovo, degree=5, kernel=poly, score=0.6591666666666667, total=  46.4s\n",
      "[CV]  C=0.7649170225470154, decision_function_shape=ovo, degree=5, kernel=poly, score=0.6483333333333333, total=  46.4s\n"
     ]
    },
    {
     "name": "stderr",
     "output_type": "stream",
     "text": [
      "[Parallel(n_jobs=-1)]: Done   2 out of   5 | elapsed:   46.4s remaining:  1.2min\n",
      "[Parallel(n_jobs=-1)]: Done   3 out of   5 | elapsed:   46.5s remaining:   31.0s\n"
     ]
    },
    {
     "name": "stdout",
     "output_type": "stream",
     "text": [
      "[CV]  C=0.7649170225470154, decision_function_shape=ovo, degree=5, kernel=poly, score=0.6808333333333333, total=  46.5s\n",
      "[CV]  C=0.7649170225470154, decision_function_shape=ovo, degree=5, kernel=poly, score=0.6533333333333333, total=  26.5s\n"
     ]
    },
    {
     "name": "stderr",
     "output_type": "stream",
     "text": [
      "[Parallel(n_jobs=-1)]: Done   5 out of   5 | elapsed:  1.2min remaining:    0.0s\n",
      "[Parallel(n_jobs=-1)]: Done   5 out of   5 | elapsed:  1.2min finished\n"
     ]
    },
    {
     "name": "stdout",
     "output_type": "stream",
     "text": [
      "Fitting 5 folds for each of 1 candidates, totalling 5 fits\n",
      "[CV] C=0.7661477589022924, decision_function_shape=ovr, degree=5, kernel=poly \n",
      "[CV] C=0.7661477589022924, decision_function_shape=ovr, degree=5, kernel=poly \n",
      "[CV] C=0.7661477589022924, decision_function_shape=ovr, degree=5, kernel=poly \n",
      "[CV] C=0.7661477589022924, decision_function_shape=ovr, degree=5, kernel=poly \n",
      "[CV]  C=0.7661477589022924, decision_function_shape=ovr, degree=5, kernel=poly, score=0.6483333333333333, total=  45.6s\n",
      "[CV] C=0.7661477589022924, decision_function_shape=ovr, degree=5, kernel=poly \n",
      "[CV]  C=0.7661477589022924, decision_function_shape=ovr, degree=5, kernel=poly, score=0.6591666666666667, total=  45.7s\n",
      "[CV]  C=0.7661477589022924, decision_function_shape=ovr, degree=5, kernel=poly, score=0.67, total=  45.9s\n"
     ]
    },
    {
     "name": "stderr",
     "output_type": "stream",
     "text": [
      "[Parallel(n_jobs=-1)]: Done   2 out of   5 | elapsed:   45.8s remaining:  1.1min\n",
      "[Parallel(n_jobs=-1)]: Done   3 out of   5 | elapsed:   45.9s remaining:   30.6s\n"
     ]
    },
    {
     "name": "stdout",
     "output_type": "stream",
     "text": [
      "[CV]  C=0.7661477589022924, decision_function_shape=ovr, degree=5, kernel=poly, score=0.6808333333333333, total=  46.1s\n",
      "[CV]  C=0.7661477589022924, decision_function_shape=ovr, degree=5, kernel=poly, score=0.6533333333333333, total=  26.5s\n"
     ]
    },
    {
     "name": "stderr",
     "output_type": "stream",
     "text": [
      "[Parallel(n_jobs=-1)]: Done   5 out of   5 | elapsed:  1.2min remaining:    0.0s\n",
      "[Parallel(n_jobs=-1)]: Done   5 out of   5 | elapsed:  1.2min finished\n"
     ]
    },
    {
     "name": "stdout",
     "output_type": "stream",
     "text": [
      "Fitting 5 folds for each of 1 candidates, totalling 5 fits\n",
      "[CV] C=0.7671607027518489, decision_function_shape=ovo, degree=5, kernel=poly \n",
      "[CV] C=0.7671607027518489, decision_function_shape=ovo, degree=5, kernel=poly \n",
      "[CV] C=0.7671607027518489, decision_function_shape=ovo, degree=5, kernel=poly \n",
      "[CV] C=0.7671607027518489, decision_function_shape=ovo, degree=5, kernel=poly \n",
      "[CV]  C=0.7671607027518489, decision_function_shape=ovo, degree=5, kernel=poly, score=0.6483333333333333, total=  45.4s\n",
      "[CV] C=0.7671607027518489, decision_function_shape=ovo, degree=5, kernel=poly \n",
      "[CV]  C=0.7671607027518489, decision_function_shape=ovo, degree=5, kernel=poly, score=0.67, total=  45.7s\n",
      "[CV]  C=0.7671607027518489, decision_function_shape=ovo, degree=5, kernel=poly, score=0.6808333333333333, total=  45.6s\n",
      "[CV]  C=0.7671607027518489, decision_function_shape=ovo, degree=5, kernel=poly, score=0.6591666666666667, total=  45.8s\n"
     ]
    },
    {
     "name": "stderr",
     "output_type": "stream",
     "text": [
      "[Parallel(n_jobs=-1)]: Done   2 out of   5 | elapsed:   45.8s remaining:  1.1min\n",
      "[Parallel(n_jobs=-1)]: Done   3 out of   5 | elapsed:   45.8s remaining:   30.5s\n"
     ]
    },
    {
     "name": "stdout",
     "output_type": "stream",
     "text": [
      "[CV]  C=0.7671607027518489, decision_function_shape=ovo, degree=5, kernel=poly, score=0.6533333333333333, total=  26.2s\n"
     ]
    },
    {
     "name": "stderr",
     "output_type": "stream",
     "text": [
      "[Parallel(n_jobs=-1)]: Done   5 out of   5 | elapsed:  1.2min remaining:    0.0s\n",
      "[Parallel(n_jobs=-1)]: Done   5 out of   5 | elapsed:  1.2min finished\n"
     ]
    },
    {
     "name": "stdout",
     "output_type": "stream",
     "text": [
      "Fitting 5 folds for each of 1 candidates, totalling 5 fits\n",
      "[CV] C=0.7682895230514668, decision_function_shape=ovr, degree=5, kernel=poly \n",
      "[CV] C=0.7682895230514668, decision_function_shape=ovr, degree=5, kernel=poly \n",
      "[CV] C=0.7682895230514668, decision_function_shape=ovr, degree=5, kernel=poly \n",
      "[CV] C=0.7682895230514668, decision_function_shape=ovr, degree=5, kernel=poly \n",
      "[CV]  C=0.7682895230514668, decision_function_shape=ovr, degree=5, kernel=poly, score=0.6483333333333333, total=  44.1s\n",
      "[CV] C=0.7682895230514668, decision_function_shape=ovr, degree=5, kernel=poly \n",
      "[CV]  C=0.7682895230514668, decision_function_shape=ovr, degree=5, kernel=poly, score=0.67, total=  44.3s\n"
     ]
    },
    {
     "name": "stderr",
     "output_type": "stream",
     "text": [
      "[Parallel(n_jobs=-1)]: Done   2 out of   5 | elapsed:   44.3s remaining:  1.1min\n"
     ]
    },
    {
     "name": "stdout",
     "output_type": "stream",
     "text": [
      "[CV]  C=0.7682895230514668, decision_function_shape=ovr, degree=5, kernel=poly, score=0.6808333333333333, total=  44.7s\n",
      "[CV]  C=0.7682895230514668, decision_function_shape=ovr, degree=5, kernel=poly, score=0.6591666666666667, total=  44.9s\n"
     ]
    },
    {
     "name": "stderr",
     "output_type": "stream",
     "text": [
      "[Parallel(n_jobs=-1)]: Done   3 out of   5 | elapsed:   44.9s remaining:   29.9s\n"
     ]
    },
    {
     "name": "stdout",
     "output_type": "stream",
     "text": [
      "[CV]  C=0.7682895230514668, decision_function_shape=ovr, degree=5, kernel=poly, score=0.6533333333333333, total=  26.5s\n"
     ]
    },
    {
     "name": "stderr",
     "output_type": "stream",
     "text": [
      "[Parallel(n_jobs=-1)]: Done   5 out of   5 | elapsed:  1.2min remaining:    0.0s\n",
      "[Parallel(n_jobs=-1)]: Done   5 out of   5 | elapsed:  1.2min finished\n"
     ]
    },
    {
     "name": "stdout",
     "output_type": "stream",
     "text": [
      "Fitting 5 folds for each of 1 candidates, totalling 5 fits\n",
      "[CV] C=0.6782568301689466, decision_function_shape=ovo, degree=5, kernel=sigmoid \n",
      "[CV] C=0.6782568301689466, decision_function_shape=ovo, degree=5, kernel=sigmoid \n",
      "[CV] C=0.6782568301689466, decision_function_shape=ovo, degree=5, kernel=sigmoid \n",
      "[CV] C=0.6782568301689466, decision_function_shape=ovo, degree=5, kernel=sigmoid \n",
      "[CV]  C=0.6782568301689466, decision_function_shape=ovo, degree=5, kernel=sigmoid, score=0.4666666666666667, total=  48.6s\n",
      "[CV] C=0.6782568301689466, decision_function_shape=ovo, degree=5, kernel=sigmoid \n",
      "[CV]  C=0.6782568301689466, decision_function_shape=ovo, degree=5, kernel=sigmoid, score=0.4875, total=  48.9s\n"
     ]
    },
    {
     "name": "stderr",
     "output_type": "stream",
     "text": [
      "[Parallel(n_jobs=-1)]: Done   2 out of   5 | elapsed:   48.9s remaining:  1.2min\n"
     ]
    },
    {
     "name": "stdout",
     "output_type": "stream",
     "text": [
      "[CV]  C=0.6782568301689466, decision_function_shape=ovo, degree=5, kernel=sigmoid, score=0.43833333333333335, total=  49.2s\n",
      "[CV]  C=0.6782568301689466, decision_function_shape=ovo, degree=5, kernel=sigmoid, score=0.44916666666666666, total=  49.2s\n"
     ]
    },
    {
     "name": "stderr",
     "output_type": "stream",
     "text": [
      "[Parallel(n_jobs=-1)]: Done   3 out of   5 | elapsed:   49.2s remaining:   32.8s\n"
     ]
    },
    {
     "name": "stdout",
     "output_type": "stream",
     "text": [
      "[CV]  C=0.6782568301689466, decision_function_shape=ovo, degree=5, kernel=sigmoid, score=0.4166666666666667, total=  27.6s\n"
     ]
    },
    {
     "name": "stderr",
     "output_type": "stream",
     "text": [
      "[Parallel(n_jobs=-1)]: Done   5 out of   5 | elapsed:  1.3min remaining:    0.0s\n",
      "[Parallel(n_jobs=-1)]: Done   5 out of   5 | elapsed:  1.3min finished\n"
     ]
    },
    {
     "name": "stdout",
     "output_type": "stream",
     "text": [
      "Fitting 5 folds for each of 1 candidates, totalling 5 fits\n",
      "[CV] C=0.7595286849060344, decision_function_shape=ovr, degree=5, kernel=sigmoid \n",
      "[CV] C=0.7595286849060344, decision_function_shape=ovr, degree=5, kernel=sigmoid \n",
      "[CV] C=0.7595286849060344, decision_function_shape=ovr, degree=5, kernel=sigmoid \n",
      "[CV] C=0.7595286849060344, decision_function_shape=ovr, degree=5, kernel=sigmoid \n",
      "[CV]  C=0.7595286849060344, decision_function_shape=ovr, degree=5, kernel=sigmoid, score=0.4875, total=  46.9s\n",
      "[CV] C=0.7595286849060344, decision_function_shape=ovr, degree=5, kernel=sigmoid \n",
      "[CV]  C=0.7595286849060344, decision_function_shape=ovr, degree=5, kernel=sigmoid, score=0.4666666666666667, total=  46.9s\n"
     ]
    },
    {
     "name": "stderr",
     "output_type": "stream",
     "text": [
      "[Parallel(n_jobs=-1)]: Done   2 out of   5 | elapsed:   47.0s remaining:  1.2min\n"
     ]
    },
    {
     "name": "stdout",
     "output_type": "stream",
     "text": [
      "[CV]  C=0.7595286849060344, decision_function_shape=ovr, degree=5, kernel=sigmoid, score=0.44916666666666666, total=  47.1s\n",
      "[CV]  C=0.7595286849060344, decision_function_shape=ovr, degree=5, kernel=sigmoid, score=0.43833333333333335, total=  47.3s\n"
     ]
    },
    {
     "name": "stderr",
     "output_type": "stream",
     "text": [
      "[Parallel(n_jobs=-1)]: Done   3 out of   5 | elapsed:   47.3s remaining:   31.5s\n"
     ]
    },
    {
     "name": "stdout",
     "output_type": "stream",
     "text": [
      "[CV]  C=0.7595286849060344, decision_function_shape=ovr, degree=5, kernel=sigmoid, score=0.4166666666666667, total=  27.6s\n"
     ]
    },
    {
     "name": "stderr",
     "output_type": "stream",
     "text": [
      "[Parallel(n_jobs=-1)]: Done   5 out of   5 | elapsed:  1.2min remaining:    0.0s\n",
      "[Parallel(n_jobs=-1)]: Done   5 out of   5 | elapsed:  1.2min finished\n"
     ]
    },
    {
     "name": "stdout",
     "output_type": "stream",
     "text": [
      "Fitting 5 folds for each of 1 candidates, totalling 5 fits\n",
      "[CV] C=0.6110328214151542, decision_function_shape=ovo, degree=5, kernel=poly \n",
      "[CV] C=0.6110328214151542, decision_function_shape=ovo, degree=5, kernel=poly \n",
      "[CV] C=0.6110328214151542, decision_function_shape=ovo, degree=5, kernel=poly \n",
      "[CV] C=0.6110328214151542, decision_function_shape=ovo, degree=5, kernel=poly \n",
      "[CV]  C=0.6110328214151542, decision_function_shape=ovo, degree=5, kernel=poly, score=0.6591666666666667, total=  43.9s\n",
      "[CV]  C=0.6110328214151542, decision_function_shape=ovo, degree=5, kernel=poly, score=0.6483333333333333, total=  43.9s\n",
      "[CV] C=0.6110328214151542, decision_function_shape=ovo, degree=5, kernel=poly \n"
     ]
    },
    {
     "name": "stderr",
     "output_type": "stream",
     "text": [
      "[Parallel(n_jobs=-1)]: Done   2 out of   5 | elapsed:   44.0s remaining:  1.1min\n"
     ]
    },
    {
     "name": "stdout",
     "output_type": "stream",
     "text": [
      "[CV]  C=0.6110328214151542, decision_function_shape=ovo, degree=5, kernel=poly, score=0.67, total=  44.2s\n",
      "[CV]  C=0.6110328214151542, decision_function_shape=ovo, degree=5, kernel=poly, score=0.6808333333333333, total=  44.2s\n"
     ]
    },
    {
     "name": "stderr",
     "output_type": "stream",
     "text": [
      "[Parallel(n_jobs=-1)]: Done   3 out of   5 | elapsed:   44.3s remaining:   29.5s\n"
     ]
    },
    {
     "name": "stdout",
     "output_type": "stream",
     "text": [
      "[CV]  C=0.6110328214151542, decision_function_shape=ovo, degree=5, kernel=poly, score=0.6533333333333333, total=  26.2s\n"
     ]
    },
    {
     "name": "stderr",
     "output_type": "stream",
     "text": [
      "[Parallel(n_jobs=-1)]: Done   5 out of   5 | elapsed:  1.2min remaining:    0.0s\n",
      "[Parallel(n_jobs=-1)]: Done   5 out of   5 | elapsed:  1.2min finished\n"
     ]
    },
    {
     "name": "stdout",
     "output_type": "stream",
     "text": [
      "Fitting 5 folds for each of 1 candidates, totalling 5 fits\n",
      "[CV] C=0.5788893822385636, decision_function_shape=ovr, degree=5, kernel=poly \n",
      "[CV] C=0.5788893822385636, decision_function_shape=ovr, degree=5, kernel=poly \n",
      "[CV] C=0.5788893822385636, decision_function_shape=ovr, degree=5, kernel=poly \n",
      "[CV] C=0.5788893822385636, decision_function_shape=ovr, degree=5, kernel=poly \n",
      "[CV]  C=0.5788893822385636, decision_function_shape=ovr, degree=5, kernel=poly, score=0.6483333333333333, total=  43.0s\n",
      "[CV] C=0.5788893822385636, decision_function_shape=ovr, degree=5, kernel=poly \n",
      "[CV]  C=0.5788893822385636, decision_function_shape=ovr, degree=5, kernel=poly, score=0.67, total=  43.1s\n",
      "[CV]  C=0.5788893822385636, decision_function_shape=ovr, degree=5, kernel=poly, score=0.6591666666666667, total=  43.2s\n",
      "[CV]  C=0.5788893822385636, decision_function_shape=ovr, degree=5, kernel=poly, score=0.6808333333333333, total=  43.1s\n"
     ]
    },
    {
     "name": "stderr",
     "output_type": "stream",
     "text": [
      "[Parallel(n_jobs=-1)]: Done   2 out of   5 | elapsed:   43.1s remaining:  1.1min\n",
      "[Parallel(n_jobs=-1)]: Done   3 out of   5 | elapsed:   43.3s remaining:   28.8s\n"
     ]
    },
    {
     "name": "stdout",
     "output_type": "stream",
     "text": [
      "[CV]  C=0.5788893822385636, decision_function_shape=ovr, degree=5, kernel=poly, score=0.6533333333333333, total=  26.1s\n"
     ]
    },
    {
     "name": "stderr",
     "output_type": "stream",
     "text": [
      "[Parallel(n_jobs=-1)]: Done   5 out of   5 | elapsed:  1.2min remaining:    0.0s\n",
      "[Parallel(n_jobs=-1)]: Done   5 out of   5 | elapsed:  1.2min finished\n"
     ]
    },
    {
     "name": "stdout",
     "output_type": "stream",
     "text": [
      "Fitting 5 folds for each of 1 candidates, totalling 5 fits\n",
      "[CV] C=0.7594304452776311, decision_function_shape=ovo, degree=2, kernel=poly \n",
      "[CV] C=0.7594304452776311, decision_function_shape=ovo, degree=2, kernel=poly \n",
      "[CV] C=0.7594304452776311, decision_function_shape=ovo, degree=2, kernel=poly \n",
      "[CV] C=0.7594304452776311, decision_function_shape=ovo, degree=2, kernel=poly \n",
      "[CV]  C=0.7594304452776311, decision_function_shape=ovo, degree=2, kernel=poly, score=0.355, total=  45.3s\n",
      "[CV] C=0.7594304452776311, decision_function_shape=ovo, degree=2, kernel=poly \n",
      "[CV]  C=0.7594304452776311, decision_function_shape=ovo, degree=2, kernel=poly, score=0.36, total=  45.5s\n"
     ]
    },
    {
     "name": "stderr",
     "output_type": "stream",
     "text": [
      "[Parallel(n_jobs=-1)]: Done   2 out of   5 | elapsed:   45.5s remaining:  1.1min\n"
     ]
    },
    {
     "name": "stdout",
     "output_type": "stream",
     "text": [
      "[CV]  C=0.7594304452776311, decision_function_shape=ovo, degree=2, kernel=poly, score=0.3625, total=  45.8s\n",
      "[CV]  C=0.7594304452776311, decision_function_shape=ovo, degree=2, kernel=poly, score=0.355, total=  45.8s\n"
     ]
    },
    {
     "name": "stderr",
     "output_type": "stream",
     "text": [
      "[Parallel(n_jobs=-1)]: Done   3 out of   5 | elapsed:   45.8s remaining:   30.6s\n"
     ]
    },
    {
     "name": "stdout",
     "output_type": "stream",
     "text": [
      "[CV]  C=0.7594304452776311, decision_function_shape=ovo, degree=2, kernel=poly, score=0.3541666666666667, total=  26.9s\n"
     ]
    },
    {
     "name": "stderr",
     "output_type": "stream",
     "text": [
      "[Parallel(n_jobs=-1)]: Done   5 out of   5 | elapsed:  1.2min remaining:    0.0s\n",
      "[Parallel(n_jobs=-1)]: Done   5 out of   5 | elapsed:  1.2min finished\n"
     ]
    },
    {
     "name": "stdout",
     "output_type": "stream",
     "text": [
      "Fitting 5 folds for each of 1 candidates, totalling 5 fits\n",
      "[CV] C=0.7580287415316561, decision_function_shape=ovr, degree=5, kernel=linear \n",
      "[CV] C=0.7580287415316561, decision_function_shape=ovr, degree=5, kernel=linear \n",
      "[CV] C=0.7580287415316561, decision_function_shape=ovr, degree=5, kernel=linear \n",
      "[CV] C=0.7580287415316561, decision_function_shape=ovr, degree=5, kernel=linear \n",
      "[CV]  C=0.7580287415316561, decision_function_shape=ovr, degree=5, kernel=linear, score=0.7558333333333334, total=  31.0s\n",
      "[CV] C=0.7580287415316561, decision_function_shape=ovr, degree=5, kernel=linear \n",
      "[CV]  C=0.7580287415316561, decision_function_shape=ovr, degree=5, kernel=linear, score=0.7716666666666666, total=  31.4s\n",
      "[CV]  C=0.7580287415316561, decision_function_shape=ovr, degree=5, kernel=linear, score=0.7366666666666667, total=  31.3s\n"
     ]
    },
    {
     "name": "stderr",
     "output_type": "stream",
     "text": [
      "[Parallel(n_jobs=-1)]: Done   2 out of   5 | elapsed:   31.4s remaining:   47.1s\n",
      "[Parallel(n_jobs=-1)]: Done   3 out of   5 | elapsed:   31.4s remaining:   20.9s\n"
     ]
    },
    {
     "name": "stdout",
     "output_type": "stream",
     "text": [
      "[CV]  C=0.7580287415316561, decision_function_shape=ovr, degree=5, kernel=linear, score=0.7716666666666666, total=  31.6s\n",
      "[CV]  C=0.7580287415316561, decision_function_shape=ovr, degree=5, kernel=linear, score=0.7358333333333333, total=  18.9s\n"
     ]
    },
    {
     "name": "stderr",
     "output_type": "stream",
     "text": [
      "[Parallel(n_jobs=-1)]: Done   5 out of   5 | elapsed:   50.0s remaining:    0.0s\n",
      "[Parallel(n_jobs=-1)]: Done   5 out of   5 | elapsed:   50.0s finished\n"
     ]
    },
    {
     "name": "stdout",
     "output_type": "stream",
     "text": [
      "Fitting 5 folds for each of 1 candidates, totalling 5 fits\n",
      "[CV] C=0.7545252575917879, decision_function_shape=ovr, degree=5, kernel=linear \n",
      "[CV] C=0.7545252575917879, decision_function_shape=ovr, degree=5, kernel=linear \n",
      "[CV] C=0.7545252575917879, decision_function_shape=ovr, degree=5, kernel=linear \n",
      "[CV] C=0.7545252575917879, decision_function_shape=ovr, degree=5, kernel=linear \n",
      "[CV]  C=0.7545252575917879, decision_function_shape=ovr, degree=5, kernel=linear, score=0.7725, total=  30.9s\n",
      "[CV] C=0.7545252575917879, decision_function_shape=ovr, degree=5, kernel=linear \n",
      "[CV]  C=0.7545252575917879, decision_function_shape=ovr, degree=5, kernel=linear, score=0.7558333333333334, total=  31.0s\n",
      "[CV]  C=0.7545252575917879, decision_function_shape=ovr, degree=5, kernel=linear, score=0.7366666666666667, total=  31.0s\n"
     ]
    },
    {
     "name": "stderr",
     "output_type": "stream",
     "text": [
      "[Parallel(n_jobs=-1)]: Done   2 out of   5 | elapsed:   31.0s remaining:   46.5s\n",
      "[Parallel(n_jobs=-1)]: Done   3 out of   5 | elapsed:   31.1s remaining:   20.7s\n"
     ]
    },
    {
     "name": "stdout",
     "output_type": "stream",
     "text": [
      "[CV]  C=0.7545252575917879, decision_function_shape=ovr, degree=5, kernel=linear, score=0.7725, total=  31.5s\n",
      "[CV]  C=0.7545252575917879, decision_function_shape=ovr, degree=5, kernel=linear, score=0.7366666666666667, total=  18.7s\n"
     ]
    },
    {
     "name": "stderr",
     "output_type": "stream",
     "text": [
      "[Parallel(n_jobs=-1)]: Done   5 out of   5 | elapsed:   49.7s remaining:    0.0s\n",
      "[Parallel(n_jobs=-1)]: Done   5 out of   5 | elapsed:   49.7s finished\n"
     ]
    },
    {
     "name": "stdout",
     "output_type": "stream",
     "text": [
      "Fitting 5 folds for each of 1 candidates, totalling 5 fits\n",
      "[CV] C=0.7554337763924995, decision_function_shape=ovr, degree=5, kernel=linear \n",
      "[CV] C=0.7554337763924995, decision_function_shape=ovr, degree=5, kernel=linear \n",
      "[CV] C=0.7554337763924995, decision_function_shape=ovr, degree=5, kernel=linear \n",
      "[CV] C=0.7554337763924995, decision_function_shape=ovr, degree=5, kernel=linear \n",
      "[CV]  C=0.7554337763924995, decision_function_shape=ovr, degree=5, kernel=linear, score=0.7725, total=  29.5s\n",
      "[CV] C=0.7554337763924995, decision_function_shape=ovr, degree=5, kernel=linear \n",
      "[CV]  C=0.7554337763924995, decision_function_shape=ovr, degree=5, kernel=linear, score=0.7366666666666667, total=  29.6s\n"
     ]
    },
    {
     "name": "stderr",
     "output_type": "stream",
     "text": [
      "[Parallel(n_jobs=-1)]: Done   2 out of   5 | elapsed:   29.7s remaining:   44.5s\n"
     ]
    },
    {
     "name": "stdout",
     "output_type": "stream",
     "text": [
      "[CV]  C=0.7554337763924995, decision_function_shape=ovr, degree=5, kernel=linear, score=0.7558333333333334, total=  29.9s\n"
     ]
    },
    {
     "name": "stderr",
     "output_type": "stream",
     "text": [
      "[Parallel(n_jobs=-1)]: Done   3 out of   5 | elapsed:   29.9s remaining:   19.9s\n"
     ]
    },
    {
     "name": "stdout",
     "output_type": "stream",
     "text": [
      "[CV]  C=0.7554337763924995, decision_function_shape=ovr, degree=5, kernel=linear, score=0.7725, total=  30.0s\n",
      "[CV]  C=0.7554337763924995, decision_function_shape=ovr, degree=5, kernel=linear, score=0.7366666666666667, total=  18.7s\n"
     ]
    },
    {
     "name": "stderr",
     "output_type": "stream",
     "text": [
      "[Parallel(n_jobs=-1)]: Done   5 out of   5 | elapsed:   48.3s remaining:    0.0s\n",
      "[Parallel(n_jobs=-1)]: Done   5 out of   5 | elapsed:   48.3s finished\n"
     ]
    },
    {
     "name": "stdout",
     "output_type": "stream",
     "text": [
      "Fitting 5 folds for each of 1 candidates, totalling 5 fits\n",
      "[CV] C=0.7533979412925755, decision_function_shape=ovr, degree=5, kernel=linear \n",
      "[CV] C=0.7533979412925755, decision_function_shape=ovr, degree=5, kernel=linear \n",
      "[CV] C=0.7533979412925755, decision_function_shape=ovr, degree=5, kernel=linear \n",
      "[CV] C=0.7533979412925755, decision_function_shape=ovr, degree=5, kernel=linear \n",
      "[CV]  C=0.7533979412925755, decision_function_shape=ovr, degree=5, kernel=linear, score=0.7558333333333334, total=  31.8s\n",
      "[CV] C=0.7533979412925755, decision_function_shape=ovr, degree=5, kernel=linear \n",
      "[CV]  C=0.7533979412925755, decision_function_shape=ovr, degree=5, kernel=linear, score=0.7366666666666667, total=  31.8s\n",
      "[CV]  C=0.7533979412925755, decision_function_shape=ovr, degree=5, kernel=linear, score=0.7725, total=  31.9s\n"
     ]
    },
    {
     "name": "stderr",
     "output_type": "stream",
     "text": [
      "[Parallel(n_jobs=-1)]: Done   2 out of   5 | elapsed:   31.9s remaining:   47.8s\n",
      "[Parallel(n_jobs=-1)]: Done   3 out of   5 | elapsed:   31.9s remaining:   21.3s\n"
     ]
    },
    {
     "name": "stdout",
     "output_type": "stream",
     "text": [
      "[CV]  C=0.7533979412925755, decision_function_shape=ovr, degree=5, kernel=linear, score=0.7725, total=  32.3s\n",
      "[CV]  C=0.7533979412925755, decision_function_shape=ovr, degree=5, kernel=linear, score=0.7366666666666667, total=  19.1s\n"
     ]
    },
    {
     "name": "stderr",
     "output_type": "stream",
     "text": [
      "[Parallel(n_jobs=-1)]: Done   5 out of   5 | elapsed:   51.0s remaining:    0.0s\n",
      "[Parallel(n_jobs=-1)]: Done   5 out of   5 | elapsed:   51.0s finished\n"
     ]
    },
    {
     "name": "stdout",
     "output_type": "stream",
     "text": [
      "Fitting 5 folds for each of 1 candidates, totalling 5 fits\n",
      "[CV] C=0.7531905108216488, decision_function_shape=ovo, degree=5, kernel=linear \n",
      "[CV] C=0.7531905108216488, decision_function_shape=ovo, degree=5, kernel=linear \n",
      "[CV] C=0.7531905108216488, decision_function_shape=ovo, degree=5, kernel=linear \n",
      "[CV] C=0.7531905108216488, decision_function_shape=ovo, degree=5, kernel=linear \n",
      "[CV]  C=0.7531905108216488, decision_function_shape=ovo, degree=5, kernel=linear, score=0.755, total=  29.2s\n",
      "[CV] C=0.7531905108216488, decision_function_shape=ovo, degree=5, kernel=linear \n",
      "[CV]  C=0.7531905108216488, decision_function_shape=ovo, degree=5, kernel=linear, score=0.7725, total=  29.3s\n"
     ]
    },
    {
     "name": "stderr",
     "output_type": "stream",
     "text": [
      "[Parallel(n_jobs=-1)]: Done   2 out of   5 | elapsed:   29.3s remaining:   44.0s\n"
     ]
    },
    {
     "name": "stdout",
     "output_type": "stream",
     "text": [
      "[CV]  C=0.7531905108216488, decision_function_shape=ovo, degree=5, kernel=linear, score=0.7366666666666667, total=  29.5s\n",
      "[CV]  C=0.7531905108216488, decision_function_shape=ovo, degree=5, kernel=linear, score=0.7725, total=  29.6s\n"
     ]
    },
    {
     "name": "stderr",
     "output_type": "stream",
     "text": [
      "[Parallel(n_jobs=-1)]: Done   3 out of   5 | elapsed:   29.6s remaining:   19.7s\n"
     ]
    },
    {
     "name": "stdout",
     "output_type": "stream",
     "text": [
      "[CV]  C=0.7531905108216488, decision_function_shape=ovo, degree=5, kernel=linear, score=0.7366666666666667, total=  19.0s\n"
     ]
    },
    {
     "name": "stderr",
     "output_type": "stream",
     "text": [
      "[Parallel(n_jobs=-1)]: Done   5 out of   5 | elapsed:   48.4s remaining:    0.0s\n",
      "[Parallel(n_jobs=-1)]: Done   5 out of   5 | elapsed:   48.4s finished\n"
     ]
    },
    {
     "name": "stdout",
     "output_type": "stream",
     "text": [
      "Fitting 5 folds for each of 1 candidates, totalling 5 fits\n",
      "[CV] C=0.3124763744504748, decision_function_shape=ovo, degree=5, kernel=linear \n",
      "[CV] C=0.3124763744504748, decision_function_shape=ovo, degree=5, kernel=linear \n",
      "[CV] C=0.3124763744504748, decision_function_shape=ovo, degree=5, kernel=linear \n",
      "[CV] C=0.3124763744504748, decision_function_shape=ovo, degree=5, kernel=linear \n",
      "[CV]  C=0.3124763744504748, decision_function_shape=ovo, degree=5, kernel=linear, score=0.7441666666666666, total=  33.7s\n",
      "[CV] C=0.3124763744504748, decision_function_shape=ovo, degree=5, kernel=linear \n",
      "[CV]  C=0.3124763744504748, decision_function_shape=ovo, degree=5, kernel=linear, score=0.7291666666666666, total=  33.8s\n",
      "[CV]  C=0.3124763744504748, decision_function_shape=ovo, degree=5, kernel=linear, score=0.7658333333333334, total=  33.9s\n"
     ]
    },
    {
     "name": "stderr",
     "output_type": "stream",
     "text": [
      "[Parallel(n_jobs=-1)]: Done   2 out of   5 | elapsed:   33.9s remaining:   50.8s\n",
      "[Parallel(n_jobs=-1)]: Done   3 out of   5 | elapsed:   33.9s remaining:   22.6s\n"
     ]
    },
    {
     "name": "stdout",
     "output_type": "stream",
     "text": [
      "[CV]  C=0.3124763744504748, decision_function_shape=ovo, degree=5, kernel=linear, score=0.7666666666666667, total=  34.1s\n",
      "[CV]  C=0.3124763744504748, decision_function_shape=ovo, degree=5, kernel=linear, score=0.7216666666666667, total=  20.8s\n"
     ]
    },
    {
     "name": "stderr",
     "output_type": "stream",
     "text": [
      "[Parallel(n_jobs=-1)]: Done   5 out of   5 | elapsed:   54.6s remaining:    0.0s\n",
      "[Parallel(n_jobs=-1)]: Done   5 out of   5 | elapsed:   54.6s finished\n"
     ]
    },
    {
     "name": "stdout",
     "output_type": "stream",
     "text": [
      "Fitting 5 folds for each of 1 candidates, totalling 5 fits\n",
      "[CV] C=0.6610978140601576, decision_function_shape=ovo, degree=5, kernel=linear \n",
      "[CV] C=0.6610978140601576, decision_function_shape=ovo, degree=5, kernel=linear \n",
      "[CV] C=0.6610978140601576, decision_function_shape=ovo, degree=5, kernel=linear \n",
      "[CV] C=0.6610978140601576, decision_function_shape=ovo, degree=5, kernel=linear \n",
      "[CV]  C=0.6610978140601576, decision_function_shape=ovo, degree=5, kernel=linear, score=0.7566666666666667, total=  31.9s\n",
      "[CV] C=0.6610978140601576, decision_function_shape=ovo, degree=5, kernel=linear \n",
      "[CV]  C=0.6610978140601576, decision_function_shape=ovo, degree=5, kernel=linear, score=0.74, total=  32.0s\n"
     ]
    },
    {
     "name": "stderr",
     "output_type": "stream",
     "text": [
      "[Parallel(n_jobs=-1)]: Done   2 out of   5 | elapsed:   32.1s remaining:   48.1s\n"
     ]
    },
    {
     "name": "stdout",
     "output_type": "stream",
     "text": [
      "[CV]  C=0.6610978140601576, decision_function_shape=ovo, degree=5, kernel=linear, score=0.7758333333333334, total=  32.3s\n",
      "[CV]  C=0.6610978140601576, decision_function_shape=ovo, degree=5, kernel=linear, score=0.7733333333333333, total=  32.4s\n"
     ]
    },
    {
     "name": "stderr",
     "output_type": "stream",
     "text": [
      "[Parallel(n_jobs=-1)]: Done   3 out of   5 | elapsed:   32.3s remaining:   21.5s\n"
     ]
    },
    {
     "name": "stdout",
     "output_type": "stream",
     "text": [
      "[CV]  C=0.6610978140601576, decision_function_shape=ovo, degree=5, kernel=linear, score=0.7366666666666667, total=  19.0s\n"
     ]
    },
    {
     "name": "stderr",
     "output_type": "stream",
     "text": [
      "[Parallel(n_jobs=-1)]: Done   5 out of   5 | elapsed:   51.0s remaining:    0.0s\n",
      "[Parallel(n_jobs=-1)]: Done   5 out of   5 | elapsed:   51.0s finished\n"
     ]
    },
    {
     "name": "stdout",
     "output_type": "stream",
     "text": [
      "Fitting 5 folds for each of 1 candidates, totalling 5 fits\n",
      "[CV] C=0.7584256084181877, decision_function_shape=ovr, degree=3, kernel=linear \n",
      "[CV] C=0.7584256084181877, decision_function_shape=ovr, degree=3, kernel=linear \n",
      "[CV] C=0.7584256084181877, decision_function_shape=ovr, degree=3, kernel=linear \n",
      "[CV] C=0.7584256084181877, decision_function_shape=ovr, degree=3, kernel=linear \n",
      "[CV]  C=0.7584256084181877, decision_function_shape=ovr, degree=3, kernel=linear, score=0.7716666666666666, total=  33.0s\n",
      "[CV]  C=0.7584256084181877, decision_function_shape=ovr, degree=3, kernel=linear, score=0.7558333333333334, total=  33.0s\n",
      "[CV] C=0.7584256084181877, decision_function_shape=ovr, degree=3, kernel=linear \n"
     ]
    },
    {
     "name": "stderr",
     "output_type": "stream",
     "text": [
      "[Parallel(n_jobs=-1)]: Done   2 out of   5 | elapsed:   33.0s remaining:   49.5s\n"
     ]
    },
    {
     "name": "stdout",
     "output_type": "stream",
     "text": [
      "[CV]  C=0.7584256084181877, decision_function_shape=ovr, degree=3, kernel=linear, score=0.7716666666666666, total=  33.1s\n",
      "[CV]  C=0.7584256084181877, decision_function_shape=ovr, degree=3, kernel=linear, score=0.7366666666666667, total=  33.2s\n"
     ]
    },
    {
     "name": "stderr",
     "output_type": "stream",
     "text": [
      "[Parallel(n_jobs=-1)]: Done   3 out of   5 | elapsed:   33.3s remaining:   22.2s\n"
     ]
    },
    {
     "name": "stdout",
     "output_type": "stream",
     "text": [
      "[CV]  C=0.7584256084181877, decision_function_shape=ovr, degree=3, kernel=linear, score=0.7358333333333333, total=  18.7s\n"
     ]
    },
    {
     "name": "stderr",
     "output_type": "stream",
     "text": [
      "[Parallel(n_jobs=-1)]: Done   5 out of   5 | elapsed:   51.7s remaining:    0.0s\n",
      "[Parallel(n_jobs=-1)]: Done   5 out of   5 | elapsed:   51.7s finished\n"
     ]
    },
    {
     "name": "stdout",
     "output_type": "stream",
     "text": [
      "Fitting 5 folds for each of 1 candidates, totalling 5 fits\n",
      "[CV] C=0.7604309832553094, decision_function_shape=ovo, degree=5, kernel=linear \n",
      "[CV] C=0.7604309832553094, decision_function_shape=ovo, degree=5, kernel=linear \n",
      "[CV] C=0.7604309832553094, decision_function_shape=ovo, degree=5, kernel=linear \n",
      "[CV] C=0.7604309832553094, decision_function_shape=ovo, degree=5, kernel=linear \n",
      "[CV]  C=0.7604309832553094, decision_function_shape=ovo, degree=5, kernel=linear, score=0.7566666666666667, total=  32.0s\n",
      "[CV] C=0.7604309832553094, decision_function_shape=ovo, degree=5, kernel=linear \n",
      "[CV]  C=0.7604309832553094, decision_function_shape=ovo, degree=5, kernel=linear, score=0.7366666666666667, total=  32.2s\n",
      "[CV]  C=0.7604309832553094, decision_function_shape=ovo, degree=5, kernel=linear, score=0.7716666666666666, total=  32.3s\n"
     ]
    },
    {
     "name": "stderr",
     "output_type": "stream",
     "text": [
      "[Parallel(n_jobs=-1)]: Done   2 out of   5 | elapsed:   32.3s remaining:   48.4s\n",
      "[Parallel(n_jobs=-1)]: Done   3 out of   5 | elapsed:   32.3s remaining:   21.5s\n"
     ]
    },
    {
     "name": "stdout",
     "output_type": "stream",
     "text": [
      "[CV]  C=0.7604309832553094, decision_function_shape=ovo, degree=5, kernel=linear, score=0.7716666666666666, total=  32.5s\n",
      "[CV]  C=0.7604309832553094, decision_function_shape=ovo, degree=5, kernel=linear, score=0.7358333333333333, total=  18.8s\n"
     ]
    },
    {
     "name": "stderr",
     "output_type": "stream",
     "text": [
      "[Parallel(n_jobs=-1)]: Done   5 out of   5 | elapsed:   50.9s remaining:    0.0s\n",
      "[Parallel(n_jobs=-1)]: Done   5 out of   5 | elapsed:   50.9s finished\n"
     ]
    },
    {
     "name": "stdout",
     "output_type": "stream",
     "text": [
      "Fitting 5 folds for each of 1 candidates, totalling 5 fits\n",
      "[CV] C=0.8951554714468685, decision_function_shape=ovr, degree=5, kernel=linear \n",
      "[CV] C=0.8951554714468685, decision_function_shape=ovr, degree=5, kernel=linear \n",
      "[CV] C=0.8951554714468685, decision_function_shape=ovr, degree=5, kernel=linear \n",
      "[CV] C=0.8951554714468685, decision_function_shape=ovr, degree=5, kernel=linear \n",
      "[CV]  C=0.8951554714468685, decision_function_shape=ovr, degree=5, kernel=linear, score=0.7758333333333334, total=  30.8s\n",
      "[CV] C=0.8951554714468685, decision_function_shape=ovr, degree=5, kernel=linear \n",
      "[CV]  C=0.8951554714468685, decision_function_shape=ovr, degree=5, kernel=linear, score=0.7575, total=  30.8s\n",
      "[CV]  C=0.8951554714468685, decision_function_shape=ovr, degree=5, kernel=linear, score=0.7333333333333333, total=  31.0s\n"
     ]
    },
    {
     "name": "stderr",
     "output_type": "stream",
     "text": [
      "[Parallel(n_jobs=-1)]: Done   2 out of   5 | elapsed:   30.8s remaining:   46.3s\n",
      "[Parallel(n_jobs=-1)]: Done   3 out of   5 | elapsed:   31.0s remaining:   20.7s\n"
     ]
    },
    {
     "name": "stdout",
     "output_type": "stream",
     "text": [
      "[CV]  C=0.8951554714468685, decision_function_shape=ovr, degree=5, kernel=linear, score=0.7683333333333333, total=  31.3s\n",
      "[CV]  C=0.8951554714468685, decision_function_shape=ovr, degree=5, kernel=linear, score=0.7325, total=  18.8s\n"
     ]
    },
    {
     "name": "stderr",
     "output_type": "stream",
     "text": [
      "[Parallel(n_jobs=-1)]: Done   5 out of   5 | elapsed:   49.6s remaining:    0.0s\n",
      "[Parallel(n_jobs=-1)]: Done   5 out of   5 | elapsed:   49.6s finished\n"
     ]
    },
    {
     "name": "stdout",
     "output_type": "stream",
     "text": [
      "Fitting 5 folds for each of 1 candidates, totalling 5 fits\n",
      "[CV] C=0.7683372057836664, decision_function_shape=ovr, degree=3, kernel=linear \n",
      "[CV] C=0.7683372057836664, decision_function_shape=ovr, degree=3, kernel=linear \n",
      "[CV] C=0.7683372057836664, decision_function_shape=ovr, degree=3, kernel=linear \n",
      "[CV] C=0.7683372057836664, decision_function_shape=ovr, degree=3, kernel=linear \n",
      "[CV]  C=0.7683372057836664, decision_function_shape=ovr, degree=3, kernel=linear, score=0.7566666666666667, total=  31.2s\n",
      "[CV] C=0.7683372057836664, decision_function_shape=ovr, degree=3, kernel=linear \n",
      "[CV]  C=0.7683372057836664, decision_function_shape=ovr, degree=3, kernel=linear, score=0.7366666666666667, total=  31.4s\n",
      "[CV]  C=0.7683372057836664, decision_function_shape=ovr, degree=3, kernel=linear, score=0.7716666666666666, total=  31.6s\n"
     ]
    },
    {
     "name": "stderr",
     "output_type": "stream",
     "text": [
      "[Parallel(n_jobs=-1)]: Done   2 out of   5 | elapsed:   31.5s remaining:   47.2s\n",
      "[Parallel(n_jobs=-1)]: Done   3 out of   5 | elapsed:   31.6s remaining:   21.1s\n"
     ]
    },
    {
     "name": "stdout",
     "output_type": "stream",
     "text": [
      "[CV]  C=0.7683372057836664, decision_function_shape=ovr, degree=3, kernel=linear, score=0.7725, total=  31.8s\n",
      "[CV]  C=0.7683372057836664, decision_function_shape=ovr, degree=3, kernel=linear, score=0.7358333333333333, total=  19.1s\n"
     ]
    },
    {
     "name": "stderr",
     "output_type": "stream",
     "text": [
      "[Parallel(n_jobs=-1)]: Done   5 out of   5 | elapsed:   50.4s remaining:    0.0s\n",
      "[Parallel(n_jobs=-1)]: Done   5 out of   5 | elapsed:   50.4s finished\n"
     ]
    },
    {
     "name": "stdout",
     "output_type": "stream",
     "text": [
      "Fitting 5 folds for each of 1 candidates, totalling 5 fits\n",
      "[CV] C=0.9612404257215204, decision_function_shape=ovr, degree=5, kernel=linear \n",
      "[CV] C=0.9612404257215204, decision_function_shape=ovr, degree=5, kernel=linear \n",
      "[CV] C=0.9612404257215204, decision_function_shape=ovr, degree=5, kernel=linear \n",
      "[CV] C=0.9612404257215204, decision_function_shape=ovr, degree=5, kernel=linear \n",
      "[CV]  C=0.9612404257215204, decision_function_shape=ovr, degree=5, kernel=linear, score=0.7575, total=  30.7s\n",
      "[CV] C=0.9612404257215204, decision_function_shape=ovr, degree=5, kernel=linear \n",
      "[CV]  C=0.9612404257215204, decision_function_shape=ovr, degree=5, kernel=linear, score=0.7775, total=  31.0s\n",
      "[CV]  C=0.9612404257215204, decision_function_shape=ovr, degree=5, kernel=linear, score=0.7341666666666666, total=  31.1s\n"
     ]
    },
    {
     "name": "stderr",
     "output_type": "stream",
     "text": [
      "[Parallel(n_jobs=-1)]: Done   2 out of   5 | elapsed:   31.0s remaining:   46.5s\n",
      "[Parallel(n_jobs=-1)]: Done   3 out of   5 | elapsed:   31.2s remaining:   20.8s\n"
     ]
    },
    {
     "name": "stdout",
     "output_type": "stream",
     "text": [
      "[CV]  C=0.9612404257215204, decision_function_shape=ovr, degree=5, kernel=linear, score=0.7666666666666667, total=  31.2s\n",
      "[CV]  C=0.9612404257215204, decision_function_shape=ovr, degree=5, kernel=linear, score=0.7283333333333334, total=  18.7s\n"
     ]
    },
    {
     "name": "stderr",
     "output_type": "stream",
     "text": [
      "[Parallel(n_jobs=-1)]: Done   5 out of   5 | elapsed:   49.5s remaining:    0.0s\n",
      "[Parallel(n_jobs=-1)]: Done   5 out of   5 | elapsed:   49.5s finished\n"
     ]
    },
    {
     "name": "stdout",
     "output_type": "stream",
     "text": [
      "BayesSearchCV_RF took 2704.60 seconds,  candidates checked: 40, best CV score: 0.756 ± 0.016\n",
      "Best parameters:\n",
      "{'C': 0.6610978140601576,\n",
      " 'decision_function_shape': 'ovo',\n",
      " 'degree': 5,\n",
      " 'kernel': 'linear'}\n",
      "\n",
      "Fitting 5 folds for each of 1 candidates, totalling 5 fits\n",
      "[CV] C=0.823230468444065, decision_function_shape=ovr, degree=2, kernel=rbf \n",
      "[CV] C=0.823230468444065, decision_function_shape=ovr, degree=2, kernel=rbf \n",
      "[CV] C=0.823230468444065, decision_function_shape=ovr, degree=2, kernel=rbf \n",
      "[CV] C=0.823230468444065, decision_function_shape=ovr, degree=2, kernel=rbf \n",
      "[CV]  C=0.823230468444065, decision_function_shape=ovr, degree=2, kernel=rbf, score=0.4666666666666667, total=  50.7s\n",
      "[CV] C=0.823230468444065, decision_function_shape=ovr, degree=2, kernel=rbf \n",
      "[CV]  C=0.823230468444065, decision_function_shape=ovr, degree=2, kernel=rbf, score=0.44916666666666666, total=  50.8s\n",
      "[CV]  C=0.823230468444065, decision_function_shape=ovr, degree=2, kernel=rbf, score=0.4875, total=  51.0s\n",
      "[CV]  C=0.823230468444065, decision_function_shape=ovr, degree=2, kernel=rbf, score=0.43916666666666665, total=  51.0s\n"
     ]
    },
    {
     "name": "stderr",
     "output_type": "stream",
     "text": [
      "[Parallel(n_jobs=-1)]: Done   2 out of   5 | elapsed:   50.9s remaining:  1.3min\n",
      "[Parallel(n_jobs=-1)]: Done   3 out of   5 | elapsed:   51.0s remaining:   34.0s\n"
     ]
    },
    {
     "name": "stdout",
     "output_type": "stream",
     "text": [
      "[CV]  C=0.823230468444065, decision_function_shape=ovr, degree=2, kernel=rbf, score=0.4166666666666667, total=  28.2s\n",
      "Fitting 5 folds for each of 1 candidates, totalling 5 fits\n"
     ]
    },
    {
     "name": "stderr",
     "output_type": "stream",
     "text": [
      "[Parallel(n_jobs=-1)]: Done   5 out of   5 | elapsed:  1.3min remaining:    0.0s\n",
      "[Parallel(n_jobs=-1)]: Done   5 out of   5 | elapsed:  1.3min finished\n"
     ]
    },
    {
     "name": "stdout",
     "output_type": "stream",
     "text": [
      "[CV] C=0.631696770892101, decision_function_shape=ovo, degree=2, kernel=rbf \n",
      "[CV] C=0.631696770892101, decision_function_shape=ovo, degree=2, kernel=rbf \n",
      "[CV] C=0.631696770892101, decision_function_shape=ovo, degree=2, kernel=rbf \n",
      "[CV] C=0.631696770892101, decision_function_shape=ovo, degree=2, kernel=rbf \n",
      "[CV]  C=0.631696770892101, decision_function_shape=ovo, degree=2, kernel=rbf, score=0.4875, total=  48.9s\n",
      "[CV] C=0.631696770892101, decision_function_shape=ovo, degree=2, kernel=rbf \n",
      "[CV]  C=0.631696770892101, decision_function_shape=ovo, degree=2, kernel=rbf, score=0.4666666666666667, total=  49.0s\n",
      "[CV]  C=0.631696770892101, decision_function_shape=ovo, degree=2, kernel=rbf, score=0.43916666666666665, total=  49.2s\n"
     ]
    },
    {
     "name": "stderr",
     "output_type": "stream",
     "text": [
      "[Parallel(n_jobs=-1)]: Done   2 out of   5 | elapsed:   49.1s remaining:  1.2min\n",
      "[Parallel(n_jobs=-1)]: Done   3 out of   5 | elapsed:   49.3s remaining:   32.8s\n"
     ]
    },
    {
     "name": "stdout",
     "output_type": "stream",
     "text": [
      "[CV]  C=0.631696770892101, decision_function_shape=ovo, degree=2, kernel=rbf, score=0.44916666666666666, total=  49.6s\n",
      "[CV]  C=0.631696770892101, decision_function_shape=ovo, degree=2, kernel=rbf, score=0.4166666666666667, total=  29.1s\n",
      "Fitting 5 folds for each of 1 candidates, totalling 5 fits\n"
     ]
    },
    {
     "name": "stderr",
     "output_type": "stream",
     "text": [
      "[Parallel(n_jobs=-1)]: Done   5 out of   5 | elapsed:  1.3min remaining:    0.0s\n",
      "[Parallel(n_jobs=-1)]: Done   5 out of   5 | elapsed:  1.3min finished\n"
     ]
    },
    {
     "name": "stdout",
     "output_type": "stream",
     "text": [
      "[CV] C=0.8121479730770873, decision_function_shape=ovo, degree=2, kernel=rbf \n",
      "[CV] C=0.8121479730770873, decision_function_shape=ovo, degree=2, kernel=rbf \n",
      "[CV] C=0.8121479730770873, decision_function_shape=ovo, degree=2, kernel=rbf \n",
      "[CV] C=0.8121479730770873, decision_function_shape=ovo, degree=2, kernel=rbf \n",
      "[CV]  C=0.8121479730770873, decision_function_shape=ovo, degree=2, kernel=rbf, score=0.43916666666666665, total=  49.1s\n",
      "[CV] C=0.8121479730770873, decision_function_shape=ovo, degree=2, kernel=rbf \n",
      "[CV]  C=0.8121479730770873, decision_function_shape=ovo, degree=2, kernel=rbf, score=0.4875, total=  49.1s\n",
      "[CV]  C=0.8121479730770873, decision_function_shape=ovo, degree=2, kernel=rbf, score=0.44916666666666666, total=  49.1s\n"
     ]
    },
    {
     "name": "stderr",
     "output_type": "stream",
     "text": [
      "[Parallel(n_jobs=-1)]: Done   2 out of   5 | elapsed:   49.2s remaining:  1.2min\n",
      "[Parallel(n_jobs=-1)]: Done   3 out of   5 | elapsed:   49.3s remaining:   32.8s\n"
     ]
    },
    {
     "name": "stdout",
     "output_type": "stream",
     "text": [
      "[CV]  C=0.8121479730770873, decision_function_shape=ovo, degree=2, kernel=rbf, score=0.4666666666666667, total=  49.3s\n",
      "[CV]  C=0.8121479730770873, decision_function_shape=ovo, degree=2, kernel=rbf, score=0.4166666666666667, total=  28.2s\n",
      "Fitting 5 folds for each of 1 candidates, totalling 5 fits\n"
     ]
    },
    {
     "name": "stderr",
     "output_type": "stream",
     "text": [
      "[Parallel(n_jobs=-1)]: Done   5 out of   5 | elapsed:  1.3min remaining:    0.0s\n",
      "[Parallel(n_jobs=-1)]: Done   5 out of   5 | elapsed:  1.3min finished\n"
     ]
    },
    {
     "name": "stdout",
     "output_type": "stream",
     "text": [
      "[CV] C=0.9037583196860999, decision_function_shape=ovr, degree=5, kernel=poly \n",
      "[CV] C=0.9037583196860999, decision_function_shape=ovr, degree=5, kernel=poly \n",
      "[CV] C=0.9037583196860999, decision_function_shape=ovr, degree=5, kernel=poly \n",
      "[CV] C=0.9037583196860999, decision_function_shape=ovr, degree=5, kernel=poly \n",
      "[CV]  C=0.9037583196860999, decision_function_shape=ovr, degree=5, kernel=poly, score=0.6591666666666667, total=  44.2s\n",
      "[CV] C=0.9037583196860999, decision_function_shape=ovr, degree=5, kernel=poly \n",
      "[CV]  C=0.9037583196860999, decision_function_shape=ovr, degree=5, kernel=poly, score=0.67, total=  44.8s\n",
      "[CV]  C=0.9037583196860999, decision_function_shape=ovr, degree=5, kernel=poly, score=0.6483333333333333, total=  44.9s\n"
     ]
    },
    {
     "name": "stderr",
     "output_type": "stream",
     "text": [
      "[Parallel(n_jobs=-1)]: Done   2 out of   5 | elapsed:   44.8s remaining:  1.1min\n",
      "[Parallel(n_jobs=-1)]: Done   3 out of   5 | elapsed:   44.9s remaining:   30.0s\n"
     ]
    },
    {
     "name": "stdout",
     "output_type": "stream",
     "text": [
      "[CV]  C=0.9037583196860999, decision_function_shape=ovr, degree=5, kernel=poly, score=0.6808333333333333, total=  45.1s\n",
      "[CV]  C=0.9037583196860999, decision_function_shape=ovr, degree=5, kernel=poly, score=0.6533333333333333, total=  26.9s\n",
      "Fitting 5 folds for each of 1 candidates, totalling 5 fits\n"
     ]
    },
    {
     "name": "stderr",
     "output_type": "stream",
     "text": [
      "[Parallel(n_jobs=-1)]: Done   5 out of   5 | elapsed:  1.2min remaining:    0.0s\n",
      "[Parallel(n_jobs=-1)]: Done   5 out of   5 | elapsed:  1.2min finished\n"
     ]
    },
    {
     "name": "stdout",
     "output_type": "stream",
     "text": [
      "[CV] C=0.13555620343854213, decision_function_shape=ovr, degree=3, kernel=rbf \n",
      "[CV] C=0.13555620343854213, decision_function_shape=ovr, degree=3, kernel=rbf \n",
      "[CV] C=0.13555620343854213, decision_function_shape=ovr, degree=3, kernel=rbf \n",
      "[CV] C=0.13555620343854213, decision_function_shape=ovr, degree=3, kernel=rbf \n",
      "[CV]  C=0.13555620343854213, decision_function_shape=ovr, degree=3, kernel=rbf, score=0.4875, total=  48.2s\n",
      "[CV] C=0.13555620343854213, decision_function_shape=ovr, degree=3, kernel=rbf \n",
      "[CV]  C=0.13555620343854213, decision_function_shape=ovr, degree=3, kernel=rbf, score=0.4666666666666667, total=  48.5s\n",
      "[CV]  C=0.13555620343854213, decision_function_shape=ovr, degree=3, kernel=rbf, score=0.44916666666666666, total=  48.6s\n"
     ]
    },
    {
     "name": "stderr",
     "output_type": "stream",
     "text": [
      "[Parallel(n_jobs=-1)]: Done   2 out of   5 | elapsed:   48.6s remaining:  1.2min\n",
      "[Parallel(n_jobs=-1)]: Done   3 out of   5 | elapsed:   48.8s remaining:   32.5s\n"
     ]
    },
    {
     "name": "stdout",
     "output_type": "stream",
     "text": [
      "[CV]  C=0.13555620343854213, decision_function_shape=ovr, degree=3, kernel=rbf, score=0.43916666666666665, total=  48.8s\n",
      "[CV]  C=0.13555620343854213, decision_function_shape=ovr, degree=3, kernel=rbf, score=0.4166666666666667, total=  28.5s\n",
      "Fitting 5 folds for each of 1 candidates, totalling 5 fits\n"
     ]
    },
    {
     "name": "stderr",
     "output_type": "stream",
     "text": [
      "[Parallel(n_jobs=-1)]: Done   5 out of   5 | elapsed:  1.3min remaining:    0.0s\n",
      "[Parallel(n_jobs=-1)]: Done   5 out of   5 | elapsed:  1.3min finished\n"
     ]
    },
    {
     "name": "stdout",
     "output_type": "stream",
     "text": [
      "[CV] C=0.4730432715359454, decision_function_shape=ovo, degree=5, kernel=poly \n",
      "[CV] C=0.4730432715359454, decision_function_shape=ovo, degree=5, kernel=poly \n",
      "[CV] C=0.4730432715359454, decision_function_shape=ovo, degree=5, kernel=poly \n",
      "[CV] C=0.4730432715359454, decision_function_shape=ovo, degree=5, kernel=poly \n",
      "[CV]  C=0.4730432715359454, decision_function_shape=ovo, degree=5, kernel=poly, score=0.6591666666666667, total=  45.4s\n",
      "[CV] C=0.4730432715359454, decision_function_shape=ovo, degree=5, kernel=poly \n",
      "[CV]  C=0.4730432715359454, decision_function_shape=ovo, degree=5, kernel=poly, score=0.6483333333333333, total=  45.9s\n",
      "[CV]  C=0.4730432715359454, decision_function_shape=ovo, degree=5, kernel=poly, score=0.67, total=  46.0s\n"
     ]
    },
    {
     "name": "stderr",
     "output_type": "stream",
     "text": [
      "[Parallel(n_jobs=-1)]: Done   2 out of   5 | elapsed:   45.9s remaining:  1.1min\n",
      "[Parallel(n_jobs=-1)]: Done   3 out of   5 | elapsed:   46.0s remaining:   30.7s\n"
     ]
    },
    {
     "name": "stdout",
     "output_type": "stream",
     "text": [
      "[CV]  C=0.4730432715359454, decision_function_shape=ovo, degree=5, kernel=poly, score=0.6808333333333333, total=  46.1s\n",
      "[CV]  C=0.4730432715359454, decision_function_shape=ovo, degree=5, kernel=poly, score=0.6533333333333333, total=  27.5s\n",
      "Fitting 5 folds for each of 1 candidates, totalling 5 fits\n"
     ]
    },
    {
     "name": "stderr",
     "output_type": "stream",
     "text": [
      "[Parallel(n_jobs=-1)]: Done   5 out of   5 | elapsed:  1.2min remaining:    0.0s\n",
      "[Parallel(n_jobs=-1)]: Done   5 out of   5 | elapsed:  1.2min finished\n"
     ]
    },
    {
     "name": "stdout",
     "output_type": "stream",
     "text": [
      "[CV] C=0.6414344635182291, decision_function_shape=ovo, degree=5, kernel=rbf \n",
      "[CV] C=0.6414344635182291, decision_function_shape=ovo, degree=5, kernel=rbf \n",
      "[CV] C=0.6414344635182291, decision_function_shape=ovo, degree=5, kernel=rbf \n",
      "[CV] C=0.6414344635182291, decision_function_shape=ovo, degree=5, kernel=rbf \n",
      "[CV]  C=0.6414344635182291, decision_function_shape=ovo, degree=5, kernel=rbf, score=0.43916666666666665, total=  50.9s\n",
      "[CV] C=0.6414344635182291, decision_function_shape=ovo, degree=5, kernel=rbf \n",
      "[CV]  C=0.6414344635182291, decision_function_shape=ovo, degree=5, kernel=rbf, score=0.4875, total=  50.9s\n"
     ]
    },
    {
     "name": "stderr",
     "output_type": "stream",
     "text": [
      "[Parallel(n_jobs=-1)]: Done   2 out of   5 | elapsed:   51.0s remaining:  1.3min\n"
     ]
    },
    {
     "name": "stdout",
     "output_type": "stream",
     "text": [
      "[CV]  C=0.6414344635182291, decision_function_shape=ovo, degree=5, kernel=rbf, score=0.4666666666666667, total=  51.6s\n",
      "[CV]  C=0.6414344635182291, decision_function_shape=ovo, degree=5, kernel=rbf, score=0.44916666666666666, total=  51.5s\n"
     ]
    },
    {
     "name": "stderr",
     "output_type": "stream",
     "text": [
      "[Parallel(n_jobs=-1)]: Done   3 out of   5 | elapsed:   51.7s remaining:   34.5s\n"
     ]
    },
    {
     "name": "stdout",
     "output_type": "stream",
     "text": [
      "[CV]  C=0.6414344635182291, decision_function_shape=ovo, degree=5, kernel=rbf, score=0.4166666666666667, total=  28.2s\n",
      "Fitting 5 folds for each of 1 candidates, totalling 5 fits\n"
     ]
    },
    {
     "name": "stderr",
     "output_type": "stream",
     "text": [
      "[Parallel(n_jobs=-1)]: Done   5 out of   5 | elapsed:  1.3min remaining:    0.0s\n",
      "[Parallel(n_jobs=-1)]: Done   5 out of   5 | elapsed:  1.3min finished\n"
     ]
    },
    {
     "name": "stdout",
     "output_type": "stream",
     "text": [
      "[CV] C=0.7593579035590942, decision_function_shape=ovr, degree=2, kernel=linear \n",
      "[CV] C=0.7593579035590942, decision_function_shape=ovr, degree=2, kernel=linear \n",
      "[CV] C=0.7593579035590942, decision_function_shape=ovr, degree=2, kernel=linear \n",
      "[CV] C=0.7593579035590942, decision_function_shape=ovr, degree=2, kernel=linear \n",
      "[CV]  C=0.7593579035590942, decision_function_shape=ovr, degree=2, kernel=linear, score=0.7716666666666666, total=  30.8s\n",
      "[CV] C=0.7593579035590942, decision_function_shape=ovr, degree=2, kernel=linear \n",
      "[CV]  C=0.7593579035590942, decision_function_shape=ovr, degree=2, kernel=linear, score=0.7366666666666667, total=  31.4s\n"
     ]
    },
    {
     "name": "stderr",
     "output_type": "stream",
     "text": [
      "[Parallel(n_jobs=-1)]: Done   2 out of   5 | elapsed:   31.4s remaining:   47.1s\n"
     ]
    },
    {
     "name": "stdout",
     "output_type": "stream",
     "text": [
      "[CV]  C=0.7593579035590942, decision_function_shape=ovr, degree=2, kernel=linear, score=0.7558333333333334, total=  31.6s\n",
      "[CV]  C=0.7593579035590942, decision_function_shape=ovr, degree=2, kernel=linear, score=0.7708333333333334, total=  31.5s\n"
     ]
    },
    {
     "name": "stderr",
     "output_type": "stream",
     "text": [
      "[Parallel(n_jobs=-1)]: Done   3 out of   5 | elapsed:   31.7s remaining:   21.1s\n"
     ]
    },
    {
     "name": "stdout",
     "output_type": "stream",
     "text": [
      "[CV]  C=0.7593579035590942, decision_function_shape=ovr, degree=2, kernel=linear, score=0.7358333333333333, total=  19.3s\n",
      "Fitting 5 folds for each of 1 candidates, totalling 5 fits\n"
     ]
    },
    {
     "name": "stderr",
     "output_type": "stream",
     "text": [
      "[Parallel(n_jobs=-1)]: Done   5 out of   5 | elapsed:   50.1s remaining:    0.0s\n",
      "[Parallel(n_jobs=-1)]: Done   5 out of   5 | elapsed:   50.1s finished\n"
     ]
    },
    {
     "name": "stdout",
     "output_type": "stream",
     "text": [
      "[CV] C=0.32908711718944217, decision_function_shape=ovo, degree=2, kernel=rbf \n",
      "[CV] C=0.32908711718944217, decision_function_shape=ovo, degree=2, kernel=rbf \n",
      "[CV] C=0.32908711718944217, decision_function_shape=ovo, degree=2, kernel=rbf \n",
      "[CV] C=0.32908711718944217, decision_function_shape=ovo, degree=2, kernel=rbf \n",
      "[CV]  C=0.32908711718944217, decision_function_shape=ovo, degree=2, kernel=rbf, score=0.43916666666666665, total=  49.0s\n",
      "[CV] C=0.32908711718944217, decision_function_shape=ovo, degree=2, kernel=rbf \n",
      "[CV]  C=0.32908711718944217, decision_function_shape=ovo, degree=2, kernel=rbf, score=0.44916666666666666, total=  49.4s\n",
      "[CV]  C=0.32908711718944217, decision_function_shape=ovo, degree=2, kernel=rbf, score=0.4875, total=  49.6s\n",
      "[CV]  C=0.32908711718944217, decision_function_shape=ovo, degree=2, kernel=rbf, score=0.4666666666666667, total=  49.5s\n"
     ]
    },
    {
     "name": "stderr",
     "output_type": "stream",
     "text": [
      "[Parallel(n_jobs=-1)]: Done   2 out of   5 | elapsed:   49.5s remaining:  1.2min\n",
      "[Parallel(n_jobs=-1)]: Done   3 out of   5 | elapsed:   49.6s remaining:   33.1s\n"
     ]
    },
    {
     "name": "stdout",
     "output_type": "stream",
     "text": [
      "[CV]  C=0.32908711718944217, decision_function_shape=ovo, degree=2, kernel=rbf, score=0.4166666666666667, total=  28.3s\n"
     ]
    },
    {
     "name": "stderr",
     "output_type": "stream",
     "text": [
      "[Parallel(n_jobs=-1)]: Done   5 out of   5 | elapsed:  1.3min remaining:    0.0s\n",
      "[Parallel(n_jobs=-1)]: Done   5 out of   5 | elapsed:  1.3min finished\n"
     ]
    },
    {
     "name": "stdout",
     "output_type": "stream",
     "text": [
      "Fitting 5 folds for each of 1 candidates, totalling 5 fits\n",
      "[CV] C=0.9991251139603244, decision_function_shape=ovo, degree=2, kernel=rbf \n",
      "[CV] C=0.9991251139603244, decision_function_shape=ovo, degree=2, kernel=rbf \n",
      "[CV] C=0.9991251139603244, decision_function_shape=ovo, degree=2, kernel=rbf \n",
      "[CV] C=0.9991251139603244, decision_function_shape=ovo, degree=2, kernel=rbf \n",
      "[CV]  C=0.9991251139603244, decision_function_shape=ovo, degree=2, kernel=rbf, score=0.4875, total=  48.8s\n",
      "[CV] C=0.9991251139603244, decision_function_shape=ovo, degree=2, kernel=rbf \n",
      "[CV]  C=0.9991251139603244, decision_function_shape=ovo, degree=2, kernel=rbf, score=0.44916666666666666, total=  49.4s\n",
      "[CV]  C=0.9991251139603244, decision_function_shape=ovo, degree=2, kernel=rbf, score=0.4666666666666667, total=  49.5s\n",
      "[CV]  C=0.9991251139603244, decision_function_shape=ovo, degree=2, kernel=rbf, score=0.43916666666666665, total=  49.7s\n"
     ]
    },
    {
     "name": "stderr",
     "output_type": "stream",
     "text": [
      "[Parallel(n_jobs=-1)]: Done   2 out of   5 | elapsed:   49.5s remaining:  1.2min\n",
      "[Parallel(n_jobs=-1)]: Done   3 out of   5 | elapsed:   49.5s remaining:   33.0s\n"
     ]
    },
    {
     "name": "stdout",
     "output_type": "stream",
     "text": [
      "[CV]  C=0.9991251139603244, decision_function_shape=ovo, degree=2, kernel=rbf, score=0.4166666666666667, total=  28.5s\n"
     ]
    },
    {
     "name": "stderr",
     "output_type": "stream",
     "text": [
      "[Parallel(n_jobs=-1)]: Done   5 out of   5 | elapsed:  1.3min remaining:    0.0s\n",
      "[Parallel(n_jobs=-1)]: Done   5 out of   5 | elapsed:  1.3min finished\n"
     ]
    },
    {
     "name": "stdout",
     "output_type": "stream",
     "text": [
      "Fitting 5 folds for each of 1 candidates, totalling 5 fits\n",
      "[CV] C=0.8337630642422109, decision_function_shape=ovr, degree=2, kernel=poly \n",
      "[CV] C=0.8337630642422109, decision_function_shape=ovr, degree=2, kernel=poly \n",
      "[CV] C=0.8337630642422109, decision_function_shape=ovr, degree=2, kernel=poly \n",
      "[CV] C=0.8337630642422109, decision_function_shape=ovr, degree=2, kernel=poly \n",
      "[CV]  C=0.8337630642422109, decision_function_shape=ovr, degree=2, kernel=poly, score=0.36, total=  45.8s\n",
      "[CV] C=0.8337630642422109, decision_function_shape=ovr, degree=2, kernel=poly \n",
      "[CV]  C=0.8337630642422109, decision_function_shape=ovr, degree=2, kernel=poly, score=0.355, total=  46.1s\n",
      "[CV]  C=0.8337630642422109, decision_function_shape=ovr, degree=2, kernel=poly, score=0.3625, total=  46.1s\n"
     ]
    },
    {
     "name": "stderr",
     "output_type": "stream",
     "text": [
      "[Parallel(n_jobs=-1)]: Done   2 out of   5 | elapsed:   46.1s remaining:  1.2min\n",
      "[Parallel(n_jobs=-1)]: Done   3 out of   5 | elapsed:   46.2s remaining:   30.8s\n"
     ]
    },
    {
     "name": "stdout",
     "output_type": "stream",
     "text": [
      "[CV]  C=0.8337630642422109, decision_function_shape=ovr, degree=2, kernel=poly, score=0.355, total=  46.3s\n",
      "[CV]  C=0.8337630642422109, decision_function_shape=ovr, degree=2, kernel=poly, score=0.3541666666666667, total=  26.5s\n"
     ]
    },
    {
     "name": "stderr",
     "output_type": "stream",
     "text": [
      "[Parallel(n_jobs=-1)]: Done   5 out of   5 | elapsed:  1.2min remaining:    0.0s\n",
      "[Parallel(n_jobs=-1)]: Done   5 out of   5 | elapsed:  1.2min finished\n"
     ]
    },
    {
     "name": "stdout",
     "output_type": "stream",
     "text": [
      "Fitting 5 folds for each of 1 candidates, totalling 5 fits\n",
      "[CV] C=0.26511671304548107, decision_function_shape=ovo, degree=5, kernel=sigmoid \n",
      "[CV] C=0.26511671304548107, decision_function_shape=ovo, degree=5, kernel=sigmoid \n",
      "[CV] C=0.26511671304548107, decision_function_shape=ovo, degree=5, kernel=sigmoid \n",
      "[CV] C=0.26511671304548107, decision_function_shape=ovo, degree=5, kernel=sigmoid \n",
      "[CV]  C=0.26511671304548107, decision_function_shape=ovo, degree=5, kernel=sigmoid, score=0.4875, total=  48.5s\n",
      "[CV] C=0.26511671304548107, decision_function_shape=ovo, degree=5, kernel=sigmoid \n",
      "[CV]  C=0.26511671304548107, decision_function_shape=ovo, degree=5, kernel=sigmoid, score=0.44916666666666666, total=  48.5s\n",
      "[CV]  C=0.26511671304548107, decision_function_shape=ovo, degree=5, kernel=sigmoid, score=0.43833333333333335, total=  48.7s\n"
     ]
    },
    {
     "name": "stderr",
     "output_type": "stream",
     "text": [
      "[Parallel(n_jobs=-1)]: Done   2 out of   5 | elapsed:   48.6s remaining:  1.2min\n",
      "[Parallel(n_jobs=-1)]: Done   3 out of   5 | elapsed:   48.8s remaining:   32.5s\n"
     ]
    },
    {
     "name": "stdout",
     "output_type": "stream",
     "text": [
      "[CV]  C=0.26511671304548107, decision_function_shape=ovo, degree=5, kernel=sigmoid, score=0.4666666666666667, total=  48.8s\n",
      "[CV]  C=0.26511671304548107, decision_function_shape=ovo, degree=5, kernel=sigmoid, score=0.4166666666666667, total=  27.8s\n"
     ]
    },
    {
     "name": "stderr",
     "output_type": "stream",
     "text": [
      "[Parallel(n_jobs=-1)]: Done   5 out of   5 | elapsed:  1.3min remaining:    0.0s\n",
      "[Parallel(n_jobs=-1)]: Done   5 out of   5 | elapsed:  1.3min finished\n"
     ]
    },
    {
     "name": "stdout",
     "output_type": "stream",
     "text": [
      "Fitting 5 folds for each of 1 candidates, totalling 5 fits\n",
      "[CV] C=0.24329954333429094, decision_function_shape=ovr, degree=3, kernel=linear \n",
      "[CV] C=0.24329954333429094, decision_function_shape=ovr, degree=3, kernel=linear \n",
      "[CV] C=0.24329954333429094, decision_function_shape=ovr, degree=3, kernel=linear \n",
      "[CV] C=0.24329954333429094, decision_function_shape=ovr, degree=3, kernel=linear \n",
      "[CV]  C=0.24329954333429094, decision_function_shape=ovr, degree=3, kernel=linear, score=0.7291666666666666, total=  36.1s\n",
      "[CV] C=0.24329954333429094, decision_function_shape=ovr, degree=3, kernel=linear \n",
      "[CV]  C=0.24329954333429094, decision_function_shape=ovr, degree=3, kernel=linear, score=0.755, total=  36.4s\n",
      "[CV]  C=0.24329954333429094, decision_function_shape=ovr, degree=3, kernel=linear, score=0.7291666666666666, total=  36.5s\n"
     ]
    },
    {
     "name": "stderr",
     "output_type": "stream",
     "text": [
      "[Parallel(n_jobs=-1)]: Done   2 out of   5 | elapsed:   36.4s remaining:   54.7s\n",
      "[Parallel(n_jobs=-1)]: Done   3 out of   5 | elapsed:   36.6s remaining:   24.4s\n"
     ]
    },
    {
     "name": "stdout",
     "output_type": "stream",
     "text": [
      "[CV]  C=0.24329954333429094, decision_function_shape=ovr, degree=3, kernel=linear, score=0.7608333333333334, total=  36.7s\n",
      "[CV]  C=0.24329954333429094, decision_function_shape=ovr, degree=3, kernel=linear, score=0.7233333333333334, total=  21.6s\n"
     ]
    },
    {
     "name": "stderr",
     "output_type": "stream",
     "text": [
      "[Parallel(n_jobs=-1)]: Done   5 out of   5 | elapsed:   57.8s remaining:    0.0s\n",
      "[Parallel(n_jobs=-1)]: Done   5 out of   5 | elapsed:   57.8s finished\n"
     ]
    },
    {
     "name": "stdout",
     "output_type": "stream",
     "text": [
      "Fitting 5 folds for each of 1 candidates, totalling 5 fits\n",
      "[CV] C=0.8415859136829016, decision_function_shape=ovr, degree=3, kernel=sigmoid \n",
      "[CV] C=0.8415859136829016, decision_function_shape=ovr, degree=3, kernel=sigmoid \n",
      "[CV] C=0.8415859136829016, decision_function_shape=ovr, degree=3, kernel=sigmoid \n",
      "[CV] C=0.8415859136829016, decision_function_shape=ovr, degree=3, kernel=sigmoid \n",
      "[CV]  C=0.8415859136829016, decision_function_shape=ovr, degree=3, kernel=sigmoid, score=0.4875, total=  48.4s\n",
      "[CV] C=0.8415859136829016, decision_function_shape=ovr, degree=3, kernel=sigmoid \n",
      "[CV]  C=0.8415859136829016, decision_function_shape=ovr, degree=3, kernel=sigmoid, score=0.4666666666666667, total=  48.4s\n"
     ]
    },
    {
     "name": "stderr",
     "output_type": "stream",
     "text": [
      "[Parallel(n_jobs=-1)]: Done   2 out of   5 | elapsed:   48.5s remaining:  1.2min\n"
     ]
    },
    {
     "name": "stdout",
     "output_type": "stream",
     "text": [
      "[CV]  C=0.8415859136829016, decision_function_shape=ovr, degree=3, kernel=sigmoid, score=0.44916666666666666, total=  48.7s\n",
      "[CV]  C=0.8415859136829016, decision_function_shape=ovr, degree=3, kernel=sigmoid, score=0.43833333333333335, total=  48.8s\n"
     ]
    },
    {
     "name": "stderr",
     "output_type": "stream",
     "text": [
      "[Parallel(n_jobs=-1)]: Done   3 out of   5 | elapsed:   48.8s remaining:   32.6s\n"
     ]
    },
    {
     "name": "stdout",
     "output_type": "stream",
     "text": [
      "[CV]  C=0.8415859136829016, decision_function_shape=ovr, degree=3, kernel=sigmoid, score=0.4166666666666667, total=  27.8s\n"
     ]
    },
    {
     "name": "stderr",
     "output_type": "stream",
     "text": [
      "[Parallel(n_jobs=-1)]: Done   5 out of   5 | elapsed:  1.3min remaining:    0.0s\n",
      "[Parallel(n_jobs=-1)]: Done   5 out of   5 | elapsed:  1.3min finished\n"
     ]
    },
    {
     "name": "stdout",
     "output_type": "stream",
     "text": [
      "Fitting 5 folds for each of 1 candidates, totalling 5 fits\n",
      "[CV] C=0.7136284893777088, decision_function_shape=ovo, degree=2, kernel=linear \n",
      "[CV] C=0.7136284893777088, decision_function_shape=ovo, degree=2, kernel=linear \n",
      "[CV] C=0.7136284893777088, decision_function_shape=ovo, degree=2, kernel=linear \n",
      "[CV] C=0.7136284893777088, decision_function_shape=ovo, degree=2, kernel=linear \n",
      "[CV]  C=0.7136284893777088, decision_function_shape=ovo, degree=2, kernel=linear, score=0.7741666666666667, total=  31.1s\n",
      "[CV] C=0.7136284893777088, decision_function_shape=ovo, degree=2, kernel=linear \n",
      "[CV]  C=0.7136284893777088, decision_function_shape=ovo, degree=2, kernel=linear, score=0.7575, total=  31.2s\n"
     ]
    },
    {
     "name": "stderr",
     "output_type": "stream",
     "text": [
      "[Parallel(n_jobs=-1)]: Done   2 out of   5 | elapsed:   31.2s remaining:   46.9s\n"
     ]
    },
    {
     "name": "stdout",
     "output_type": "stream",
     "text": [
      "[CV]  C=0.7136284893777088, decision_function_shape=ovo, degree=2, kernel=linear, score=0.7408333333333333, total=  31.4s\n",
      "[CV]  C=0.7136284893777088, decision_function_shape=ovo, degree=2, kernel=linear, score=0.7716666666666666, total=  31.4s\n"
     ]
    },
    {
     "name": "stderr",
     "output_type": "stream",
     "text": [
      "[Parallel(n_jobs=-1)]: Done   3 out of   5 | elapsed:   31.5s remaining:   21.0s\n"
     ]
    },
    {
     "name": "stdout",
     "output_type": "stream",
     "text": [
      "[CV]  C=0.7136284893777088, decision_function_shape=ovo, degree=2, kernel=linear, score=0.735, total=  18.9s\n"
     ]
    },
    {
     "name": "stderr",
     "output_type": "stream",
     "text": [
      "[Parallel(n_jobs=-1)]: Done   5 out of   5 | elapsed:   50.0s remaining:    0.0s\n",
      "[Parallel(n_jobs=-1)]: Done   5 out of   5 | elapsed:   50.0s finished\n"
     ]
    },
    {
     "name": "stdout",
     "output_type": "stream",
     "text": [
      "Fitting 5 folds for each of 1 candidates, totalling 5 fits\n",
      "[CV] C=0.9104273811849481, decision_function_shape=ovo, degree=5, kernel=rbf \n",
      "[CV] C=0.9104273811849481, decision_function_shape=ovo, degree=5, kernel=rbf \n",
      "[CV] C=0.9104273811849481, decision_function_shape=ovo, degree=5, kernel=rbf \n",
      "[CV] C=0.9104273811849481, decision_function_shape=ovo, degree=5, kernel=rbf \n",
      "[CV]  C=0.9104273811849481, decision_function_shape=ovo, degree=5, kernel=rbf, score=0.4666666666666667, total=  50.0s\n",
      "[CV] C=0.9104273811849481, decision_function_shape=ovo, degree=5, kernel=rbf \n",
      "[CV]  C=0.9104273811849481, decision_function_shape=ovo, degree=5, kernel=rbf, score=0.43916666666666665, total=  50.2s\n",
      "[CV]  C=0.9104273811849481, decision_function_shape=ovo, degree=5, kernel=rbf, score=0.44916666666666666, total=  50.3s\n",
      "[CV]  C=0.9104273811849481, decision_function_shape=ovo, degree=5, kernel=rbf, score=0.4875, total=  50.4s\n"
     ]
    },
    {
     "name": "stderr",
     "output_type": "stream",
     "text": [
      "[Parallel(n_jobs=-1)]: Done   2 out of   5 | elapsed:   50.2s remaining:  1.3min\n",
      "[Parallel(n_jobs=-1)]: Done   3 out of   5 | elapsed:   50.4s remaining:   33.6s\n"
     ]
    },
    {
     "name": "stdout",
     "output_type": "stream",
     "text": [
      "[CV]  C=0.9104273811849481, decision_function_shape=ovo, degree=5, kernel=rbf, score=0.4166666666666667, total=  28.2s\n"
     ]
    },
    {
     "name": "stderr",
     "output_type": "stream",
     "text": [
      "[Parallel(n_jobs=-1)]: Done   5 out of   5 | elapsed:  1.3min remaining:    0.0s\n",
      "[Parallel(n_jobs=-1)]: Done   5 out of   5 | elapsed:  1.3min finished\n"
     ]
    },
    {
     "name": "stdout",
     "output_type": "stream",
     "text": [
      "Fitting 5 folds for each of 1 candidates, totalling 5 fits\n",
      "[CV] C=0.2131863925950493, decision_function_shape=ovo, degree=5, kernel=linear \n",
      "[CV] C=0.2131863925950493, decision_function_shape=ovo, degree=5, kernel=linear \n",
      "[CV] C=0.2131863925950493, decision_function_shape=ovo, degree=5, kernel=linear \n",
      "[CV] C=0.2131863925950493, decision_function_shape=ovo, degree=5, kernel=linear \n",
      "[CV]  C=0.2131863925950493, decision_function_shape=ovo, degree=5, kernel=linear, score=0.7258333333333333, total=  37.2s\n",
      "[CV] C=0.2131863925950493, decision_function_shape=ovo, degree=5, kernel=linear \n",
      "[CV]  C=0.2131863925950493, decision_function_shape=ovo, degree=5, kernel=linear, score=0.7258333333333333, total=  37.3s\n"
     ]
    },
    {
     "name": "stderr",
     "output_type": "stream",
     "text": [
      "[Parallel(n_jobs=-1)]: Done   2 out of   5 | elapsed:   37.3s remaining:   56.0s\n"
     ]
    },
    {
     "name": "stdout",
     "output_type": "stream",
     "text": [
      "[CV]  C=0.2131863925950493, decision_function_shape=ovo, degree=5, kernel=linear, score=0.7508333333333334, total=  37.5s\n",
      "[CV]  C=0.2131863925950493, decision_function_shape=ovo, degree=5, kernel=linear, score=0.7558333333333334, total=  37.6s\n"
     ]
    },
    {
     "name": "stderr",
     "output_type": "stream",
     "text": [
      "[Parallel(n_jobs=-1)]: Done   3 out of   5 | elapsed:   37.6s remaining:   25.1s\n"
     ]
    },
    {
     "name": "stdout",
     "output_type": "stream",
     "text": [
      "[CV]  C=0.2131863925950493, decision_function_shape=ovo, degree=5, kernel=linear, score=0.7175, total=  21.9s\n"
     ]
    },
    {
     "name": "stderr",
     "output_type": "stream",
     "text": [
      "[Parallel(n_jobs=-1)]: Done   5 out of   5 | elapsed:   59.2s remaining:    0.0s\n",
      "[Parallel(n_jobs=-1)]: Done   5 out of   5 | elapsed:   59.2s finished\n"
     ]
    },
    {
     "name": "stdout",
     "output_type": "stream",
     "text": [
      "Fitting 5 folds for each of 1 candidates, totalling 5 fits\n",
      "[CV] C=0.6979378942571952, decision_function_shape=ovr, degree=5, kernel=poly \n",
      "[CV] C=0.6979378942571952, decision_function_shape=ovr, degree=5, kernel=poly \n",
      "[CV] C=0.6979378942571952, decision_function_shape=ovr, degree=5, kernel=poly \n",
      "[CV] C=0.6979378942571952, decision_function_shape=ovr, degree=5, kernel=poly \n",
      "[CV]  C=0.6979378942571952, decision_function_shape=ovr, degree=5, kernel=poly, score=0.6591666666666667, total=  45.7s\n",
      "[CV]  C=0.6979378942571952, decision_function_shape=ovr, degree=5, kernel=poly, score=0.67, total=  45.8s\n",
      "[CV] C=0.6979378942571952, decision_function_shape=ovr, degree=5, kernel=poly \n"
     ]
    },
    {
     "name": "stderr",
     "output_type": "stream",
     "text": [
      "[Parallel(n_jobs=-1)]: Done   2 out of   5 | elapsed:   45.8s remaining:  1.1min\n"
     ]
    },
    {
     "name": "stdout",
     "output_type": "stream",
     "text": [
      "[CV]  C=0.6979378942571952, decision_function_shape=ovr, degree=5, kernel=poly, score=0.6808333333333333, total=  46.1s\n",
      "[CV]  C=0.6979378942571952, decision_function_shape=ovr, degree=5, kernel=poly, score=0.6483333333333333, total=  46.3s\n"
     ]
    },
    {
     "name": "stderr",
     "output_type": "stream",
     "text": [
      "[Parallel(n_jobs=-1)]: Done   3 out of   5 | elapsed:   46.3s remaining:   30.9s\n"
     ]
    },
    {
     "name": "stdout",
     "output_type": "stream",
     "text": [
      "[CV]  C=0.6979378942571952, decision_function_shape=ovr, degree=5, kernel=poly, score=0.6533333333333333, total=  26.4s\n"
     ]
    },
    {
     "name": "stderr",
     "output_type": "stream",
     "text": [
      "[Parallel(n_jobs=-1)]: Done   5 out of   5 | elapsed:  1.2min remaining:    0.0s\n",
      "[Parallel(n_jobs=-1)]: Done   5 out of   5 | elapsed:  1.2min finished\n"
     ]
    },
    {
     "name": "stdout",
     "output_type": "stream",
     "text": [
      "Fitting 5 folds for each of 1 candidates, totalling 5 fits\n",
      "[CV] C=0.9784070939350822, decision_function_shape=ovr, degree=3, kernel=poly \n",
      "[CV] C=0.9784070939350822, decision_function_shape=ovr, degree=3, kernel=poly \n",
      "[CV] C=0.9784070939350822, decision_function_shape=ovr, degree=3, kernel=poly \n",
      "[CV] C=0.9784070939350822, decision_function_shape=ovr, degree=3, kernel=poly \n",
      "[CV]  C=0.9784070939350822, decision_function_shape=ovr, degree=3, kernel=poly, score=0.3566666666666667, total=  43.5s\n",
      "[CV] C=0.9784070939350822, decision_function_shape=ovr, degree=3, kernel=poly \n",
      "[CV]  C=0.9784070939350822, decision_function_shape=ovr, degree=3, kernel=poly, score=0.3516666666666667, total=  43.5s\n"
     ]
    },
    {
     "name": "stderr",
     "output_type": "stream",
     "text": [
      "[Parallel(n_jobs=-1)]: Done   2 out of   5 | elapsed:   43.6s remaining:  1.1min\n"
     ]
    },
    {
     "name": "stdout",
     "output_type": "stream",
     "text": [
      "[CV]  C=0.9784070939350822, decision_function_shape=ovr, degree=3, kernel=poly, score=0.36, total=  43.9s\n",
      "[CV]  C=0.9784070939350822, decision_function_shape=ovr, degree=3, kernel=poly, score=0.35083333333333333, total=  44.0s\n"
     ]
    },
    {
     "name": "stderr",
     "output_type": "stream",
     "text": [
      "[Parallel(n_jobs=-1)]: Done   3 out of   5 | elapsed:   44.0s remaining:   29.3s\n"
     ]
    },
    {
     "name": "stdout",
     "output_type": "stream",
     "text": [
      "[CV]  C=0.9784070939350822, decision_function_shape=ovr, degree=3, kernel=poly, score=0.3541666666666667, total=  27.0s\n"
     ]
    },
    {
     "name": "stderr",
     "output_type": "stream",
     "text": [
      "[Parallel(n_jobs=-1)]: Done   5 out of   5 | elapsed:  1.2min remaining:    0.0s\n",
      "[Parallel(n_jobs=-1)]: Done   5 out of   5 | elapsed:  1.2min finished\n"
     ]
    },
    {
     "name": "stdout",
     "output_type": "stream",
     "text": [
      "Fitting 5 folds for each of 1 candidates, totalling 5 fits\n",
      "[CV] C=0.7369127392638007, decision_function_shape=ovr, degree=5, kernel=linear \n",
      "[CV] C=0.7369127392638007, decision_function_shape=ovr, degree=5, kernel=linear \n",
      "[CV] C=0.7369127392638007, decision_function_shape=ovr, degree=5, kernel=linear \n",
      "[CV] C=0.7369127392638007, decision_function_shape=ovr, degree=5, kernel=linear \n",
      "[CV]  C=0.7369127392638007, decision_function_shape=ovr, degree=5, kernel=linear, score=0.7558333333333334, total=  31.6s\n",
      "[CV] C=0.7369127392638007, decision_function_shape=ovr, degree=5, kernel=linear \n",
      "[CV]  C=0.7369127392638007, decision_function_shape=ovr, degree=5, kernel=linear, score=0.7725, total=  31.7s\n",
      "[CV]  C=0.7369127392638007, decision_function_shape=ovr, degree=5, kernel=linear, score=0.7375, total=  31.8s\n"
     ]
    },
    {
     "name": "stderr",
     "output_type": "stream",
     "text": [
      "[Parallel(n_jobs=-1)]: Done   2 out of   5 | elapsed:   31.7s remaining:   47.6s\n",
      "[Parallel(n_jobs=-1)]: Done   3 out of   5 | elapsed:   31.8s remaining:   21.2s\n"
     ]
    },
    {
     "name": "stdout",
     "output_type": "stream",
     "text": [
      "[CV]  C=0.7369127392638007, decision_function_shape=ovr, degree=5, kernel=linear, score=0.7725, total=  32.1s\n",
      "[CV]  C=0.7369127392638007, decision_function_shape=ovr, degree=5, kernel=linear, score=0.7366666666666667, total=  19.2s\n"
     ]
    },
    {
     "name": "stderr",
     "output_type": "stream",
     "text": [
      "[Parallel(n_jobs=-1)]: Done   5 out of   5 | elapsed:   50.8s remaining:    0.0s\n",
      "[Parallel(n_jobs=-1)]: Done   5 out of   5 | elapsed:   50.8s finished\n"
     ]
    },
    {
     "name": "stdout",
     "output_type": "stream",
     "text": [
      "Fitting 5 folds for each of 1 candidates, totalling 5 fits\n",
      "[CV] C=0.7942315796082294, decision_function_shape=ovr, degree=3, kernel=linear \n",
      "[CV] C=0.7942315796082294, decision_function_shape=ovr, degree=3, kernel=linear \n",
      "[CV] C=0.7942315796082294, decision_function_shape=ovr, degree=3, kernel=linear \n",
      "[CV] C=0.7942315796082294, decision_function_shape=ovr, degree=3, kernel=linear \n",
      "[CV]  C=0.7942315796082294, decision_function_shape=ovr, degree=3, kernel=linear, score=0.7575, total=  31.1s\n",
      "[CV] C=0.7942315796082294, decision_function_shape=ovr, degree=3, kernel=linear \n",
      "[CV]  C=0.7942315796082294, decision_function_shape=ovr, degree=3, kernel=linear, score=0.7716666666666666, total=  31.2s\n",
      "[CV]  C=0.7942315796082294, decision_function_shape=ovr, degree=3, kernel=linear, score=0.7358333333333333, total=  31.3s\n"
     ]
    },
    {
     "name": "stderr",
     "output_type": "stream",
     "text": [
      "[Parallel(n_jobs=-1)]: Done   2 out of   5 | elapsed:   31.2s remaining:   46.8s\n",
      "[Parallel(n_jobs=-1)]: Done   3 out of   5 | elapsed:   31.4s remaining:   20.9s\n"
     ]
    },
    {
     "name": "stdout",
     "output_type": "stream",
     "text": [
      "[CV]  C=0.7942315796082294, decision_function_shape=ovr, degree=3, kernel=linear, score=0.7691666666666667, total=  31.6s\n",
      "[CV]  C=0.7942315796082294, decision_function_shape=ovr, degree=3, kernel=linear, score=0.7366666666666667, total=  19.0s\n"
     ]
    },
    {
     "name": "stderr",
     "output_type": "stream",
     "text": [
      "[Parallel(n_jobs=-1)]: Done   5 out of   5 | elapsed:   50.2s remaining:    0.0s\n",
      "[Parallel(n_jobs=-1)]: Done   5 out of   5 | elapsed:   50.2s finished\n"
     ]
    },
    {
     "name": "stdout",
     "output_type": "stream",
     "text": [
      "Fitting 5 folds for each of 1 candidates, totalling 5 fits\n",
      "[CV] C=0.8408149716224478, decision_function_shape=ovo, degree=5, kernel=linear \n",
      "[CV] C=0.8408149716224478, decision_function_shape=ovo, degree=5, kernel=linear \n",
      "[CV] C=0.8408149716224478, decision_function_shape=ovo, degree=5, kernel=linear \n",
      "[CV] C=0.8408149716224478, decision_function_shape=ovo, degree=5, kernel=linear \n",
      "[CV]  C=0.8408149716224478, decision_function_shape=ovo, degree=5, kernel=linear, score=0.775, total=  30.6s\n",
      "[CV] C=0.8408149716224478, decision_function_shape=ovo, degree=5, kernel=linear \n",
      "[CV]  C=0.8408149716224478, decision_function_shape=ovo, degree=5, kernel=linear, score=0.7358333333333333, total=  30.7s\n",
      "[CV]  C=0.8408149716224478, decision_function_shape=ovo, degree=5, kernel=linear, score=0.7591666666666667, total=  30.9s\n"
     ]
    },
    {
     "name": "stderr",
     "output_type": "stream",
     "text": [
      "[Parallel(n_jobs=-1)]: Done   2 out of   5 | elapsed:   30.8s remaining:   46.2s\n",
      "[Parallel(n_jobs=-1)]: Done   3 out of   5 | elapsed:   30.9s remaining:   20.6s\n"
     ]
    },
    {
     "name": "stdout",
     "output_type": "stream",
     "text": [
      "[CV]  C=0.8408149716224478, decision_function_shape=ovo, degree=5, kernel=linear, score=0.7683333333333333, total=  30.9s\n",
      "[CV]  C=0.8408149716224478, decision_function_shape=ovo, degree=5, kernel=linear, score=0.7375, total=  19.3s\n"
     ]
    },
    {
     "name": "stderr",
     "output_type": "stream",
     "text": [
      "[Parallel(n_jobs=-1)]: Done   5 out of   5 | elapsed:   49.9s remaining:    0.0s\n",
      "[Parallel(n_jobs=-1)]: Done   5 out of   5 | elapsed:   49.9s finished\n"
     ]
    },
    {
     "name": "stdout",
     "output_type": "stream",
     "text": [
      "Fitting 5 folds for each of 1 candidates, totalling 5 fits\n",
      "[CV] C=0.9376445690880753, decision_function_shape=ovr, degree=5, kernel=linear \n",
      "[CV] C=0.9376445690880753, decision_function_shape=ovr, degree=5, kernel=linear \n",
      "[CV] C=0.9376445690880753, decision_function_shape=ovr, degree=5, kernel=linear \n",
      "[CV] C=0.9376445690880753, decision_function_shape=ovr, degree=5, kernel=linear \n",
      "[CV]  C=0.9376445690880753, decision_function_shape=ovr, degree=5, kernel=linear, score=0.7575, total=  31.2s\n",
      "[CV] C=0.9376445690880753, decision_function_shape=ovr, degree=5, kernel=linear \n",
      "[CV]  C=0.9376445690880753, decision_function_shape=ovr, degree=5, kernel=linear, score=0.7766666666666666, total=  31.3s\n"
     ]
    },
    {
     "name": "stderr",
     "output_type": "stream",
     "text": [
      "[Parallel(n_jobs=-1)]: Done   2 out of   5 | elapsed:   31.3s remaining:   46.9s\n"
     ]
    },
    {
     "name": "stdout",
     "output_type": "stream",
     "text": [
      "[CV]  C=0.9376445690880753, decision_function_shape=ovr, degree=5, kernel=linear, score=0.7333333333333333, total=  31.5s\n",
      "[CV]  C=0.9376445690880753, decision_function_shape=ovr, degree=5, kernel=linear, score=0.7675, total=  31.4s\n"
     ]
    },
    {
     "name": "stderr",
     "output_type": "stream",
     "text": [
      "[Parallel(n_jobs=-1)]: Done   3 out of   5 | elapsed:   31.5s remaining:   21.0s\n"
     ]
    },
    {
     "name": "stdout",
     "output_type": "stream",
     "text": [
      "[CV]  C=0.9376445690880753, decision_function_shape=ovr, degree=5, kernel=linear, score=0.73, total=  18.8s\n"
     ]
    },
    {
     "name": "stderr",
     "output_type": "stream",
     "text": [
      "[Parallel(n_jobs=-1)]: Done   5 out of   5 | elapsed:   50.0s remaining:    0.0s\n",
      "[Parallel(n_jobs=-1)]: Done   5 out of   5 | elapsed:   50.0s finished\n"
     ]
    },
    {
     "name": "stdout",
     "output_type": "stream",
     "text": [
      "Fitting 5 folds for each of 1 candidates, totalling 5 fits\n",
      "[CV] C=0.8688193480712328, decision_function_shape=ovo, degree=3, kernel=linear \n",
      "[CV] C=0.8688193480712328, decision_function_shape=ovo, degree=3, kernel=linear \n",
      "[CV] C=0.8688193480712328, decision_function_shape=ovo, degree=3, kernel=linear \n",
      "[CV] C=0.8688193480712328, decision_function_shape=ovo, degree=3, kernel=linear \n",
      "[CV]  C=0.8688193480712328, decision_function_shape=ovo, degree=3, kernel=linear, score=0.7583333333333333, total=  31.2s\n",
      "[CV] C=0.8688193480712328, decision_function_shape=ovo, degree=3, kernel=linear \n",
      "[CV]  C=0.8688193480712328, decision_function_shape=ovo, degree=3, kernel=linear, score=0.775, total=  31.4s\n",
      "[CV]  C=0.8688193480712328, decision_function_shape=ovo, degree=3, kernel=linear, score=0.7383333333333333, total=  31.5s\n"
     ]
    },
    {
     "name": "stderr",
     "output_type": "stream",
     "text": [
      "[Parallel(n_jobs=-1)]: Done   2 out of   5 | elapsed:   31.4s remaining:   47.1s\n",
      "[Parallel(n_jobs=-1)]: Done   3 out of   5 | elapsed:   31.6s remaining:   21.0s\n"
     ]
    },
    {
     "name": "stdout",
     "output_type": "stream",
     "text": [
      "[CV]  C=0.8688193480712328, decision_function_shape=ovo, degree=3, kernel=linear, score=0.7666666666666667, total=  31.6s\n",
      "[CV]  C=0.8688193480712328, decision_function_shape=ovo, degree=3, kernel=linear, score=0.735, total=  18.6s\n"
     ]
    },
    {
     "name": "stderr",
     "output_type": "stream",
     "text": [
      "[Parallel(n_jobs=-1)]: Done   5 out of   5 | elapsed:   49.8s remaining:    0.0s\n",
      "[Parallel(n_jobs=-1)]: Done   5 out of   5 | elapsed:   49.8s finished\n"
     ]
    },
    {
     "name": "stdout",
     "output_type": "stream",
     "text": [
      "Fitting 5 folds for each of 1 candidates, totalling 5 fits\n",
      "[CV] C=0.7371984479134955, decision_function_shape=ovr, degree=5, kernel=linear \n",
      "[CV] C=0.7371984479134955, decision_function_shape=ovr, degree=5, kernel=linear \n",
      "[CV] C=0.7371984479134955, decision_function_shape=ovr, degree=5, kernel=linear \n",
      "[CV] C=0.7371984479134955, decision_function_shape=ovr, degree=5, kernel=linear \n",
      "[CV]  C=0.7371984479134955, decision_function_shape=ovr, degree=5, kernel=linear, score=0.7558333333333334, total=  30.8s\n",
      "[CV] C=0.7371984479134955, decision_function_shape=ovr, degree=5, kernel=linear \n",
      "[CV]  C=0.7371984479134955, decision_function_shape=ovr, degree=5, kernel=linear, score=0.7725, total=  31.1s\n"
     ]
    },
    {
     "name": "stderr",
     "output_type": "stream",
     "text": [
      "[Parallel(n_jobs=-1)]: Done   2 out of   5 | elapsed:   31.1s remaining:   46.7s\n"
     ]
    },
    {
     "name": "stdout",
     "output_type": "stream",
     "text": [
      "[CV]  C=0.7371984479134955, decision_function_shape=ovr, degree=5, kernel=linear, score=0.7725, total=  31.3s\n",
      "[CV]  C=0.7371984479134955, decision_function_shape=ovr, degree=5, kernel=linear, score=0.7375, total=  31.4s\n"
     ]
    },
    {
     "name": "stderr",
     "output_type": "stream",
     "text": [
      "[Parallel(n_jobs=-1)]: Done   3 out of   5 | elapsed:   31.4s remaining:   20.9s\n"
     ]
    },
    {
     "name": "stdout",
     "output_type": "stream",
     "text": [
      "[CV]  C=0.7371984479134955, decision_function_shape=ovr, degree=5, kernel=linear, score=0.7366666666666667, total=  19.0s\n"
     ]
    },
    {
     "name": "stderr",
     "output_type": "stream",
     "text": [
      "[Parallel(n_jobs=-1)]: Done   5 out of   5 | elapsed:   49.9s remaining:    0.0s\n",
      "[Parallel(n_jobs=-1)]: Done   5 out of   5 | elapsed:   49.9s finished\n"
     ]
    },
    {
     "name": "stdout",
     "output_type": "stream",
     "text": [
      "Fitting 5 folds for each of 1 candidates, totalling 5 fits\n",
      "[CV] C=0.7547373011300135, decision_function_shape=ovo, degree=5, kernel=linear \n",
      "[CV] C=0.7547373011300135, decision_function_shape=ovo, degree=5, kernel=linear \n",
      "[CV] C=0.7547373011300135, decision_function_shape=ovo, degree=5, kernel=linear \n",
      "[CV] C=0.7547373011300135, decision_function_shape=ovo, degree=5, kernel=linear \n",
      "[CV]  C=0.7547373011300135, decision_function_shape=ovo, degree=5, kernel=linear, score=0.7366666666666667, total=  29.9s\n",
      "[CV] C=0.7547373011300135, decision_function_shape=ovo, degree=5, kernel=linear \n",
      "[CV]  C=0.7547373011300135, decision_function_shape=ovo, degree=5, kernel=linear, score=0.7558333333333334, total=  29.9s\n",
      "[CV]  C=0.7547373011300135, decision_function_shape=ovo, degree=5, kernel=linear, score=0.7725, total=  30.0s\n"
     ]
    },
    {
     "name": "stderr",
     "output_type": "stream",
     "text": [
      "[Parallel(n_jobs=-1)]: Done   2 out of   5 | elapsed:   30.0s remaining:   45.0s\n",
      "[Parallel(n_jobs=-1)]: Done   3 out of   5 | elapsed:   30.0s remaining:   20.0s\n"
     ]
    },
    {
     "name": "stdout",
     "output_type": "stream",
     "text": [
      "[CV]  C=0.7547373011300135, decision_function_shape=ovo, degree=5, kernel=linear, score=0.7725, total=  30.1s\n",
      "[CV]  C=0.7547373011300135, decision_function_shape=ovo, degree=5, kernel=linear, score=0.7366666666666667, total=  18.8s\n"
     ]
    },
    {
     "name": "stderr",
     "output_type": "stream",
     "text": [
      "[Parallel(n_jobs=-1)]: Done   5 out of   5 | elapsed:   48.7s remaining:    0.0s\n",
      "[Parallel(n_jobs=-1)]: Done   5 out of   5 | elapsed:   48.7s finished\n"
     ]
    },
    {
     "name": "stdout",
     "output_type": "stream",
     "text": [
      "Fitting 5 folds for each of 1 candidates, totalling 5 fits\n",
      "[CV] C=0.5831871439033627, decision_function_shape=ovo, degree=2, kernel=linear \n",
      "[CV] C=0.5831871439033627, decision_function_shape=ovo, degree=2, kernel=linear \n",
      "[CV] C=0.5831871439033627, decision_function_shape=ovo, degree=2, kernel=linear \n",
      "[CV] C=0.5831871439033627, decision_function_shape=ovo, degree=2, kernel=linear \n",
      "[CV]  C=0.5831871439033627, decision_function_shape=ovo, degree=2, kernel=linear, score=0.7775, total=  31.1s\n",
      "[CV] C=0.5831871439033627, decision_function_shape=ovo, degree=2, kernel=linear \n",
      "[CV]  C=0.5831871439033627, decision_function_shape=ovo, degree=2, kernel=linear, score=0.7608333333333334, total=  31.4s\n",
      "[CV]  C=0.5831871439033627, decision_function_shape=ovo, degree=2, kernel=linear, score=0.7375, total=  31.5s\n"
     ]
    },
    {
     "name": "stderr",
     "output_type": "stream",
     "text": [
      "[Parallel(n_jobs=-1)]: Done   2 out of   5 | elapsed:   31.4s remaining:   47.1s\n",
      "[Parallel(n_jobs=-1)]: Done   3 out of   5 | elapsed:   31.6s remaining:   21.0s\n"
     ]
    },
    {
     "name": "stdout",
     "output_type": "stream",
     "text": [
      "[CV]  C=0.5831871439033627, decision_function_shape=ovo, degree=2, kernel=linear, score=0.7716666666666666, total=  31.6s\n",
      "[CV]  C=0.5831871439033627, decision_function_shape=ovo, degree=2, kernel=linear, score=0.7358333333333333, total=  19.6s\n"
     ]
    },
    {
     "name": "stderr",
     "output_type": "stream",
     "text": [
      "[Parallel(n_jobs=-1)]: Done   5 out of   5 | elapsed:   50.8s remaining:    0.0s\n",
      "[Parallel(n_jobs=-1)]: Done   5 out of   5 | elapsed:   50.8s finished\n"
     ]
    },
    {
     "name": "stdout",
     "output_type": "stream",
     "text": [
      "Fitting 5 folds for each of 1 candidates, totalling 5 fits\n",
      "[CV] C=0.6899480967153578, decision_function_shape=ovo, degree=5, kernel=linear \n",
      "[CV] C=0.6899480967153578, decision_function_shape=ovo, degree=5, kernel=linear \n",
      "[CV] C=0.6899480967153578, decision_function_shape=ovo, degree=5, kernel=linear \n",
      "[CV] C=0.6899480967153578, decision_function_shape=ovo, degree=5, kernel=linear \n",
      "[CV]  C=0.6899480967153578, decision_function_shape=ovo, degree=5, kernel=linear, score=0.7733333333333333, total=  31.6s\n",
      "[CV] C=0.6899480967153578, decision_function_shape=ovo, degree=5, kernel=linear \n",
      "[CV]  C=0.6899480967153578, decision_function_shape=ovo, degree=5, kernel=linear, score=0.7408333333333333, total=  31.6s\n",
      "[CV]  C=0.6899480967153578, decision_function_shape=ovo, degree=5, kernel=linear, score=0.7608333333333334, total=  31.7s\n"
     ]
    },
    {
     "name": "stderr",
     "output_type": "stream",
     "text": [
      "[Parallel(n_jobs=-1)]: Done   2 out of   5 | elapsed:   31.7s remaining:   47.6s\n",
      "[Parallel(n_jobs=-1)]: Done   3 out of   5 | elapsed:   31.8s remaining:   21.2s\n"
     ]
    },
    {
     "name": "stdout",
     "output_type": "stream",
     "text": [
      "[CV]  C=0.6899480967153578, decision_function_shape=ovo, degree=5, kernel=linear, score=0.7733333333333333, total=  31.9s\n",
      "[CV]  C=0.6899480967153578, decision_function_shape=ovo, degree=5, kernel=linear, score=0.7358333333333333, total=  19.2s\n"
     ]
    },
    {
     "name": "stderr",
     "output_type": "stream",
     "text": [
      "[Parallel(n_jobs=-1)]: Done   5 out of   5 | elapsed:   50.9s remaining:    0.0s\n",
      "[Parallel(n_jobs=-1)]: Done   5 out of   5 | elapsed:   50.9s finished\n"
     ]
    },
    {
     "name": "stdout",
     "output_type": "stream",
     "text": [
      "Fitting 5 folds for each of 1 candidates, totalling 5 fits\n",
      "[CV] C=0.6541817798751992, decision_function_shape=ovo, degree=5, kernel=linear \n",
      "[CV] C=0.6541817798751992, decision_function_shape=ovo, degree=5, kernel=linear \n",
      "[CV] C=0.6541817798751992, decision_function_shape=ovo, degree=5, kernel=linear \n",
      "[CV] C=0.6541817798751992, decision_function_shape=ovo, degree=5, kernel=linear \n",
      "[CV]  C=0.6541817798751992, decision_function_shape=ovo, degree=5, kernel=linear, score=0.7766666666666666, total=  31.6s\n",
      "[CV] C=0.6541817798751992, decision_function_shape=ovo, degree=5, kernel=linear \n",
      "[CV]  C=0.6541817798751992, decision_function_shape=ovo, degree=5, kernel=linear, score=0.7566666666666667, total=  31.8s\n",
      "[CV]  C=0.6541817798751992, decision_function_shape=ovo, degree=5, kernel=linear, score=0.7391666666666666, total=  31.8s\n"
     ]
    },
    {
     "name": "stderr",
     "output_type": "stream",
     "text": [
      "[Parallel(n_jobs=-1)]: Done   2 out of   5 | elapsed:   31.8s remaining:   47.7s\n",
      "[Parallel(n_jobs=-1)]: Done   3 out of   5 | elapsed:   31.9s remaining:   21.3s\n"
     ]
    },
    {
     "name": "stdout",
     "output_type": "stream",
     "text": [
      "[CV]  C=0.6541817798751992, decision_function_shape=ovo, degree=5, kernel=linear, score=0.7725, total=  32.2s\n",
      "[CV]  C=0.6541817798751992, decision_function_shape=ovo, degree=5, kernel=linear, score=0.7366666666666667, total=  19.5s\n"
     ]
    },
    {
     "name": "stderr",
     "output_type": "stream",
     "text": [
      "[Parallel(n_jobs=-1)]: Done   5 out of   5 | elapsed:   51.1s remaining:    0.0s\n",
      "[Parallel(n_jobs=-1)]: Done   5 out of   5 | elapsed:   51.1s finished\n"
     ]
    },
    {
     "name": "stdout",
     "output_type": "stream",
     "text": [
      "Fitting 5 folds for each of 1 candidates, totalling 5 fits\n",
      "[CV] C=0.6043276944783742, decision_function_shape=ovo, degree=5, kernel=linear \n",
      "[CV] C=0.6043276944783742, decision_function_shape=ovo, degree=5, kernel=linear \n",
      "[CV] C=0.6043276944783742, decision_function_shape=ovo, degree=5, kernel=linear \n",
      "[CV] C=0.6043276944783742, decision_function_shape=ovo, degree=5, kernel=linear \n",
      "[CV]  C=0.6043276944783742, decision_function_shape=ovo, degree=5, kernel=linear, score=0.7366666666666667, total=  32.2s\n",
      "[CV] C=0.6043276944783742, decision_function_shape=ovo, degree=5, kernel=linear \n",
      "[CV]  C=0.6043276944783742, decision_function_shape=ovo, degree=5, kernel=linear, score=0.7775, total=  32.4s\n",
      "[CV]  C=0.6043276944783742, decision_function_shape=ovo, degree=5, kernel=linear, score=0.7591666666666667, total=  32.5s\n"
     ]
    },
    {
     "name": "stderr",
     "output_type": "stream",
     "text": [
      "[Parallel(n_jobs=-1)]: Done   2 out of   5 | elapsed:   32.4s remaining:   48.6s\n",
      "[Parallel(n_jobs=-1)]: Done   3 out of   5 | elapsed:   32.5s remaining:   21.7s\n"
     ]
    },
    {
     "name": "stdout",
     "output_type": "stream",
     "text": [
      "[CV]  C=0.6043276944783742, decision_function_shape=ovo, degree=5, kernel=linear, score=0.7733333333333333, total=  32.7s\n",
      "[CV]  C=0.6043276944783742, decision_function_shape=ovo, degree=5, kernel=linear, score=0.7391666666666666, total=  19.2s\n"
     ]
    },
    {
     "name": "stderr",
     "output_type": "stream",
     "text": [
      "[Parallel(n_jobs=-1)]: Done   5 out of   5 | elapsed:   51.5s remaining:    0.0s\n",
      "[Parallel(n_jobs=-1)]: Done   5 out of   5 | elapsed:   51.5s finished\n"
     ]
    },
    {
     "name": "stdout",
     "output_type": "stream",
     "text": [
      "Fitting 5 folds for each of 1 candidates, totalling 5 fits\n",
      "[CV] C=0.14598803327563617, decision_function_shape=ovo, degree=5, kernel=linear \n",
      "[CV] C=0.14598803327563617, decision_function_shape=ovo, degree=5, kernel=linear \n",
      "[CV] C=0.14598803327563617, decision_function_shape=ovo, degree=5, kernel=linear \n",
      "[CV] C=0.14598803327563617, decision_function_shape=ovo, degree=5, kernel=linear \n",
      "[CV]  C=0.14598803327563617, decision_function_shape=ovo, degree=5, kernel=linear, score=0.6975, total=  37.6s\n",
      "[CV] C=0.14598803327563617, decision_function_shape=ovo, degree=5, kernel=linear \n",
      "[CV]  C=0.14598803327563617, decision_function_shape=ovo, degree=5, kernel=linear, score=0.6941666666666667, total=  37.7s\n"
     ]
    },
    {
     "name": "stderr",
     "output_type": "stream",
     "text": [
      "[Parallel(n_jobs=-1)]: Done   2 out of   5 | elapsed:   37.7s remaining:   56.6s\n"
     ]
    },
    {
     "name": "stdout",
     "output_type": "stream",
     "text": [
      "[CV]  C=0.14598803327563617, decision_function_shape=ovo, degree=5, kernel=linear, score=0.7333333333333333, total=  38.0s\n",
      "[CV]  C=0.14598803327563617, decision_function_shape=ovo, degree=5, kernel=linear, score=0.7383333333333333, total=  38.0s\n"
     ]
    },
    {
     "name": "stderr",
     "output_type": "stream",
     "text": [
      "[Parallel(n_jobs=-1)]: Done   3 out of   5 | elapsed:   38.0s remaining:   25.3s\n"
     ]
    },
    {
     "name": "stdout",
     "output_type": "stream",
     "text": [
      "[CV]  C=0.14598803327563617, decision_function_shape=ovo, degree=5, kernel=linear, score=0.7016666666666667, total=  23.0s\n"
     ]
    },
    {
     "name": "stderr",
     "output_type": "stream",
     "text": [
      "[Parallel(n_jobs=-1)]: Done   5 out of   5 | elapsed:  1.0min remaining:    0.0s\n",
      "[Parallel(n_jobs=-1)]: Done   5 out of   5 | elapsed:  1.0min finished\n"
     ]
    },
    {
     "name": "stdout",
     "output_type": "stream",
     "text": [
      "Fitting 5 folds for each of 1 candidates, totalling 5 fits\n",
      "[CV] C=0.4959023893066612, decision_function_shape=ovo, degree=5, kernel=linear \n",
      "[CV] C=0.4959023893066612, decision_function_shape=ovo, degree=5, kernel=linear \n",
      "[CV] C=0.4959023893066612, decision_function_shape=ovo, degree=5, kernel=linear \n",
      "[CV] C=0.4959023893066612, decision_function_shape=ovo, degree=5, kernel=linear \n",
      "[CV]  C=0.4959023893066612, decision_function_shape=ovo, degree=5, kernel=linear, score=0.7541666666666667, total=  33.1s\n",
      "[CV] C=0.4959023893066612, decision_function_shape=ovo, degree=5, kernel=linear \n",
      "[CV]  C=0.4959023893066612, decision_function_shape=ovo, degree=5, kernel=linear, score=0.7391666666666666, total=  33.3s\n",
      "[CV]  C=0.4959023893066612, decision_function_shape=ovo, degree=5, kernel=linear, score=0.7775, total=  33.5s\n"
     ]
    },
    {
     "name": "stderr",
     "output_type": "stream",
     "text": [
      "[Parallel(n_jobs=-1)]: Done   2 out of   5 | elapsed:   33.4s remaining:   50.1s\n",
      "[Parallel(n_jobs=-1)]: Done   3 out of   5 | elapsed:   33.5s remaining:   22.4s\n"
     ]
    },
    {
     "name": "stdout",
     "output_type": "stream",
     "text": [
      "[CV]  C=0.4959023893066612, decision_function_shape=ovo, degree=5, kernel=linear, score=0.7675, total=  33.7s\n",
      "[CV]  C=0.4959023893066612, decision_function_shape=ovo, degree=5, kernel=linear, score=0.7358333333333333, total=  20.1s\n"
     ]
    },
    {
     "name": "stderr",
     "output_type": "stream",
     "text": [
      "[Parallel(n_jobs=-1)]: Done   5 out of   5 | elapsed:   53.3s remaining:    0.0s\n",
      "[Parallel(n_jobs=-1)]: Done   5 out of   5 | elapsed:   53.3s finished\n"
     ]
    },
    {
     "name": "stdout",
     "output_type": "stream",
     "text": [
      "Fitting 5 folds for each of 1 candidates, totalling 5 fits\n",
      "[CV] C=0.47567752345599895, decision_function_shape=ovo, degree=5, kernel=linear \n",
      "[CV] C=0.47567752345599895, decision_function_shape=ovo, degree=5, kernel=linear \n",
      "[CV] C=0.47567752345599895, decision_function_shape=ovo, degree=5, kernel=linear \n",
      "[CV] C=0.47567752345599895, decision_function_shape=ovo, degree=5, kernel=linear \n",
      "[CV]  C=0.47567752345599895, decision_function_shape=ovo, degree=5, kernel=linear, score=0.7541666666666667, total=  31.7s\n",
      "[CV] C=0.47567752345599895, decision_function_shape=ovo, degree=5, kernel=linear \n",
      "[CV]  C=0.47567752345599895, decision_function_shape=ovo, degree=5, kernel=linear, score=0.7425, total=  31.8s\n"
     ]
    },
    {
     "name": "stderr",
     "output_type": "stream",
     "text": [
      "[Parallel(n_jobs=-1)]: Done   2 out of   5 | elapsed:   31.8s remaining:   47.8s\n"
     ]
    },
    {
     "name": "stdout",
     "output_type": "stream",
     "text": [
      "[CV]  C=0.47567752345599895, decision_function_shape=ovo, degree=5, kernel=linear, score=0.7775, total=  32.0s\n",
      "[CV]  C=0.47567752345599895, decision_function_shape=ovo, degree=5, kernel=linear, score=0.7675, total=  32.0s\n"
     ]
    },
    {
     "name": "stderr",
     "output_type": "stream",
     "text": [
      "[Parallel(n_jobs=-1)]: Done   3 out of   5 | elapsed:   32.1s remaining:   21.4s\n"
     ]
    },
    {
     "name": "stdout",
     "output_type": "stream",
     "text": [
      "[CV]  C=0.47567752345599895, decision_function_shape=ovo, degree=5, kernel=linear, score=0.7325, total=  19.9s\n"
     ]
    },
    {
     "name": "stderr",
     "output_type": "stream",
     "text": [
      "[Parallel(n_jobs=-1)]: Done   5 out of   5 | elapsed:   51.7s remaining:    0.0s\n",
      "[Parallel(n_jobs=-1)]: Done   5 out of   5 | elapsed:   51.7s finished\n"
     ]
    },
    {
     "name": "stdout",
     "output_type": "stream",
     "text": [
      "Fitting 5 folds for each of 1 candidates, totalling 5 fits\n",
      "[CV] C=0.46581826851454994, decision_function_shape=ovo, degree=5, kernel=linear \n",
      "[CV] C=0.46581826851454994, decision_function_shape=ovo, degree=5, kernel=linear \n",
      "[CV] C=0.46581826851454994, decision_function_shape=ovo, degree=5, kernel=linear \n",
      "[CV] C=0.46581826851454994, decision_function_shape=ovo, degree=5, kernel=linear \n",
      "[CV]  C=0.46581826851454994, decision_function_shape=ovo, degree=5, kernel=linear, score=0.7775, total=  33.1s\n",
      "[CV] C=0.46581826851454994, decision_function_shape=ovo, degree=5, kernel=linear \n",
      "[CV]  C=0.46581826851454994, decision_function_shape=ovo, degree=5, kernel=linear, score=0.7541666666666667, total=  33.2s\n",
      "[CV]  C=0.46581826851454994, decision_function_shape=ovo, degree=5, kernel=linear, score=0.7416666666666667, total=  33.2s\n"
     ]
    },
    {
     "name": "stderr",
     "output_type": "stream",
     "text": [
      "[Parallel(n_jobs=-1)]: Done   2 out of   5 | elapsed:   33.2s remaining:   49.8s\n",
      "[Parallel(n_jobs=-1)]: Done   3 out of   5 | elapsed:   33.3s remaining:   22.2s\n"
     ]
    },
    {
     "name": "stdout",
     "output_type": "stream",
     "text": [
      "[CV]  C=0.46581826851454994, decision_function_shape=ovo, degree=5, kernel=linear, score=0.7675, total=  33.3s\n",
      "[CV]  C=0.46581826851454994, decision_function_shape=ovo, degree=5, kernel=linear, score=0.7325, total=  19.6s\n"
     ]
    },
    {
     "name": "stderr",
     "output_type": "stream",
     "text": [
      "[Parallel(n_jobs=-1)]: Done   5 out of   5 | elapsed:   52.8s remaining:    0.0s\n",
      "[Parallel(n_jobs=-1)]: Done   5 out of   5 | elapsed:   52.8s finished\n"
     ]
    },
    {
     "name": "stdout",
     "output_type": "stream",
     "text": [
      "Fitting 5 folds for each of 1 candidates, totalling 5 fits\n",
      "[CV] C=0.43390580619779046, decision_function_shape=ovo, degree=3, kernel=linear \n",
      "[CV] C=0.43390580619779046, decision_function_shape=ovo, degree=3, kernel=linear \n",
      "[CV] C=0.43390580619779046, decision_function_shape=ovo, degree=3, kernel=linear \n",
      "[CV] C=0.43390580619779046, decision_function_shape=ovo, degree=3, kernel=linear \n",
      "[CV]  C=0.43390580619779046, decision_function_shape=ovo, degree=3, kernel=linear, score=0.7516666666666667, total=  32.8s\n",
      "[CV] C=0.43390580619779046, decision_function_shape=ovo, degree=3, kernel=linear \n",
      "[CV]  C=0.43390580619779046, decision_function_shape=ovo, degree=3, kernel=linear, score=0.735, total=  32.8s\n",
      "[CV]  C=0.43390580619779046, decision_function_shape=ovo, degree=3, kernel=linear, score=0.775, total=  33.0s\n"
     ]
    },
    {
     "name": "stderr",
     "output_type": "stream",
     "text": [
      "[Parallel(n_jobs=-1)]: Done   2 out of   5 | elapsed:   32.9s remaining:   49.3s\n",
      "[Parallel(n_jobs=-1)]: Done   3 out of   5 | elapsed:   33.1s remaining:   22.0s\n"
     ]
    },
    {
     "name": "stdout",
     "output_type": "stream",
     "text": [
      "[CV]  C=0.43390580619779046, decision_function_shape=ovo, degree=3, kernel=linear, score=0.7641666666666667, total=  33.1s\n",
      "[CV]  C=0.43390580619779046, decision_function_shape=ovo, degree=3, kernel=linear, score=0.7316666666666667, total=  19.8s\n"
     ]
    },
    {
     "name": "stderr",
     "output_type": "stream",
     "text": [
      "[Parallel(n_jobs=-1)]: Done   5 out of   5 | elapsed:   52.7s remaining:    0.0s\n",
      "[Parallel(n_jobs=-1)]: Done   5 out of   5 | elapsed:   52.7s finished\n"
     ]
    },
    {
     "name": "stdout",
     "output_type": "stream",
     "text": [
      "Fitting 5 folds for each of 1 candidates, totalling 5 fits\n",
      "[CV] C=0.44001584455175485, decision_function_shape=ovo, degree=5, kernel=linear \n",
      "[CV] C=0.44001584455175485, decision_function_shape=ovo, degree=5, kernel=linear \n",
      "[CV] C=0.44001584455175485, decision_function_shape=ovo, degree=5, kernel=linear \n",
      "[CV] C=0.44001584455175485, decision_function_shape=ovo, degree=5, kernel=linear \n",
      "[CV]  C=0.44001584455175485, decision_function_shape=ovo, degree=5, kernel=linear, score=0.7508333333333334, total=  32.1s\n",
      "[CV] C=0.44001584455175485, decision_function_shape=ovo, degree=5, kernel=linear \n",
      "[CV]  C=0.44001584455175485, decision_function_shape=ovo, degree=5, kernel=linear, score=0.7375, total=  32.4s\n",
      "[CV]  C=0.44001584455175485, decision_function_shape=ovo, degree=5, kernel=linear, score=0.7766666666666666, total=  32.6s\n"
     ]
    },
    {
     "name": "stderr",
     "output_type": "stream",
     "text": [
      "[Parallel(n_jobs=-1)]: Done   2 out of   5 | elapsed:   32.5s remaining:   48.8s\n",
      "[Parallel(n_jobs=-1)]: Done   3 out of   5 | elapsed:   32.6s remaining:   21.7s\n"
     ]
    },
    {
     "name": "stdout",
     "output_type": "stream",
     "text": [
      "[CV]  C=0.44001584455175485, decision_function_shape=ovo, degree=5, kernel=linear, score=0.7641666666666667, total=  32.6s\n",
      "[CV]  C=0.44001584455175485, decision_function_shape=ovo, degree=5, kernel=linear, score=0.7333333333333333, total=  20.2s\n"
     ]
    },
    {
     "name": "stderr",
     "output_type": "stream",
     "text": [
      "[Parallel(n_jobs=-1)]: Done   5 out of   5 | elapsed:   52.3s remaining:    0.0s\n",
      "[Parallel(n_jobs=-1)]: Done   5 out of   5 | elapsed:   52.3s finished\n"
     ]
    },
    {
     "name": "stdout",
     "output_type": "stream",
     "text": [
      "Fitting 5 folds for each of 1 candidates, totalling 5 fits\n",
      "[CV] C=0.39986711654077656, decision_function_shape=ovo, degree=5, kernel=linear \n",
      "[CV] C=0.39986711654077656, decision_function_shape=ovo, degree=5, kernel=linear \n",
      "[CV] C=0.39986711654077656, decision_function_shape=ovo, degree=5, kernel=linear \n",
      "[CV] C=0.39986711654077656, decision_function_shape=ovo, degree=5, kernel=linear \n",
      "[CV]  C=0.39986711654077656, decision_function_shape=ovo, degree=5, kernel=linear, score=0.7341666666666666, total=  33.4s\n",
      "[CV] C=0.39986711654077656, decision_function_shape=ovo, degree=5, kernel=linear \n",
      "[CV]  C=0.39986711654077656, decision_function_shape=ovo, degree=5, kernel=linear, score=0.7733333333333333, total=  33.6s\n",
      "[CV]  C=0.39986711654077656, decision_function_shape=ovo, degree=5, kernel=linear, score=0.7491666666666666, total=  33.6s\n"
     ]
    },
    {
     "name": "stderr",
     "output_type": "stream",
     "text": [
      "[Parallel(n_jobs=-1)]: Done   2 out of   5 | elapsed:   33.6s remaining:   50.4s\n",
      "[Parallel(n_jobs=-1)]: Done   3 out of   5 | elapsed:   33.7s remaining:   22.4s\n"
     ]
    },
    {
     "name": "stdout",
     "output_type": "stream",
     "text": [
      "[CV]  C=0.39986711654077656, decision_function_shape=ovo, degree=5, kernel=linear, score=0.7675, total=  33.8s\n",
      "[CV]  C=0.39986711654077656, decision_function_shape=ovo, degree=5, kernel=linear, score=0.7283333333333334, total=  20.7s\n"
     ]
    },
    {
     "name": "stderr",
     "output_type": "stream",
     "text": [
      "[Parallel(n_jobs=-1)]: Done   5 out of   5 | elapsed:   54.3s remaining:    0.0s\n",
      "[Parallel(n_jobs=-1)]: Done   5 out of   5 | elapsed:   54.3s finished\n"
     ]
    },
    {
     "name": "stdout",
     "output_type": "stream",
     "text": [
      "Fitting 5 folds for each of 1 candidates, totalling 5 fits\n",
      "[CV] C=0.3128635225969935, decision_function_shape=ovo, degree=2, kernel=linear \n",
      "[CV] C=0.3128635225969935, decision_function_shape=ovo, degree=2, kernel=linear \n",
      "[CV] C=0.3128635225969935, decision_function_shape=ovo, degree=2, kernel=linear \n",
      "[CV] C=0.3128635225969935, decision_function_shape=ovo, degree=2, kernel=linear \n",
      "[CV]  C=0.3128635225969935, decision_function_shape=ovo, degree=2, kernel=linear, score=0.745, total=  33.4s\n",
      "[CV] C=0.3128635225969935, decision_function_shape=ovo, degree=2, kernel=linear \n",
      "[CV]  C=0.3128635225969935, decision_function_shape=ovo, degree=2, kernel=linear, score=0.7658333333333334, total=  33.8s\n",
      "[CV]  C=0.3128635225969935, decision_function_shape=ovo, degree=2, kernel=linear, score=0.7291666666666666, total=  33.8s\n",
      "[CV]  C=0.3128635225969935, decision_function_shape=ovo, degree=2, kernel=linear, score=0.7675, total=  33.8s\n"
     ]
    },
    {
     "name": "stderr",
     "output_type": "stream",
     "text": [
      "[Parallel(n_jobs=-1)]: Done   2 out of   5 | elapsed:   33.8s remaining:   50.7s\n",
      "[Parallel(n_jobs=-1)]: Done   3 out of   5 | elapsed:   33.8s remaining:   22.5s\n"
     ]
    },
    {
     "name": "stdout",
     "output_type": "stream",
     "text": [
      "[CV]  C=0.3128635225969935, decision_function_shape=ovo, degree=2, kernel=linear, score=0.7216666666666667, total=  20.7s\n"
     ]
    },
    {
     "name": "stderr",
     "output_type": "stream",
     "text": [
      "[Parallel(n_jobs=-1)]: Done   5 out of   5 | elapsed:   54.2s remaining:    0.0s\n",
      "[Parallel(n_jobs=-1)]: Done   5 out of   5 | elapsed:   54.2s finished\n"
     ]
    },
    {
     "name": "stdout",
     "output_type": "stream",
     "text": [
      "Fitting 5 folds for each of 1 candidates, totalling 5 fits\n",
      "[CV] C=0.411683240034066, decision_function_shape=ovo, degree=5, kernel=linear \n",
      "[CV] C=0.411683240034066, decision_function_shape=ovo, degree=5, kernel=linear \n",
      "[CV] C=0.411683240034066, decision_function_shape=ovo, degree=5, kernel=linear \n",
      "[CV] C=0.411683240034066, decision_function_shape=ovo, degree=5, kernel=linear \n",
      "[CV]  C=0.411683240034066, decision_function_shape=ovo, degree=5, kernel=linear, score=0.7325, total=  33.4s\n",
      "[CV] C=0.411683240034066, decision_function_shape=ovo, degree=5, kernel=linear \n",
      "[CV]  C=0.411683240034066, decision_function_shape=ovo, degree=5, kernel=linear, score=0.7733333333333333, total=  33.5s\n",
      "[CV]  C=0.411683240034066, decision_function_shape=ovo, degree=5, kernel=linear, score=0.7491666666666666, total=  33.6s\n"
     ]
    },
    {
     "name": "stderr",
     "output_type": "stream",
     "text": [
      "[Parallel(n_jobs=-1)]: Done   2 out of   5 | elapsed:   33.6s remaining:   50.4s\n",
      "[Parallel(n_jobs=-1)]: Done   3 out of   5 | elapsed:   33.6s remaining:   22.4s\n"
     ]
    },
    {
     "name": "stdout",
     "output_type": "stream",
     "text": [
      "[CV]  C=0.411683240034066, decision_function_shape=ovo, degree=5, kernel=linear, score=0.7683333333333333, total=  33.6s\n",
      "[CV]  C=0.411683240034066, decision_function_shape=ovo, degree=5, kernel=linear, score=0.7291666666666666, total=  19.9s\n"
     ]
    },
    {
     "name": "stderr",
     "output_type": "stream",
     "text": [
      "[Parallel(n_jobs=-1)]: Done   5 out of   5 | elapsed:   53.5s remaining:    0.0s\n",
      "[Parallel(n_jobs=-1)]: Done   5 out of   5 | elapsed:   53.5s finished\n"
     ]
    },
    {
     "name": "stdout",
     "output_type": "stream",
     "text": [
      "Fitting 5 folds for each of 1 candidates, totalling 5 fits\n",
      "[CV] C=0.36878727757368035, decision_function_shape=ovo, degree=5, kernel=linear \n",
      "[CV] C=0.36878727757368035, decision_function_shape=ovo, degree=5, kernel=linear \n",
      "[CV] C=0.36878727757368035, decision_function_shape=ovo, degree=5, kernel=linear \n",
      "[CV] C=0.36878727757368035, decision_function_shape=ovo, degree=5, kernel=linear \n",
      "[CV]  C=0.36878727757368035, decision_function_shape=ovo, degree=5, kernel=linear, score=0.7333333333333333, total=  33.0s\n",
      "[CV] C=0.36878727757368035, decision_function_shape=ovo, degree=5, kernel=linear \n",
      "[CV]  C=0.36878727757368035, decision_function_shape=ovo, degree=5, kernel=linear, score=0.7708333333333334, total=  33.1s\n"
     ]
    },
    {
     "name": "stderr",
     "output_type": "stream",
     "text": [
      "[Parallel(n_jobs=-1)]: Done   2 out of   5 | elapsed:   33.1s remaining:   49.7s\n"
     ]
    },
    {
     "name": "stdout",
     "output_type": "stream",
     "text": [
      "[CV]  C=0.36878727757368035, decision_function_shape=ovo, degree=5, kernel=linear, score=0.7466666666666667, total=  33.3s\n",
      "[CV]  C=0.36878727757368035, decision_function_shape=ovo, degree=5, kernel=linear, score=0.7675, total=  33.3s\n"
     ]
    },
    {
     "name": "stderr",
     "output_type": "stream",
     "text": [
      "[Parallel(n_jobs=-1)]: Done   3 out of   5 | elapsed:   33.4s remaining:   22.2s\n"
     ]
    },
    {
     "name": "stdout",
     "output_type": "stream",
     "text": [
      "[CV]  C=0.36878727757368035, decision_function_shape=ovo, degree=5, kernel=linear, score=0.725, total=  20.2s\n"
     ]
    },
    {
     "name": "stderr",
     "output_type": "stream",
     "text": [
      "[Parallel(n_jobs=-1)]: Done   5 out of   5 | elapsed:   53.3s remaining:    0.0s\n",
      "[Parallel(n_jobs=-1)]: Done   5 out of   5 | elapsed:   53.3s finished\n"
     ]
    },
    {
     "name": "stdout",
     "output_type": "stream",
     "text": [
      "BayesSearchCV_ET took 2515.97 seconds,  candidates checked: 40, best CV score: 0.757 ± 0.017\n",
      "Best parameters:\n",
      "{'C': 0.6043276944783742,\n",
      " 'decision_function_shape': 'ovo',\n",
      " 'degree': 5,\n",
      " 'kernel': 'linear'}\n",
      "\n",
      "Fitting 5 folds for each of 1 candidates, totalling 5 fits\n",
      "[CV] C=0.823230468444065, decision_function_shape=ovr, degree=2, kernel=rbf \n",
      "[CV] C=0.823230468444065, decision_function_shape=ovr, degree=2, kernel=rbf \n",
      "[CV] C=0.823230468444065, decision_function_shape=ovr, degree=2, kernel=rbf \n",
      "[CV] C=0.823230468444065, decision_function_shape=ovr, degree=2, kernel=rbf \n",
      "[CV]  C=0.823230468444065, decision_function_shape=ovr, degree=2, kernel=rbf, score=0.4666666666666667, total=  51.6s\n",
      "[CV] C=0.823230468444065, decision_function_shape=ovr, degree=2, kernel=rbf \n",
      "[CV]  C=0.823230468444065, decision_function_shape=ovr, degree=2, kernel=rbf, score=0.44916666666666666, total=  51.8s\n",
      "[CV]  C=0.823230468444065, decision_function_shape=ovr, degree=2, kernel=rbf, score=0.4875, total=  51.9s\n",
      "[CV]  C=0.823230468444065, decision_function_shape=ovr, degree=2, kernel=rbf, score=0.43916666666666665, total=  52.0s\n"
     ]
    },
    {
     "name": "stderr",
     "output_type": "stream",
     "text": [
      "[Parallel(n_jobs=-1)]: Done   2 out of   5 | elapsed:   52.0s remaining:  1.3min\n",
      "[Parallel(n_jobs=-1)]: Done   3 out of   5 | elapsed:   52.0s remaining:   34.6s\n"
     ]
    },
    {
     "name": "stdout",
     "output_type": "stream",
     "text": [
      "[CV]  C=0.823230468444065, decision_function_shape=ovr, degree=2, kernel=rbf, score=0.4166666666666667, total=  28.2s\n",
      "Fitting 5 folds for each of 1 candidates, totalling 5 fits\n"
     ]
    },
    {
     "name": "stderr",
     "output_type": "stream",
     "text": [
      "[Parallel(n_jobs=-1)]: Done   5 out of   5 | elapsed:  1.3min remaining:    0.0s\n",
      "[Parallel(n_jobs=-1)]: Done   5 out of   5 | elapsed:  1.3min finished\n"
     ]
    },
    {
     "name": "stdout",
     "output_type": "stream",
     "text": [
      "[CV] C=0.631696770892101, decision_function_shape=ovo, degree=2, kernel=rbf \n",
      "[CV] C=0.631696770892101, decision_function_shape=ovo, degree=2, kernel=rbf \n",
      "[CV] C=0.631696770892101, decision_function_shape=ovo, degree=2, kernel=rbf \n",
      "[CV] C=0.631696770892101, decision_function_shape=ovo, degree=2, kernel=rbf \n",
      "[CV]  C=0.631696770892101, decision_function_shape=ovo, degree=2, kernel=rbf, score=0.4666666666666667, total=  52.6s\n",
      "[CV] C=0.631696770892101, decision_function_shape=ovo, degree=2, kernel=rbf \n",
      "[CV]  C=0.631696770892101, decision_function_shape=ovo, degree=2, kernel=rbf, score=0.43916666666666665, total=  52.8s\n",
      "[CV]  C=0.631696770892101, decision_function_shape=ovo, degree=2, kernel=rbf, score=0.44916666666666666, total=  52.8s\n"
     ]
    },
    {
     "name": "stderr",
     "output_type": "stream",
     "text": [
      "[Parallel(n_jobs=-1)]: Done   2 out of   5 | elapsed:   52.9s remaining:  1.3min\n",
      "[Parallel(n_jobs=-1)]: Done   3 out of   5 | elapsed:   52.9s remaining:   35.3s\n"
     ]
    },
    {
     "name": "stdout",
     "output_type": "stream",
     "text": [
      "[CV]  C=0.631696770892101, decision_function_shape=ovo, degree=2, kernel=rbf, score=0.4875, total=  53.0s\n",
      "[CV]  C=0.631696770892101, decision_function_shape=ovo, degree=2, kernel=rbf, score=0.4166666666666667, total=  28.6s\n",
      "Fitting 5 folds for each of 1 candidates, totalling 5 fits\n"
     ]
    },
    {
     "name": "stderr",
     "output_type": "stream",
     "text": [
      "[Parallel(n_jobs=-1)]: Done   5 out of   5 | elapsed:  1.4min remaining:    0.0s\n",
      "[Parallel(n_jobs=-1)]: Done   5 out of   5 | elapsed:  1.4min finished\n"
     ]
    },
    {
     "name": "stdout",
     "output_type": "stream",
     "text": [
      "[CV] C=0.8121479730770873, decision_function_shape=ovo, degree=2, kernel=rbf \n",
      "[CV] C=0.8121479730770873, decision_function_shape=ovo, degree=2, kernel=rbf \n",
      "[CV] C=0.8121479730770873, decision_function_shape=ovo, degree=2, kernel=rbf \n",
      "[CV] C=0.8121479730770873, decision_function_shape=ovo, degree=2, kernel=rbf \n",
      "[CV]  C=0.8121479730770873, decision_function_shape=ovo, degree=2, kernel=rbf, score=0.4875, total=  48.9s\n",
      "[CV] C=0.8121479730770873, decision_function_shape=ovo, degree=2, kernel=rbf \n",
      "[CV]  C=0.8121479730770873, decision_function_shape=ovo, degree=2, kernel=rbf, score=0.4666666666666667, total=  49.2s\n",
      "[CV]  C=0.8121479730770873, decision_function_shape=ovo, degree=2, kernel=rbf, score=0.43916666666666665, total=  49.3s\n"
     ]
    },
    {
     "name": "stderr",
     "output_type": "stream",
     "text": [
      "[Parallel(n_jobs=-1)]: Done   2 out of   5 | elapsed:   49.2s remaining:  1.2min\n",
      "[Parallel(n_jobs=-1)]: Done   3 out of   5 | elapsed:   49.3s remaining:   32.9s\n"
     ]
    },
    {
     "name": "stdout",
     "output_type": "stream",
     "text": [
      "[CV]  C=0.8121479730770873, decision_function_shape=ovo, degree=2, kernel=rbf, score=0.44916666666666666, total=  49.3s\n",
      "[CV]  C=0.8121479730770873, decision_function_shape=ovo, degree=2, kernel=rbf, score=0.4166666666666667, total=  28.2s\n",
      "Fitting 5 folds for each of 1 candidates, totalling 5 fits\n"
     ]
    },
    {
     "name": "stderr",
     "output_type": "stream",
     "text": [
      "[Parallel(n_jobs=-1)]: Done   5 out of   5 | elapsed:  1.3min remaining:    0.0s\n",
      "[Parallel(n_jobs=-1)]: Done   5 out of   5 | elapsed:  1.3min finished\n"
     ]
    },
    {
     "name": "stdout",
     "output_type": "stream",
     "text": [
      "[CV] C=0.9037583196860999, decision_function_shape=ovr, degree=5, kernel=poly \n",
      "[CV] C=0.9037583196860999, decision_function_shape=ovr, degree=5, kernel=poly \n",
      "[CV] C=0.9037583196860999, decision_function_shape=ovr, degree=5, kernel=poly \n",
      "[CV] C=0.9037583196860999, decision_function_shape=ovr, degree=5, kernel=poly \n",
      "[CV]  C=0.9037583196860999, decision_function_shape=ovr, degree=5, kernel=poly, score=0.6591666666666667, total=  46.1s\n",
      "[CV] C=0.9037583196860999, decision_function_shape=ovr, degree=5, kernel=poly \n",
      "[CV]  C=0.9037583196860999, decision_function_shape=ovr, degree=5, kernel=poly, score=0.67, total=  46.5s\n",
      "[CV]  C=0.9037583196860999, decision_function_shape=ovr, degree=5, kernel=poly, score=0.6483333333333333, total=  46.5s\n",
      "[CV]  C=0.9037583196860999, decision_function_shape=ovr, degree=5, kernel=poly, score=0.6808333333333333, total=  46.5s\n"
     ]
    },
    {
     "name": "stderr",
     "output_type": "stream",
     "text": [
      "[Parallel(n_jobs=-1)]: Done   2 out of   5 | elapsed:   46.5s remaining:  1.2min\n",
      "[Parallel(n_jobs=-1)]: Done   3 out of   5 | elapsed:   46.5s remaining:   31.0s\n"
     ]
    },
    {
     "name": "stdout",
     "output_type": "stream",
     "text": [
      "[CV]  C=0.9037583196860999, decision_function_shape=ovr, degree=5, kernel=poly, score=0.6533333333333333, total=  26.4s\n",
      "Fitting 5 folds for each of 1 candidates, totalling 5 fits\n"
     ]
    },
    {
     "name": "stderr",
     "output_type": "stream",
     "text": [
      "[Parallel(n_jobs=-1)]: Done   5 out of   5 | elapsed:  1.2min remaining:    0.0s\n",
      "[Parallel(n_jobs=-1)]: Done   5 out of   5 | elapsed:  1.2min finished\n"
     ]
    },
    {
     "name": "stdout",
     "output_type": "stream",
     "text": [
      "[CV] C=0.13555620343854213, decision_function_shape=ovr, degree=3, kernel=rbf \n",
      "[CV] C=0.13555620343854213, decision_function_shape=ovr, degree=3, kernel=rbf \n",
      "[CV] C=0.13555620343854213, decision_function_shape=ovr, degree=3, kernel=rbf \n",
      "[CV] C=0.13555620343854213, decision_function_shape=ovr, degree=3, kernel=rbf \n",
      "[CV]  C=0.13555620343854213, decision_function_shape=ovr, degree=3, kernel=rbf, score=0.43916666666666665, total=  50.1s\n",
      "[CV] C=0.13555620343854213, decision_function_shape=ovr, degree=3, kernel=rbf \n",
      "[CV]  C=0.13555620343854213, decision_function_shape=ovr, degree=3, kernel=rbf, score=0.4875, total=  50.3s\n",
      "[CV]  C=0.13555620343854213, decision_function_shape=ovr, degree=3, kernel=rbf, score=0.4666666666666667, total=  50.4s\n"
     ]
    },
    {
     "name": "stderr",
     "output_type": "stream",
     "text": [
      "[Parallel(n_jobs=-1)]: Done   2 out of   5 | elapsed:   50.3s remaining:  1.3min\n",
      "[Parallel(n_jobs=-1)]: Done   3 out of   5 | elapsed:   50.4s remaining:   33.6s\n"
     ]
    },
    {
     "name": "stdout",
     "output_type": "stream",
     "text": [
      "[CV]  C=0.13555620343854213, decision_function_shape=ovr, degree=3, kernel=rbf, score=0.44916666666666666, total=  50.6s\n",
      "[CV]  C=0.13555620343854213, decision_function_shape=ovr, degree=3, kernel=rbf, score=0.4166666666666667, total=  28.2s\n",
      "Fitting 5 folds for each of 1 candidates, totalling 5 fits\n"
     ]
    },
    {
     "name": "stderr",
     "output_type": "stream",
     "text": [
      "[Parallel(n_jobs=-1)]: Done   5 out of   5 | elapsed:  1.3min remaining:    0.0s\n",
      "[Parallel(n_jobs=-1)]: Done   5 out of   5 | elapsed:  1.3min finished\n"
     ]
    },
    {
     "name": "stdout",
     "output_type": "stream",
     "text": [
      "[CV] C=0.4730432715359454, decision_function_shape=ovo, degree=5, kernel=poly \n",
      "[CV] C=0.4730432715359454, decision_function_shape=ovo, degree=5, kernel=poly \n",
      "[CV] C=0.4730432715359454, decision_function_shape=ovo, degree=5, kernel=poly \n",
      "[CV] C=0.4730432715359454, decision_function_shape=ovo, degree=5, kernel=poly \n",
      "[CV]  C=0.4730432715359454, decision_function_shape=ovo, degree=5, kernel=poly, score=0.6483333333333333, total=  45.7s\n",
      "[CV] C=0.4730432715359454, decision_function_shape=ovo, degree=5, kernel=poly \n",
      "[CV]  C=0.4730432715359454, decision_function_shape=ovo, degree=5, kernel=poly, score=0.67, total=  46.2s\n",
      "[CV]  C=0.4730432715359454, decision_function_shape=ovo, degree=5, kernel=poly, score=0.6591666666666667, total=  46.2s\n"
     ]
    },
    {
     "name": "stderr",
     "output_type": "stream",
     "text": [
      "[Parallel(n_jobs=-1)]: Done   2 out of   5 | elapsed:   46.2s remaining:  1.2min\n",
      "[Parallel(n_jobs=-1)]: Done   3 out of   5 | elapsed:   46.3s remaining:   30.9s\n"
     ]
    },
    {
     "name": "stdout",
     "output_type": "stream",
     "text": [
      "[CV]  C=0.4730432715359454, decision_function_shape=ovo, degree=5, kernel=poly, score=0.6808333333333333, total=  46.3s\n",
      "[CV]  C=0.4730432715359454, decision_function_shape=ovo, degree=5, kernel=poly, score=0.6533333333333333, total=  26.5s\n",
      "Fitting 5 folds for each of 1 candidates, totalling 5 fits\n"
     ]
    },
    {
     "name": "stderr",
     "output_type": "stream",
     "text": [
      "[Parallel(n_jobs=-1)]: Done   5 out of   5 | elapsed:  1.2min remaining:    0.0s\n",
      "[Parallel(n_jobs=-1)]: Done   5 out of   5 | elapsed:  1.2min finished\n"
     ]
    },
    {
     "name": "stdout",
     "output_type": "stream",
     "text": [
      "[CV] C=0.6414344635182291, decision_function_shape=ovo, degree=5, kernel=rbf \n",
      "[CV] C=0.6414344635182291, decision_function_shape=ovo, degree=5, kernel=rbf \n",
      "[CV] C=0.6414344635182291, decision_function_shape=ovo, degree=5, kernel=rbf \n",
      "[CV] C=0.6414344635182291, decision_function_shape=ovo, degree=5, kernel=rbf \n",
      "[CV]  C=0.6414344635182291, decision_function_shape=ovo, degree=5, kernel=rbf, score=0.43916666666666665, total=  49.9s\n",
      "[CV] C=0.6414344635182291, decision_function_shape=ovo, degree=5, kernel=rbf \n",
      "[CV]  C=0.6414344635182291, decision_function_shape=ovo, degree=5, kernel=rbf, score=0.4666666666666667, total=  50.1s\n",
      "[CV]  C=0.6414344635182291, decision_function_shape=ovo, degree=5, kernel=rbf, score=0.44916666666666666, total=  50.2s\n"
     ]
    },
    {
     "name": "stderr",
     "output_type": "stream",
     "text": [
      "[Parallel(n_jobs=-1)]: Done   2 out of   5 | elapsed:   50.2s remaining:  1.3min\n",
      "[Parallel(n_jobs=-1)]: Done   3 out of   5 | elapsed:   50.3s remaining:   33.5s\n"
     ]
    },
    {
     "name": "stdout",
     "output_type": "stream",
     "text": [
      "[CV]  C=0.6414344635182291, decision_function_shape=ovo, degree=5, kernel=rbf, score=0.4875, total=  50.3s\n",
      "[CV]  C=0.6414344635182291, decision_function_shape=ovo, degree=5, kernel=rbf, score=0.4166666666666667, total=  29.0s\n",
      "Fitting 5 folds for each of 1 candidates, totalling 5 fits\n"
     ]
    },
    {
     "name": "stderr",
     "output_type": "stream",
     "text": [
      "[Parallel(n_jobs=-1)]: Done   5 out of   5 | elapsed:  1.3min remaining:    0.0s\n",
      "[Parallel(n_jobs=-1)]: Done   5 out of   5 | elapsed:  1.3min finished\n"
     ]
    },
    {
     "name": "stdout",
     "output_type": "stream",
     "text": [
      "[CV] C=0.7593579035590942, decision_function_shape=ovr, degree=2, kernel=linear \n",
      "[CV] C=0.7593579035590942, decision_function_shape=ovr, degree=2, kernel=linear \n",
      "[CV] C=0.7593579035590942, decision_function_shape=ovr, degree=2, kernel=linear \n",
      "[CV] C=0.7593579035590942, decision_function_shape=ovr, degree=2, kernel=linear \n",
      "[CV]  C=0.7593579035590942, decision_function_shape=ovr, degree=2, kernel=linear, score=0.7558333333333334, total=  30.4s\n",
      "[CV] C=0.7593579035590942, decision_function_shape=ovr, degree=2, kernel=linear \n",
      "[CV]  C=0.7593579035590942, decision_function_shape=ovr, degree=2, kernel=linear, score=0.7366666666666667, total=  30.7s\n",
      "[CV]  C=0.7593579035590942, decision_function_shape=ovr, degree=2, kernel=linear, score=0.7716666666666666, total=  30.8s\n"
     ]
    },
    {
     "name": "stderr",
     "output_type": "stream",
     "text": [
      "[Parallel(n_jobs=-1)]: Done   2 out of   5 | elapsed:   30.8s remaining:   46.1s\n",
      "[Parallel(n_jobs=-1)]: Done   3 out of   5 | elapsed:   30.8s remaining:   20.5s\n"
     ]
    },
    {
     "name": "stdout",
     "output_type": "stream",
     "text": [
      "[CV]  C=0.7593579035590942, decision_function_shape=ovr, degree=2, kernel=linear, score=0.7708333333333334, total=  31.0s\n",
      "[CV]  C=0.7593579035590942, decision_function_shape=ovr, degree=2, kernel=linear, score=0.7358333333333333, total=  18.9s\n",
      "Fitting 5 folds for each of 1 candidates, totalling 5 fits\n"
     ]
    },
    {
     "name": "stderr",
     "output_type": "stream",
     "text": [
      "[Parallel(n_jobs=-1)]: Done   5 out of   5 | elapsed:   49.4s remaining:    0.0s\n",
      "[Parallel(n_jobs=-1)]: Done   5 out of   5 | elapsed:   49.4s finished\n"
     ]
    },
    {
     "name": "stdout",
     "output_type": "stream",
     "text": [
      "[CV] C=0.32908711718944217, decision_function_shape=ovo, degree=2, kernel=rbf \n",
      "[CV] C=0.32908711718944217, decision_function_shape=ovo, degree=2, kernel=rbf \n",
      "[CV] C=0.32908711718944217, decision_function_shape=ovo, degree=2, kernel=rbf \n",
      "[CV] C=0.32908711718944217, decision_function_shape=ovo, degree=2, kernel=rbf \n",
      "[CV]  C=0.32908711718944217, decision_function_shape=ovo, degree=2, kernel=rbf, score=0.4875, total=  49.9s\n",
      "[CV] C=0.32908711718944217, decision_function_shape=ovo, degree=2, kernel=rbf \n",
      "[CV]  C=0.32908711718944217, decision_function_shape=ovo, degree=2, kernel=rbf, score=0.4666666666666667, total=  50.6s\n",
      "[CV]  C=0.32908711718944217, decision_function_shape=ovo, degree=2, kernel=rbf, score=0.44916666666666666, total=  50.8s\n"
     ]
    },
    {
     "name": "stderr",
     "output_type": "stream",
     "text": [
      "[Parallel(n_jobs=-1)]: Done   2 out of   5 | elapsed:   50.7s remaining:  1.3min\n",
      "[Parallel(n_jobs=-1)]: Done   3 out of   5 | elapsed:   50.9s remaining:   33.9s\n"
     ]
    },
    {
     "name": "stdout",
     "output_type": "stream",
     "text": [
      "[CV]  C=0.32908711718944217, decision_function_shape=ovo, degree=2, kernel=rbf, score=0.43916666666666665, total=  50.9s\n",
      "[CV]  C=0.32908711718944217, decision_function_shape=ovo, degree=2, kernel=rbf, score=0.4166666666666667, total=  28.4s\n",
      "Fitting 5 folds for each of 1 candidates, totalling 5 fits\n"
     ]
    },
    {
     "name": "stderr",
     "output_type": "stream",
     "text": [
      "[Parallel(n_jobs=-1)]: Done   5 out of   5 | elapsed:  1.3min remaining:    0.0s\n",
      "[Parallel(n_jobs=-1)]: Done   5 out of   5 | elapsed:  1.3min finished\n"
     ]
    },
    {
     "name": "stdout",
     "output_type": "stream",
     "text": [
      "[CV] C=0.9991251139603244, decision_function_shape=ovo, degree=2, kernel=rbf \n",
      "[CV] C=0.9991251139603244, decision_function_shape=ovo, degree=2, kernel=rbf \n",
      "[CV] C=0.9991251139603244, decision_function_shape=ovo, degree=2, kernel=rbf \n",
      "[CV] C=0.9991251139603244, decision_function_shape=ovo, degree=2, kernel=rbf \n",
      "[CV]  C=0.9991251139603244, decision_function_shape=ovo, degree=2, kernel=rbf, score=0.44916666666666666, total=  50.5s\n",
      "[CV] C=0.9991251139603244, decision_function_shape=ovo, degree=2, kernel=rbf \n",
      "[CV]  C=0.9991251139603244, decision_function_shape=ovo, degree=2, kernel=rbf, score=0.4875, total=  50.6s\n",
      "[CV]  C=0.9991251139603244, decision_function_shape=ovo, degree=2, kernel=rbf, score=0.4666666666666667, total=  50.7s\n",
      "[CV]  C=0.9991251139603244, decision_function_shape=ovo, degree=2, kernel=rbf, score=0.43916666666666665, total=  50.7s\n"
     ]
    },
    {
     "name": "stderr",
     "output_type": "stream",
     "text": [
      "[Parallel(n_jobs=-1)]: Done   2 out of   5 | elapsed:   50.7s remaining:  1.3min\n",
      "[Parallel(n_jobs=-1)]: Done   3 out of   5 | elapsed:   50.7s remaining:   33.8s\n"
     ]
    },
    {
     "name": "stdout",
     "output_type": "stream",
     "text": [
      "[CV]  C=0.9991251139603244, decision_function_shape=ovo, degree=2, kernel=rbf, score=0.4166666666666667, total=  28.1s\n"
     ]
    },
    {
     "name": "stderr",
     "output_type": "stream",
     "text": [
      "[Parallel(n_jobs=-1)]: Done   5 out of   5 | elapsed:  1.3min remaining:    0.0s\n",
      "[Parallel(n_jobs=-1)]: Done   5 out of   5 | elapsed:  1.3min finished\n"
     ]
    },
    {
     "name": "stdout",
     "output_type": "stream",
     "text": [
      "Fitting 5 folds for each of 1 candidates, totalling 5 fits\n",
      "[CV] C=0.5519145686879314, decision_function_shape=ovo, degree=3, kernel=linear \n",
      "[CV] C=0.5519145686879314, decision_function_shape=ovo, degree=3, kernel=linear \n",
      "[CV] C=0.5519145686879314, decision_function_shape=ovo, degree=3, kernel=linear \n",
      "[CV] C=0.5519145686879314, decision_function_shape=ovo, degree=3, kernel=linear \n",
      "[CV]  C=0.5519145686879314, decision_function_shape=ovo, degree=3, kernel=linear, score=0.7775, total=  32.7s\n",
      "[CV] C=0.5519145686879314, decision_function_shape=ovo, degree=3, kernel=linear \n",
      "[CV]  C=0.5519145686879314, decision_function_shape=ovo, degree=3, kernel=linear, score=0.7591666666666667, total=  33.0s\n"
     ]
    },
    {
     "name": "stderr",
     "output_type": "stream",
     "text": [
      "[Parallel(n_jobs=-1)]: Done   2 out of   5 | elapsed:   33.1s remaining:   49.6s\n"
     ]
    },
    {
     "name": "stdout",
     "output_type": "stream",
     "text": [
      "[CV]  C=0.5519145686879314, decision_function_shape=ovo, degree=3, kernel=linear, score=0.7375, total=  33.4s\n",
      "[CV]  C=0.5519145686879314, decision_function_shape=ovo, degree=3, kernel=linear, score=0.7733333333333333, total=  33.5s\n"
     ]
    },
    {
     "name": "stderr",
     "output_type": "stream",
     "text": [
      "[Parallel(n_jobs=-1)]: Done   3 out of   5 | elapsed:   33.5s remaining:   22.3s\n"
     ]
    },
    {
     "name": "stdout",
     "output_type": "stream",
     "text": [
      "[CV]  C=0.5519145686879314, decision_function_shape=ovo, degree=3, kernel=linear, score=0.7366666666666667, total=  19.6s\n"
     ]
    },
    {
     "name": "stderr",
     "output_type": "stream",
     "text": [
      "[Parallel(n_jobs=-1)]: Done   5 out of   5 | elapsed:   52.3s remaining:    0.0s\n",
      "[Parallel(n_jobs=-1)]: Done   5 out of   5 | elapsed:   52.3s finished\n"
     ]
    },
    {
     "name": "stdout",
     "output_type": "stream",
     "text": [
      "Fitting 5 folds for each of 1 candidates, totalling 5 fits\n",
      "[CV] C=0.842699047460744, decision_function_shape=ovr, degree=3, kernel=linear \n",
      "[CV] C=0.842699047460744, decision_function_shape=ovr, degree=3, kernel=linear \n",
      "[CV] C=0.842699047460744, decision_function_shape=ovr, degree=3, kernel=linear \n",
      "[CV] C=0.842699047460744, decision_function_shape=ovr, degree=3, kernel=linear \n",
      "[CV]  C=0.842699047460744, decision_function_shape=ovr, degree=3, kernel=linear, score=0.7591666666666667, total=  32.6s\n",
      "[CV] C=0.842699047460744, decision_function_shape=ovr, degree=3, kernel=linear \n",
      "[CV]  C=0.842699047460744, decision_function_shape=ovr, degree=3, kernel=linear, score=0.775, total=  32.7s\n",
      "[CV]  C=0.842699047460744, decision_function_shape=ovr, degree=3, kernel=linear, score=0.7358333333333333, total=  32.8s\n",
      "[CV]  C=0.842699047460744, decision_function_shape=ovr, degree=3, kernel=linear, score=0.7683333333333333, total=  32.8s\n"
     ]
    },
    {
     "name": "stderr",
     "output_type": "stream",
     "text": [
      "[Parallel(n_jobs=-1)]: Done   2 out of   5 | elapsed:   32.7s remaining:   49.1s\n",
      "[Parallel(n_jobs=-1)]: Done   3 out of   5 | elapsed:   32.9s remaining:   21.9s\n"
     ]
    },
    {
     "name": "stdout",
     "output_type": "stream",
     "text": [
      "[CV]  C=0.842699047460744, decision_function_shape=ovr, degree=3, kernel=linear, score=0.7366666666666667, total=  18.6s\n"
     ]
    },
    {
     "name": "stderr",
     "output_type": "stream",
     "text": [
      "[Parallel(n_jobs=-1)]: Done   5 out of   5 | elapsed:   51.3s remaining:    0.0s\n",
      "[Parallel(n_jobs=-1)]: Done   5 out of   5 | elapsed:   51.3s finished\n"
     ]
    },
    {
     "name": "stdout",
     "output_type": "stream",
     "text": [
      "Fitting 5 folds for each of 1 candidates, totalling 5 fits\n",
      "[CV] C=0.24329954333429094, decision_function_shape=ovr, degree=3, kernel=linear \n",
      "[CV] C=0.24329954333429094, decision_function_shape=ovr, degree=3, kernel=linear \n",
      "[CV] C=0.24329954333429094, decision_function_shape=ovr, degree=3, kernel=linear \n",
      "[CV] C=0.24329954333429094, decision_function_shape=ovr, degree=3, kernel=linear \n",
      "[CV]  C=0.24329954333429094, decision_function_shape=ovr, degree=3, kernel=linear, score=0.7291666666666666, total=  37.4s\n",
      "[CV] C=0.24329954333429094, decision_function_shape=ovr, degree=3, kernel=linear \n",
      "[CV]  C=0.24329954333429094, decision_function_shape=ovr, degree=3, kernel=linear, score=0.7291666666666666, total=  37.8s\n",
      "[CV]  C=0.24329954333429094, decision_function_shape=ovr, degree=3, kernel=linear, score=0.755, total=  37.9s\n"
     ]
    },
    {
     "name": "stderr",
     "output_type": "stream",
     "text": [
      "[Parallel(n_jobs=-1)]: Done   2 out of   5 | elapsed:   37.8s remaining:   56.8s\n",
      "[Parallel(n_jobs=-1)]: Done   3 out of   5 | elapsed:   37.9s remaining:   25.3s\n"
     ]
    },
    {
     "name": "stdout",
     "output_type": "stream",
     "text": [
      "[CV]  C=0.24329954333429094, decision_function_shape=ovr, degree=3, kernel=linear, score=0.7608333333333334, total=  38.0s\n",
      "[CV]  C=0.24329954333429094, decision_function_shape=ovr, degree=3, kernel=linear, score=0.7233333333333334, total=  21.5s\n"
     ]
    },
    {
     "name": "stderr",
     "output_type": "stream",
     "text": [
      "[Parallel(n_jobs=-1)]: Done   5 out of   5 | elapsed:   59.0s remaining:    0.0s\n",
      "[Parallel(n_jobs=-1)]: Done   5 out of   5 | elapsed:   59.0s finished\n"
     ]
    },
    {
     "name": "stdout",
     "output_type": "stream",
     "text": [
      "Fitting 5 folds for each of 1 candidates, totalling 5 fits\n",
      "[CV] C=0.3993001527026588, decision_function_shape=ovo, degree=3, kernel=linear \n",
      "[CV] C=0.3993001527026588, decision_function_shape=ovo, degree=3, kernel=linear \n",
      "[CV] C=0.3993001527026588, decision_function_shape=ovo, degree=3, kernel=linear \n",
      "[CV] C=0.3993001527026588, decision_function_shape=ovo, degree=3, kernel=linear \n",
      "[CV]  C=0.3993001527026588, decision_function_shape=ovo, degree=3, kernel=linear, score=0.7491666666666666, total=  33.2s\n",
      "[CV] C=0.3993001527026588, decision_function_shape=ovo, degree=3, kernel=linear \n",
      "[CV]  C=0.3993001527026588, decision_function_shape=ovo, degree=3, kernel=linear, score=0.7341666666666666, total=  33.4s\n"
     ]
    },
    {
     "name": "stderr",
     "output_type": "stream",
     "text": [
      "[Parallel(n_jobs=-1)]: Done   2 out of   5 | elapsed:   33.5s remaining:   50.2s\n"
     ]
    },
    {
     "name": "stdout",
     "output_type": "stream",
     "text": [
      "[CV]  C=0.3993001527026588, decision_function_shape=ovo, degree=3, kernel=linear, score=0.7733333333333333, total=  33.7s\n"
     ]
    },
    {
     "name": "stderr",
     "output_type": "stream",
     "text": [
      "[Parallel(n_jobs=-1)]: Done   3 out of   5 | elapsed:   33.7s remaining:   22.5s\n"
     ]
    },
    {
     "name": "stdout",
     "output_type": "stream",
     "text": [
      "[CV]  C=0.3993001527026588, decision_function_shape=ovo, degree=3, kernel=linear, score=0.7666666666666667, total=  33.8s\n",
      "[CV]  C=0.3993001527026588, decision_function_shape=ovo, degree=3, kernel=linear, score=0.7291666666666666, total=  20.1s\n"
     ]
    },
    {
     "name": "stderr",
     "output_type": "stream",
     "text": [
      "[Parallel(n_jobs=-1)]: Done   5 out of   5 | elapsed:   53.4s remaining:    0.0s\n",
      "[Parallel(n_jobs=-1)]: Done   5 out of   5 | elapsed:   53.4s finished\n"
     ]
    },
    {
     "name": "stdout",
     "output_type": "stream",
     "text": [
      "Fitting 5 folds for each of 1 candidates, totalling 5 fits\n",
      "[CV] C=0.5368135471162405, decision_function_shape=ovr, degree=3, kernel=linear \n",
      "[CV] C=0.5368135471162405, decision_function_shape=ovr, degree=3, kernel=linear \n",
      "[CV] C=0.5368135471162405, decision_function_shape=ovr, degree=3, kernel=linear \n",
      "[CV] C=0.5368135471162405, decision_function_shape=ovr, degree=3, kernel=linear \n",
      "[CV]  C=0.5368135471162405, decision_function_shape=ovr, degree=3, kernel=linear, score=0.76, total=  31.8s\n",
      "[CV] C=0.5368135471162405, decision_function_shape=ovr, degree=3, kernel=linear \n",
      "[CV]  C=0.5368135471162405, decision_function_shape=ovr, degree=3, kernel=linear, score=0.7791666666666667, total=  31.8s\n",
      "[CV]  C=0.5368135471162405, decision_function_shape=ovr, degree=3, kernel=linear, score=0.7375, total=  31.9s\n"
     ]
    },
    {
     "name": "stderr",
     "output_type": "stream",
     "text": [
      "[Parallel(n_jobs=-1)]: Done   2 out of   5 | elapsed:   31.9s remaining:   47.8s\n",
      "[Parallel(n_jobs=-1)]: Done   3 out of   5 | elapsed:   32.0s remaining:   21.3s\n"
     ]
    },
    {
     "name": "stdout",
     "output_type": "stream",
     "text": [
      "[CV]  C=0.5368135471162405, decision_function_shape=ovr, degree=3, kernel=linear, score=0.7716666666666666, total=  32.2s\n",
      "[CV]  C=0.5368135471162405, decision_function_shape=ovr, degree=3, kernel=linear, score=0.7358333333333333, total=  19.4s\n"
     ]
    },
    {
     "name": "stderr",
     "output_type": "stream",
     "text": [
      "[Parallel(n_jobs=-1)]: Done   5 out of   5 | elapsed:   51.3s remaining:    0.0s\n",
      "[Parallel(n_jobs=-1)]: Done   5 out of   5 | elapsed:   51.3s finished\n"
     ]
    },
    {
     "name": "stdout",
     "output_type": "stream",
     "text": [
      "Fitting 5 folds for each of 1 candidates, totalling 5 fits\n",
      "[CV] C=0.6784889331400508, decision_function_shape=ovo, degree=3, kernel=linear \n",
      "[CV] C=0.6784889331400508, decision_function_shape=ovo, degree=3, kernel=linear \n",
      "[CV] C=0.6784889331400508, decision_function_shape=ovo, degree=3, kernel=linear \n",
      "[CV] C=0.6784889331400508, decision_function_shape=ovo, degree=3, kernel=linear \n",
      "[CV]  C=0.6784889331400508, decision_function_shape=ovo, degree=3, kernel=linear, score=0.7575, total=  32.4s\n",
      "[CV] C=0.6784889331400508, decision_function_shape=ovo, degree=3, kernel=linear \n",
      "[CV]  C=0.6784889331400508, decision_function_shape=ovo, degree=3, kernel=linear, score=0.7408333333333333, total=  32.4s\n",
      "[CV]  C=0.6784889331400508, decision_function_shape=ovo, degree=3, kernel=linear, score=0.7733333333333333, total=  32.5s\n"
     ]
    },
    {
     "name": "stderr",
     "output_type": "stream",
     "text": [
      "[Parallel(n_jobs=-1)]: Done   2 out of   5 | elapsed:   32.5s remaining:   48.8s\n",
      "[Parallel(n_jobs=-1)]: Done   3 out of   5 | elapsed:   32.5s remaining:   21.7s\n"
     ]
    },
    {
     "name": "stdout",
     "output_type": "stream",
     "text": [
      "[CV]  C=0.6784889331400508, decision_function_shape=ovo, degree=3, kernel=linear, score=0.7741666666666667, total=  32.6s\n",
      "[CV]  C=0.6784889331400508, decision_function_shape=ovo, degree=3, kernel=linear, score=0.7366666666666667, total=  18.9s\n"
     ]
    },
    {
     "name": "stderr",
     "output_type": "stream",
     "text": [
      "[Parallel(n_jobs=-1)]: Done   5 out of   5 | elapsed:   51.3s remaining:    0.0s\n",
      "[Parallel(n_jobs=-1)]: Done   5 out of   5 | elapsed:   51.3s finished\n"
     ]
    },
    {
     "name": "stdout",
     "output_type": "stream",
     "text": [
      "Fitting 5 folds for each of 1 candidates, totalling 5 fits\n",
      "[CV] C=0.675542185835221, decision_function_shape=ovr, degree=3, kernel=linear \n",
      "[CV] C=0.675542185835221, decision_function_shape=ovr, degree=3, kernel=linear \n",
      "[CV] C=0.675542185835221, decision_function_shape=ovr, degree=3, kernel=linear \n",
      "[CV] C=0.675542185835221, decision_function_shape=ovr, degree=3, kernel=linear \n",
      "[CV]  C=0.675542185835221, decision_function_shape=ovr, degree=3, kernel=linear, score=0.7733333333333333, total=  31.8s\n",
      "[CV] C=0.675542185835221, decision_function_shape=ovr, degree=3, kernel=linear \n",
      "[CV]  C=0.675542185835221, decision_function_shape=ovr, degree=3, kernel=linear, score=0.7575, total=  31.9s\n"
     ]
    },
    {
     "name": "stderr",
     "output_type": "stream",
     "text": [
      "[Parallel(n_jobs=-1)]: Done   2 out of   5 | elapsed:   31.9s remaining:   47.9s\n"
     ]
    },
    {
     "name": "stdout",
     "output_type": "stream",
     "text": [
      "[CV]  C=0.675542185835221, decision_function_shape=ovr, degree=3, kernel=linear, score=0.7416666666666667, total=  32.2s\n",
      "[CV]  C=0.675542185835221, decision_function_shape=ovr, degree=3, kernel=linear, score=0.7733333333333333, total=  32.3s\n"
     ]
    },
    {
     "name": "stderr",
     "output_type": "stream",
     "text": [
      "[Parallel(n_jobs=-1)]: Done   3 out of   5 | elapsed:   32.3s remaining:   21.5s\n"
     ]
    },
    {
     "name": "stdout",
     "output_type": "stream",
     "text": [
      "[CV]  C=0.675542185835221, decision_function_shape=ovr, degree=3, kernel=linear, score=0.7366666666666667, total=  19.1s\n"
     ]
    },
    {
     "name": "stderr",
     "output_type": "stream",
     "text": [
      "[Parallel(n_jobs=-1)]: Done   5 out of   5 | elapsed:   51.0s remaining:    0.0s\n",
      "[Parallel(n_jobs=-1)]: Done   5 out of   5 | elapsed:   51.0s finished\n"
     ]
    },
    {
     "name": "stdout",
     "output_type": "stream",
     "text": [
      "Fitting 5 folds for each of 1 candidates, totalling 5 fits\n",
      "[CV] C=0.5896335768555114, decision_function_shape=ovo, degree=3, kernel=linear \n",
      "[CV] C=0.5896335768555114, decision_function_shape=ovo, degree=3, kernel=linear \n",
      "[CV] C=0.5896335768555114, decision_function_shape=ovo, degree=3, kernel=linear \n",
      "[CV] C=0.5896335768555114, decision_function_shape=ovo, degree=3, kernel=linear \n",
      "[CV]  C=0.5896335768555114, decision_function_shape=ovo, degree=3, kernel=linear, score=0.7766666666666666, total=  30.6s\n",
      "[CV] C=0.5896335768555114, decision_function_shape=ovo, degree=3, kernel=linear \n",
      "[CV]  C=0.5896335768555114, decision_function_shape=ovo, degree=3, kernel=linear, score=0.7625, total=  30.6s\n"
     ]
    },
    {
     "name": "stderr",
     "output_type": "stream",
     "text": [
      "[Parallel(n_jobs=-1)]: Done   2 out of   5 | elapsed:   30.7s remaining:   46.0s\n"
     ]
    },
    {
     "name": "stdout",
     "output_type": "stream",
     "text": [
      "[CV]  C=0.5896335768555114, decision_function_shape=ovo, degree=3, kernel=linear, score=0.7375, total=  30.9s\n"
     ]
    },
    {
     "name": "stderr",
     "output_type": "stream",
     "text": [
      "[Parallel(n_jobs=-1)]: Done   3 out of   5 | elapsed:   31.0s remaining:   20.7s\n"
     ]
    },
    {
     "name": "stdout",
     "output_type": "stream",
     "text": [
      "[CV]  C=0.5896335768555114, decision_function_shape=ovo, degree=3, kernel=linear, score=0.7716666666666666, total=  31.1s\n",
      "[CV]  C=0.5896335768555114, decision_function_shape=ovo, degree=3, kernel=linear, score=0.7366666666666667, total=  19.2s\n"
     ]
    },
    {
     "name": "stderr",
     "output_type": "stream",
     "text": [
      "[Parallel(n_jobs=-1)]: Done   5 out of   5 | elapsed:   49.9s remaining:    0.0s\n",
      "[Parallel(n_jobs=-1)]: Done   5 out of   5 | elapsed:   49.9s finished\n"
     ]
    },
    {
     "name": "stdout",
     "output_type": "stream",
     "text": [
      "Fitting 5 folds for each of 1 candidates, totalling 5 fits\n",
      "[CV] C=0.5806439996825818, decision_function_shape=ovr, degree=3, kernel=linear \n",
      "[CV] C=0.5806439996825818, decision_function_shape=ovr, degree=3, kernel=linear \n",
      "[CV] C=0.5806439996825818, decision_function_shape=ovr, degree=3, kernel=linear \n",
      "[CV] C=0.5806439996825818, decision_function_shape=ovr, degree=3, kernel=linear \n",
      "[CV]  C=0.5806439996825818, decision_function_shape=ovr, degree=3, kernel=linear, score=0.76, total=  30.8s\n",
      "[CV] C=0.5806439996825818, decision_function_shape=ovr, degree=3, kernel=linear \n",
      "[CV]  C=0.5806439996825818, decision_function_shape=ovr, degree=3, kernel=linear, score=0.7775, total=  31.2s\n",
      "[CV]  C=0.5806439996825818, decision_function_shape=ovr, degree=3, kernel=linear, score=0.7366666666666667, total=  31.3s\n",
      "[CV]  C=0.5806439996825818, decision_function_shape=ovr, degree=3, kernel=linear, score=0.7716666666666666, total=  31.3s\n"
     ]
    },
    {
     "name": "stderr",
     "output_type": "stream",
     "text": [
      "[Parallel(n_jobs=-1)]: Done   2 out of   5 | elapsed:   31.3s remaining:   46.9s\n",
      "[Parallel(n_jobs=-1)]: Done   3 out of   5 | elapsed:   31.3s remaining:   20.9s\n"
     ]
    },
    {
     "name": "stdout",
     "output_type": "stream",
     "text": [
      "[CV]  C=0.5806439996825818, decision_function_shape=ovr, degree=3, kernel=linear, score=0.7358333333333333, total=  19.3s\n"
     ]
    },
    {
     "name": "stderr",
     "output_type": "stream",
     "text": [
      "[Parallel(n_jobs=-1)]: Done   5 out of   5 | elapsed:   50.2s remaining:    0.0s\n",
      "[Parallel(n_jobs=-1)]: Done   5 out of   5 | elapsed:   50.2s finished\n"
     ]
    },
    {
     "name": "stdout",
     "output_type": "stream",
     "text": [
      "Fitting 5 folds for each of 1 candidates, totalling 5 fits\n",
      "[CV] C=0.6173975243554057, decision_function_shape=ovo, degree=3, kernel=linear \n",
      "[CV] C=0.6173975243554057, decision_function_shape=ovo, degree=3, kernel=linear \n",
      "[CV] C=0.6173975243554057, decision_function_shape=ovo, degree=3, kernel=linear \n",
      "[CV] C=0.6173975243554057, decision_function_shape=ovo, degree=3, kernel=linear \n",
      "[CV]  C=0.6173975243554057, decision_function_shape=ovo, degree=3, kernel=linear, score=0.7583333333333333, total=  32.8s\n",
      "[CV] C=0.6173975243554057, decision_function_shape=ovo, degree=3, kernel=linear \n",
      "[CV]  C=0.6173975243554057, decision_function_shape=ovo, degree=3, kernel=linear, score=0.7366666666666667, total=  32.8s\n",
      "[CV]  C=0.6173975243554057, decision_function_shape=ovo, degree=3, kernel=linear, score=0.7783333333333333, total=  33.0s\n"
     ]
    },
    {
     "name": "stderr",
     "output_type": "stream",
     "text": [
      "[Parallel(n_jobs=-1)]: Done   2 out of   5 | elapsed:   32.9s remaining:   49.3s\n",
      "[Parallel(n_jobs=-1)]: Done   3 out of   5 | elapsed:   33.0s remaining:   22.0s\n"
     ]
    },
    {
     "name": "stdout",
     "output_type": "stream",
     "text": [
      "[CV]  C=0.6173975243554057, decision_function_shape=ovo, degree=3, kernel=linear, score=0.7725, total=  33.1s\n",
      "[CV]  C=0.6173975243554057, decision_function_shape=ovo, degree=3, kernel=linear, score=0.7366666666666667, total=  19.1s\n"
     ]
    },
    {
     "name": "stderr",
     "output_type": "stream",
     "text": [
      "[Parallel(n_jobs=-1)]: Done   5 out of   5 | elapsed:   52.0s remaining:    0.0s\n",
      "[Parallel(n_jobs=-1)]: Done   5 out of   5 | elapsed:   52.0s finished\n"
     ]
    },
    {
     "name": "stdout",
     "output_type": "stream",
     "text": [
      "Fitting 5 folds for each of 1 candidates, totalling 5 fits\n",
      "[CV] C=0.5978743619873722, decision_function_shape=ovo, degree=3, kernel=linear \n",
      "[CV] C=0.5978743619873722, decision_function_shape=ovo, degree=3, kernel=linear \n",
      "[CV] C=0.5978743619873722, decision_function_shape=ovo, degree=3, kernel=linear \n",
      "[CV] C=0.5978743619873722, decision_function_shape=ovo, degree=3, kernel=linear \n",
      "[CV]  C=0.5978743619873722, decision_function_shape=ovo, degree=3, kernel=linear, score=0.76, total=  34.0s\n",
      "[CV] C=0.5978743619873722, decision_function_shape=ovo, degree=3, kernel=linear \n",
      "[CV]  C=0.5978743619873722, decision_function_shape=ovo, degree=3, kernel=linear, score=0.7766666666666666, total=  34.1s\n"
     ]
    },
    {
     "name": "stderr",
     "output_type": "stream",
     "text": [
      "[Parallel(n_jobs=-1)]: Done   2 out of   5 | elapsed:   34.1s remaining:   51.2s\n"
     ]
    },
    {
     "name": "stdout",
     "output_type": "stream",
     "text": [
      "[CV]  C=0.5978743619873722, decision_function_shape=ovo, degree=3, kernel=linear, score=0.7375, total=  34.4s\n",
      "[CV]  C=0.5978743619873722, decision_function_shape=ovo, degree=3, kernel=linear, score=0.7725, total=  34.4s\n"
     ]
    },
    {
     "name": "stderr",
     "output_type": "stream",
     "text": [
      "[Parallel(n_jobs=-1)]: Done   3 out of   5 | elapsed:   34.4s remaining:   23.0s\n"
     ]
    },
    {
     "name": "stdout",
     "output_type": "stream",
     "text": [
      "[CV]  C=0.5978743619873722, decision_function_shape=ovo, degree=3, kernel=linear, score=0.7366666666666667, total=  19.2s\n"
     ]
    },
    {
     "name": "stderr",
     "output_type": "stream",
     "text": [
      "[Parallel(n_jobs=-1)]: Done   5 out of   5 | elapsed:   53.2s remaining:    0.0s\n",
      "[Parallel(n_jobs=-1)]: Done   5 out of   5 | elapsed:   53.2s finished\n"
     ]
    },
    {
     "name": "stdout",
     "output_type": "stream",
     "text": [
      "Fitting 5 folds for each of 1 candidates, totalling 5 fits\n",
      "[CV] C=0.5903848073358743, decision_function_shape=ovo, degree=3, kernel=linear \n",
      "[CV] C=0.5903848073358743, decision_function_shape=ovo, degree=3, kernel=linear \n",
      "[CV] C=0.5903848073358743, decision_function_shape=ovo, degree=3, kernel=linear \n",
      "[CV] C=0.5903848073358743, decision_function_shape=ovo, degree=3, kernel=linear \n",
      "[CV]  C=0.5903848073358743, decision_function_shape=ovo, degree=3, kernel=linear, score=0.7766666666666666, total=  32.5s\n",
      "[CV] C=0.5903848073358743, decision_function_shape=ovo, degree=3, kernel=linear \n",
      "[CV]  C=0.5903848073358743, decision_function_shape=ovo, degree=3, kernel=linear, score=0.7625, total=  32.6s\n",
      "[CV]  C=0.5903848073358743, decision_function_shape=ovo, degree=3, kernel=linear, score=0.7375, total=  32.6s\n"
     ]
    },
    {
     "name": "stderr",
     "output_type": "stream",
     "text": [
      "[Parallel(n_jobs=-1)]: Done   2 out of   5 | elapsed:   32.7s remaining:   49.0s\n",
      "[Parallel(n_jobs=-1)]: Done   3 out of   5 | elapsed:   32.7s remaining:   21.8s\n"
     ]
    },
    {
     "name": "stdout",
     "output_type": "stream",
     "text": [
      "[CV]  C=0.5903848073358743, decision_function_shape=ovo, degree=3, kernel=linear, score=0.7716666666666666, total=  33.0s\n",
      "[CV]  C=0.5903848073358743, decision_function_shape=ovo, degree=3, kernel=linear, score=0.7366666666666667, total=  19.3s\n"
     ]
    },
    {
     "name": "stderr",
     "output_type": "stream",
     "text": [
      "[Parallel(n_jobs=-1)]: Done   5 out of   5 | elapsed:   51.8s remaining:    0.0s\n",
      "[Parallel(n_jobs=-1)]: Done   5 out of   5 | elapsed:   51.8s finished\n"
     ]
    },
    {
     "name": "stdout",
     "output_type": "stream",
     "text": [
      "Fitting 5 folds for each of 1 candidates, totalling 5 fits\n",
      "[CV] C=0.8446690474687617, decision_function_shape=ovr, degree=3, kernel=linear \n",
      "[CV] C=0.8446690474687617, decision_function_shape=ovr, degree=3, kernel=linear \n",
      "[CV] C=0.8446690474687617, decision_function_shape=ovr, degree=3, kernel=linear \n",
      "[CV] C=0.8446690474687617, decision_function_shape=ovr, degree=3, kernel=linear \n",
      "[CV]  C=0.8446690474687617, decision_function_shape=ovr, degree=3, kernel=linear, score=0.775, total=  29.8s\n",
      "[CV]  C=0.8446690474687617, decision_function_shape=ovr, degree=3, kernel=linear, score=0.7591666666666667, total=  29.8s\n",
      "[CV] C=0.8446690474687617, decision_function_shape=ovr, degree=3, kernel=linear \n"
     ]
    },
    {
     "name": "stderr",
     "output_type": "stream",
     "text": [
      "[Parallel(n_jobs=-1)]: Done   2 out of   5 | elapsed:   29.9s remaining:   44.8s\n"
     ]
    },
    {
     "name": "stdout",
     "output_type": "stream",
     "text": [
      "[CV]  C=0.8446690474687617, decision_function_shape=ovr, degree=3, kernel=linear, score=0.7358333333333333, total=  30.1s\n"
     ]
    },
    {
     "name": "stderr",
     "output_type": "stream",
     "text": [
      "[Parallel(n_jobs=-1)]: Done   3 out of   5 | elapsed:   30.2s remaining:   20.1s\n"
     ]
    },
    {
     "name": "stdout",
     "output_type": "stream",
     "text": [
      "[CV]  C=0.8446690474687617, decision_function_shape=ovr, degree=3, kernel=linear, score=0.7675, total=  30.3s\n",
      "[CV]  C=0.8446690474687617, decision_function_shape=ovr, degree=3, kernel=linear, score=0.7366666666666667, total=  18.7s\n"
     ]
    },
    {
     "name": "stderr",
     "output_type": "stream",
     "text": [
      "[Parallel(n_jobs=-1)]: Done   5 out of   5 | elapsed:   48.5s remaining:    0.0s\n",
      "[Parallel(n_jobs=-1)]: Done   5 out of   5 | elapsed:   48.5s finished\n"
     ]
    },
    {
     "name": "stdout",
     "output_type": "stream",
     "text": [
      "Fitting 5 folds for each of 1 candidates, totalling 5 fits\n",
      "[CV] C=0.5862605587869566, decision_function_shape=ovo, degree=3, kernel=linear \n",
      "[CV] C=0.5862605587869566, decision_function_shape=ovo, degree=3, kernel=linear \n",
      "[CV] C=0.5862605587869566, decision_function_shape=ovo, degree=3, kernel=linear \n",
      "[CV] C=0.5862605587869566, decision_function_shape=ovo, degree=3, kernel=linear \n",
      "[CV]  C=0.5862605587869566, decision_function_shape=ovo, degree=3, kernel=linear, score=0.7625, total=  31.4s\n",
      "[CV] C=0.5862605587869566, decision_function_shape=ovo, degree=3, kernel=linear \n",
      "[CV]  C=0.5862605587869566, decision_function_shape=ovo, degree=3, kernel=linear, score=0.7775, total=  31.5s\n"
     ]
    },
    {
     "name": "stderr",
     "output_type": "stream",
     "text": [
      "[Parallel(n_jobs=-1)]: Done   2 out of   5 | elapsed:   31.5s remaining:   47.3s\n"
     ]
    },
    {
     "name": "stdout",
     "output_type": "stream",
     "text": [
      "[CV]  C=0.5862605587869566, decision_function_shape=ovo, degree=3, kernel=linear, score=0.7383333333333333, total=  31.7s\n",
      "[CV]  C=0.5862605587869566, decision_function_shape=ovo, degree=3, kernel=linear, score=0.7716666666666666, total=  31.7s\n"
     ]
    },
    {
     "name": "stderr",
     "output_type": "stream",
     "text": [
      "[Parallel(n_jobs=-1)]: Done   3 out of   5 | elapsed:   31.8s remaining:   21.2s\n"
     ]
    },
    {
     "name": "stdout",
     "output_type": "stream",
     "text": [
      "[CV]  C=0.5862605587869566, decision_function_shape=ovo, degree=3, kernel=linear, score=0.7366666666666667, total=  19.2s\n"
     ]
    },
    {
     "name": "stderr",
     "output_type": "stream",
     "text": [
      "[Parallel(n_jobs=-1)]: Done   5 out of   5 | elapsed:   50.7s remaining:    0.0s\n",
      "[Parallel(n_jobs=-1)]: Done   5 out of   5 | elapsed:   50.7s finished\n"
     ]
    },
    {
     "name": "stdout",
     "output_type": "stream",
     "text": [
      "Fitting 5 folds for each of 1 candidates, totalling 5 fits\n",
      "[CV] C=0.5863055577852929, decision_function_shape=ovo, degree=3, kernel=linear \n",
      "[CV] C=0.5863055577852929, decision_function_shape=ovo, degree=3, kernel=linear \n",
      "[CV] C=0.5863055577852929, decision_function_shape=ovo, degree=3, kernel=linear \n",
      "[CV] C=0.5863055577852929, decision_function_shape=ovo, degree=3, kernel=linear \n",
      "[CV]  C=0.5863055577852929, decision_function_shape=ovo, degree=3, kernel=linear, score=0.7625, total=  32.1s\n",
      "[CV] C=0.5863055577852929, decision_function_shape=ovo, degree=3, kernel=linear \n",
      "[CV]  C=0.5863055577852929, decision_function_shape=ovo, degree=3, kernel=linear, score=0.7383333333333333, total=  32.3s\n"
     ]
    },
    {
     "name": "stderr",
     "output_type": "stream",
     "text": [
      "[Parallel(n_jobs=-1)]: Done   2 out of   5 | elapsed:   32.4s remaining:   48.5s\n"
     ]
    },
    {
     "name": "stdout",
     "output_type": "stream",
     "text": [
      "[CV]  C=0.5863055577852929, decision_function_shape=ovo, degree=3, kernel=linear, score=0.7766666666666666, total=  32.7s\n",
      "[CV]  C=0.5863055577852929, decision_function_shape=ovo, degree=3, kernel=linear, score=0.7716666666666666, total=  32.7s\n"
     ]
    },
    {
     "name": "stderr",
     "output_type": "stream",
     "text": [
      "[Parallel(n_jobs=-1)]: Done   3 out of   5 | elapsed:   32.7s remaining:   21.8s\n"
     ]
    },
    {
     "name": "stdout",
     "output_type": "stream",
     "text": [
      "[CV]  C=0.5863055577852929, decision_function_shape=ovo, degree=3, kernel=linear, score=0.7366666666666667, total=  19.3s\n"
     ]
    },
    {
     "name": "stderr",
     "output_type": "stream",
     "text": [
      "[Parallel(n_jobs=-1)]: Done   5 out of   5 | elapsed:   51.5s remaining:    0.0s\n",
      "[Parallel(n_jobs=-1)]: Done   5 out of   5 | elapsed:   51.5s finished\n"
     ]
    },
    {
     "name": "stdout",
     "output_type": "stream",
     "text": [
      "Fitting 5 folds for each of 1 candidates, totalling 5 fits\n",
      "[CV] C=0.5852822432366357, decision_function_shape=ovr, degree=3, kernel=linear \n",
      "[CV] C=0.5852822432366357, decision_function_shape=ovr, degree=3, kernel=linear \n",
      "[CV] C=0.5852822432366357, decision_function_shape=ovr, degree=3, kernel=linear \n",
      "[CV] C=0.5852822432366357, decision_function_shape=ovr, degree=3, kernel=linear \n",
      "[CV]  C=0.5852822432366357, decision_function_shape=ovr, degree=3, kernel=linear, score=0.7775, total=38.0min\n",
      "[CV] C=0.5852822432366357, decision_function_shape=ovr, degree=3, kernel=linear \n",
      "[CV]  C=0.5852822432366357, decision_function_shape=ovr, degree=3, kernel=linear, score=0.7383333333333333, total=38.0min\n",
      "[CV]  C=0.5852822432366357, decision_function_shape=ovr, degree=3, kernel=linear, score=0.7716666666666666, total=38.0min\n"
     ]
    },
    {
     "name": "stderr",
     "output_type": "stream",
     "text": [
      "[Parallel(n_jobs=-1)]: Done   2 out of   5 | elapsed: 38.0min remaining: 57.0min\n",
      "[Parallel(n_jobs=-1)]: Done   3 out of   5 | elapsed: 38.0min remaining: 25.4min\n"
     ]
    },
    {
     "name": "stdout",
     "output_type": "stream",
     "text": [
      "[CV]  C=0.5852822432366357, decision_function_shape=ovr, degree=3, kernel=linear, score=0.7616666666666667, total=38.0min\n",
      "[CV]  C=0.5852822432366357, decision_function_shape=ovr, degree=3, kernel=linear, score=0.7366666666666667, total=  19.2s\n"
     ]
    },
    {
     "name": "stderr",
     "output_type": "stream",
     "text": [
      "[Parallel(n_jobs=-1)]: Done   5 out of   5 | elapsed: 38.3min remaining:    0.0s\n",
      "[Parallel(n_jobs=-1)]: Done   5 out of   5 | elapsed: 38.3min finished\n"
     ]
    },
    {
     "name": "stdout",
     "output_type": "stream",
     "text": [
      "Fitting 5 folds for each of 1 candidates, totalling 5 fits\n",
      "[CV] C=0.586590964910553, decision_function_shape=ovo, degree=3, kernel=linear \n",
      "[CV] C=0.586590964910553, decision_function_shape=ovo, degree=3, kernel=linear \n",
      "[CV] C=0.586590964910553, decision_function_shape=ovo, degree=3, kernel=linear \n",
      "[CV] C=0.586590964910553, decision_function_shape=ovo, degree=3, kernel=linear \n",
      "[CV]  C=0.586590964910553, decision_function_shape=ovo, degree=3, kernel=linear, score=0.7383333333333333, total=  29.5s\n",
      "[CV] C=0.586590964910553, decision_function_shape=ovo, degree=3, kernel=linear \n",
      "[CV]  C=0.586590964910553, decision_function_shape=ovo, degree=3, kernel=linear, score=0.7625, total=  29.9s\n"
     ]
    },
    {
     "name": "stderr",
     "output_type": "stream",
     "text": [
      "[Parallel(n_jobs=-1)]: Done   2 out of   5 | elapsed:   30.0s remaining:   45.0s\n"
     ]
    },
    {
     "name": "stdout",
     "output_type": "stream",
     "text": [
      "[CV]  C=0.586590964910553, decision_function_shape=ovo, degree=3, kernel=linear, score=0.7766666666666666, total=  30.5s\n",
      "[CV]  C=0.586590964910553, decision_function_shape=ovo, degree=3, kernel=linear, score=0.7716666666666666, total=  30.5s\n"
     ]
    },
    {
     "name": "stderr",
     "output_type": "stream",
     "text": [
      "[Parallel(n_jobs=-1)]: Done   3 out of   5 | elapsed:   30.5s remaining:   20.3s\n"
     ]
    },
    {
     "name": "stdout",
     "output_type": "stream",
     "text": [
      "[CV]  C=0.586590964910553, decision_function_shape=ovo, degree=3, kernel=linear, score=0.7366666666666667, total=  22.6s\n"
     ]
    },
    {
     "name": "stderr",
     "output_type": "stream",
     "text": [
      "[Parallel(n_jobs=-1)]: Done   5 out of   5 | elapsed:   52.2s remaining:    0.0s\n",
      "[Parallel(n_jobs=-1)]: Done   5 out of   5 | elapsed:   52.2s finished\n"
     ]
    },
    {
     "name": "stdout",
     "output_type": "stream",
     "text": [
      "Fitting 5 folds for each of 1 candidates, totalling 5 fits\n",
      "[CV] C=0.5862867552824171, decision_function_shape=ovo, degree=3, kernel=linear \n",
      "[CV] C=0.5862867552824171, decision_function_shape=ovo, degree=3, kernel=linear \n",
      "[CV] C=0.5862867552824171, decision_function_shape=ovo, degree=3, kernel=linear \n",
      "[CV] C=0.5862867552824171, decision_function_shape=ovo, degree=3, kernel=linear \n",
      "[CV]  C=0.5862867552824171, decision_function_shape=ovo, degree=3, kernel=linear, score=0.7625, total=  29.8s\n",
      "[CV] C=0.5862867552824171, decision_function_shape=ovo, degree=3, kernel=linear \n",
      "[CV]  C=0.5862867552824171, decision_function_shape=ovo, degree=3, kernel=linear, score=0.7766666666666666, total=  29.9s\n"
     ]
    },
    {
     "name": "stderr",
     "output_type": "stream",
     "text": [
      "[Parallel(n_jobs=-1)]: Done   2 out of   5 | elapsed:   29.9s remaining:   44.9s\n"
     ]
    },
    {
     "name": "stdout",
     "output_type": "stream",
     "text": [
      "[CV]  C=0.5862867552824171, decision_function_shape=ovo, degree=3, kernel=linear, score=0.7383333333333333, total=  30.1s\n",
      "[CV]  C=0.5862867552824171, decision_function_shape=ovo, degree=3, kernel=linear, score=0.7716666666666666, total=  30.2s\n"
     ]
    },
    {
     "name": "stderr",
     "output_type": "stream",
     "text": [
      "[Parallel(n_jobs=-1)]: Done   3 out of   5 | elapsed:   30.2s remaining:   20.1s\n"
     ]
    },
    {
     "name": "stdout",
     "output_type": "stream",
     "text": [
      "[CV]  C=0.5862867552824171, decision_function_shape=ovo, degree=3, kernel=linear, score=0.7366666666666667, total=  19.1s\n"
     ]
    },
    {
     "name": "stderr",
     "output_type": "stream",
     "text": [
      "[Parallel(n_jobs=-1)]: Done   5 out of   5 | elapsed:   49.0s remaining:    0.0s\n",
      "[Parallel(n_jobs=-1)]: Done   5 out of   5 | elapsed:   49.0s finished\n"
     ]
    },
    {
     "name": "stdout",
     "output_type": "stream",
     "text": [
      "Fitting 5 folds for each of 1 candidates, totalling 5 fits\n",
      "[CV] C=0.6056210839945073, decision_function_shape=ovr, degree=3, kernel=linear \n",
      "[CV] C=0.6056210839945073, decision_function_shape=ovr, degree=3, kernel=linear \n",
      "[CV] C=0.6056210839945073, decision_function_shape=ovr, degree=3, kernel=linear \n",
      "[CV] C=0.6056210839945073, decision_function_shape=ovr, degree=3, kernel=linear \n",
      "[CV]  C=0.6056210839945073, decision_function_shape=ovr, degree=3, kernel=linear, score=0.7591666666666667, total=  31.0s\n",
      "[CV] C=0.6056210839945073, decision_function_shape=ovr, degree=3, kernel=linear \n",
      "[CV]  C=0.6056210839945073, decision_function_shape=ovr, degree=3, kernel=linear, score=0.7766666666666666, total=  31.1s\n",
      "[CV]  C=0.6056210839945073, decision_function_shape=ovr, degree=3, kernel=linear, score=0.7366666666666667, total=  31.1s\n"
     ]
    },
    {
     "name": "stderr",
     "output_type": "stream",
     "text": [
      "[Parallel(n_jobs=-1)]: Done   2 out of   5 | elapsed:   31.2s remaining:   46.8s\n",
      "[Parallel(n_jobs=-1)]: Done   3 out of   5 | elapsed:   31.2s remaining:   20.8s\n"
     ]
    },
    {
     "name": "stdout",
     "output_type": "stream",
     "text": [
      "[CV]  C=0.6056210839945073, decision_function_shape=ovr, degree=3, kernel=linear, score=0.7733333333333333, total=  31.7s\n",
      "[CV]  C=0.6056210839945073, decision_function_shape=ovr, degree=3, kernel=linear, score=0.7391666666666666, total=  19.3s\n"
     ]
    },
    {
     "name": "stderr",
     "output_type": "stream",
     "text": [
      "[Parallel(n_jobs=-1)]: Done   5 out of   5 | elapsed:   50.4s remaining:    0.0s\n",
      "[Parallel(n_jobs=-1)]: Done   5 out of   5 | elapsed:   50.4s finished\n"
     ]
    },
    {
     "name": "stdout",
     "output_type": "stream",
     "text": [
      "Fitting 5 folds for each of 1 candidates, totalling 5 fits\n",
      "[CV] C=0.5880881102896941, decision_function_shape=ovo, degree=3, kernel=linear \n",
      "[CV] C=0.5880881102896941, decision_function_shape=ovo, degree=3, kernel=linear \n",
      "[CV] C=0.5880881102896941, decision_function_shape=ovo, degree=3, kernel=linear \n",
      "[CV] C=0.5880881102896941, decision_function_shape=ovo, degree=3, kernel=linear \n",
      "[CV]  C=0.5880881102896941, decision_function_shape=ovo, degree=3, kernel=linear, score=0.7625, total=  30.1s\n",
      "[CV] C=0.5880881102896941, decision_function_shape=ovo, degree=3, kernel=linear \n",
      "[CV]  C=0.5880881102896941, decision_function_shape=ovo, degree=3, kernel=linear, score=0.7766666666666666, total=  30.1s\n"
     ]
    },
    {
     "name": "stderr",
     "output_type": "stream",
     "text": [
      "[Parallel(n_jobs=-1)]: Done   2 out of   5 | elapsed:   30.1s remaining:   45.2s\n"
     ]
    },
    {
     "name": "stdout",
     "output_type": "stream",
     "text": [
      "[CV]  C=0.5880881102896941, decision_function_shape=ovo, degree=3, kernel=linear, score=0.7383333333333333, total=  30.7s\n"
     ]
    },
    {
     "name": "stderr",
     "output_type": "stream",
     "text": [
      "[Parallel(n_jobs=-1)]: Done   3 out of   5 | elapsed:   30.8s remaining:   20.5s\n"
     ]
    },
    {
     "name": "stdout",
     "output_type": "stream",
     "text": [
      "[CV]  C=0.5880881102896941, decision_function_shape=ovo, degree=3, kernel=linear, score=0.7716666666666666, total=  30.9s\n",
      "[CV]  C=0.5880881102896941, decision_function_shape=ovo, degree=3, kernel=linear, score=0.7366666666666667, total=  19.7s\n"
     ]
    },
    {
     "name": "stderr",
     "output_type": "stream",
     "text": [
      "[Parallel(n_jobs=-1)]: Done   5 out of   5 | elapsed:   49.8s remaining:    0.0s\n",
      "[Parallel(n_jobs=-1)]: Done   5 out of   5 | elapsed:   49.8s finished\n"
     ]
    },
    {
     "name": "stdout",
     "output_type": "stream",
     "text": [
      "Fitting 5 folds for each of 1 candidates, totalling 5 fits\n",
      "[CV] C=0.5224610258804776, decision_function_shape=ovr, degree=3, kernel=linear \n",
      "[CV] C=0.5224610258804776, decision_function_shape=ovr, degree=3, kernel=linear \n",
      "[CV] C=0.5224610258804776, decision_function_shape=ovr, degree=3, kernel=linear \n",
      "[CV] C=0.5224610258804776, decision_function_shape=ovr, degree=3, kernel=linear \n",
      "[CV]  C=0.5224610258804776, decision_function_shape=ovr, degree=3, kernel=linear, score=0.7783333333333333, total=  30.2s\n",
      "[CV] C=0.5224610258804776, decision_function_shape=ovr, degree=3, kernel=linear \n",
      "[CV]  C=0.5224610258804776, decision_function_shape=ovr, degree=3, kernel=linear, score=0.7383333333333333, total=  30.2s\n",
      "[CV]  C=0.5224610258804776, decision_function_shape=ovr, degree=3, kernel=linear, score=0.7583333333333333, total=  30.4s\n"
     ]
    },
    {
     "name": "stderr",
     "output_type": "stream",
     "text": [
      "[Parallel(n_jobs=-1)]: Done   2 out of   5 | elapsed:   30.3s remaining:   45.4s\n",
      "[Parallel(n_jobs=-1)]: Done   3 out of   5 | elapsed:   30.4s remaining:   20.3s\n"
     ]
    },
    {
     "name": "stdout",
     "output_type": "stream",
     "text": [
      "[CV]  C=0.5224610258804776, decision_function_shape=ovr, degree=3, kernel=linear, score=0.7716666666666666, total=  30.7s\n",
      "[CV]  C=0.5224610258804776, decision_function_shape=ovr, degree=3, kernel=linear, score=0.7375, total=  19.4s\n"
     ]
    },
    {
     "name": "stderr",
     "output_type": "stream",
     "text": [
      "[Parallel(n_jobs=-1)]: Done   5 out of   5 | elapsed:   49.7s remaining:    0.0s\n",
      "[Parallel(n_jobs=-1)]: Done   5 out of   5 | elapsed:   49.7s finished\n"
     ]
    },
    {
     "name": "stdout",
     "output_type": "stream",
     "text": [
      "Fitting 5 folds for each of 1 candidates, totalling 5 fits\n",
      "[CV] C=0.5874143580966904, decision_function_shape=ovo, degree=3, kernel=linear \n",
      "[CV] C=0.5874143580966904, decision_function_shape=ovo, degree=3, kernel=linear \n",
      "[CV] C=0.5874143580966904, decision_function_shape=ovo, degree=3, kernel=linear \n",
      "[CV] C=0.5874143580966904, decision_function_shape=ovo, degree=3, kernel=linear \n",
      "[CV]  C=0.5874143580966904, decision_function_shape=ovo, degree=3, kernel=linear, score=0.7766666666666666, total=  31.5s\n",
      "[CV] C=0.5874143580966904, decision_function_shape=ovo, degree=3, kernel=linear \n",
      "[CV]  C=0.5874143580966904, decision_function_shape=ovo, degree=3, kernel=linear, score=0.7716666666666666, total=  31.5s\n"
     ]
    },
    {
     "name": "stderr",
     "output_type": "stream",
     "text": [
      "[Parallel(n_jobs=-1)]: Done   2 out of   5 | elapsed:   31.7s remaining:   47.5s\n"
     ]
    },
    {
     "name": "stdout",
     "output_type": "stream",
     "text": [
      "[CV]  C=0.5874143580966904, decision_function_shape=ovo, degree=3, kernel=linear, score=0.7625, total=  31.9s\n",
      "[CV]  C=0.5874143580966904, decision_function_shape=ovo, degree=3, kernel=linear, score=0.7383333333333333, total=  32.1s\n"
     ]
    },
    {
     "name": "stderr",
     "output_type": "stream",
     "text": [
      "[Parallel(n_jobs=-1)]: Done   3 out of   5 | elapsed:   32.0s remaining:   21.3s\n"
     ]
    },
    {
     "name": "stdout",
     "output_type": "stream",
     "text": [
      "[CV]  C=0.5874143580966904, decision_function_shape=ovo, degree=3, kernel=linear, score=0.7366666666666667, total=  19.2s\n"
     ]
    },
    {
     "name": "stderr",
     "output_type": "stream",
     "text": [
      "[Parallel(n_jobs=-1)]: Done   5 out of   5 | elapsed:   50.8s remaining:    0.0s\n",
      "[Parallel(n_jobs=-1)]: Done   5 out of   5 | elapsed:   50.8s finished\n"
     ]
    },
    {
     "name": "stdout",
     "output_type": "stream",
     "text": [
      "Fitting 5 folds for each of 1 candidates, totalling 5 fits\n",
      "[CV] C=0.5919314551371234, decision_function_shape=ovo, degree=3, kernel=linear \n",
      "[CV] C=0.5919314551371234, decision_function_shape=ovo, degree=3, kernel=linear \n",
      "[CV] C=0.5919314551371234, decision_function_shape=ovo, degree=3, kernel=linear \n",
      "[CV] C=0.5919314551371234, decision_function_shape=ovo, degree=3, kernel=linear \n",
      "[CV]  C=0.5919314551371234, decision_function_shape=ovo, degree=3, kernel=linear, score=0.7616666666666667, total=  29.5s\n",
      "[CV] C=0.5919314551371234, decision_function_shape=ovo, degree=3, kernel=linear \n",
      "[CV]  C=0.5919314551371234, decision_function_shape=ovo, degree=3, kernel=linear, score=0.7766666666666666, total=  29.8s\n"
     ]
    },
    {
     "name": "stderr",
     "output_type": "stream",
     "text": [
      "[Parallel(n_jobs=-1)]: Done   2 out of   5 | elapsed:   29.8s remaining:   44.8s\n"
     ]
    },
    {
     "name": "stdout",
     "output_type": "stream",
     "text": [
      "[CV]  C=0.5919314551371234, decision_function_shape=ovo, degree=3, kernel=linear, score=0.7383333333333333, total=  30.2s\n",
      "[CV]  C=0.5919314551371234, decision_function_shape=ovo, degree=3, kernel=linear, score=0.7716666666666666, total=  30.3s\n"
     ]
    },
    {
     "name": "stderr",
     "output_type": "stream",
     "text": [
      "[Parallel(n_jobs=-1)]: Done   3 out of   5 | elapsed:   30.3s remaining:   20.2s\n"
     ]
    },
    {
     "name": "stdout",
     "output_type": "stream",
     "text": [
      "[CV]  C=0.5919314551371234, decision_function_shape=ovo, degree=3, kernel=linear, score=0.7366666666666667, total=  19.7s\n"
     ]
    },
    {
     "name": "stderr",
     "output_type": "stream",
     "text": [
      "[Parallel(n_jobs=-1)]: Done   5 out of   5 | elapsed:   49.3s remaining:    0.0s\n",
      "[Parallel(n_jobs=-1)]: Done   5 out of   5 | elapsed:   49.3s finished\n"
     ]
    },
    {
     "name": "stdout",
     "output_type": "stream",
     "text": [
      "Fitting 5 folds for each of 1 candidates, totalling 5 fits\n",
      "[CV] C=0.5923521234463357, decision_function_shape=ovo, degree=3, kernel=linear \n",
      "[CV] C=0.5923521234463357, decision_function_shape=ovo, degree=3, kernel=linear \n",
      "[CV] C=0.5923521234463357, decision_function_shape=ovo, degree=3, kernel=linear \n",
      "[CV] C=0.5923521234463357, decision_function_shape=ovo, degree=3, kernel=linear \n",
      "[CV]  C=0.5923521234463357, decision_function_shape=ovo, degree=3, kernel=linear, score=0.7616666666666667, total=  30.2s\n",
      "[CV] C=0.5923521234463357, decision_function_shape=ovo, degree=3, kernel=linear \n",
      "[CV]  C=0.5923521234463357, decision_function_shape=ovo, degree=3, kernel=linear, score=0.7766666666666666, total=  30.5s\n"
     ]
    },
    {
     "name": "stderr",
     "output_type": "stream",
     "text": [
      "[Parallel(n_jobs=-1)]: Done   2 out of   5 | elapsed:   30.5s remaining:   45.8s\n"
     ]
    },
    {
     "name": "stdout",
     "output_type": "stream",
     "text": [
      "[CV]  C=0.5923521234463357, decision_function_shape=ovo, degree=3, kernel=linear, score=0.7383333333333333, total=  30.7s\n"
     ]
    },
    {
     "name": "stderr",
     "output_type": "stream",
     "text": [
      "[Parallel(n_jobs=-1)]: Done   3 out of   5 | elapsed:   30.8s remaining:   20.5s\n"
     ]
    },
    {
     "name": "stdout",
     "output_type": "stream",
     "text": [
      "[CV]  C=0.5923521234463357, decision_function_shape=ovo, degree=3, kernel=linear, score=0.7725, total=  30.8s\n",
      "[CV]  C=0.5923521234463357, decision_function_shape=ovo, degree=3, kernel=linear, score=0.7366666666666667, total=  19.2s\n"
     ]
    },
    {
     "name": "stderr",
     "output_type": "stream",
     "text": [
      "[Parallel(n_jobs=-1)]: Done   5 out of   5 | elapsed:   49.5s remaining:    0.0s\n",
      "[Parallel(n_jobs=-1)]: Done   5 out of   5 | elapsed:   49.5s finished\n"
     ]
    },
    {
     "name": "stdout",
     "output_type": "stream",
     "text": [
      "Fitting 5 folds for each of 1 candidates, totalling 5 fits\n",
      "[CV] C=0.5910115934119927, decision_function_shape=ovo, degree=3, kernel=linear \n",
      "[CV] C=0.5910115934119927, decision_function_shape=ovo, degree=3, kernel=linear \n",
      "[CV] C=0.5910115934119927, decision_function_shape=ovo, degree=3, kernel=linear \n",
      "[CV] C=0.5910115934119927, decision_function_shape=ovo, degree=3, kernel=linear \n",
      "[CV]  C=0.5910115934119927, decision_function_shape=ovo, degree=3, kernel=linear, score=0.7766666666666666, total=  29.9s\n",
      "[CV] C=0.5910115934119927, decision_function_shape=ovo, degree=3, kernel=linear \n",
      "[CV]  C=0.5910115934119927, decision_function_shape=ovo, degree=3, kernel=linear, score=0.7383333333333333, total=  30.3s\n"
     ]
    },
    {
     "name": "stderr",
     "output_type": "stream",
     "text": [
      "[Parallel(n_jobs=-1)]: Done   2 out of   5 | elapsed:   30.4s remaining:   45.6s\n"
     ]
    },
    {
     "name": "stdout",
     "output_type": "stream",
     "text": [
      "[CV]  C=0.5910115934119927, decision_function_shape=ovo, degree=3, kernel=linear, score=0.7616666666666667, total=  30.6s\n",
      "[CV]  C=0.5910115934119927, decision_function_shape=ovo, degree=3, kernel=linear, score=0.7716666666666666, total=  30.5s\n"
     ]
    },
    {
     "name": "stderr",
     "output_type": "stream",
     "text": [
      "[Parallel(n_jobs=-1)]: Done   3 out of   5 | elapsed:   30.6s remaining:   20.4s\n"
     ]
    },
    {
     "name": "stdout",
     "output_type": "stream",
     "text": [
      "[CV]  C=0.5910115934119927, decision_function_shape=ovo, degree=3, kernel=linear, score=0.7366666666666667, total=  21.0s\n"
     ]
    },
    {
     "name": "stderr",
     "output_type": "stream",
     "text": [
      "[Parallel(n_jobs=-1)]: Done   5 out of   5 | elapsed:   51.0s remaining:    0.0s\n",
      "[Parallel(n_jobs=-1)]: Done   5 out of   5 | elapsed:   51.0s finished\n"
     ]
    },
    {
     "name": "stdout",
     "output_type": "stream",
     "text": [
      "Fitting 5 folds for each of 1 candidates, totalling 5 fits\n",
      "[CV] C=0.5955378401105708, decision_function_shape=ovr, degree=3, kernel=linear \n",
      "[CV] C=0.5955378401105708, decision_function_shape=ovr, degree=3, kernel=linear \n",
      "[CV] C=0.5955378401105708, decision_function_shape=ovr, degree=3, kernel=linear \n",
      "[CV] C=0.5955378401105708, decision_function_shape=ovr, degree=3, kernel=linear \n",
      "[CV]  C=0.5955378401105708, decision_function_shape=ovr, degree=3, kernel=linear, score=0.7608333333333334, total=  29.9s\n",
      "[CV] C=0.5955378401105708, decision_function_shape=ovr, degree=3, kernel=linear \n",
      "[CV]  C=0.5955378401105708, decision_function_shape=ovr, degree=3, kernel=linear, score=0.7766666666666666, total=  29.9s\n"
     ]
    },
    {
     "name": "stderr",
     "output_type": "stream",
     "text": [
      "[Parallel(n_jobs=-1)]: Done   2 out of   5 | elapsed:   30.0s remaining:   45.0s\n"
     ]
    },
    {
     "name": "stdout",
     "output_type": "stream",
     "text": [
      "[CV]  C=0.5955378401105708, decision_function_shape=ovr, degree=3, kernel=linear, score=0.7375, total=  30.4s\n",
      "[CV]  C=0.5955378401105708, decision_function_shape=ovr, degree=3, kernel=linear, score=0.7725, total=  30.3s\n"
     ]
    },
    {
     "name": "stderr",
     "output_type": "stream",
     "text": [
      "[Parallel(n_jobs=-1)]: Done   3 out of   5 | elapsed:   30.5s remaining:   20.3s\n"
     ]
    },
    {
     "name": "stdout",
     "output_type": "stream",
     "text": [
      "[CV]  C=0.5955378401105708, decision_function_shape=ovr, degree=3, kernel=linear, score=0.7366666666666667, total=  19.3s\n"
     ]
    },
    {
     "name": "stderr",
     "output_type": "stream",
     "text": [
      "[Parallel(n_jobs=-1)]: Done   5 out of   5 | elapsed:   49.2s remaining:    0.0s\n",
      "[Parallel(n_jobs=-1)]: Done   5 out of   5 | elapsed:   49.2s finished\n"
     ]
    },
    {
     "name": "stdout",
     "output_type": "stream",
     "text": [
      "Fitting 5 folds for each of 1 candidates, totalling 5 fits\n",
      "[CV] C=0.5266444504907063, decision_function_shape=ovo, degree=3, kernel=linear \n",
      "[CV] C=0.5266444504907063, decision_function_shape=ovo, degree=3, kernel=linear \n",
      "[CV] C=0.5266444504907063, decision_function_shape=ovo, degree=3, kernel=linear \n",
      "[CV] C=0.5266444504907063, decision_function_shape=ovo, degree=3, kernel=linear \n",
      "[CV]  C=0.5266444504907063, decision_function_shape=ovo, degree=3, kernel=linear, score=0.7783333333333333, total=  31.0s\n",
      "[CV]  C=0.5266444504907063, decision_function_shape=ovo, degree=3, kernel=linear, score=0.7383333333333333, total=  31.0s\n",
      "[CV] C=0.5266444504907063, decision_function_shape=ovo, degree=3, kernel=linear \n"
     ]
    },
    {
     "name": "stderr",
     "output_type": "stream",
     "text": [
      "[Parallel(n_jobs=-1)]: Done   2 out of   5 | elapsed:   31.0s remaining:   46.6s\n"
     ]
    },
    {
     "name": "stdout",
     "output_type": "stream",
     "text": [
      "[CV]  C=0.5266444504907063, decision_function_shape=ovo, degree=3, kernel=linear, score=0.7591666666666667, total=  31.3s\n",
      "[CV]  C=0.5266444504907063, decision_function_shape=ovo, degree=3, kernel=linear, score=0.7716666666666666, total=  31.3s\n"
     ]
    },
    {
     "name": "stderr",
     "output_type": "stream",
     "text": [
      "[Parallel(n_jobs=-1)]: Done   3 out of   5 | elapsed:   31.4s remaining:   20.9s\n"
     ]
    },
    {
     "name": "stdout",
     "output_type": "stream",
     "text": [
      "[CV]  C=0.5266444504907063, decision_function_shape=ovo, degree=3, kernel=linear, score=0.7383333333333333, total=  19.3s\n"
     ]
    },
    {
     "name": "stderr",
     "output_type": "stream",
     "text": [
      "[Parallel(n_jobs=-1)]: Done   5 out of   5 | elapsed:   50.4s remaining:    0.0s\n",
      "[Parallel(n_jobs=-1)]: Done   5 out of   5 | elapsed:   50.4s finished\n"
     ]
    },
    {
     "name": "stdout",
     "output_type": "stream",
     "text": [
      "Fitting 5 folds for each of 1 candidates, totalling 5 fits\n",
      "[CV] C=0.5506869722476833, decision_function_shape=ovo, degree=3, kernel=linear \n",
      "[CV] C=0.5506869722476833, decision_function_shape=ovo, degree=3, kernel=linear \n",
      "[CV] C=0.5506869722476833, decision_function_shape=ovo, degree=3, kernel=linear \n",
      "[CV] C=0.5506869722476833, decision_function_shape=ovo, degree=3, kernel=linear \n",
      "[CV]  C=0.5506869722476833, decision_function_shape=ovo, degree=3, kernel=linear, score=0.7591666666666667, total=  31.8s\n",
      "[CV] C=0.5506869722476833, decision_function_shape=ovo, degree=3, kernel=linear \n",
      "[CV]  C=0.5506869722476833, decision_function_shape=ovo, degree=3, kernel=linear, score=0.7775, total=  32.0s\n",
      "[CV]  C=0.5506869722476833, decision_function_shape=ovo, degree=3, kernel=linear, score=0.7375, total=  32.0s\n"
     ]
    },
    {
     "name": "stderr",
     "output_type": "stream",
     "text": [
      "[Parallel(n_jobs=-1)]: Done   2 out of   5 | elapsed:   32.0s remaining:   48.0s\n",
      "[Parallel(n_jobs=-1)]: Done   3 out of   5 | elapsed:   32.0s remaining:   21.4s\n"
     ]
    },
    {
     "name": "stdout",
     "output_type": "stream",
     "text": [
      "[CV]  C=0.5506869722476833, decision_function_shape=ovo, degree=3, kernel=linear, score=0.7733333333333333, total=  32.3s\n",
      "[CV]  C=0.5506869722476833, decision_function_shape=ovo, degree=3, kernel=linear, score=0.7366666666666667, total=  19.4s\n"
     ]
    },
    {
     "name": "stderr",
     "output_type": "stream",
     "text": [
      "[Parallel(n_jobs=-1)]: Done   5 out of   5 | elapsed:   51.3s remaining:    0.0s\n",
      "[Parallel(n_jobs=-1)]: Done   5 out of   5 | elapsed:   51.3s finished\n"
     ]
    },
    {
     "name": "stdout",
     "output_type": "stream",
     "text": [
      "Fitting 5 folds for each of 1 candidates, totalling 5 fits\n",
      "[CV] C=0.583636195842273, decision_function_shape=ovr, degree=3, kernel=linear \n",
      "[CV] C=0.583636195842273, decision_function_shape=ovr, degree=3, kernel=linear \n",
      "[CV] C=0.583636195842273, decision_function_shape=ovr, degree=3, kernel=linear \n",
      "[CV] C=0.583636195842273, decision_function_shape=ovr, degree=3, kernel=linear \n",
      "[CV]  C=0.583636195842273, decision_function_shape=ovr, degree=3, kernel=linear, score=0.7608333333333334, total=  30.7s\n",
      "[CV] C=0.583636195842273, decision_function_shape=ovr, degree=3, kernel=linear \n",
      "[CV]  C=0.583636195842273, decision_function_shape=ovr, degree=3, kernel=linear, score=0.7775, total=  31.0s\n",
      "[CV]  C=0.583636195842273, decision_function_shape=ovr, degree=3, kernel=linear, score=0.7375, total=  31.0s\n"
     ]
    },
    {
     "name": "stderr",
     "output_type": "stream",
     "text": [
      "[Parallel(n_jobs=-1)]: Done   2 out of   5 | elapsed:   31.0s remaining:   46.5s\n",
      "[Parallel(n_jobs=-1)]: Done   3 out of   5 | elapsed:   31.1s remaining:   20.7s\n"
     ]
    },
    {
     "name": "stdout",
     "output_type": "stream",
     "text": [
      "[CV]  C=0.583636195842273, decision_function_shape=ovr, degree=3, kernel=linear, score=0.7716666666666666, total=  31.4s\n",
      "[CV]  C=0.583636195842273, decision_function_shape=ovr, degree=3, kernel=linear, score=0.7366666666666667, total=  19.3s\n"
     ]
    },
    {
     "name": "stderr",
     "output_type": "stream",
     "text": [
      "[Parallel(n_jobs=-1)]: Done   5 out of   5 | elapsed:   50.1s remaining:    0.0s\n",
      "[Parallel(n_jobs=-1)]: Done   5 out of   5 | elapsed:   50.1s finished\n"
     ]
    },
    {
     "name": "stdout",
     "output_type": "stream",
     "text": [
      "Fitting 5 folds for each of 1 candidates, totalling 5 fits\n",
      "[CV] C=0.5251739740205574, decision_function_shape=ovo, degree=3, kernel=linear \n",
      "[CV] C=0.5251739740205574, decision_function_shape=ovo, degree=3, kernel=linear \n",
      "[CV] C=0.5251739740205574, decision_function_shape=ovo, degree=3, kernel=linear \n",
      "[CV] C=0.5251739740205574, decision_function_shape=ovo, degree=3, kernel=linear \n",
      "[CV]  C=0.5251739740205574, decision_function_shape=ovo, degree=3, kernel=linear, score=0.7591666666666667, total=  30.9s\n",
      "[CV] C=0.5251739740205574, decision_function_shape=ovo, degree=3, kernel=linear \n",
      "[CV]  C=0.5251739740205574, decision_function_shape=ovo, degree=3, kernel=linear, score=0.7383333333333333, total=  31.4s\n"
     ]
    },
    {
     "name": "stderr",
     "output_type": "stream",
     "text": [
      "[Parallel(n_jobs=-1)]: Done   2 out of   5 | elapsed:   31.5s remaining:   47.2s\n"
     ]
    },
    {
     "name": "stdout",
     "output_type": "stream",
     "text": [
      "[CV]  C=0.5251739740205574, decision_function_shape=ovo, degree=3, kernel=linear, score=0.7783333333333333, total=  31.6s\n"
     ]
    },
    {
     "name": "stderr",
     "output_type": "stream",
     "text": [
      "[Parallel(n_jobs=-1)]: Done   3 out of   5 | elapsed:   31.7s remaining:   21.1s\n"
     ]
    },
    {
     "name": "stdout",
     "output_type": "stream",
     "text": [
      "[CV]  C=0.5251739740205574, decision_function_shape=ovo, degree=3, kernel=linear, score=0.7716666666666666, total=  31.7s\n",
      "[CV]  C=0.5251739740205574, decision_function_shape=ovo, degree=3, kernel=linear, score=0.7383333333333333, total=  19.6s\n"
     ]
    },
    {
     "name": "stderr",
     "output_type": "stream",
     "text": [
      "[Parallel(n_jobs=-1)]: Done   5 out of   5 | elapsed:   50.7s remaining:    0.0s\n",
      "[Parallel(n_jobs=-1)]: Done   5 out of   5 | elapsed:   50.7s finished\n"
     ]
    },
    {
     "name": "stdout",
     "output_type": "stream",
     "text": [
      "BayesSearchCV_GBRT took 4571.64 seconds,  candidates checked: 40, best CV score: 0.757 ± 0.017\n",
      "Best parameters:\n",
      "{'C': 0.5862605587869566,\n",
      " 'decision_function_shape': 'ovo',\n",
      " 'degree': 3,\n",
      " 'kernel': 'linear'}\n",
      "\n"
     ]
    }
   ],
   "source": [
    "search_spaces = {\"C\": Real(0.01, 1.0),\n",
    "                 \"kernel\": [\"linear\", \"poly\", \"rbf\", \"sigmoid\"],\n",
    "                 \"degree\": [2, 3, 5],\n",
    "                 \"decision_function_shape\": [\"ovo\", \"ovr\"]\n",
    "                }\n",
    "\n",
    "for baseEstimator in ['GP', 'RF', 'ET', 'GBRT']:\n",
    "    opt = BayesSearchCV(clf_svm,\n",
    "                        search_spaces,\n",
    "                        scoring='accuracy',\n",
    "                        cv=skf,\n",
    "                        n_iter=40,\n",
    "                        n_jobs=-1,\n",
    "                        return_train_score=False,\n",
    "                        optimizer_kwargs={'base_estimator': baseEstimator},\n",
    "                        random_state=4,\n",
    "                        verbose=10)\n",
    "    \n",
    "    best_params = report_perf(opt, f_train, train_y,'BayesSearchCV_'+baseEstimator)"
   ]
  },
  {
   "cell_type": "code",
   "execution_count": null,
   "metadata": {},
   "outputs": [],
   "source": []
  }
 ],
 "metadata": {
  "kernelspec": {
   "display_name": "Python 3",
   "language": "python",
   "name": "python3"
  },
  "language_info": {
   "codemirror_mode": {
    "name": "ipython",
    "version": 3
   },
   "file_extension": ".py",
   "mimetype": "text/x-python",
   "name": "python",
   "nbconvert_exporter": "python",
   "pygments_lexer": "ipython3",
   "version": "3.6.8"
  }
 },
 "nbformat": 4,
 "nbformat_minor": 2
}
